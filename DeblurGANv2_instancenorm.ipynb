{
  "nbformat": 4,
  "nbformat_minor": 0,
  "metadata": {
    "colab": {
      "name": "DeblurGANv2_instancenorm.ipynb",
      "provenance": [],
      "collapsed_sections": [],
      "toc_visible": true,
      "mount_file_id": "142QHd9ioYQLjFUBf_QRXsyK8hh-GPw-f",
      "authorship_tag": "ABX9TyNWL9ZZJ59fe0nKqnsVaCX/",
      "include_colab_link": true
    },
    "kernelspec": {
      "name": "python3",
      "display_name": "Python 3"
    },
    "language_info": {
      "name": "python"
    }
  },
  "cells": [
    {
      "cell_type": "markdown",
      "metadata": {
        "id": "view-in-github",
        "colab_type": "text"
      },
      "source": [
        "<a href=\"https://colab.research.google.com/github/EighteenSprings/BaiduPaperReproduction2end/blob/main/DeblurGANv2_instancenorm.ipynb\" target=\"_parent\"><img src=\"https://colab.research.google.com/assets/colab-badge.svg\" alt=\"Open In Colab\"/></a>"
      ]
    },
    {
      "cell_type": "code",
      "metadata": {
        "colab": {
          "base_uri": "https://localhost:8080/"
        },
        "id": "X_fumbtHWWRu",
        "outputId": "7d28f2da-0b45-4786-99e5-a39dd3ea5f6f"
      },
      "source": [
        "!pip install paddlepaddle\n",
        "!pip install x2paddle"
      ],
      "execution_count": 17,
      "outputs": [
        {
          "output_type": "stream",
          "text": [
            "Collecting paddlepaddle\n",
            "\u001b[?25l  Downloading https://files.pythonhosted.org/packages/2a/12/273ec0cdf3164e610aa197425cfcaffcd4b32aa2b7a29ba628b5f29e95c9/paddlepaddle-2.1.0-cp37-cp37m-manylinux1_x86_64.whl (108.8MB)\n",
            "\u001b[K     |████████████████████████████████| 108.8MB 74kB/s \n",
            "\u001b[?25hRequirement already satisfied: six in /usr/local/lib/python3.7/dist-packages (from paddlepaddle) (1.15.0)\n",
            "Requirement already satisfied: Pillow in /usr/local/lib/python3.7/dist-packages (from paddlepaddle) (7.1.2)\n",
            "Requirement already satisfied: decorator==4.4.2 in /usr/local/lib/python3.7/dist-packages (from paddlepaddle) (4.4.2)\n",
            "Requirement already satisfied: requests>=2.20.0 in /usr/local/lib/python3.7/dist-packages (from paddlepaddle) (2.23.0)\n",
            "Requirement already satisfied: protobuf>=3.1.0 in /usr/local/lib/python3.7/dist-packages (from paddlepaddle) (3.12.4)\n",
            "Requirement already satisfied: gast>=0.3.3; platform_system != \"Windows\" in /usr/local/lib/python3.7/dist-packages (from paddlepaddle) (0.4.0)\n",
            "Requirement already satisfied: numpy>=1.13; python_version >= \"3.5\" and platform_system != \"Windows\" in /usr/local/lib/python3.7/dist-packages (from paddlepaddle) (1.19.5)\n",
            "Requirement already satisfied: astor in /usr/local/lib/python3.7/dist-packages (from paddlepaddle) (0.8.1)\n",
            "Requirement already satisfied: urllib3!=1.25.0,!=1.25.1,<1.26,>=1.21.1 in /usr/local/lib/python3.7/dist-packages (from requests>=2.20.0->paddlepaddle) (1.24.3)\n",
            "Requirement already satisfied: certifi>=2017.4.17 in /usr/local/lib/python3.7/dist-packages (from requests>=2.20.0->paddlepaddle) (2020.12.5)\n",
            "Requirement already satisfied: chardet<4,>=3.0.2 in /usr/local/lib/python3.7/dist-packages (from requests>=2.20.0->paddlepaddle) (3.0.4)\n",
            "Requirement already satisfied: idna<3,>=2.5 in /usr/local/lib/python3.7/dist-packages (from requests>=2.20.0->paddlepaddle) (2.10)\n",
            "Requirement already satisfied: setuptools in /usr/local/lib/python3.7/dist-packages (from protobuf>=3.1.0->paddlepaddle) (56.1.0)\n",
            "Installing collected packages: paddlepaddle\n",
            "Successfully installed paddlepaddle-2.1.0\n",
            "Collecting x2paddle\n",
            "\u001b[?25l  Downloading https://files.pythonhosted.org/packages/61/ce/e4c2f98e4abc5203b3c7fd3502d0006998c57bc11a828488501837a6421a/x2paddle-1.2.1-py3-none-any.whl (288kB)\n",
            "\u001b[K     |████████████████████████████████| 296kB 5.3MB/s \n",
            "\u001b[?25hInstalling collected packages: x2paddle\n",
            "Successfully installed x2paddle-1.2.1\n"
          ],
          "name": "stdout"
        }
      ]
    },
    {
      "cell_type": "code",
      "metadata": {
        "colab": {
          "base_uri": "https://localhost:8080/"
        },
        "id": "rC5XSkcNo3ZS",
        "outputId": "461a2074-9db0-4325-bd95-4071c8d0a7e2"
      },
      "source": [
        "!pip install gdown"
      ],
      "execution_count": null,
      "outputs": [
        {
          "output_type": "stream",
          "text": [
            "Requirement already satisfied: gdown in /usr/local/lib/python3.7/dist-packages (3.6.4)\n",
            "Requirement already satisfied: six in /usr/local/lib/python3.7/dist-packages (from gdown) (1.15.0)\n",
            "Requirement already satisfied: tqdm in /usr/local/lib/python3.7/dist-packages (from gdown) (4.41.1)\n",
            "Requirement already satisfied: requests in /usr/local/lib/python3.7/dist-packages (from gdown) (2.23.0)\n",
            "Requirement already satisfied: idna<3,>=2.5 in /usr/local/lib/python3.7/dist-packages (from requests->gdown) (2.10)\n",
            "Requirement already satisfied: chardet<4,>=3.0.2 in /usr/local/lib/python3.7/dist-packages (from requests->gdown) (3.0.4)\n",
            "Requirement already satisfied: certifi>=2017.4.17 in /usr/local/lib/python3.7/dist-packages (from requests->gdown) (2020.12.5)\n",
            "Requirement already satisfied: urllib3!=1.25.0,!=1.25.1,<1.26,>=1.21.1 in /usr/local/lib/python3.7/dist-packages (from requests->gdown) (1.24.3)\n"
          ],
          "name": "stdout"
        }
      ]
    },
    {
      "cell_type": "code",
      "metadata": {
        "id": "9uSIWPJppCAz"
      },
      "source": [
        "import os\n",
        "from gdown import download as drive_download\n",
        "\n",
        "def gdownloader(gdrive_url, save_path, gdrive_filename):\n",
        "    try:\n",
        "        if not os.path.exists(save_path):\n",
        "            os.mkdir(save_path)\n",
        "        file_path = os.path.join(save_path,gdrive_filename)\n",
        "        drive_download(gdrive_url, file_path, quiet=False)\n",
        "        print(\"Done!\")\n",
        "    except Exception:\n",
        "        print('Error')"
      ],
      "execution_count": null,
      "outputs": []
    },
    {
      "cell_type": "code",
      "metadata": {
        "id": "7n2e8fnXpDvH"
      },
      "source": [
        "pretrained_model = {\n",
        "    \"InceptionResNet-v2\":{\n",
        "        \"url\": \"https://drive.google.com/uc?id=1UXcsRVW-6KF23_TNzxw-xC0SzaMfXOaR\",\n",
        "        \"filename\":\"fpn_inception.h5\"\n",
        "    }\n",
        "}\n",
        "InceptionResNetV2 = pretrained_model['InceptionResNet-v2']"
      ],
      "execution_count": null,
      "outputs": []
    },
    {
      "cell_type": "code",
      "metadata": {
        "colab": {
          "base_uri": "https://localhost:8080/"
        },
        "id": "v5JOPsjppHaB",
        "outputId": "ba6ad988-a336-4910-93e5-6bbdfa15ad21"
      },
      "source": [
        "gdownloader(InceptionResNetV2[\"url\"], \"model\", InceptionResNetV2[\"filename\"])"
      ],
      "execution_count": null,
      "outputs": [
        {
          "output_type": "stream",
          "text": [
            "Downloading...\n",
            "From: https://drive.google.com/uc?id=1UXcsRVW-6KF23_TNzxw-xC0SzaMfXOaR\n",
            "To: /content/model/fpn_inception.h5\n",
            "244MB [00:02, 102MB/s]\n"
          ],
          "name": "stderr"
        },
        {
          "output_type": "stream",
          "text": [
            "Done!\n"
          ],
          "name": "stdout"
        }
      ]
    },
    {
      "cell_type": "code",
      "metadata": {
        "id": "8lNtD1JCpJA_"
      },
      "source": [
        "import torch\n",
        "import paddle"
      ],
      "execution_count": null,
      "outputs": []
    },
    {
      "cell_type": "code",
      "metadata": {
        "id": "YnQcrqNfpLyU"
      },
      "source": [
        "model_state_dict = torch.load('model/fpn_inception.h5', map_location=torch.device('cpu'))"
      ],
      "execution_count": null,
      "outputs": []
    },
    {
      "cell_type": "code",
      "metadata": {
        "colab": {
          "base_uri": "https://localhost:8080/"
        },
        "id": "jbQkUWEhrLUE",
        "outputId": "393ab02c-c939-49bd-b243-e4cb3908afa4"
      },
      "source": [
        "model_state_dict['model'].keys()"
      ],
      "execution_count": null,
      "outputs": [
        {
          "output_type": "execute_result",
          "data": {
            "text/plain": [
              "odict_keys(['module.fpn.inception.conv2d_1a.conv.weight', 'module.fpn.inception.conv2d_1a.bn.weight', 'module.fpn.inception.conv2d_1a.bn.bias', 'module.fpn.inception.conv2d_1a.bn.running_mean', 'module.fpn.inception.conv2d_1a.bn.running_var', 'module.fpn.inception.conv2d_1a.bn.num_batches_tracked', 'module.fpn.inception.conv2d_2a.conv.weight', 'module.fpn.inception.conv2d_2a.bn.weight', 'module.fpn.inception.conv2d_2a.bn.bias', 'module.fpn.inception.conv2d_2a.bn.running_mean', 'module.fpn.inception.conv2d_2a.bn.running_var', 'module.fpn.inception.conv2d_2a.bn.num_batches_tracked', 'module.fpn.inception.conv2d_2b.conv.weight', 'module.fpn.inception.conv2d_2b.bn.weight', 'module.fpn.inception.conv2d_2b.bn.bias', 'module.fpn.inception.conv2d_2b.bn.running_mean', 'module.fpn.inception.conv2d_2b.bn.running_var', 'module.fpn.inception.conv2d_2b.bn.num_batches_tracked', 'module.fpn.inception.conv2d_3b.conv.weight', 'module.fpn.inception.conv2d_3b.bn.weight', 'module.fpn.inception.conv2d_3b.bn.bias', 'module.fpn.inception.conv2d_3b.bn.running_mean', 'module.fpn.inception.conv2d_3b.bn.running_var', 'module.fpn.inception.conv2d_3b.bn.num_batches_tracked', 'module.fpn.inception.conv2d_4a.conv.weight', 'module.fpn.inception.conv2d_4a.bn.weight', 'module.fpn.inception.conv2d_4a.bn.bias', 'module.fpn.inception.conv2d_4a.bn.running_mean', 'module.fpn.inception.conv2d_4a.bn.running_var', 'module.fpn.inception.conv2d_4a.bn.num_batches_tracked', 'module.fpn.inception.mixed_5b.branch0.conv.weight', 'module.fpn.inception.mixed_5b.branch0.bn.weight', 'module.fpn.inception.mixed_5b.branch0.bn.bias', 'module.fpn.inception.mixed_5b.branch0.bn.running_mean', 'module.fpn.inception.mixed_5b.branch0.bn.running_var', 'module.fpn.inception.mixed_5b.branch0.bn.num_batches_tracked', 'module.fpn.inception.mixed_5b.branch1.0.conv.weight', 'module.fpn.inception.mixed_5b.branch1.0.bn.weight', 'module.fpn.inception.mixed_5b.branch1.0.bn.bias', 'module.fpn.inception.mixed_5b.branch1.0.bn.running_mean', 'module.fpn.inception.mixed_5b.branch1.0.bn.running_var', 'module.fpn.inception.mixed_5b.branch1.0.bn.num_batches_tracked', 'module.fpn.inception.mixed_5b.branch1.1.conv.weight', 'module.fpn.inception.mixed_5b.branch1.1.bn.weight', 'module.fpn.inception.mixed_5b.branch1.1.bn.bias', 'module.fpn.inception.mixed_5b.branch1.1.bn.running_mean', 'module.fpn.inception.mixed_5b.branch1.1.bn.running_var', 'module.fpn.inception.mixed_5b.branch1.1.bn.num_batches_tracked', 'module.fpn.inception.mixed_5b.branch2.0.conv.weight', 'module.fpn.inception.mixed_5b.branch2.0.bn.weight', 'module.fpn.inception.mixed_5b.branch2.0.bn.bias', 'module.fpn.inception.mixed_5b.branch2.0.bn.running_mean', 'module.fpn.inception.mixed_5b.branch2.0.bn.running_var', 'module.fpn.inception.mixed_5b.branch2.0.bn.num_batches_tracked', 'module.fpn.inception.mixed_5b.branch2.1.conv.weight', 'module.fpn.inception.mixed_5b.branch2.1.bn.weight', 'module.fpn.inception.mixed_5b.branch2.1.bn.bias', 'module.fpn.inception.mixed_5b.branch2.1.bn.running_mean', 'module.fpn.inception.mixed_5b.branch2.1.bn.running_var', 'module.fpn.inception.mixed_5b.branch2.1.bn.num_batches_tracked', 'module.fpn.inception.mixed_5b.branch2.2.conv.weight', 'module.fpn.inception.mixed_5b.branch2.2.bn.weight', 'module.fpn.inception.mixed_5b.branch2.2.bn.bias', 'module.fpn.inception.mixed_5b.branch2.2.bn.running_mean', 'module.fpn.inception.mixed_5b.branch2.2.bn.running_var', 'module.fpn.inception.mixed_5b.branch2.2.bn.num_batches_tracked', 'module.fpn.inception.mixed_5b.branch3.1.conv.weight', 'module.fpn.inception.mixed_5b.branch3.1.bn.weight', 'module.fpn.inception.mixed_5b.branch3.1.bn.bias', 'module.fpn.inception.mixed_5b.branch3.1.bn.running_mean', 'module.fpn.inception.mixed_5b.branch3.1.bn.running_var', 'module.fpn.inception.mixed_5b.branch3.1.bn.num_batches_tracked', 'module.fpn.inception.repeat.0.branch0.conv.weight', 'module.fpn.inception.repeat.0.branch0.bn.weight', 'module.fpn.inception.repeat.0.branch0.bn.bias', 'module.fpn.inception.repeat.0.branch0.bn.running_mean', 'module.fpn.inception.repeat.0.branch0.bn.running_var', 'module.fpn.inception.repeat.0.branch0.bn.num_batches_tracked', 'module.fpn.inception.repeat.0.branch1.0.conv.weight', 'module.fpn.inception.repeat.0.branch1.0.bn.weight', 'module.fpn.inception.repeat.0.branch1.0.bn.bias', 'module.fpn.inception.repeat.0.branch1.0.bn.running_mean', 'module.fpn.inception.repeat.0.branch1.0.bn.running_var', 'module.fpn.inception.repeat.0.branch1.0.bn.num_batches_tracked', 'module.fpn.inception.repeat.0.branch1.1.conv.weight', 'module.fpn.inception.repeat.0.branch1.1.bn.weight', 'module.fpn.inception.repeat.0.branch1.1.bn.bias', 'module.fpn.inception.repeat.0.branch1.1.bn.running_mean', 'module.fpn.inception.repeat.0.branch1.1.bn.running_var', 'module.fpn.inception.repeat.0.branch1.1.bn.num_batches_tracked', 'module.fpn.inception.repeat.0.branch2.0.conv.weight', 'module.fpn.inception.repeat.0.branch2.0.bn.weight', 'module.fpn.inception.repeat.0.branch2.0.bn.bias', 'module.fpn.inception.repeat.0.branch2.0.bn.running_mean', 'module.fpn.inception.repeat.0.branch2.0.bn.running_var', 'module.fpn.inception.repeat.0.branch2.0.bn.num_batches_tracked', 'module.fpn.inception.repeat.0.branch2.1.conv.weight', 'module.fpn.inception.repeat.0.branch2.1.bn.weight', 'module.fpn.inception.repeat.0.branch2.1.bn.bias', 'module.fpn.inception.repeat.0.branch2.1.bn.running_mean', 'module.fpn.inception.repeat.0.branch2.1.bn.running_var', 'module.fpn.inception.repeat.0.branch2.1.bn.num_batches_tracked', 'module.fpn.inception.repeat.0.branch2.2.conv.weight', 'module.fpn.inception.repeat.0.branch2.2.bn.weight', 'module.fpn.inception.repeat.0.branch2.2.bn.bias', 'module.fpn.inception.repeat.0.branch2.2.bn.running_mean', 'module.fpn.inception.repeat.0.branch2.2.bn.running_var', 'module.fpn.inception.repeat.0.branch2.2.bn.num_batches_tracked', 'module.fpn.inception.repeat.0.conv2d.weight', 'module.fpn.inception.repeat.0.conv2d.bias', 'module.fpn.inception.repeat.1.branch0.conv.weight', 'module.fpn.inception.repeat.1.branch0.bn.weight', 'module.fpn.inception.repeat.1.branch0.bn.bias', 'module.fpn.inception.repeat.1.branch0.bn.running_mean', 'module.fpn.inception.repeat.1.branch0.bn.running_var', 'module.fpn.inception.repeat.1.branch0.bn.num_batches_tracked', 'module.fpn.inception.repeat.1.branch1.0.conv.weight', 'module.fpn.inception.repeat.1.branch1.0.bn.weight', 'module.fpn.inception.repeat.1.branch1.0.bn.bias', 'module.fpn.inception.repeat.1.branch1.0.bn.running_mean', 'module.fpn.inception.repeat.1.branch1.0.bn.running_var', 'module.fpn.inception.repeat.1.branch1.0.bn.num_batches_tracked', 'module.fpn.inception.repeat.1.branch1.1.conv.weight', 'module.fpn.inception.repeat.1.branch1.1.bn.weight', 'module.fpn.inception.repeat.1.branch1.1.bn.bias', 'module.fpn.inception.repeat.1.branch1.1.bn.running_mean', 'module.fpn.inception.repeat.1.branch1.1.bn.running_var', 'module.fpn.inception.repeat.1.branch1.1.bn.num_batches_tracked', 'module.fpn.inception.repeat.1.branch2.0.conv.weight', 'module.fpn.inception.repeat.1.branch2.0.bn.weight', 'module.fpn.inception.repeat.1.branch2.0.bn.bias', 'module.fpn.inception.repeat.1.branch2.0.bn.running_mean', 'module.fpn.inception.repeat.1.branch2.0.bn.running_var', 'module.fpn.inception.repeat.1.branch2.0.bn.num_batches_tracked', 'module.fpn.inception.repeat.1.branch2.1.conv.weight', 'module.fpn.inception.repeat.1.branch2.1.bn.weight', 'module.fpn.inception.repeat.1.branch2.1.bn.bias', 'module.fpn.inception.repeat.1.branch2.1.bn.running_mean', 'module.fpn.inception.repeat.1.branch2.1.bn.running_var', 'module.fpn.inception.repeat.1.branch2.1.bn.num_batches_tracked', 'module.fpn.inception.repeat.1.branch2.2.conv.weight', 'module.fpn.inception.repeat.1.branch2.2.bn.weight', 'module.fpn.inception.repeat.1.branch2.2.bn.bias', 'module.fpn.inception.repeat.1.branch2.2.bn.running_mean', 'module.fpn.inception.repeat.1.branch2.2.bn.running_var', 'module.fpn.inception.repeat.1.branch2.2.bn.num_batches_tracked', 'module.fpn.inception.repeat.1.conv2d.weight', 'module.fpn.inception.repeat.1.conv2d.bias', 'module.fpn.inception.repeat.2.branch0.conv.weight', 'module.fpn.inception.repeat.2.branch0.bn.weight', 'module.fpn.inception.repeat.2.branch0.bn.bias', 'module.fpn.inception.repeat.2.branch0.bn.running_mean', 'module.fpn.inception.repeat.2.branch0.bn.running_var', 'module.fpn.inception.repeat.2.branch0.bn.num_batches_tracked', 'module.fpn.inception.repeat.2.branch1.0.conv.weight', 'module.fpn.inception.repeat.2.branch1.0.bn.weight', 'module.fpn.inception.repeat.2.branch1.0.bn.bias', 'module.fpn.inception.repeat.2.branch1.0.bn.running_mean', 'module.fpn.inception.repeat.2.branch1.0.bn.running_var', 'module.fpn.inception.repeat.2.branch1.0.bn.num_batches_tracked', 'module.fpn.inception.repeat.2.branch1.1.conv.weight', 'module.fpn.inception.repeat.2.branch1.1.bn.weight', 'module.fpn.inception.repeat.2.branch1.1.bn.bias', 'module.fpn.inception.repeat.2.branch1.1.bn.running_mean', 'module.fpn.inception.repeat.2.branch1.1.bn.running_var', 'module.fpn.inception.repeat.2.branch1.1.bn.num_batches_tracked', 'module.fpn.inception.repeat.2.branch2.0.conv.weight', 'module.fpn.inception.repeat.2.branch2.0.bn.weight', 'module.fpn.inception.repeat.2.branch2.0.bn.bias', 'module.fpn.inception.repeat.2.branch2.0.bn.running_mean', 'module.fpn.inception.repeat.2.branch2.0.bn.running_var', 'module.fpn.inception.repeat.2.branch2.0.bn.num_batches_tracked', 'module.fpn.inception.repeat.2.branch2.1.conv.weight', 'module.fpn.inception.repeat.2.branch2.1.bn.weight', 'module.fpn.inception.repeat.2.branch2.1.bn.bias', 'module.fpn.inception.repeat.2.branch2.1.bn.running_mean', 'module.fpn.inception.repeat.2.branch2.1.bn.running_var', 'module.fpn.inception.repeat.2.branch2.1.bn.num_batches_tracked', 'module.fpn.inception.repeat.2.branch2.2.conv.weight', 'module.fpn.inception.repeat.2.branch2.2.bn.weight', 'module.fpn.inception.repeat.2.branch2.2.bn.bias', 'module.fpn.inception.repeat.2.branch2.2.bn.running_mean', 'module.fpn.inception.repeat.2.branch2.2.bn.running_var', 'module.fpn.inception.repeat.2.branch2.2.bn.num_batches_tracked', 'module.fpn.inception.repeat.2.conv2d.weight', 'module.fpn.inception.repeat.2.conv2d.bias', 'module.fpn.inception.repeat.3.branch0.conv.weight', 'module.fpn.inception.repeat.3.branch0.bn.weight', 'module.fpn.inception.repeat.3.branch0.bn.bias', 'module.fpn.inception.repeat.3.branch0.bn.running_mean', 'module.fpn.inception.repeat.3.branch0.bn.running_var', 'module.fpn.inception.repeat.3.branch0.bn.num_batches_tracked', 'module.fpn.inception.repeat.3.branch1.0.conv.weight', 'module.fpn.inception.repeat.3.branch1.0.bn.weight', 'module.fpn.inception.repeat.3.branch1.0.bn.bias', 'module.fpn.inception.repeat.3.branch1.0.bn.running_mean', 'module.fpn.inception.repeat.3.branch1.0.bn.running_var', 'module.fpn.inception.repeat.3.branch1.0.bn.num_batches_tracked', 'module.fpn.inception.repeat.3.branch1.1.conv.weight', 'module.fpn.inception.repeat.3.branch1.1.bn.weight', 'module.fpn.inception.repeat.3.branch1.1.bn.bias', 'module.fpn.inception.repeat.3.branch1.1.bn.running_mean', 'module.fpn.inception.repeat.3.branch1.1.bn.running_var', 'module.fpn.inception.repeat.3.branch1.1.bn.num_batches_tracked', 'module.fpn.inception.repeat.3.branch2.0.conv.weight', 'module.fpn.inception.repeat.3.branch2.0.bn.weight', 'module.fpn.inception.repeat.3.branch2.0.bn.bias', 'module.fpn.inception.repeat.3.branch2.0.bn.running_mean', 'module.fpn.inception.repeat.3.branch2.0.bn.running_var', 'module.fpn.inception.repeat.3.branch2.0.bn.num_batches_tracked', 'module.fpn.inception.repeat.3.branch2.1.conv.weight', 'module.fpn.inception.repeat.3.branch2.1.bn.weight', 'module.fpn.inception.repeat.3.branch2.1.bn.bias', 'module.fpn.inception.repeat.3.branch2.1.bn.running_mean', 'module.fpn.inception.repeat.3.branch2.1.bn.running_var', 'module.fpn.inception.repeat.3.branch2.1.bn.num_batches_tracked', 'module.fpn.inception.repeat.3.branch2.2.conv.weight', 'module.fpn.inception.repeat.3.branch2.2.bn.weight', 'module.fpn.inception.repeat.3.branch2.2.bn.bias', 'module.fpn.inception.repeat.3.branch2.2.bn.running_mean', 'module.fpn.inception.repeat.3.branch2.2.bn.running_var', 'module.fpn.inception.repeat.3.branch2.2.bn.num_batches_tracked', 'module.fpn.inception.repeat.3.conv2d.weight', 'module.fpn.inception.repeat.3.conv2d.bias', 'module.fpn.inception.repeat.4.branch0.conv.weight', 'module.fpn.inception.repeat.4.branch0.bn.weight', 'module.fpn.inception.repeat.4.branch0.bn.bias', 'module.fpn.inception.repeat.4.branch0.bn.running_mean', 'module.fpn.inception.repeat.4.branch0.bn.running_var', 'module.fpn.inception.repeat.4.branch0.bn.num_batches_tracked', 'module.fpn.inception.repeat.4.branch1.0.conv.weight', 'module.fpn.inception.repeat.4.branch1.0.bn.weight', 'module.fpn.inception.repeat.4.branch1.0.bn.bias', 'module.fpn.inception.repeat.4.branch1.0.bn.running_mean', 'module.fpn.inception.repeat.4.branch1.0.bn.running_var', 'module.fpn.inception.repeat.4.branch1.0.bn.num_batches_tracked', 'module.fpn.inception.repeat.4.branch1.1.conv.weight', 'module.fpn.inception.repeat.4.branch1.1.bn.weight', 'module.fpn.inception.repeat.4.branch1.1.bn.bias', 'module.fpn.inception.repeat.4.branch1.1.bn.running_mean', 'module.fpn.inception.repeat.4.branch1.1.bn.running_var', 'module.fpn.inception.repeat.4.branch1.1.bn.num_batches_tracked', 'module.fpn.inception.repeat.4.branch2.0.conv.weight', 'module.fpn.inception.repeat.4.branch2.0.bn.weight', 'module.fpn.inception.repeat.4.branch2.0.bn.bias', 'module.fpn.inception.repeat.4.branch2.0.bn.running_mean', 'module.fpn.inception.repeat.4.branch2.0.bn.running_var', 'module.fpn.inception.repeat.4.branch2.0.bn.num_batches_tracked', 'module.fpn.inception.repeat.4.branch2.1.conv.weight', 'module.fpn.inception.repeat.4.branch2.1.bn.weight', 'module.fpn.inception.repeat.4.branch2.1.bn.bias', 'module.fpn.inception.repeat.4.branch2.1.bn.running_mean', 'module.fpn.inception.repeat.4.branch2.1.bn.running_var', 'module.fpn.inception.repeat.4.branch2.1.bn.num_batches_tracked', 'module.fpn.inception.repeat.4.branch2.2.conv.weight', 'module.fpn.inception.repeat.4.branch2.2.bn.weight', 'module.fpn.inception.repeat.4.branch2.2.bn.bias', 'module.fpn.inception.repeat.4.branch2.2.bn.running_mean', 'module.fpn.inception.repeat.4.branch2.2.bn.running_var', 'module.fpn.inception.repeat.4.branch2.2.bn.num_batches_tracked', 'module.fpn.inception.repeat.4.conv2d.weight', 'module.fpn.inception.repeat.4.conv2d.bias', 'module.fpn.inception.repeat.5.branch0.conv.weight', 'module.fpn.inception.repeat.5.branch0.bn.weight', 'module.fpn.inception.repeat.5.branch0.bn.bias', 'module.fpn.inception.repeat.5.branch0.bn.running_mean', 'module.fpn.inception.repeat.5.branch0.bn.running_var', 'module.fpn.inception.repeat.5.branch0.bn.num_batches_tracked', 'module.fpn.inception.repeat.5.branch1.0.conv.weight', 'module.fpn.inception.repeat.5.branch1.0.bn.weight', 'module.fpn.inception.repeat.5.branch1.0.bn.bias', 'module.fpn.inception.repeat.5.branch1.0.bn.running_mean', 'module.fpn.inception.repeat.5.branch1.0.bn.running_var', 'module.fpn.inception.repeat.5.branch1.0.bn.num_batches_tracked', 'module.fpn.inception.repeat.5.branch1.1.conv.weight', 'module.fpn.inception.repeat.5.branch1.1.bn.weight', 'module.fpn.inception.repeat.5.branch1.1.bn.bias', 'module.fpn.inception.repeat.5.branch1.1.bn.running_mean', 'module.fpn.inception.repeat.5.branch1.1.bn.running_var', 'module.fpn.inception.repeat.5.branch1.1.bn.num_batches_tracked', 'module.fpn.inception.repeat.5.branch2.0.conv.weight', 'module.fpn.inception.repeat.5.branch2.0.bn.weight', 'module.fpn.inception.repeat.5.branch2.0.bn.bias', 'module.fpn.inception.repeat.5.branch2.0.bn.running_mean', 'module.fpn.inception.repeat.5.branch2.0.bn.running_var', 'module.fpn.inception.repeat.5.branch2.0.bn.num_batches_tracked', 'module.fpn.inception.repeat.5.branch2.1.conv.weight', 'module.fpn.inception.repeat.5.branch2.1.bn.weight', 'module.fpn.inception.repeat.5.branch2.1.bn.bias', 'module.fpn.inception.repeat.5.branch2.1.bn.running_mean', 'module.fpn.inception.repeat.5.branch2.1.bn.running_var', 'module.fpn.inception.repeat.5.branch2.1.bn.num_batches_tracked', 'module.fpn.inception.repeat.5.branch2.2.conv.weight', 'module.fpn.inception.repeat.5.branch2.2.bn.weight', 'module.fpn.inception.repeat.5.branch2.2.bn.bias', 'module.fpn.inception.repeat.5.branch2.2.bn.running_mean', 'module.fpn.inception.repeat.5.branch2.2.bn.running_var', 'module.fpn.inception.repeat.5.branch2.2.bn.num_batches_tracked', 'module.fpn.inception.repeat.5.conv2d.weight', 'module.fpn.inception.repeat.5.conv2d.bias', 'module.fpn.inception.repeat.6.branch0.conv.weight', 'module.fpn.inception.repeat.6.branch0.bn.weight', 'module.fpn.inception.repeat.6.branch0.bn.bias', 'module.fpn.inception.repeat.6.branch0.bn.running_mean', 'module.fpn.inception.repeat.6.branch0.bn.running_var', 'module.fpn.inception.repeat.6.branch0.bn.num_batches_tracked', 'module.fpn.inception.repeat.6.branch1.0.conv.weight', 'module.fpn.inception.repeat.6.branch1.0.bn.weight', 'module.fpn.inception.repeat.6.branch1.0.bn.bias', 'module.fpn.inception.repeat.6.branch1.0.bn.running_mean', 'module.fpn.inception.repeat.6.branch1.0.bn.running_var', 'module.fpn.inception.repeat.6.branch1.0.bn.num_batches_tracked', 'module.fpn.inception.repeat.6.branch1.1.conv.weight', 'module.fpn.inception.repeat.6.branch1.1.bn.weight', 'module.fpn.inception.repeat.6.branch1.1.bn.bias', 'module.fpn.inception.repeat.6.branch1.1.bn.running_mean', 'module.fpn.inception.repeat.6.branch1.1.bn.running_var', 'module.fpn.inception.repeat.6.branch1.1.bn.num_batches_tracked', 'module.fpn.inception.repeat.6.branch2.0.conv.weight', 'module.fpn.inception.repeat.6.branch2.0.bn.weight', 'module.fpn.inception.repeat.6.branch2.0.bn.bias', 'module.fpn.inception.repeat.6.branch2.0.bn.running_mean', 'module.fpn.inception.repeat.6.branch2.0.bn.running_var', 'module.fpn.inception.repeat.6.branch2.0.bn.num_batches_tracked', 'module.fpn.inception.repeat.6.branch2.1.conv.weight', 'module.fpn.inception.repeat.6.branch2.1.bn.weight', 'module.fpn.inception.repeat.6.branch2.1.bn.bias', 'module.fpn.inception.repeat.6.branch2.1.bn.running_mean', 'module.fpn.inception.repeat.6.branch2.1.bn.running_var', 'module.fpn.inception.repeat.6.branch2.1.bn.num_batches_tracked', 'module.fpn.inception.repeat.6.branch2.2.conv.weight', 'module.fpn.inception.repeat.6.branch2.2.bn.weight', 'module.fpn.inception.repeat.6.branch2.2.bn.bias', 'module.fpn.inception.repeat.6.branch2.2.bn.running_mean', 'module.fpn.inception.repeat.6.branch2.2.bn.running_var', 'module.fpn.inception.repeat.6.branch2.2.bn.num_batches_tracked', 'module.fpn.inception.repeat.6.conv2d.weight', 'module.fpn.inception.repeat.6.conv2d.bias', 'module.fpn.inception.repeat.7.branch0.conv.weight', 'module.fpn.inception.repeat.7.branch0.bn.weight', 'module.fpn.inception.repeat.7.branch0.bn.bias', 'module.fpn.inception.repeat.7.branch0.bn.running_mean', 'module.fpn.inception.repeat.7.branch0.bn.running_var', 'module.fpn.inception.repeat.7.branch0.bn.num_batches_tracked', 'module.fpn.inception.repeat.7.branch1.0.conv.weight', 'module.fpn.inception.repeat.7.branch1.0.bn.weight', 'module.fpn.inception.repeat.7.branch1.0.bn.bias', 'module.fpn.inception.repeat.7.branch1.0.bn.running_mean', 'module.fpn.inception.repeat.7.branch1.0.bn.running_var', 'module.fpn.inception.repeat.7.branch1.0.bn.num_batches_tracked', 'module.fpn.inception.repeat.7.branch1.1.conv.weight', 'module.fpn.inception.repeat.7.branch1.1.bn.weight', 'module.fpn.inception.repeat.7.branch1.1.bn.bias', 'module.fpn.inception.repeat.7.branch1.1.bn.running_mean', 'module.fpn.inception.repeat.7.branch1.1.bn.running_var', 'module.fpn.inception.repeat.7.branch1.1.bn.num_batches_tracked', 'module.fpn.inception.repeat.7.branch2.0.conv.weight', 'module.fpn.inception.repeat.7.branch2.0.bn.weight', 'module.fpn.inception.repeat.7.branch2.0.bn.bias', 'module.fpn.inception.repeat.7.branch2.0.bn.running_mean', 'module.fpn.inception.repeat.7.branch2.0.bn.running_var', 'module.fpn.inception.repeat.7.branch2.0.bn.num_batches_tracked', 'module.fpn.inception.repeat.7.branch2.1.conv.weight', 'module.fpn.inception.repeat.7.branch2.1.bn.weight', 'module.fpn.inception.repeat.7.branch2.1.bn.bias', 'module.fpn.inception.repeat.7.branch2.1.bn.running_mean', 'module.fpn.inception.repeat.7.branch2.1.bn.running_var', 'module.fpn.inception.repeat.7.branch2.1.bn.num_batches_tracked', 'module.fpn.inception.repeat.7.branch2.2.conv.weight', 'module.fpn.inception.repeat.7.branch2.2.bn.weight', 'module.fpn.inception.repeat.7.branch2.2.bn.bias', 'module.fpn.inception.repeat.7.branch2.2.bn.running_mean', 'module.fpn.inception.repeat.7.branch2.2.bn.running_var', 'module.fpn.inception.repeat.7.branch2.2.bn.num_batches_tracked', 'module.fpn.inception.repeat.7.conv2d.weight', 'module.fpn.inception.repeat.7.conv2d.bias', 'module.fpn.inception.repeat.8.branch0.conv.weight', 'module.fpn.inception.repeat.8.branch0.bn.weight', 'module.fpn.inception.repeat.8.branch0.bn.bias', 'module.fpn.inception.repeat.8.branch0.bn.running_mean', 'module.fpn.inception.repeat.8.branch0.bn.running_var', 'module.fpn.inception.repeat.8.branch0.bn.num_batches_tracked', 'module.fpn.inception.repeat.8.branch1.0.conv.weight', 'module.fpn.inception.repeat.8.branch1.0.bn.weight', 'module.fpn.inception.repeat.8.branch1.0.bn.bias', 'module.fpn.inception.repeat.8.branch1.0.bn.running_mean', 'module.fpn.inception.repeat.8.branch1.0.bn.running_var', 'module.fpn.inception.repeat.8.branch1.0.bn.num_batches_tracked', 'module.fpn.inception.repeat.8.branch1.1.conv.weight', 'module.fpn.inception.repeat.8.branch1.1.bn.weight', 'module.fpn.inception.repeat.8.branch1.1.bn.bias', 'module.fpn.inception.repeat.8.branch1.1.bn.running_mean', 'module.fpn.inception.repeat.8.branch1.1.bn.running_var', 'module.fpn.inception.repeat.8.branch1.1.bn.num_batches_tracked', 'module.fpn.inception.repeat.8.branch2.0.conv.weight', 'module.fpn.inception.repeat.8.branch2.0.bn.weight', 'module.fpn.inception.repeat.8.branch2.0.bn.bias', 'module.fpn.inception.repeat.8.branch2.0.bn.running_mean', 'module.fpn.inception.repeat.8.branch2.0.bn.running_var', 'module.fpn.inception.repeat.8.branch2.0.bn.num_batches_tracked', 'module.fpn.inception.repeat.8.branch2.1.conv.weight', 'module.fpn.inception.repeat.8.branch2.1.bn.weight', 'module.fpn.inception.repeat.8.branch2.1.bn.bias', 'module.fpn.inception.repeat.8.branch2.1.bn.running_mean', 'module.fpn.inception.repeat.8.branch2.1.bn.running_var', 'module.fpn.inception.repeat.8.branch2.1.bn.num_batches_tracked', 'module.fpn.inception.repeat.8.branch2.2.conv.weight', 'module.fpn.inception.repeat.8.branch2.2.bn.weight', 'module.fpn.inception.repeat.8.branch2.2.bn.bias', 'module.fpn.inception.repeat.8.branch2.2.bn.running_mean', 'module.fpn.inception.repeat.8.branch2.2.bn.running_var', 'module.fpn.inception.repeat.8.branch2.2.bn.num_batches_tracked', 'module.fpn.inception.repeat.8.conv2d.weight', 'module.fpn.inception.repeat.8.conv2d.bias', 'module.fpn.inception.repeat.9.branch0.conv.weight', 'module.fpn.inception.repeat.9.branch0.bn.weight', 'module.fpn.inception.repeat.9.branch0.bn.bias', 'module.fpn.inception.repeat.9.branch0.bn.running_mean', 'module.fpn.inception.repeat.9.branch0.bn.running_var', 'module.fpn.inception.repeat.9.branch0.bn.num_batches_tracked', 'module.fpn.inception.repeat.9.branch1.0.conv.weight', 'module.fpn.inception.repeat.9.branch1.0.bn.weight', 'module.fpn.inception.repeat.9.branch1.0.bn.bias', 'module.fpn.inception.repeat.9.branch1.0.bn.running_mean', 'module.fpn.inception.repeat.9.branch1.0.bn.running_var', 'module.fpn.inception.repeat.9.branch1.0.bn.num_batches_tracked', 'module.fpn.inception.repeat.9.branch1.1.conv.weight', 'module.fpn.inception.repeat.9.branch1.1.bn.weight', 'module.fpn.inception.repeat.9.branch1.1.bn.bias', 'module.fpn.inception.repeat.9.branch1.1.bn.running_mean', 'module.fpn.inception.repeat.9.branch1.1.bn.running_var', 'module.fpn.inception.repeat.9.branch1.1.bn.num_batches_tracked', 'module.fpn.inception.repeat.9.branch2.0.conv.weight', 'module.fpn.inception.repeat.9.branch2.0.bn.weight', 'module.fpn.inception.repeat.9.branch2.0.bn.bias', 'module.fpn.inception.repeat.9.branch2.0.bn.running_mean', 'module.fpn.inception.repeat.9.branch2.0.bn.running_var', 'module.fpn.inception.repeat.9.branch2.0.bn.num_batches_tracked', 'module.fpn.inception.repeat.9.branch2.1.conv.weight', 'module.fpn.inception.repeat.9.branch2.1.bn.weight', 'module.fpn.inception.repeat.9.branch2.1.bn.bias', 'module.fpn.inception.repeat.9.branch2.1.bn.running_mean', 'module.fpn.inception.repeat.9.branch2.1.bn.running_var', 'module.fpn.inception.repeat.9.branch2.1.bn.num_batches_tracked', 'module.fpn.inception.repeat.9.branch2.2.conv.weight', 'module.fpn.inception.repeat.9.branch2.2.bn.weight', 'module.fpn.inception.repeat.9.branch2.2.bn.bias', 'module.fpn.inception.repeat.9.branch2.2.bn.running_mean', 'module.fpn.inception.repeat.9.branch2.2.bn.running_var', 'module.fpn.inception.repeat.9.branch2.2.bn.num_batches_tracked', 'module.fpn.inception.repeat.9.conv2d.weight', 'module.fpn.inception.repeat.9.conv2d.bias', 'module.fpn.inception.mixed_6a.branch0.conv.weight', 'module.fpn.inception.mixed_6a.branch0.bn.weight', 'module.fpn.inception.mixed_6a.branch0.bn.bias', 'module.fpn.inception.mixed_6a.branch0.bn.running_mean', 'module.fpn.inception.mixed_6a.branch0.bn.running_var', 'module.fpn.inception.mixed_6a.branch0.bn.num_batches_tracked', 'module.fpn.inception.mixed_6a.branch1.0.conv.weight', 'module.fpn.inception.mixed_6a.branch1.0.bn.weight', 'module.fpn.inception.mixed_6a.branch1.0.bn.bias', 'module.fpn.inception.mixed_6a.branch1.0.bn.running_mean', 'module.fpn.inception.mixed_6a.branch1.0.bn.running_var', 'module.fpn.inception.mixed_6a.branch1.0.bn.num_batches_tracked', 'module.fpn.inception.mixed_6a.branch1.1.conv.weight', 'module.fpn.inception.mixed_6a.branch1.1.bn.weight', 'module.fpn.inception.mixed_6a.branch1.1.bn.bias', 'module.fpn.inception.mixed_6a.branch1.1.bn.running_mean', 'module.fpn.inception.mixed_6a.branch1.1.bn.running_var', 'module.fpn.inception.mixed_6a.branch1.1.bn.num_batches_tracked', 'module.fpn.inception.mixed_6a.branch1.2.conv.weight', 'module.fpn.inception.mixed_6a.branch1.2.bn.weight', 'module.fpn.inception.mixed_6a.branch1.2.bn.bias', 'module.fpn.inception.mixed_6a.branch1.2.bn.running_mean', 'module.fpn.inception.mixed_6a.branch1.2.bn.running_var', 'module.fpn.inception.mixed_6a.branch1.2.bn.num_batches_tracked', 'module.fpn.inception.repeat_1.0.branch0.conv.weight', 'module.fpn.inception.repeat_1.0.branch0.bn.weight', 'module.fpn.inception.repeat_1.0.branch0.bn.bias', 'module.fpn.inception.repeat_1.0.branch0.bn.running_mean', 'module.fpn.inception.repeat_1.0.branch0.bn.running_var', 'module.fpn.inception.repeat_1.0.branch0.bn.num_batches_tracked', 'module.fpn.inception.repeat_1.0.branch1.0.conv.weight', 'module.fpn.inception.repeat_1.0.branch1.0.bn.weight', 'module.fpn.inception.repeat_1.0.branch1.0.bn.bias', 'module.fpn.inception.repeat_1.0.branch1.0.bn.running_mean', 'module.fpn.inception.repeat_1.0.branch1.0.bn.running_var', 'module.fpn.inception.repeat_1.0.branch1.0.bn.num_batches_tracked', 'module.fpn.inception.repeat_1.0.branch1.1.conv.weight', 'module.fpn.inception.repeat_1.0.branch1.1.bn.weight', 'module.fpn.inception.repeat_1.0.branch1.1.bn.bias', 'module.fpn.inception.repeat_1.0.branch1.1.bn.running_mean', 'module.fpn.inception.repeat_1.0.branch1.1.bn.running_var', 'module.fpn.inception.repeat_1.0.branch1.1.bn.num_batches_tracked', 'module.fpn.inception.repeat_1.0.branch1.2.conv.weight', 'module.fpn.inception.repeat_1.0.branch1.2.bn.weight', 'module.fpn.inception.repeat_1.0.branch1.2.bn.bias', 'module.fpn.inception.repeat_1.0.branch1.2.bn.running_mean', 'module.fpn.inception.repeat_1.0.branch1.2.bn.running_var', 'module.fpn.inception.repeat_1.0.branch1.2.bn.num_batches_tracked', 'module.fpn.inception.repeat_1.0.conv2d.weight', 'module.fpn.inception.repeat_1.0.conv2d.bias', 'module.fpn.inception.repeat_1.1.branch0.conv.weight', 'module.fpn.inception.repeat_1.1.branch0.bn.weight', 'module.fpn.inception.repeat_1.1.branch0.bn.bias', 'module.fpn.inception.repeat_1.1.branch0.bn.running_mean', 'module.fpn.inception.repeat_1.1.branch0.bn.running_var', 'module.fpn.inception.repeat_1.1.branch0.bn.num_batches_tracked', 'module.fpn.inception.repeat_1.1.branch1.0.conv.weight', 'module.fpn.inception.repeat_1.1.branch1.0.bn.weight', 'module.fpn.inception.repeat_1.1.branch1.0.bn.bias', 'module.fpn.inception.repeat_1.1.branch1.0.bn.running_mean', 'module.fpn.inception.repeat_1.1.branch1.0.bn.running_var', 'module.fpn.inception.repeat_1.1.branch1.0.bn.num_batches_tracked', 'module.fpn.inception.repeat_1.1.branch1.1.conv.weight', 'module.fpn.inception.repeat_1.1.branch1.1.bn.weight', 'module.fpn.inception.repeat_1.1.branch1.1.bn.bias', 'module.fpn.inception.repeat_1.1.branch1.1.bn.running_mean', 'module.fpn.inception.repeat_1.1.branch1.1.bn.running_var', 'module.fpn.inception.repeat_1.1.branch1.1.bn.num_batches_tracked', 'module.fpn.inception.repeat_1.1.branch1.2.conv.weight', 'module.fpn.inception.repeat_1.1.branch1.2.bn.weight', 'module.fpn.inception.repeat_1.1.branch1.2.bn.bias', 'module.fpn.inception.repeat_1.1.branch1.2.bn.running_mean', 'module.fpn.inception.repeat_1.1.branch1.2.bn.running_var', 'module.fpn.inception.repeat_1.1.branch1.2.bn.num_batches_tracked', 'module.fpn.inception.repeat_1.1.conv2d.weight', 'module.fpn.inception.repeat_1.1.conv2d.bias', 'module.fpn.inception.repeat_1.2.branch0.conv.weight', 'module.fpn.inception.repeat_1.2.branch0.bn.weight', 'module.fpn.inception.repeat_1.2.branch0.bn.bias', 'module.fpn.inception.repeat_1.2.branch0.bn.running_mean', 'module.fpn.inception.repeat_1.2.branch0.bn.running_var', 'module.fpn.inception.repeat_1.2.branch0.bn.num_batches_tracked', 'module.fpn.inception.repeat_1.2.branch1.0.conv.weight', 'module.fpn.inception.repeat_1.2.branch1.0.bn.weight', 'module.fpn.inception.repeat_1.2.branch1.0.bn.bias', 'module.fpn.inception.repeat_1.2.branch1.0.bn.running_mean', 'module.fpn.inception.repeat_1.2.branch1.0.bn.running_var', 'module.fpn.inception.repeat_1.2.branch1.0.bn.num_batches_tracked', 'module.fpn.inception.repeat_1.2.branch1.1.conv.weight', 'module.fpn.inception.repeat_1.2.branch1.1.bn.weight', 'module.fpn.inception.repeat_1.2.branch1.1.bn.bias', 'module.fpn.inception.repeat_1.2.branch1.1.bn.running_mean', 'module.fpn.inception.repeat_1.2.branch1.1.bn.running_var', 'module.fpn.inception.repeat_1.2.branch1.1.bn.num_batches_tracked', 'module.fpn.inception.repeat_1.2.branch1.2.conv.weight', 'module.fpn.inception.repeat_1.2.branch1.2.bn.weight', 'module.fpn.inception.repeat_1.2.branch1.2.bn.bias', 'module.fpn.inception.repeat_1.2.branch1.2.bn.running_mean', 'module.fpn.inception.repeat_1.2.branch1.2.bn.running_var', 'module.fpn.inception.repeat_1.2.branch1.2.bn.num_batches_tracked', 'module.fpn.inception.repeat_1.2.conv2d.weight', 'module.fpn.inception.repeat_1.2.conv2d.bias', 'module.fpn.inception.repeat_1.3.branch0.conv.weight', 'module.fpn.inception.repeat_1.3.branch0.bn.weight', 'module.fpn.inception.repeat_1.3.branch0.bn.bias', 'module.fpn.inception.repeat_1.3.branch0.bn.running_mean', 'module.fpn.inception.repeat_1.3.branch0.bn.running_var', 'module.fpn.inception.repeat_1.3.branch0.bn.num_batches_tracked', 'module.fpn.inception.repeat_1.3.branch1.0.conv.weight', 'module.fpn.inception.repeat_1.3.branch1.0.bn.weight', 'module.fpn.inception.repeat_1.3.branch1.0.bn.bias', 'module.fpn.inception.repeat_1.3.branch1.0.bn.running_mean', 'module.fpn.inception.repeat_1.3.branch1.0.bn.running_var', 'module.fpn.inception.repeat_1.3.branch1.0.bn.num_batches_tracked', 'module.fpn.inception.repeat_1.3.branch1.1.conv.weight', 'module.fpn.inception.repeat_1.3.branch1.1.bn.weight', 'module.fpn.inception.repeat_1.3.branch1.1.bn.bias', 'module.fpn.inception.repeat_1.3.branch1.1.bn.running_mean', 'module.fpn.inception.repeat_1.3.branch1.1.bn.running_var', 'module.fpn.inception.repeat_1.3.branch1.1.bn.num_batches_tracked', 'module.fpn.inception.repeat_1.3.branch1.2.conv.weight', 'module.fpn.inception.repeat_1.3.branch1.2.bn.weight', 'module.fpn.inception.repeat_1.3.branch1.2.bn.bias', 'module.fpn.inception.repeat_1.3.branch1.2.bn.running_mean', 'module.fpn.inception.repeat_1.3.branch1.2.bn.running_var', 'module.fpn.inception.repeat_1.3.branch1.2.bn.num_batches_tracked', 'module.fpn.inception.repeat_1.3.conv2d.weight', 'module.fpn.inception.repeat_1.3.conv2d.bias', 'module.fpn.inception.repeat_1.4.branch0.conv.weight', 'module.fpn.inception.repeat_1.4.branch0.bn.weight', 'module.fpn.inception.repeat_1.4.branch0.bn.bias', 'module.fpn.inception.repeat_1.4.branch0.bn.running_mean', 'module.fpn.inception.repeat_1.4.branch0.bn.running_var', 'module.fpn.inception.repeat_1.4.branch0.bn.num_batches_tracked', 'module.fpn.inception.repeat_1.4.branch1.0.conv.weight', 'module.fpn.inception.repeat_1.4.branch1.0.bn.weight', 'module.fpn.inception.repeat_1.4.branch1.0.bn.bias', 'module.fpn.inception.repeat_1.4.branch1.0.bn.running_mean', 'module.fpn.inception.repeat_1.4.branch1.0.bn.running_var', 'module.fpn.inception.repeat_1.4.branch1.0.bn.num_batches_tracked', 'module.fpn.inception.repeat_1.4.branch1.1.conv.weight', 'module.fpn.inception.repeat_1.4.branch1.1.bn.weight', 'module.fpn.inception.repeat_1.4.branch1.1.bn.bias', 'module.fpn.inception.repeat_1.4.branch1.1.bn.running_mean', 'module.fpn.inception.repeat_1.4.branch1.1.bn.running_var', 'module.fpn.inception.repeat_1.4.branch1.1.bn.num_batches_tracked', 'module.fpn.inception.repeat_1.4.branch1.2.conv.weight', 'module.fpn.inception.repeat_1.4.branch1.2.bn.weight', 'module.fpn.inception.repeat_1.4.branch1.2.bn.bias', 'module.fpn.inception.repeat_1.4.branch1.2.bn.running_mean', 'module.fpn.inception.repeat_1.4.branch1.2.bn.running_var', 'module.fpn.inception.repeat_1.4.branch1.2.bn.num_batches_tracked', 'module.fpn.inception.repeat_1.4.conv2d.weight', 'module.fpn.inception.repeat_1.4.conv2d.bias', 'module.fpn.inception.repeat_1.5.branch0.conv.weight', 'module.fpn.inception.repeat_1.5.branch0.bn.weight', 'module.fpn.inception.repeat_1.5.branch0.bn.bias', 'module.fpn.inception.repeat_1.5.branch0.bn.running_mean', 'module.fpn.inception.repeat_1.5.branch0.bn.running_var', 'module.fpn.inception.repeat_1.5.branch0.bn.num_batches_tracked', 'module.fpn.inception.repeat_1.5.branch1.0.conv.weight', 'module.fpn.inception.repeat_1.5.branch1.0.bn.weight', 'module.fpn.inception.repeat_1.5.branch1.0.bn.bias', 'module.fpn.inception.repeat_1.5.branch1.0.bn.running_mean', 'module.fpn.inception.repeat_1.5.branch1.0.bn.running_var', 'module.fpn.inception.repeat_1.5.branch1.0.bn.num_batches_tracked', 'module.fpn.inception.repeat_1.5.branch1.1.conv.weight', 'module.fpn.inception.repeat_1.5.branch1.1.bn.weight', 'module.fpn.inception.repeat_1.5.branch1.1.bn.bias', 'module.fpn.inception.repeat_1.5.branch1.1.bn.running_mean', 'module.fpn.inception.repeat_1.5.branch1.1.bn.running_var', 'module.fpn.inception.repeat_1.5.branch1.1.bn.num_batches_tracked', 'module.fpn.inception.repeat_1.5.branch1.2.conv.weight', 'module.fpn.inception.repeat_1.5.branch1.2.bn.weight', 'module.fpn.inception.repeat_1.5.branch1.2.bn.bias', 'module.fpn.inception.repeat_1.5.branch1.2.bn.running_mean', 'module.fpn.inception.repeat_1.5.branch1.2.bn.running_var', 'module.fpn.inception.repeat_1.5.branch1.2.bn.num_batches_tracked', 'module.fpn.inception.repeat_1.5.conv2d.weight', 'module.fpn.inception.repeat_1.5.conv2d.bias', 'module.fpn.inception.repeat_1.6.branch0.conv.weight', 'module.fpn.inception.repeat_1.6.branch0.bn.weight', 'module.fpn.inception.repeat_1.6.branch0.bn.bias', 'module.fpn.inception.repeat_1.6.branch0.bn.running_mean', 'module.fpn.inception.repeat_1.6.branch0.bn.running_var', 'module.fpn.inception.repeat_1.6.branch0.bn.num_batches_tracked', 'module.fpn.inception.repeat_1.6.branch1.0.conv.weight', 'module.fpn.inception.repeat_1.6.branch1.0.bn.weight', 'module.fpn.inception.repeat_1.6.branch1.0.bn.bias', 'module.fpn.inception.repeat_1.6.branch1.0.bn.running_mean', 'module.fpn.inception.repeat_1.6.branch1.0.bn.running_var', 'module.fpn.inception.repeat_1.6.branch1.0.bn.num_batches_tracked', 'module.fpn.inception.repeat_1.6.branch1.1.conv.weight', 'module.fpn.inception.repeat_1.6.branch1.1.bn.weight', 'module.fpn.inception.repeat_1.6.branch1.1.bn.bias', 'module.fpn.inception.repeat_1.6.branch1.1.bn.running_mean', 'module.fpn.inception.repeat_1.6.branch1.1.bn.running_var', 'module.fpn.inception.repeat_1.6.branch1.1.bn.num_batches_tracked', 'module.fpn.inception.repeat_1.6.branch1.2.conv.weight', 'module.fpn.inception.repeat_1.6.branch1.2.bn.weight', 'module.fpn.inception.repeat_1.6.branch1.2.bn.bias', 'module.fpn.inception.repeat_1.6.branch1.2.bn.running_mean', 'module.fpn.inception.repeat_1.6.branch1.2.bn.running_var', 'module.fpn.inception.repeat_1.6.branch1.2.bn.num_batches_tracked', 'module.fpn.inception.repeat_1.6.conv2d.weight', 'module.fpn.inception.repeat_1.6.conv2d.bias', 'module.fpn.inception.repeat_1.7.branch0.conv.weight', 'module.fpn.inception.repeat_1.7.branch0.bn.weight', 'module.fpn.inception.repeat_1.7.branch0.bn.bias', 'module.fpn.inception.repeat_1.7.branch0.bn.running_mean', 'module.fpn.inception.repeat_1.7.branch0.bn.running_var', 'module.fpn.inception.repeat_1.7.branch0.bn.num_batches_tracked', 'module.fpn.inception.repeat_1.7.branch1.0.conv.weight', 'module.fpn.inception.repeat_1.7.branch1.0.bn.weight', 'module.fpn.inception.repeat_1.7.branch1.0.bn.bias', 'module.fpn.inception.repeat_1.7.branch1.0.bn.running_mean', 'module.fpn.inception.repeat_1.7.branch1.0.bn.running_var', 'module.fpn.inception.repeat_1.7.branch1.0.bn.num_batches_tracked', 'module.fpn.inception.repeat_1.7.branch1.1.conv.weight', 'module.fpn.inception.repeat_1.7.branch1.1.bn.weight', 'module.fpn.inception.repeat_1.7.branch1.1.bn.bias', 'module.fpn.inception.repeat_1.7.branch1.1.bn.running_mean', 'module.fpn.inception.repeat_1.7.branch1.1.bn.running_var', 'module.fpn.inception.repeat_1.7.branch1.1.bn.num_batches_tracked', 'module.fpn.inception.repeat_1.7.branch1.2.conv.weight', 'module.fpn.inception.repeat_1.7.branch1.2.bn.weight', 'module.fpn.inception.repeat_1.7.branch1.2.bn.bias', 'module.fpn.inception.repeat_1.7.branch1.2.bn.running_mean', 'module.fpn.inception.repeat_1.7.branch1.2.bn.running_var', 'module.fpn.inception.repeat_1.7.branch1.2.bn.num_batches_tracked', 'module.fpn.inception.repeat_1.7.conv2d.weight', 'module.fpn.inception.repeat_1.7.conv2d.bias', 'module.fpn.inception.repeat_1.8.branch0.conv.weight', 'module.fpn.inception.repeat_1.8.branch0.bn.weight', 'module.fpn.inception.repeat_1.8.branch0.bn.bias', 'module.fpn.inception.repeat_1.8.branch0.bn.running_mean', 'module.fpn.inception.repeat_1.8.branch0.bn.running_var', 'module.fpn.inception.repeat_1.8.branch0.bn.num_batches_tracked', 'module.fpn.inception.repeat_1.8.branch1.0.conv.weight', 'module.fpn.inception.repeat_1.8.branch1.0.bn.weight', 'module.fpn.inception.repeat_1.8.branch1.0.bn.bias', 'module.fpn.inception.repeat_1.8.branch1.0.bn.running_mean', 'module.fpn.inception.repeat_1.8.branch1.0.bn.running_var', 'module.fpn.inception.repeat_1.8.branch1.0.bn.num_batches_tracked', 'module.fpn.inception.repeat_1.8.branch1.1.conv.weight', 'module.fpn.inception.repeat_1.8.branch1.1.bn.weight', 'module.fpn.inception.repeat_1.8.branch1.1.bn.bias', 'module.fpn.inception.repeat_1.8.branch1.1.bn.running_mean', 'module.fpn.inception.repeat_1.8.branch1.1.bn.running_var', 'module.fpn.inception.repeat_1.8.branch1.1.bn.num_batches_tracked', 'module.fpn.inception.repeat_1.8.branch1.2.conv.weight', 'module.fpn.inception.repeat_1.8.branch1.2.bn.weight', 'module.fpn.inception.repeat_1.8.branch1.2.bn.bias', 'module.fpn.inception.repeat_1.8.branch1.2.bn.running_mean', 'module.fpn.inception.repeat_1.8.branch1.2.bn.running_var', 'module.fpn.inception.repeat_1.8.branch1.2.bn.num_batches_tracked', 'module.fpn.inception.repeat_1.8.conv2d.weight', 'module.fpn.inception.repeat_1.8.conv2d.bias', 'module.fpn.inception.repeat_1.9.branch0.conv.weight', 'module.fpn.inception.repeat_1.9.branch0.bn.weight', 'module.fpn.inception.repeat_1.9.branch0.bn.bias', 'module.fpn.inception.repeat_1.9.branch0.bn.running_mean', 'module.fpn.inception.repeat_1.9.branch0.bn.running_var', 'module.fpn.inception.repeat_1.9.branch0.bn.num_batches_tracked', 'module.fpn.inception.repeat_1.9.branch1.0.conv.weight', 'module.fpn.inception.repeat_1.9.branch1.0.bn.weight', 'module.fpn.inception.repeat_1.9.branch1.0.bn.bias', 'module.fpn.inception.repeat_1.9.branch1.0.bn.running_mean', 'module.fpn.inception.repeat_1.9.branch1.0.bn.running_var', 'module.fpn.inception.repeat_1.9.branch1.0.bn.num_batches_tracked', 'module.fpn.inception.repeat_1.9.branch1.1.conv.weight', 'module.fpn.inception.repeat_1.9.branch1.1.bn.weight', 'module.fpn.inception.repeat_1.9.branch1.1.bn.bias', 'module.fpn.inception.repeat_1.9.branch1.1.bn.running_mean', 'module.fpn.inception.repeat_1.9.branch1.1.bn.running_var', 'module.fpn.inception.repeat_1.9.branch1.1.bn.num_batches_tracked', 'module.fpn.inception.repeat_1.9.branch1.2.conv.weight', 'module.fpn.inception.repeat_1.9.branch1.2.bn.weight', 'module.fpn.inception.repeat_1.9.branch1.2.bn.bias', 'module.fpn.inception.repeat_1.9.branch1.2.bn.running_mean', 'module.fpn.inception.repeat_1.9.branch1.2.bn.running_var', 'module.fpn.inception.repeat_1.9.branch1.2.bn.num_batches_tracked', 'module.fpn.inception.repeat_1.9.conv2d.weight', 'module.fpn.inception.repeat_1.9.conv2d.bias', 'module.fpn.inception.repeat_1.10.branch0.conv.weight', 'module.fpn.inception.repeat_1.10.branch0.bn.weight', 'module.fpn.inception.repeat_1.10.branch0.bn.bias', 'module.fpn.inception.repeat_1.10.branch0.bn.running_mean', 'module.fpn.inception.repeat_1.10.branch0.bn.running_var', 'module.fpn.inception.repeat_1.10.branch0.bn.num_batches_tracked', 'module.fpn.inception.repeat_1.10.branch1.0.conv.weight', 'module.fpn.inception.repeat_1.10.branch1.0.bn.weight', 'module.fpn.inception.repeat_1.10.branch1.0.bn.bias', 'module.fpn.inception.repeat_1.10.branch1.0.bn.running_mean', 'module.fpn.inception.repeat_1.10.branch1.0.bn.running_var', 'module.fpn.inception.repeat_1.10.branch1.0.bn.num_batches_tracked', 'module.fpn.inception.repeat_1.10.branch1.1.conv.weight', 'module.fpn.inception.repeat_1.10.branch1.1.bn.weight', 'module.fpn.inception.repeat_1.10.branch1.1.bn.bias', 'module.fpn.inception.repeat_1.10.branch1.1.bn.running_mean', 'module.fpn.inception.repeat_1.10.branch1.1.bn.running_var', 'module.fpn.inception.repeat_1.10.branch1.1.bn.num_batches_tracked', 'module.fpn.inception.repeat_1.10.branch1.2.conv.weight', 'module.fpn.inception.repeat_1.10.branch1.2.bn.weight', 'module.fpn.inception.repeat_1.10.branch1.2.bn.bias', 'module.fpn.inception.repeat_1.10.branch1.2.bn.running_mean', 'module.fpn.inception.repeat_1.10.branch1.2.bn.running_var', 'module.fpn.inception.repeat_1.10.branch1.2.bn.num_batches_tracked', 'module.fpn.inception.repeat_1.10.conv2d.weight', 'module.fpn.inception.repeat_1.10.conv2d.bias', 'module.fpn.inception.repeat_1.11.branch0.conv.weight', 'module.fpn.inception.repeat_1.11.branch0.bn.weight', 'module.fpn.inception.repeat_1.11.branch0.bn.bias', 'module.fpn.inception.repeat_1.11.branch0.bn.running_mean', 'module.fpn.inception.repeat_1.11.branch0.bn.running_var', 'module.fpn.inception.repeat_1.11.branch0.bn.num_batches_tracked', 'module.fpn.inception.repeat_1.11.branch1.0.conv.weight', 'module.fpn.inception.repeat_1.11.branch1.0.bn.weight', 'module.fpn.inception.repeat_1.11.branch1.0.bn.bias', 'module.fpn.inception.repeat_1.11.branch1.0.bn.running_mean', 'module.fpn.inception.repeat_1.11.branch1.0.bn.running_var', 'module.fpn.inception.repeat_1.11.branch1.0.bn.num_batches_tracked', 'module.fpn.inception.repeat_1.11.branch1.1.conv.weight', 'module.fpn.inception.repeat_1.11.branch1.1.bn.weight', 'module.fpn.inception.repeat_1.11.branch1.1.bn.bias', 'module.fpn.inception.repeat_1.11.branch1.1.bn.running_mean', 'module.fpn.inception.repeat_1.11.branch1.1.bn.running_var', 'module.fpn.inception.repeat_1.11.branch1.1.bn.num_batches_tracked', 'module.fpn.inception.repeat_1.11.branch1.2.conv.weight', 'module.fpn.inception.repeat_1.11.branch1.2.bn.weight', 'module.fpn.inception.repeat_1.11.branch1.2.bn.bias', 'module.fpn.inception.repeat_1.11.branch1.2.bn.running_mean', 'module.fpn.inception.repeat_1.11.branch1.2.bn.running_var', 'module.fpn.inception.repeat_1.11.branch1.2.bn.num_batches_tracked', 'module.fpn.inception.repeat_1.11.conv2d.weight', 'module.fpn.inception.repeat_1.11.conv2d.bias', 'module.fpn.inception.repeat_1.12.branch0.conv.weight', 'module.fpn.inception.repeat_1.12.branch0.bn.weight', 'module.fpn.inception.repeat_1.12.branch0.bn.bias', 'module.fpn.inception.repeat_1.12.branch0.bn.running_mean', 'module.fpn.inception.repeat_1.12.branch0.bn.running_var', 'module.fpn.inception.repeat_1.12.branch0.bn.num_batches_tracked', 'module.fpn.inception.repeat_1.12.branch1.0.conv.weight', 'module.fpn.inception.repeat_1.12.branch1.0.bn.weight', 'module.fpn.inception.repeat_1.12.branch1.0.bn.bias', 'module.fpn.inception.repeat_1.12.branch1.0.bn.running_mean', 'module.fpn.inception.repeat_1.12.branch1.0.bn.running_var', 'module.fpn.inception.repeat_1.12.branch1.0.bn.num_batches_tracked', 'module.fpn.inception.repeat_1.12.branch1.1.conv.weight', 'module.fpn.inception.repeat_1.12.branch1.1.bn.weight', 'module.fpn.inception.repeat_1.12.branch1.1.bn.bias', 'module.fpn.inception.repeat_1.12.branch1.1.bn.running_mean', 'module.fpn.inception.repeat_1.12.branch1.1.bn.running_var', 'module.fpn.inception.repeat_1.12.branch1.1.bn.num_batches_tracked', 'module.fpn.inception.repeat_1.12.branch1.2.conv.weight', 'module.fpn.inception.repeat_1.12.branch1.2.bn.weight', 'module.fpn.inception.repeat_1.12.branch1.2.bn.bias', 'module.fpn.inception.repeat_1.12.branch1.2.bn.running_mean', 'module.fpn.inception.repeat_1.12.branch1.2.bn.running_var', 'module.fpn.inception.repeat_1.12.branch1.2.bn.num_batches_tracked', 'module.fpn.inception.repeat_1.12.conv2d.weight', 'module.fpn.inception.repeat_1.12.conv2d.bias', 'module.fpn.inception.repeat_1.13.branch0.conv.weight', 'module.fpn.inception.repeat_1.13.branch0.bn.weight', 'module.fpn.inception.repeat_1.13.branch0.bn.bias', 'module.fpn.inception.repeat_1.13.branch0.bn.running_mean', 'module.fpn.inception.repeat_1.13.branch0.bn.running_var', 'module.fpn.inception.repeat_1.13.branch0.bn.num_batches_tracked', 'module.fpn.inception.repeat_1.13.branch1.0.conv.weight', 'module.fpn.inception.repeat_1.13.branch1.0.bn.weight', 'module.fpn.inception.repeat_1.13.branch1.0.bn.bias', 'module.fpn.inception.repeat_1.13.branch1.0.bn.running_mean', 'module.fpn.inception.repeat_1.13.branch1.0.bn.running_var', 'module.fpn.inception.repeat_1.13.branch1.0.bn.num_batches_tracked', 'module.fpn.inception.repeat_1.13.branch1.1.conv.weight', 'module.fpn.inception.repeat_1.13.branch1.1.bn.weight', 'module.fpn.inception.repeat_1.13.branch1.1.bn.bias', 'module.fpn.inception.repeat_1.13.branch1.1.bn.running_mean', 'module.fpn.inception.repeat_1.13.branch1.1.bn.running_var', 'module.fpn.inception.repeat_1.13.branch1.1.bn.num_batches_tracked', 'module.fpn.inception.repeat_1.13.branch1.2.conv.weight', 'module.fpn.inception.repeat_1.13.branch1.2.bn.weight', 'module.fpn.inception.repeat_1.13.branch1.2.bn.bias', 'module.fpn.inception.repeat_1.13.branch1.2.bn.running_mean', 'module.fpn.inception.repeat_1.13.branch1.2.bn.running_var', 'module.fpn.inception.repeat_1.13.branch1.2.bn.num_batches_tracked', 'module.fpn.inception.repeat_1.13.conv2d.weight', 'module.fpn.inception.repeat_1.13.conv2d.bias', 'module.fpn.inception.repeat_1.14.branch0.conv.weight', 'module.fpn.inception.repeat_1.14.branch0.bn.weight', 'module.fpn.inception.repeat_1.14.branch0.bn.bias', 'module.fpn.inception.repeat_1.14.branch0.bn.running_mean', 'module.fpn.inception.repeat_1.14.branch0.bn.running_var', 'module.fpn.inception.repeat_1.14.branch0.bn.num_batches_tracked', 'module.fpn.inception.repeat_1.14.branch1.0.conv.weight', 'module.fpn.inception.repeat_1.14.branch1.0.bn.weight', 'module.fpn.inception.repeat_1.14.branch1.0.bn.bias', 'module.fpn.inception.repeat_1.14.branch1.0.bn.running_mean', 'module.fpn.inception.repeat_1.14.branch1.0.bn.running_var', 'module.fpn.inception.repeat_1.14.branch1.0.bn.num_batches_tracked', 'module.fpn.inception.repeat_1.14.branch1.1.conv.weight', 'module.fpn.inception.repeat_1.14.branch1.1.bn.weight', 'module.fpn.inception.repeat_1.14.branch1.1.bn.bias', 'module.fpn.inception.repeat_1.14.branch1.1.bn.running_mean', 'module.fpn.inception.repeat_1.14.branch1.1.bn.running_var', 'module.fpn.inception.repeat_1.14.branch1.1.bn.num_batches_tracked', 'module.fpn.inception.repeat_1.14.branch1.2.conv.weight', 'module.fpn.inception.repeat_1.14.branch1.2.bn.weight', 'module.fpn.inception.repeat_1.14.branch1.2.bn.bias', 'module.fpn.inception.repeat_1.14.branch1.2.bn.running_mean', 'module.fpn.inception.repeat_1.14.branch1.2.bn.running_var', 'module.fpn.inception.repeat_1.14.branch1.2.bn.num_batches_tracked', 'module.fpn.inception.repeat_1.14.conv2d.weight', 'module.fpn.inception.repeat_1.14.conv2d.bias', 'module.fpn.inception.repeat_1.15.branch0.conv.weight', 'module.fpn.inception.repeat_1.15.branch0.bn.weight', 'module.fpn.inception.repeat_1.15.branch0.bn.bias', 'module.fpn.inception.repeat_1.15.branch0.bn.running_mean', 'module.fpn.inception.repeat_1.15.branch0.bn.running_var', 'module.fpn.inception.repeat_1.15.branch0.bn.num_batches_tracked', 'module.fpn.inception.repeat_1.15.branch1.0.conv.weight', 'module.fpn.inception.repeat_1.15.branch1.0.bn.weight', 'module.fpn.inception.repeat_1.15.branch1.0.bn.bias', 'module.fpn.inception.repeat_1.15.branch1.0.bn.running_mean', 'module.fpn.inception.repeat_1.15.branch1.0.bn.running_var', 'module.fpn.inception.repeat_1.15.branch1.0.bn.num_batches_tracked', 'module.fpn.inception.repeat_1.15.branch1.1.conv.weight', 'module.fpn.inception.repeat_1.15.branch1.1.bn.weight', 'module.fpn.inception.repeat_1.15.branch1.1.bn.bias', 'module.fpn.inception.repeat_1.15.branch1.1.bn.running_mean', 'module.fpn.inception.repeat_1.15.branch1.1.bn.running_var', 'module.fpn.inception.repeat_1.15.branch1.1.bn.num_batches_tracked', 'module.fpn.inception.repeat_1.15.branch1.2.conv.weight', 'module.fpn.inception.repeat_1.15.branch1.2.bn.weight', 'module.fpn.inception.repeat_1.15.branch1.2.bn.bias', 'module.fpn.inception.repeat_1.15.branch1.2.bn.running_mean', 'module.fpn.inception.repeat_1.15.branch1.2.bn.running_var', 'module.fpn.inception.repeat_1.15.branch1.2.bn.num_batches_tracked', 'module.fpn.inception.repeat_1.15.conv2d.weight', 'module.fpn.inception.repeat_1.15.conv2d.bias', 'module.fpn.inception.repeat_1.16.branch0.conv.weight', 'module.fpn.inception.repeat_1.16.branch0.bn.weight', 'module.fpn.inception.repeat_1.16.branch0.bn.bias', 'module.fpn.inception.repeat_1.16.branch0.bn.running_mean', 'module.fpn.inception.repeat_1.16.branch0.bn.running_var', 'module.fpn.inception.repeat_1.16.branch0.bn.num_batches_tracked', 'module.fpn.inception.repeat_1.16.branch1.0.conv.weight', 'module.fpn.inception.repeat_1.16.branch1.0.bn.weight', 'module.fpn.inception.repeat_1.16.branch1.0.bn.bias', 'module.fpn.inception.repeat_1.16.branch1.0.bn.running_mean', 'module.fpn.inception.repeat_1.16.branch1.0.bn.running_var', 'module.fpn.inception.repeat_1.16.branch1.0.bn.num_batches_tracked', 'module.fpn.inception.repeat_1.16.branch1.1.conv.weight', 'module.fpn.inception.repeat_1.16.branch1.1.bn.weight', 'module.fpn.inception.repeat_1.16.branch1.1.bn.bias', 'module.fpn.inception.repeat_1.16.branch1.1.bn.running_mean', 'module.fpn.inception.repeat_1.16.branch1.1.bn.running_var', 'module.fpn.inception.repeat_1.16.branch1.1.bn.num_batches_tracked', 'module.fpn.inception.repeat_1.16.branch1.2.conv.weight', 'module.fpn.inception.repeat_1.16.branch1.2.bn.weight', 'module.fpn.inception.repeat_1.16.branch1.2.bn.bias', 'module.fpn.inception.repeat_1.16.branch1.2.bn.running_mean', 'module.fpn.inception.repeat_1.16.branch1.2.bn.running_var', 'module.fpn.inception.repeat_1.16.branch1.2.bn.num_batches_tracked', 'module.fpn.inception.repeat_1.16.conv2d.weight', 'module.fpn.inception.repeat_1.16.conv2d.bias', 'module.fpn.inception.repeat_1.17.branch0.conv.weight', 'module.fpn.inception.repeat_1.17.branch0.bn.weight', 'module.fpn.inception.repeat_1.17.branch0.bn.bias', 'module.fpn.inception.repeat_1.17.branch0.bn.running_mean', 'module.fpn.inception.repeat_1.17.branch0.bn.running_var', 'module.fpn.inception.repeat_1.17.branch0.bn.num_batches_tracked', 'module.fpn.inception.repeat_1.17.branch1.0.conv.weight', 'module.fpn.inception.repeat_1.17.branch1.0.bn.weight', 'module.fpn.inception.repeat_1.17.branch1.0.bn.bias', 'module.fpn.inception.repeat_1.17.branch1.0.bn.running_mean', 'module.fpn.inception.repeat_1.17.branch1.0.bn.running_var', 'module.fpn.inception.repeat_1.17.branch1.0.bn.num_batches_tracked', 'module.fpn.inception.repeat_1.17.branch1.1.conv.weight', 'module.fpn.inception.repeat_1.17.branch1.1.bn.weight', 'module.fpn.inception.repeat_1.17.branch1.1.bn.bias', 'module.fpn.inception.repeat_1.17.branch1.1.bn.running_mean', 'module.fpn.inception.repeat_1.17.branch1.1.bn.running_var', 'module.fpn.inception.repeat_1.17.branch1.1.bn.num_batches_tracked', 'module.fpn.inception.repeat_1.17.branch1.2.conv.weight', 'module.fpn.inception.repeat_1.17.branch1.2.bn.weight', 'module.fpn.inception.repeat_1.17.branch1.2.bn.bias', 'module.fpn.inception.repeat_1.17.branch1.2.bn.running_mean', 'module.fpn.inception.repeat_1.17.branch1.2.bn.running_var', 'module.fpn.inception.repeat_1.17.branch1.2.bn.num_batches_tracked', 'module.fpn.inception.repeat_1.17.conv2d.weight', 'module.fpn.inception.repeat_1.17.conv2d.bias', 'module.fpn.inception.repeat_1.18.branch0.conv.weight', 'module.fpn.inception.repeat_1.18.branch0.bn.weight', 'module.fpn.inception.repeat_1.18.branch0.bn.bias', 'module.fpn.inception.repeat_1.18.branch0.bn.running_mean', 'module.fpn.inception.repeat_1.18.branch0.bn.running_var', 'module.fpn.inception.repeat_1.18.branch0.bn.num_batches_tracked', 'module.fpn.inception.repeat_1.18.branch1.0.conv.weight', 'module.fpn.inception.repeat_1.18.branch1.0.bn.weight', 'module.fpn.inception.repeat_1.18.branch1.0.bn.bias', 'module.fpn.inception.repeat_1.18.branch1.0.bn.running_mean', 'module.fpn.inception.repeat_1.18.branch1.0.bn.running_var', 'module.fpn.inception.repeat_1.18.branch1.0.bn.num_batches_tracked', 'module.fpn.inception.repeat_1.18.branch1.1.conv.weight', 'module.fpn.inception.repeat_1.18.branch1.1.bn.weight', 'module.fpn.inception.repeat_1.18.branch1.1.bn.bias', 'module.fpn.inception.repeat_1.18.branch1.1.bn.running_mean', 'module.fpn.inception.repeat_1.18.branch1.1.bn.running_var', 'module.fpn.inception.repeat_1.18.branch1.1.bn.num_batches_tracked', 'module.fpn.inception.repeat_1.18.branch1.2.conv.weight', 'module.fpn.inception.repeat_1.18.branch1.2.bn.weight', 'module.fpn.inception.repeat_1.18.branch1.2.bn.bias', 'module.fpn.inception.repeat_1.18.branch1.2.bn.running_mean', 'module.fpn.inception.repeat_1.18.branch1.2.bn.running_var', 'module.fpn.inception.repeat_1.18.branch1.2.bn.num_batches_tracked', 'module.fpn.inception.repeat_1.18.conv2d.weight', 'module.fpn.inception.repeat_1.18.conv2d.bias', 'module.fpn.inception.repeat_1.19.branch0.conv.weight', 'module.fpn.inception.repeat_1.19.branch0.bn.weight', 'module.fpn.inception.repeat_1.19.branch0.bn.bias', 'module.fpn.inception.repeat_1.19.branch0.bn.running_mean', 'module.fpn.inception.repeat_1.19.branch0.bn.running_var', 'module.fpn.inception.repeat_1.19.branch0.bn.num_batches_tracked', 'module.fpn.inception.repeat_1.19.branch1.0.conv.weight', 'module.fpn.inception.repeat_1.19.branch1.0.bn.weight', 'module.fpn.inception.repeat_1.19.branch1.0.bn.bias', 'module.fpn.inception.repeat_1.19.branch1.0.bn.running_mean', 'module.fpn.inception.repeat_1.19.branch1.0.bn.running_var', 'module.fpn.inception.repeat_1.19.branch1.0.bn.num_batches_tracked', 'module.fpn.inception.repeat_1.19.branch1.1.conv.weight', 'module.fpn.inception.repeat_1.19.branch1.1.bn.weight', 'module.fpn.inception.repeat_1.19.branch1.1.bn.bias', 'module.fpn.inception.repeat_1.19.branch1.1.bn.running_mean', 'module.fpn.inception.repeat_1.19.branch1.1.bn.running_var', 'module.fpn.inception.repeat_1.19.branch1.1.bn.num_batches_tracked', 'module.fpn.inception.repeat_1.19.branch1.2.conv.weight', 'module.fpn.inception.repeat_1.19.branch1.2.bn.weight', 'module.fpn.inception.repeat_1.19.branch1.2.bn.bias', 'module.fpn.inception.repeat_1.19.branch1.2.bn.running_mean', 'module.fpn.inception.repeat_1.19.branch1.2.bn.running_var', 'module.fpn.inception.repeat_1.19.branch1.2.bn.num_batches_tracked', 'module.fpn.inception.repeat_1.19.conv2d.weight', 'module.fpn.inception.repeat_1.19.conv2d.bias', 'module.fpn.inception.mixed_7a.branch0.0.conv.weight', 'module.fpn.inception.mixed_7a.branch0.0.bn.weight', 'module.fpn.inception.mixed_7a.branch0.0.bn.bias', 'module.fpn.inception.mixed_7a.branch0.0.bn.running_mean', 'module.fpn.inception.mixed_7a.branch0.0.bn.running_var', 'module.fpn.inception.mixed_7a.branch0.0.bn.num_batches_tracked', 'module.fpn.inception.mixed_7a.branch0.1.conv.weight', 'module.fpn.inception.mixed_7a.branch0.1.bn.weight', 'module.fpn.inception.mixed_7a.branch0.1.bn.bias', 'module.fpn.inception.mixed_7a.branch0.1.bn.running_mean', 'module.fpn.inception.mixed_7a.branch0.1.bn.running_var', 'module.fpn.inception.mixed_7a.branch0.1.bn.num_batches_tracked', 'module.fpn.inception.mixed_7a.branch1.0.conv.weight', 'module.fpn.inception.mixed_7a.branch1.0.bn.weight', 'module.fpn.inception.mixed_7a.branch1.0.bn.bias', 'module.fpn.inception.mixed_7a.branch1.0.bn.running_mean', 'module.fpn.inception.mixed_7a.branch1.0.bn.running_var', 'module.fpn.inception.mixed_7a.branch1.0.bn.num_batches_tracked', 'module.fpn.inception.mixed_7a.branch1.1.conv.weight', 'module.fpn.inception.mixed_7a.branch1.1.bn.weight', 'module.fpn.inception.mixed_7a.branch1.1.bn.bias', 'module.fpn.inception.mixed_7a.branch1.1.bn.running_mean', 'module.fpn.inception.mixed_7a.branch1.1.bn.running_var', 'module.fpn.inception.mixed_7a.branch1.1.bn.num_batches_tracked', 'module.fpn.inception.mixed_7a.branch2.0.conv.weight', 'module.fpn.inception.mixed_7a.branch2.0.bn.weight', 'module.fpn.inception.mixed_7a.branch2.0.bn.bias', 'module.fpn.inception.mixed_7a.branch2.0.bn.running_mean', 'module.fpn.inception.mixed_7a.branch2.0.bn.running_var', 'module.fpn.inception.mixed_7a.branch2.0.bn.num_batches_tracked', 'module.fpn.inception.mixed_7a.branch2.1.conv.weight', 'module.fpn.inception.mixed_7a.branch2.1.bn.weight', 'module.fpn.inception.mixed_7a.branch2.1.bn.bias', 'module.fpn.inception.mixed_7a.branch2.1.bn.running_mean', 'module.fpn.inception.mixed_7a.branch2.1.bn.running_var', 'module.fpn.inception.mixed_7a.branch2.1.bn.num_batches_tracked', 'module.fpn.inception.mixed_7a.branch2.2.conv.weight', 'module.fpn.inception.mixed_7a.branch2.2.bn.weight', 'module.fpn.inception.mixed_7a.branch2.2.bn.bias', 'module.fpn.inception.mixed_7a.branch2.2.bn.running_mean', 'module.fpn.inception.mixed_7a.branch2.2.bn.running_var', 'module.fpn.inception.mixed_7a.branch2.2.bn.num_batches_tracked', 'module.fpn.inception.repeat_2.0.branch0.conv.weight', 'module.fpn.inception.repeat_2.0.branch0.bn.weight', 'module.fpn.inception.repeat_2.0.branch0.bn.bias', 'module.fpn.inception.repeat_2.0.branch0.bn.running_mean', 'module.fpn.inception.repeat_2.0.branch0.bn.running_var', 'module.fpn.inception.repeat_2.0.branch0.bn.num_batches_tracked', 'module.fpn.inception.repeat_2.0.branch1.0.conv.weight', 'module.fpn.inception.repeat_2.0.branch1.0.bn.weight', 'module.fpn.inception.repeat_2.0.branch1.0.bn.bias', 'module.fpn.inception.repeat_2.0.branch1.0.bn.running_mean', 'module.fpn.inception.repeat_2.0.branch1.0.bn.running_var', 'module.fpn.inception.repeat_2.0.branch1.0.bn.num_batches_tracked', 'module.fpn.inception.repeat_2.0.branch1.1.conv.weight', 'module.fpn.inception.repeat_2.0.branch1.1.bn.weight', 'module.fpn.inception.repeat_2.0.branch1.1.bn.bias', 'module.fpn.inception.repeat_2.0.branch1.1.bn.running_mean', 'module.fpn.inception.repeat_2.0.branch1.1.bn.running_var', 'module.fpn.inception.repeat_2.0.branch1.1.bn.num_batches_tracked', 'module.fpn.inception.repeat_2.0.branch1.2.conv.weight', 'module.fpn.inception.repeat_2.0.branch1.2.bn.weight', 'module.fpn.inception.repeat_2.0.branch1.2.bn.bias', 'module.fpn.inception.repeat_2.0.branch1.2.bn.running_mean', 'module.fpn.inception.repeat_2.0.branch1.2.bn.running_var', 'module.fpn.inception.repeat_2.0.branch1.2.bn.num_batches_tracked', 'module.fpn.inception.repeat_2.0.conv2d.weight', 'module.fpn.inception.repeat_2.0.conv2d.bias', 'module.fpn.inception.repeat_2.1.branch0.conv.weight', 'module.fpn.inception.repeat_2.1.branch0.bn.weight', 'module.fpn.inception.repeat_2.1.branch0.bn.bias', 'module.fpn.inception.repeat_2.1.branch0.bn.running_mean', 'module.fpn.inception.repeat_2.1.branch0.bn.running_var', 'module.fpn.inception.repeat_2.1.branch0.bn.num_batches_tracked', 'module.fpn.inception.repeat_2.1.branch1.0.conv.weight', 'module.fpn.inception.repeat_2.1.branch1.0.bn.weight', 'module.fpn.inception.repeat_2.1.branch1.0.bn.bias', 'module.fpn.inception.repeat_2.1.branch1.0.bn.running_mean', 'module.fpn.inception.repeat_2.1.branch1.0.bn.running_var', 'module.fpn.inception.repeat_2.1.branch1.0.bn.num_batches_tracked', 'module.fpn.inception.repeat_2.1.branch1.1.conv.weight', 'module.fpn.inception.repeat_2.1.branch1.1.bn.weight', 'module.fpn.inception.repeat_2.1.branch1.1.bn.bias', 'module.fpn.inception.repeat_2.1.branch1.1.bn.running_mean', 'module.fpn.inception.repeat_2.1.branch1.1.bn.running_var', 'module.fpn.inception.repeat_2.1.branch1.1.bn.num_batches_tracked', 'module.fpn.inception.repeat_2.1.branch1.2.conv.weight', 'module.fpn.inception.repeat_2.1.branch1.2.bn.weight', 'module.fpn.inception.repeat_2.1.branch1.2.bn.bias', 'module.fpn.inception.repeat_2.1.branch1.2.bn.running_mean', 'module.fpn.inception.repeat_2.1.branch1.2.bn.running_var', 'module.fpn.inception.repeat_2.1.branch1.2.bn.num_batches_tracked', 'module.fpn.inception.repeat_2.1.conv2d.weight', 'module.fpn.inception.repeat_2.1.conv2d.bias', 'module.fpn.inception.repeat_2.2.branch0.conv.weight', 'module.fpn.inception.repeat_2.2.branch0.bn.weight', 'module.fpn.inception.repeat_2.2.branch0.bn.bias', 'module.fpn.inception.repeat_2.2.branch0.bn.running_mean', 'module.fpn.inception.repeat_2.2.branch0.bn.running_var', 'module.fpn.inception.repeat_2.2.branch0.bn.num_batches_tracked', 'module.fpn.inception.repeat_2.2.branch1.0.conv.weight', 'module.fpn.inception.repeat_2.2.branch1.0.bn.weight', 'module.fpn.inception.repeat_2.2.branch1.0.bn.bias', 'module.fpn.inception.repeat_2.2.branch1.0.bn.running_mean', 'module.fpn.inception.repeat_2.2.branch1.0.bn.running_var', 'module.fpn.inception.repeat_2.2.branch1.0.bn.num_batches_tracked', 'module.fpn.inception.repeat_2.2.branch1.1.conv.weight', 'module.fpn.inception.repeat_2.2.branch1.1.bn.weight', 'module.fpn.inception.repeat_2.2.branch1.1.bn.bias', 'module.fpn.inception.repeat_2.2.branch1.1.bn.running_mean', 'module.fpn.inception.repeat_2.2.branch1.1.bn.running_var', 'module.fpn.inception.repeat_2.2.branch1.1.bn.num_batches_tracked', 'module.fpn.inception.repeat_2.2.branch1.2.conv.weight', 'module.fpn.inception.repeat_2.2.branch1.2.bn.weight', 'module.fpn.inception.repeat_2.2.branch1.2.bn.bias', 'module.fpn.inception.repeat_2.2.branch1.2.bn.running_mean', 'module.fpn.inception.repeat_2.2.branch1.2.bn.running_var', 'module.fpn.inception.repeat_2.2.branch1.2.bn.num_batches_tracked', 'module.fpn.inception.repeat_2.2.conv2d.weight', 'module.fpn.inception.repeat_2.2.conv2d.bias', 'module.fpn.inception.repeat_2.3.branch0.conv.weight', 'module.fpn.inception.repeat_2.3.branch0.bn.weight', 'module.fpn.inception.repeat_2.3.branch0.bn.bias', 'module.fpn.inception.repeat_2.3.branch0.bn.running_mean', 'module.fpn.inception.repeat_2.3.branch0.bn.running_var', 'module.fpn.inception.repeat_2.3.branch0.bn.num_batches_tracked', 'module.fpn.inception.repeat_2.3.branch1.0.conv.weight', 'module.fpn.inception.repeat_2.3.branch1.0.bn.weight', 'module.fpn.inception.repeat_2.3.branch1.0.bn.bias', 'module.fpn.inception.repeat_2.3.branch1.0.bn.running_mean', 'module.fpn.inception.repeat_2.3.branch1.0.bn.running_var', 'module.fpn.inception.repeat_2.3.branch1.0.bn.num_batches_tracked', 'module.fpn.inception.repeat_2.3.branch1.1.conv.weight', 'module.fpn.inception.repeat_2.3.branch1.1.bn.weight', 'module.fpn.inception.repeat_2.3.branch1.1.bn.bias', 'module.fpn.inception.repeat_2.3.branch1.1.bn.running_mean', 'module.fpn.inception.repeat_2.3.branch1.1.bn.running_var', 'module.fpn.inception.repeat_2.3.branch1.1.bn.num_batches_tracked', 'module.fpn.inception.repeat_2.3.branch1.2.conv.weight', 'module.fpn.inception.repeat_2.3.branch1.2.bn.weight', 'module.fpn.inception.repeat_2.3.branch1.2.bn.bias', 'module.fpn.inception.repeat_2.3.branch1.2.bn.running_mean', 'module.fpn.inception.repeat_2.3.branch1.2.bn.running_var', 'module.fpn.inception.repeat_2.3.branch1.2.bn.num_batches_tracked', 'module.fpn.inception.repeat_2.3.conv2d.weight', 'module.fpn.inception.repeat_2.3.conv2d.bias', 'module.fpn.inception.repeat_2.4.branch0.conv.weight', 'module.fpn.inception.repeat_2.4.branch0.bn.weight', 'module.fpn.inception.repeat_2.4.branch0.bn.bias', 'module.fpn.inception.repeat_2.4.branch0.bn.running_mean', 'module.fpn.inception.repeat_2.4.branch0.bn.running_var', 'module.fpn.inception.repeat_2.4.branch0.bn.num_batches_tracked', 'module.fpn.inception.repeat_2.4.branch1.0.conv.weight', 'module.fpn.inception.repeat_2.4.branch1.0.bn.weight', 'module.fpn.inception.repeat_2.4.branch1.0.bn.bias', 'module.fpn.inception.repeat_2.4.branch1.0.bn.running_mean', 'module.fpn.inception.repeat_2.4.branch1.0.bn.running_var', 'module.fpn.inception.repeat_2.4.branch1.0.bn.num_batches_tracked', 'module.fpn.inception.repeat_2.4.branch1.1.conv.weight', 'module.fpn.inception.repeat_2.4.branch1.1.bn.weight', 'module.fpn.inception.repeat_2.4.branch1.1.bn.bias', 'module.fpn.inception.repeat_2.4.branch1.1.bn.running_mean', 'module.fpn.inception.repeat_2.4.branch1.1.bn.running_var', 'module.fpn.inception.repeat_2.4.branch1.1.bn.num_batches_tracked', 'module.fpn.inception.repeat_2.4.branch1.2.conv.weight', 'module.fpn.inception.repeat_2.4.branch1.2.bn.weight', 'module.fpn.inception.repeat_2.4.branch1.2.bn.bias', 'module.fpn.inception.repeat_2.4.branch1.2.bn.running_mean', 'module.fpn.inception.repeat_2.4.branch1.2.bn.running_var', 'module.fpn.inception.repeat_2.4.branch1.2.bn.num_batches_tracked', 'module.fpn.inception.repeat_2.4.conv2d.weight', 'module.fpn.inception.repeat_2.4.conv2d.bias', 'module.fpn.inception.repeat_2.5.branch0.conv.weight', 'module.fpn.inception.repeat_2.5.branch0.bn.weight', 'module.fpn.inception.repeat_2.5.branch0.bn.bias', 'module.fpn.inception.repeat_2.5.branch0.bn.running_mean', 'module.fpn.inception.repeat_2.5.branch0.bn.running_var', 'module.fpn.inception.repeat_2.5.branch0.bn.num_batches_tracked', 'module.fpn.inception.repeat_2.5.branch1.0.conv.weight', 'module.fpn.inception.repeat_2.5.branch1.0.bn.weight', 'module.fpn.inception.repeat_2.5.branch1.0.bn.bias', 'module.fpn.inception.repeat_2.5.branch1.0.bn.running_mean', 'module.fpn.inception.repeat_2.5.branch1.0.bn.running_var', 'module.fpn.inception.repeat_2.5.branch1.0.bn.num_batches_tracked', 'module.fpn.inception.repeat_2.5.branch1.1.conv.weight', 'module.fpn.inception.repeat_2.5.branch1.1.bn.weight', 'module.fpn.inception.repeat_2.5.branch1.1.bn.bias', 'module.fpn.inception.repeat_2.5.branch1.1.bn.running_mean', 'module.fpn.inception.repeat_2.5.branch1.1.bn.running_var', 'module.fpn.inception.repeat_2.5.branch1.1.bn.num_batches_tracked', 'module.fpn.inception.repeat_2.5.branch1.2.conv.weight', 'module.fpn.inception.repeat_2.5.branch1.2.bn.weight', 'module.fpn.inception.repeat_2.5.branch1.2.bn.bias', 'module.fpn.inception.repeat_2.5.branch1.2.bn.running_mean', 'module.fpn.inception.repeat_2.5.branch1.2.bn.running_var', 'module.fpn.inception.repeat_2.5.branch1.2.bn.num_batches_tracked', 'module.fpn.inception.repeat_2.5.conv2d.weight', 'module.fpn.inception.repeat_2.5.conv2d.bias', 'module.fpn.inception.repeat_2.6.branch0.conv.weight', 'module.fpn.inception.repeat_2.6.branch0.bn.weight', 'module.fpn.inception.repeat_2.6.branch0.bn.bias', 'module.fpn.inception.repeat_2.6.branch0.bn.running_mean', 'module.fpn.inception.repeat_2.6.branch0.bn.running_var', 'module.fpn.inception.repeat_2.6.branch0.bn.num_batches_tracked', 'module.fpn.inception.repeat_2.6.branch1.0.conv.weight', 'module.fpn.inception.repeat_2.6.branch1.0.bn.weight', 'module.fpn.inception.repeat_2.6.branch1.0.bn.bias', 'module.fpn.inception.repeat_2.6.branch1.0.bn.running_mean', 'module.fpn.inception.repeat_2.6.branch1.0.bn.running_var', 'module.fpn.inception.repeat_2.6.branch1.0.bn.num_batches_tracked', 'module.fpn.inception.repeat_2.6.branch1.1.conv.weight', 'module.fpn.inception.repeat_2.6.branch1.1.bn.weight', 'module.fpn.inception.repeat_2.6.branch1.1.bn.bias', 'module.fpn.inception.repeat_2.6.branch1.1.bn.running_mean', 'module.fpn.inception.repeat_2.6.branch1.1.bn.running_var', 'module.fpn.inception.repeat_2.6.branch1.1.bn.num_batches_tracked', 'module.fpn.inception.repeat_2.6.branch1.2.conv.weight', 'module.fpn.inception.repeat_2.6.branch1.2.bn.weight', 'module.fpn.inception.repeat_2.6.branch1.2.bn.bias', 'module.fpn.inception.repeat_2.6.branch1.2.bn.running_mean', 'module.fpn.inception.repeat_2.6.branch1.2.bn.running_var', 'module.fpn.inception.repeat_2.6.branch1.2.bn.num_batches_tracked', 'module.fpn.inception.repeat_2.6.conv2d.weight', 'module.fpn.inception.repeat_2.6.conv2d.bias', 'module.fpn.inception.repeat_2.7.branch0.conv.weight', 'module.fpn.inception.repeat_2.7.branch0.bn.weight', 'module.fpn.inception.repeat_2.7.branch0.bn.bias', 'module.fpn.inception.repeat_2.7.branch0.bn.running_mean', 'module.fpn.inception.repeat_2.7.branch0.bn.running_var', 'module.fpn.inception.repeat_2.7.branch0.bn.num_batches_tracked', 'module.fpn.inception.repeat_2.7.branch1.0.conv.weight', 'module.fpn.inception.repeat_2.7.branch1.0.bn.weight', 'module.fpn.inception.repeat_2.7.branch1.0.bn.bias', 'module.fpn.inception.repeat_2.7.branch1.0.bn.running_mean', 'module.fpn.inception.repeat_2.7.branch1.0.bn.running_var', 'module.fpn.inception.repeat_2.7.branch1.0.bn.num_batches_tracked', 'module.fpn.inception.repeat_2.7.branch1.1.conv.weight', 'module.fpn.inception.repeat_2.7.branch1.1.bn.weight', 'module.fpn.inception.repeat_2.7.branch1.1.bn.bias', 'module.fpn.inception.repeat_2.7.branch1.1.bn.running_mean', 'module.fpn.inception.repeat_2.7.branch1.1.bn.running_var', 'module.fpn.inception.repeat_2.7.branch1.1.bn.num_batches_tracked', 'module.fpn.inception.repeat_2.7.branch1.2.conv.weight', 'module.fpn.inception.repeat_2.7.branch1.2.bn.weight', 'module.fpn.inception.repeat_2.7.branch1.2.bn.bias', 'module.fpn.inception.repeat_2.7.branch1.2.bn.running_mean', 'module.fpn.inception.repeat_2.7.branch1.2.bn.running_var', 'module.fpn.inception.repeat_2.7.branch1.2.bn.num_batches_tracked', 'module.fpn.inception.repeat_2.7.conv2d.weight', 'module.fpn.inception.repeat_2.7.conv2d.bias', 'module.fpn.inception.repeat_2.8.branch0.conv.weight', 'module.fpn.inception.repeat_2.8.branch0.bn.weight', 'module.fpn.inception.repeat_2.8.branch0.bn.bias', 'module.fpn.inception.repeat_2.8.branch0.bn.running_mean', 'module.fpn.inception.repeat_2.8.branch0.bn.running_var', 'module.fpn.inception.repeat_2.8.branch0.bn.num_batches_tracked', 'module.fpn.inception.repeat_2.8.branch1.0.conv.weight', 'module.fpn.inception.repeat_2.8.branch1.0.bn.weight', 'module.fpn.inception.repeat_2.8.branch1.0.bn.bias', 'module.fpn.inception.repeat_2.8.branch1.0.bn.running_mean', 'module.fpn.inception.repeat_2.8.branch1.0.bn.running_var', 'module.fpn.inception.repeat_2.8.branch1.0.bn.num_batches_tracked', 'module.fpn.inception.repeat_2.8.branch1.1.conv.weight', 'module.fpn.inception.repeat_2.8.branch1.1.bn.weight', 'module.fpn.inception.repeat_2.8.branch1.1.bn.bias', 'module.fpn.inception.repeat_2.8.branch1.1.bn.running_mean', 'module.fpn.inception.repeat_2.8.branch1.1.bn.running_var', 'module.fpn.inception.repeat_2.8.branch1.1.bn.num_batches_tracked', 'module.fpn.inception.repeat_2.8.branch1.2.conv.weight', 'module.fpn.inception.repeat_2.8.branch1.2.bn.weight', 'module.fpn.inception.repeat_2.8.branch1.2.bn.bias', 'module.fpn.inception.repeat_2.8.branch1.2.bn.running_mean', 'module.fpn.inception.repeat_2.8.branch1.2.bn.running_var', 'module.fpn.inception.repeat_2.8.branch1.2.bn.num_batches_tracked', 'module.fpn.inception.repeat_2.8.conv2d.weight', 'module.fpn.inception.repeat_2.8.conv2d.bias', 'module.fpn.inception.block8.branch0.conv.weight', 'module.fpn.inception.block8.branch0.bn.weight', 'module.fpn.inception.block8.branch0.bn.bias', 'module.fpn.inception.block8.branch0.bn.running_mean', 'module.fpn.inception.block8.branch0.bn.running_var', 'module.fpn.inception.block8.branch0.bn.num_batches_tracked', 'module.fpn.inception.block8.branch1.0.conv.weight', 'module.fpn.inception.block8.branch1.0.bn.weight', 'module.fpn.inception.block8.branch1.0.bn.bias', 'module.fpn.inception.block8.branch1.0.bn.running_mean', 'module.fpn.inception.block8.branch1.0.bn.running_var', 'module.fpn.inception.block8.branch1.0.bn.num_batches_tracked', 'module.fpn.inception.block8.branch1.1.conv.weight', 'module.fpn.inception.block8.branch1.1.bn.weight', 'module.fpn.inception.block8.branch1.1.bn.bias', 'module.fpn.inception.block8.branch1.1.bn.running_mean', 'module.fpn.inception.block8.branch1.1.bn.running_var', 'module.fpn.inception.block8.branch1.1.bn.num_batches_tracked', 'module.fpn.inception.block8.branch1.2.conv.weight', 'module.fpn.inception.block8.branch1.2.bn.weight', 'module.fpn.inception.block8.branch1.2.bn.bias', 'module.fpn.inception.block8.branch1.2.bn.running_mean', 'module.fpn.inception.block8.branch1.2.bn.running_var', 'module.fpn.inception.block8.branch1.2.bn.num_batches_tracked', 'module.fpn.inception.block8.conv2d.weight', 'module.fpn.inception.block8.conv2d.bias', 'module.fpn.inception.conv2d_7b.conv.weight', 'module.fpn.inception.conv2d_7b.bn.weight', 'module.fpn.inception.conv2d_7b.bn.bias', 'module.fpn.inception.conv2d_7b.bn.running_mean', 'module.fpn.inception.conv2d_7b.bn.running_var', 'module.fpn.inception.conv2d_7b.bn.num_batches_tracked', 'module.fpn.inception.last_linear.weight', 'module.fpn.inception.last_linear.bias', 'module.fpn.enc0.conv.weight', 'module.fpn.enc0.bn.weight', 'module.fpn.enc0.bn.bias', 'module.fpn.enc0.bn.running_mean', 'module.fpn.enc0.bn.running_var', 'module.fpn.enc0.bn.num_batches_tracked', 'module.fpn.enc1.0.conv.weight', 'module.fpn.enc1.0.bn.weight', 'module.fpn.enc1.0.bn.bias', 'module.fpn.enc1.0.bn.running_mean', 'module.fpn.enc1.0.bn.running_var', 'module.fpn.enc1.0.bn.num_batches_tracked', 'module.fpn.enc1.1.conv.weight', 'module.fpn.enc1.1.bn.weight', 'module.fpn.enc1.1.bn.bias', 'module.fpn.enc1.1.bn.running_mean', 'module.fpn.enc1.1.bn.running_var', 'module.fpn.enc1.1.bn.num_batches_tracked', 'module.fpn.enc2.0.conv.weight', 'module.fpn.enc2.0.bn.weight', 'module.fpn.enc2.0.bn.bias', 'module.fpn.enc2.0.bn.running_mean', 'module.fpn.enc2.0.bn.running_var', 'module.fpn.enc2.0.bn.num_batches_tracked', 'module.fpn.enc2.1.conv.weight', 'module.fpn.enc2.1.bn.weight', 'module.fpn.enc2.1.bn.bias', 'module.fpn.enc2.1.bn.running_mean', 'module.fpn.enc2.1.bn.running_var', 'module.fpn.enc2.1.bn.num_batches_tracked', 'module.fpn.enc3.0.branch0.conv.weight', 'module.fpn.enc3.0.branch0.bn.weight', 'module.fpn.enc3.0.branch0.bn.bias', 'module.fpn.enc3.0.branch0.bn.running_mean', 'module.fpn.enc3.0.branch0.bn.running_var', 'module.fpn.enc3.0.branch0.bn.num_batches_tracked', 'module.fpn.enc3.0.branch1.0.conv.weight', 'module.fpn.enc3.0.branch1.0.bn.weight', 'module.fpn.enc3.0.branch1.0.bn.bias', 'module.fpn.enc3.0.branch1.0.bn.running_mean', 'module.fpn.enc3.0.branch1.0.bn.running_var', 'module.fpn.enc3.0.branch1.0.bn.num_batches_tracked', 'module.fpn.enc3.0.branch1.1.conv.weight', 'module.fpn.enc3.0.branch1.1.bn.weight', 'module.fpn.enc3.0.branch1.1.bn.bias', 'module.fpn.enc3.0.branch1.1.bn.running_mean', 'module.fpn.enc3.0.branch1.1.bn.running_var', 'module.fpn.enc3.0.branch1.1.bn.num_batches_tracked', 'module.fpn.enc3.0.branch2.0.conv.weight', 'module.fpn.enc3.0.branch2.0.bn.weight', 'module.fpn.enc3.0.branch2.0.bn.bias', 'module.fpn.enc3.0.branch2.0.bn.running_mean', 'module.fpn.enc3.0.branch2.0.bn.running_var', 'module.fpn.enc3.0.branch2.0.bn.num_batches_tracked', 'module.fpn.enc3.0.branch2.1.conv.weight', 'module.fpn.enc3.0.branch2.1.bn.weight', 'module.fpn.enc3.0.branch2.1.bn.bias', 'module.fpn.enc3.0.branch2.1.bn.running_mean', 'module.fpn.enc3.0.branch2.1.bn.running_var', 'module.fpn.enc3.0.branch2.1.bn.num_batches_tracked', 'module.fpn.enc3.0.branch2.2.conv.weight', 'module.fpn.enc3.0.branch2.2.bn.weight', 'module.fpn.enc3.0.branch2.2.bn.bias', 'module.fpn.enc3.0.branch2.2.bn.running_mean', 'module.fpn.enc3.0.branch2.2.bn.running_var', 'module.fpn.enc3.0.branch2.2.bn.num_batches_tracked', 'module.fpn.enc3.0.branch3.1.conv.weight', 'module.fpn.enc3.0.branch3.1.bn.weight', 'module.fpn.enc3.0.branch3.1.bn.bias', 'module.fpn.enc3.0.branch3.1.bn.running_mean', 'module.fpn.enc3.0.branch3.1.bn.running_var', 'module.fpn.enc3.0.branch3.1.bn.num_batches_tracked', 'module.fpn.enc3.1.0.branch0.conv.weight', 'module.fpn.enc3.1.0.branch0.bn.weight', 'module.fpn.enc3.1.0.branch0.bn.bias', 'module.fpn.enc3.1.0.branch0.bn.running_mean', 'module.fpn.enc3.1.0.branch0.bn.running_var', 'module.fpn.enc3.1.0.branch0.bn.num_batches_tracked', 'module.fpn.enc3.1.0.branch1.0.conv.weight', 'module.fpn.enc3.1.0.branch1.0.bn.weight', 'module.fpn.enc3.1.0.branch1.0.bn.bias', 'module.fpn.enc3.1.0.branch1.0.bn.running_mean', 'module.fpn.enc3.1.0.branch1.0.bn.running_var', 'module.fpn.enc3.1.0.branch1.0.bn.num_batches_tracked', 'module.fpn.enc3.1.0.branch1.1.conv.weight', 'module.fpn.enc3.1.0.branch1.1.bn.weight', 'module.fpn.enc3.1.0.branch1.1.bn.bias', 'module.fpn.enc3.1.0.branch1.1.bn.running_mean', 'module.fpn.enc3.1.0.branch1.1.bn.running_var', 'module.fpn.enc3.1.0.branch1.1.bn.num_batches_tracked', 'module.fpn.enc3.1.0.branch2.0.conv.weight', 'module.fpn.enc3.1.0.branch2.0.bn.weight', 'module.fpn.enc3.1.0.branch2.0.bn.bias', 'module.fpn.enc3.1.0.branch2.0.bn.running_mean', 'module.fpn.enc3.1.0.branch2.0.bn.running_var', 'module.fpn.enc3.1.0.branch2.0.bn.num_batches_tracked', 'module.fpn.enc3.1.0.branch2.1.conv.weight', 'module.fpn.enc3.1.0.branch2.1.bn.weight', 'module.fpn.enc3.1.0.branch2.1.bn.bias', 'module.fpn.enc3.1.0.branch2.1.bn.running_mean', 'module.fpn.enc3.1.0.branch2.1.bn.running_var', 'module.fpn.enc3.1.0.branch2.1.bn.num_batches_tracked', 'module.fpn.enc3.1.0.branch2.2.conv.weight', 'module.fpn.enc3.1.0.branch2.2.bn.weight', 'module.fpn.enc3.1.0.branch2.2.bn.bias', 'module.fpn.enc3.1.0.branch2.2.bn.running_mean', 'module.fpn.enc3.1.0.branch2.2.bn.running_var', 'module.fpn.enc3.1.0.branch2.2.bn.num_batches_tracked', 'module.fpn.enc3.1.0.conv2d.weight', 'module.fpn.enc3.1.0.conv2d.bias', 'module.fpn.enc3.1.1.branch0.conv.weight', 'module.fpn.enc3.1.1.branch0.bn.weight', 'module.fpn.enc3.1.1.branch0.bn.bias', 'module.fpn.enc3.1.1.branch0.bn.running_mean', 'module.fpn.enc3.1.1.branch0.bn.running_var', 'module.fpn.enc3.1.1.branch0.bn.num_batches_tracked', 'module.fpn.enc3.1.1.branch1.0.conv.weight', 'module.fpn.enc3.1.1.branch1.0.bn.weight', 'module.fpn.enc3.1.1.branch1.0.bn.bias', 'module.fpn.enc3.1.1.branch1.0.bn.running_mean', 'module.fpn.enc3.1.1.branch1.0.bn.running_var', 'module.fpn.enc3.1.1.branch1.0.bn.num_batches_tracked', 'module.fpn.enc3.1.1.branch1.1.conv.weight', 'module.fpn.enc3.1.1.branch1.1.bn.weight', 'module.fpn.enc3.1.1.branch1.1.bn.bias', 'module.fpn.enc3.1.1.branch1.1.bn.running_mean', 'module.fpn.enc3.1.1.branch1.1.bn.running_var', 'module.fpn.enc3.1.1.branch1.1.bn.num_batches_tracked', 'module.fpn.enc3.1.1.branch2.0.conv.weight', 'module.fpn.enc3.1.1.branch2.0.bn.weight', 'module.fpn.enc3.1.1.branch2.0.bn.bias', 'module.fpn.enc3.1.1.branch2.0.bn.running_mean', 'module.fpn.enc3.1.1.branch2.0.bn.running_var', 'module.fpn.enc3.1.1.branch2.0.bn.num_batches_tracked', 'module.fpn.enc3.1.1.branch2.1.conv.weight', 'module.fpn.enc3.1.1.branch2.1.bn.weight', 'module.fpn.enc3.1.1.branch2.1.bn.bias', 'module.fpn.enc3.1.1.branch2.1.bn.running_mean', 'module.fpn.enc3.1.1.branch2.1.bn.running_var', 'module.fpn.enc3.1.1.branch2.1.bn.num_batches_tracked', 'module.fpn.enc3.1.1.branch2.2.conv.weight', 'module.fpn.enc3.1.1.branch2.2.bn.weight', 'module.fpn.enc3.1.1.branch2.2.bn.bias', 'module.fpn.enc3.1.1.branch2.2.bn.running_mean', 'module.fpn.enc3.1.1.branch2.2.bn.running_var', 'module.fpn.enc3.1.1.branch2.2.bn.num_batches_tracked', 'module.fpn.enc3.1.1.conv2d.weight', 'module.fpn.enc3.1.1.conv2d.bias', 'module.fpn.enc3.1.2.branch0.conv.weight', 'module.fpn.enc3.1.2.branch0.bn.weight', 'module.fpn.enc3.1.2.branch0.bn.bias', 'module.fpn.enc3.1.2.branch0.bn.running_mean', 'module.fpn.enc3.1.2.branch0.bn.running_var', 'module.fpn.enc3.1.2.branch0.bn.num_batches_tracked', 'module.fpn.enc3.1.2.branch1.0.conv.weight', 'module.fpn.enc3.1.2.branch1.0.bn.weight', 'module.fpn.enc3.1.2.branch1.0.bn.bias', 'module.fpn.enc3.1.2.branch1.0.bn.running_mean', 'module.fpn.enc3.1.2.branch1.0.bn.running_var', 'module.fpn.enc3.1.2.branch1.0.bn.num_batches_tracked', 'module.fpn.enc3.1.2.branch1.1.conv.weight', 'module.fpn.enc3.1.2.branch1.1.bn.weight', 'module.fpn.enc3.1.2.branch1.1.bn.bias', 'module.fpn.enc3.1.2.branch1.1.bn.running_mean', 'module.fpn.enc3.1.2.branch1.1.bn.running_var', 'module.fpn.enc3.1.2.branch1.1.bn.num_batches_tracked', 'module.fpn.enc3.1.2.branch2.0.conv.weight', 'module.fpn.enc3.1.2.branch2.0.bn.weight', 'module.fpn.enc3.1.2.branch2.0.bn.bias', 'module.fpn.enc3.1.2.branch2.0.bn.running_mean', 'module.fpn.enc3.1.2.branch2.0.bn.running_var', 'module.fpn.enc3.1.2.branch2.0.bn.num_batches_tracked', 'module.fpn.enc3.1.2.branch2.1.conv.weight', 'module.fpn.enc3.1.2.branch2.1.bn.weight', 'module.fpn.enc3.1.2.branch2.1.bn.bias', 'module.fpn.enc3.1.2.branch2.1.bn.running_mean', 'module.fpn.enc3.1.2.branch2.1.bn.running_var', 'module.fpn.enc3.1.2.branch2.1.bn.num_batches_tracked', 'module.fpn.enc3.1.2.branch2.2.conv.weight', 'module.fpn.enc3.1.2.branch2.2.bn.weight', 'module.fpn.enc3.1.2.branch2.2.bn.bias', 'module.fpn.enc3.1.2.branch2.2.bn.running_mean', 'module.fpn.enc3.1.2.branch2.2.bn.running_var', 'module.fpn.enc3.1.2.branch2.2.bn.num_batches_tracked', 'module.fpn.enc3.1.2.conv2d.weight', 'module.fpn.enc3.1.2.conv2d.bias', 'module.fpn.enc3.1.3.branch0.conv.weight', 'module.fpn.enc3.1.3.branch0.bn.weight', 'module.fpn.enc3.1.3.branch0.bn.bias', 'module.fpn.enc3.1.3.branch0.bn.running_mean', 'module.fpn.enc3.1.3.branch0.bn.running_var', 'module.fpn.enc3.1.3.branch0.bn.num_batches_tracked', 'module.fpn.enc3.1.3.branch1.0.conv.weight', 'module.fpn.enc3.1.3.branch1.0.bn.weight', 'module.fpn.enc3.1.3.branch1.0.bn.bias', 'module.fpn.enc3.1.3.branch1.0.bn.running_mean', 'module.fpn.enc3.1.3.branch1.0.bn.running_var', 'module.fpn.enc3.1.3.branch1.0.bn.num_batches_tracked', 'module.fpn.enc3.1.3.branch1.1.conv.weight', 'module.fpn.enc3.1.3.branch1.1.bn.weight', 'module.fpn.enc3.1.3.branch1.1.bn.bias', 'module.fpn.enc3.1.3.branch1.1.bn.running_mean', 'module.fpn.enc3.1.3.branch1.1.bn.running_var', 'module.fpn.enc3.1.3.branch1.1.bn.num_batches_tracked', 'module.fpn.enc3.1.3.branch2.0.conv.weight', 'module.fpn.enc3.1.3.branch2.0.bn.weight', 'module.fpn.enc3.1.3.branch2.0.bn.bias', 'module.fpn.enc3.1.3.branch2.0.bn.running_mean', 'module.fpn.enc3.1.3.branch2.0.bn.running_var', 'module.fpn.enc3.1.3.branch2.0.bn.num_batches_tracked', 'module.fpn.enc3.1.3.branch2.1.conv.weight', 'module.fpn.enc3.1.3.branch2.1.bn.weight', 'module.fpn.enc3.1.3.branch2.1.bn.bias', 'module.fpn.enc3.1.3.branch2.1.bn.running_mean', 'module.fpn.enc3.1.3.branch2.1.bn.running_var', 'module.fpn.enc3.1.3.branch2.1.bn.num_batches_tracked', 'module.fpn.enc3.1.3.branch2.2.conv.weight', 'module.fpn.enc3.1.3.branch2.2.bn.weight', 'module.fpn.enc3.1.3.branch2.2.bn.bias', 'module.fpn.enc3.1.3.branch2.2.bn.running_mean', 'module.fpn.enc3.1.3.branch2.2.bn.running_var', 'module.fpn.enc3.1.3.branch2.2.bn.num_batches_tracked', 'module.fpn.enc3.1.3.conv2d.weight', 'module.fpn.enc3.1.3.conv2d.bias', 'module.fpn.enc3.1.4.branch0.conv.weight', 'module.fpn.enc3.1.4.branch0.bn.weight', 'module.fpn.enc3.1.4.branch0.bn.bias', 'module.fpn.enc3.1.4.branch0.bn.running_mean', 'module.fpn.enc3.1.4.branch0.bn.running_var', 'module.fpn.enc3.1.4.branch0.bn.num_batches_tracked', 'module.fpn.enc3.1.4.branch1.0.conv.weight', 'module.fpn.enc3.1.4.branch1.0.bn.weight', 'module.fpn.enc3.1.4.branch1.0.bn.bias', 'module.fpn.enc3.1.4.branch1.0.bn.running_mean', 'module.fpn.enc3.1.4.branch1.0.bn.running_var', 'module.fpn.enc3.1.4.branch1.0.bn.num_batches_tracked', 'module.fpn.enc3.1.4.branch1.1.conv.weight', 'module.fpn.enc3.1.4.branch1.1.bn.weight', 'module.fpn.enc3.1.4.branch1.1.bn.bias', 'module.fpn.enc3.1.4.branch1.1.bn.running_mean', 'module.fpn.enc3.1.4.branch1.1.bn.running_var', 'module.fpn.enc3.1.4.branch1.1.bn.num_batches_tracked', 'module.fpn.enc3.1.4.branch2.0.conv.weight', 'module.fpn.enc3.1.4.branch2.0.bn.weight', 'module.fpn.enc3.1.4.branch2.0.bn.bias', 'module.fpn.enc3.1.4.branch2.0.bn.running_mean', 'module.fpn.enc3.1.4.branch2.0.bn.running_var', 'module.fpn.enc3.1.4.branch2.0.bn.num_batches_tracked', 'module.fpn.enc3.1.4.branch2.1.conv.weight', 'module.fpn.enc3.1.4.branch2.1.bn.weight', 'module.fpn.enc3.1.4.branch2.1.bn.bias', 'module.fpn.enc3.1.4.branch2.1.bn.running_mean', 'module.fpn.enc3.1.4.branch2.1.bn.running_var', 'module.fpn.enc3.1.4.branch2.1.bn.num_batches_tracked', 'module.fpn.enc3.1.4.branch2.2.conv.weight', 'module.fpn.enc3.1.4.branch2.2.bn.weight', 'module.fpn.enc3.1.4.branch2.2.bn.bias', 'module.fpn.enc3.1.4.branch2.2.bn.running_mean', 'module.fpn.enc3.1.4.branch2.2.bn.running_var', 'module.fpn.enc3.1.4.branch2.2.bn.num_batches_tracked', 'module.fpn.enc3.1.4.conv2d.weight', 'module.fpn.enc3.1.4.conv2d.bias', 'module.fpn.enc3.1.5.branch0.conv.weight', 'module.fpn.enc3.1.5.branch0.bn.weight', 'module.fpn.enc3.1.5.branch0.bn.bias', 'module.fpn.enc3.1.5.branch0.bn.running_mean', 'module.fpn.enc3.1.5.branch0.bn.running_var', 'module.fpn.enc3.1.5.branch0.bn.num_batches_tracked', 'module.fpn.enc3.1.5.branch1.0.conv.weight', 'module.fpn.enc3.1.5.branch1.0.bn.weight', 'module.fpn.enc3.1.5.branch1.0.bn.bias', 'module.fpn.enc3.1.5.branch1.0.bn.running_mean', 'module.fpn.enc3.1.5.branch1.0.bn.running_var', 'module.fpn.enc3.1.5.branch1.0.bn.num_batches_tracked', 'module.fpn.enc3.1.5.branch1.1.conv.weight', 'module.fpn.enc3.1.5.branch1.1.bn.weight', 'module.fpn.enc3.1.5.branch1.1.bn.bias', 'module.fpn.enc3.1.5.branch1.1.bn.running_mean', 'module.fpn.enc3.1.5.branch1.1.bn.running_var', 'module.fpn.enc3.1.5.branch1.1.bn.num_batches_tracked', 'module.fpn.enc3.1.5.branch2.0.conv.weight', 'module.fpn.enc3.1.5.branch2.0.bn.weight', 'module.fpn.enc3.1.5.branch2.0.bn.bias', 'module.fpn.enc3.1.5.branch2.0.bn.running_mean', 'module.fpn.enc3.1.5.branch2.0.bn.running_var', 'module.fpn.enc3.1.5.branch2.0.bn.num_batches_tracked', 'module.fpn.enc3.1.5.branch2.1.conv.weight', 'module.fpn.enc3.1.5.branch2.1.bn.weight', 'module.fpn.enc3.1.5.branch2.1.bn.bias', 'module.fpn.enc3.1.5.branch2.1.bn.running_mean', 'module.fpn.enc3.1.5.branch2.1.bn.running_var', 'module.fpn.enc3.1.5.branch2.1.bn.num_batches_tracked', 'module.fpn.enc3.1.5.branch2.2.conv.weight', 'module.fpn.enc3.1.5.branch2.2.bn.weight', 'module.fpn.enc3.1.5.branch2.2.bn.bias', 'module.fpn.enc3.1.5.branch2.2.bn.running_mean', 'module.fpn.enc3.1.5.branch2.2.bn.running_var', 'module.fpn.enc3.1.5.branch2.2.bn.num_batches_tracked', 'module.fpn.enc3.1.5.conv2d.weight', 'module.fpn.enc3.1.5.conv2d.bias', 'module.fpn.enc3.1.6.branch0.conv.weight', 'module.fpn.enc3.1.6.branch0.bn.weight', 'module.fpn.enc3.1.6.branch0.bn.bias', 'module.fpn.enc3.1.6.branch0.bn.running_mean', 'module.fpn.enc3.1.6.branch0.bn.running_var', 'module.fpn.enc3.1.6.branch0.bn.num_batches_tracked', 'module.fpn.enc3.1.6.branch1.0.conv.weight', 'module.fpn.enc3.1.6.branch1.0.bn.weight', 'module.fpn.enc3.1.6.branch1.0.bn.bias', 'module.fpn.enc3.1.6.branch1.0.bn.running_mean', 'module.fpn.enc3.1.6.branch1.0.bn.running_var', 'module.fpn.enc3.1.6.branch1.0.bn.num_batches_tracked', 'module.fpn.enc3.1.6.branch1.1.conv.weight', 'module.fpn.enc3.1.6.branch1.1.bn.weight', 'module.fpn.enc3.1.6.branch1.1.bn.bias', 'module.fpn.enc3.1.6.branch1.1.bn.running_mean', 'module.fpn.enc3.1.6.branch1.1.bn.running_var', 'module.fpn.enc3.1.6.branch1.1.bn.num_batches_tracked', 'module.fpn.enc3.1.6.branch2.0.conv.weight', 'module.fpn.enc3.1.6.branch2.0.bn.weight', 'module.fpn.enc3.1.6.branch2.0.bn.bias', 'module.fpn.enc3.1.6.branch2.0.bn.running_mean', 'module.fpn.enc3.1.6.branch2.0.bn.running_var', 'module.fpn.enc3.1.6.branch2.0.bn.num_batches_tracked', 'module.fpn.enc3.1.6.branch2.1.conv.weight', 'module.fpn.enc3.1.6.branch2.1.bn.weight', 'module.fpn.enc3.1.6.branch2.1.bn.bias', 'module.fpn.enc3.1.6.branch2.1.bn.running_mean', 'module.fpn.enc3.1.6.branch2.1.bn.running_var', 'module.fpn.enc3.1.6.branch2.1.bn.num_batches_tracked', 'module.fpn.enc3.1.6.branch2.2.conv.weight', 'module.fpn.enc3.1.6.branch2.2.bn.weight', 'module.fpn.enc3.1.6.branch2.2.bn.bias', 'module.fpn.enc3.1.6.branch2.2.bn.running_mean', 'module.fpn.enc3.1.6.branch2.2.bn.running_var', 'module.fpn.enc3.1.6.branch2.2.bn.num_batches_tracked', 'module.fpn.enc3.1.6.conv2d.weight', 'module.fpn.enc3.1.6.conv2d.bias', 'module.fpn.enc3.1.7.branch0.conv.weight', 'module.fpn.enc3.1.7.branch0.bn.weight', 'module.fpn.enc3.1.7.branch0.bn.bias', 'module.fpn.enc3.1.7.branch0.bn.running_mean', 'module.fpn.enc3.1.7.branch0.bn.running_var', 'module.fpn.enc3.1.7.branch0.bn.num_batches_tracked', 'module.fpn.enc3.1.7.branch1.0.conv.weight', 'module.fpn.enc3.1.7.branch1.0.bn.weight', 'module.fpn.enc3.1.7.branch1.0.bn.bias', 'module.fpn.enc3.1.7.branch1.0.bn.running_mean', 'module.fpn.enc3.1.7.branch1.0.bn.running_var', 'module.fpn.enc3.1.7.branch1.0.bn.num_batches_tracked', 'module.fpn.enc3.1.7.branch1.1.conv.weight', 'module.fpn.enc3.1.7.branch1.1.bn.weight', 'module.fpn.enc3.1.7.branch1.1.bn.bias', 'module.fpn.enc3.1.7.branch1.1.bn.running_mean', 'module.fpn.enc3.1.7.branch1.1.bn.running_var', 'module.fpn.enc3.1.7.branch1.1.bn.num_batches_tracked', 'module.fpn.enc3.1.7.branch2.0.conv.weight', 'module.fpn.enc3.1.7.branch2.0.bn.weight', 'module.fpn.enc3.1.7.branch2.0.bn.bias', 'module.fpn.enc3.1.7.branch2.0.bn.running_mean', 'module.fpn.enc3.1.7.branch2.0.bn.running_var', 'module.fpn.enc3.1.7.branch2.0.bn.num_batches_tracked', 'module.fpn.enc3.1.7.branch2.1.conv.weight', 'module.fpn.enc3.1.7.branch2.1.bn.weight', 'module.fpn.enc3.1.7.branch2.1.bn.bias', 'module.fpn.enc3.1.7.branch2.1.bn.running_mean', 'module.fpn.enc3.1.7.branch2.1.bn.running_var', 'module.fpn.enc3.1.7.branch2.1.bn.num_batches_tracked', 'module.fpn.enc3.1.7.branch2.2.conv.weight', 'module.fpn.enc3.1.7.branch2.2.bn.weight', 'module.fpn.enc3.1.7.branch2.2.bn.bias', 'module.fpn.enc3.1.7.branch2.2.bn.running_mean', 'module.fpn.enc3.1.7.branch2.2.bn.running_var', 'module.fpn.enc3.1.7.branch2.2.bn.num_batches_tracked', 'module.fpn.enc3.1.7.conv2d.weight', 'module.fpn.enc3.1.7.conv2d.bias', 'module.fpn.enc3.1.8.branch0.conv.weight', 'module.fpn.enc3.1.8.branch0.bn.weight', 'module.fpn.enc3.1.8.branch0.bn.bias', 'module.fpn.enc3.1.8.branch0.bn.running_mean', 'module.fpn.enc3.1.8.branch0.bn.running_var', 'module.fpn.enc3.1.8.branch0.bn.num_batches_tracked', 'module.fpn.enc3.1.8.branch1.0.conv.weight', 'module.fpn.enc3.1.8.branch1.0.bn.weight', 'module.fpn.enc3.1.8.branch1.0.bn.bias', 'module.fpn.enc3.1.8.branch1.0.bn.running_mean', 'module.fpn.enc3.1.8.branch1.0.bn.running_var', 'module.fpn.enc3.1.8.branch1.0.bn.num_batches_tracked', 'module.fpn.enc3.1.8.branch1.1.conv.weight', 'module.fpn.enc3.1.8.branch1.1.bn.weight', 'module.fpn.enc3.1.8.branch1.1.bn.bias', 'module.fpn.enc3.1.8.branch1.1.bn.running_mean', 'module.fpn.enc3.1.8.branch1.1.bn.running_var', 'module.fpn.enc3.1.8.branch1.1.bn.num_batches_tracked', 'module.fpn.enc3.1.8.branch2.0.conv.weight', 'module.fpn.enc3.1.8.branch2.0.bn.weight', 'module.fpn.enc3.1.8.branch2.0.bn.bias', 'module.fpn.enc3.1.8.branch2.0.bn.running_mean', 'module.fpn.enc3.1.8.branch2.0.bn.running_var', 'module.fpn.enc3.1.8.branch2.0.bn.num_batches_tracked', 'module.fpn.enc3.1.8.branch2.1.conv.weight', 'module.fpn.enc3.1.8.branch2.1.bn.weight', 'module.fpn.enc3.1.8.branch2.1.bn.bias', 'module.fpn.enc3.1.8.branch2.1.bn.running_mean', 'module.fpn.enc3.1.8.branch2.1.bn.running_var', 'module.fpn.enc3.1.8.branch2.1.bn.num_batches_tracked', 'module.fpn.enc3.1.8.branch2.2.conv.weight', 'module.fpn.enc3.1.8.branch2.2.bn.weight', 'module.fpn.enc3.1.8.branch2.2.bn.bias', 'module.fpn.enc3.1.8.branch2.2.bn.running_mean', 'module.fpn.enc3.1.8.branch2.2.bn.running_var', 'module.fpn.enc3.1.8.branch2.2.bn.num_batches_tracked', 'module.fpn.enc3.1.8.conv2d.weight', 'module.fpn.enc3.1.8.conv2d.bias', 'module.fpn.enc3.1.9.branch0.conv.weight', 'module.fpn.enc3.1.9.branch0.bn.weight', 'module.fpn.enc3.1.9.branch0.bn.bias', 'module.fpn.enc3.1.9.branch0.bn.running_mean', 'module.fpn.enc3.1.9.branch0.bn.running_var', 'module.fpn.enc3.1.9.branch0.bn.num_batches_tracked', 'module.fpn.enc3.1.9.branch1.0.conv.weight', 'module.fpn.enc3.1.9.branch1.0.bn.weight', 'module.fpn.enc3.1.9.branch1.0.bn.bias', 'module.fpn.enc3.1.9.branch1.0.bn.running_mean', 'module.fpn.enc3.1.9.branch1.0.bn.running_var', 'module.fpn.enc3.1.9.branch1.0.bn.num_batches_tracked', 'module.fpn.enc3.1.9.branch1.1.conv.weight', 'module.fpn.enc3.1.9.branch1.1.bn.weight', 'module.fpn.enc3.1.9.branch1.1.bn.bias', 'module.fpn.enc3.1.9.branch1.1.bn.running_mean', 'module.fpn.enc3.1.9.branch1.1.bn.running_var', 'module.fpn.enc3.1.9.branch1.1.bn.num_batches_tracked', 'module.fpn.enc3.1.9.branch2.0.conv.weight', 'module.fpn.enc3.1.9.branch2.0.bn.weight', 'module.fpn.enc3.1.9.branch2.0.bn.bias', 'module.fpn.enc3.1.9.branch2.0.bn.running_mean', 'module.fpn.enc3.1.9.branch2.0.bn.running_var', 'module.fpn.enc3.1.9.branch2.0.bn.num_batches_tracked', 'module.fpn.enc3.1.9.branch2.1.conv.weight', 'module.fpn.enc3.1.9.branch2.1.bn.weight', 'module.fpn.enc3.1.9.branch2.1.bn.bias', 'module.fpn.enc3.1.9.branch2.1.bn.running_mean', 'module.fpn.enc3.1.9.branch2.1.bn.running_var', 'module.fpn.enc3.1.9.branch2.1.bn.num_batches_tracked', 'module.fpn.enc3.1.9.branch2.2.conv.weight', 'module.fpn.enc3.1.9.branch2.2.bn.weight', 'module.fpn.enc3.1.9.branch2.2.bn.bias', 'module.fpn.enc3.1.9.branch2.2.bn.running_mean', 'module.fpn.enc3.1.9.branch2.2.bn.running_var', 'module.fpn.enc3.1.9.branch2.2.bn.num_batches_tracked', 'module.fpn.enc3.1.9.conv2d.weight', 'module.fpn.enc3.1.9.conv2d.bias', 'module.fpn.enc3.2.branch0.conv.weight', 'module.fpn.enc3.2.branch0.bn.weight', 'module.fpn.enc3.2.branch0.bn.bias', 'module.fpn.enc3.2.branch0.bn.running_mean', 'module.fpn.enc3.2.branch0.bn.running_var', 'module.fpn.enc3.2.branch0.bn.num_batches_tracked', 'module.fpn.enc3.2.branch1.0.conv.weight', 'module.fpn.enc3.2.branch1.0.bn.weight', 'module.fpn.enc3.2.branch1.0.bn.bias', 'module.fpn.enc3.2.branch1.0.bn.running_mean', 'module.fpn.enc3.2.branch1.0.bn.running_var', 'module.fpn.enc3.2.branch1.0.bn.num_batches_tracked', 'module.fpn.enc3.2.branch1.1.conv.weight', 'module.fpn.enc3.2.branch1.1.bn.weight', 'module.fpn.enc3.2.branch1.1.bn.bias', 'module.fpn.enc3.2.branch1.1.bn.running_mean', 'module.fpn.enc3.2.branch1.1.bn.running_var', 'module.fpn.enc3.2.branch1.1.bn.num_batches_tracked', 'module.fpn.enc3.2.branch1.2.conv.weight', 'module.fpn.enc3.2.branch1.2.bn.weight', 'module.fpn.enc3.2.branch1.2.bn.bias', 'module.fpn.enc3.2.branch1.2.bn.running_mean', 'module.fpn.enc3.2.branch1.2.bn.running_var', 'module.fpn.enc3.2.branch1.2.bn.num_batches_tracked', 'module.fpn.enc4.0.0.branch0.conv.weight', 'module.fpn.enc4.0.0.branch0.bn.weight', 'module.fpn.enc4.0.0.branch0.bn.bias', 'module.fpn.enc4.0.0.branch0.bn.running_mean', 'module.fpn.enc4.0.0.branch0.bn.running_var', 'module.fpn.enc4.0.0.branch0.bn.num_batches_tracked', 'module.fpn.enc4.0.0.branch1.0.conv.weight', 'module.fpn.enc4.0.0.branch1.0.bn.weight', 'module.fpn.enc4.0.0.branch1.0.bn.bias', 'module.fpn.enc4.0.0.branch1.0.bn.running_mean', 'module.fpn.enc4.0.0.branch1.0.bn.running_var', 'module.fpn.enc4.0.0.branch1.0.bn.num_batches_tracked', 'module.fpn.enc4.0.0.branch1.1.conv.weight', 'module.fpn.enc4.0.0.branch1.1.bn.weight', 'module.fpn.enc4.0.0.branch1.1.bn.bias', 'module.fpn.enc4.0.0.branch1.1.bn.running_mean', 'module.fpn.enc4.0.0.branch1.1.bn.running_var', 'module.fpn.enc4.0.0.branch1.1.bn.num_batches_tracked', 'module.fpn.enc4.0.0.branch1.2.conv.weight', 'module.fpn.enc4.0.0.branch1.2.bn.weight', 'module.fpn.enc4.0.0.branch1.2.bn.bias', 'module.fpn.enc4.0.0.branch1.2.bn.running_mean', 'module.fpn.enc4.0.0.branch1.2.bn.running_var', 'module.fpn.enc4.0.0.branch1.2.bn.num_batches_tracked', 'module.fpn.enc4.0.0.conv2d.weight', 'module.fpn.enc4.0.0.conv2d.bias', 'module.fpn.enc4.0.1.branch0.conv.weight', 'module.fpn.enc4.0.1.branch0.bn.weight', 'module.fpn.enc4.0.1.branch0.bn.bias', 'module.fpn.enc4.0.1.branch0.bn.running_mean', 'module.fpn.enc4.0.1.branch0.bn.running_var', 'module.fpn.enc4.0.1.branch0.bn.num_batches_tracked', 'module.fpn.enc4.0.1.branch1.0.conv.weight', 'module.fpn.enc4.0.1.branch1.0.bn.weight', 'module.fpn.enc4.0.1.branch1.0.bn.bias', 'module.fpn.enc4.0.1.branch1.0.bn.running_mean', 'module.fpn.enc4.0.1.branch1.0.bn.running_var', 'module.fpn.enc4.0.1.branch1.0.bn.num_batches_tracked', 'module.fpn.enc4.0.1.branch1.1.conv.weight', 'module.fpn.enc4.0.1.branch1.1.bn.weight', 'module.fpn.enc4.0.1.branch1.1.bn.bias', 'module.fpn.enc4.0.1.branch1.1.bn.running_mean', 'module.fpn.enc4.0.1.branch1.1.bn.running_var', 'module.fpn.enc4.0.1.branch1.1.bn.num_batches_tracked', 'module.fpn.enc4.0.1.branch1.2.conv.weight', 'module.fpn.enc4.0.1.branch1.2.bn.weight', 'module.fpn.enc4.0.1.branch1.2.bn.bias', 'module.fpn.enc4.0.1.branch1.2.bn.running_mean', 'module.fpn.enc4.0.1.branch1.2.bn.running_var', 'module.fpn.enc4.0.1.branch1.2.bn.num_batches_tracked', 'module.fpn.enc4.0.1.conv2d.weight', 'module.fpn.enc4.0.1.conv2d.bias', 'module.fpn.enc4.0.2.branch0.conv.weight', 'module.fpn.enc4.0.2.branch0.bn.weight', 'module.fpn.enc4.0.2.branch0.bn.bias', 'module.fpn.enc4.0.2.branch0.bn.running_mean', 'module.fpn.enc4.0.2.branch0.bn.running_var', 'module.fpn.enc4.0.2.branch0.bn.num_batches_tracked', 'module.fpn.enc4.0.2.branch1.0.conv.weight', 'module.fpn.enc4.0.2.branch1.0.bn.weight', 'module.fpn.enc4.0.2.branch1.0.bn.bias', 'module.fpn.enc4.0.2.branch1.0.bn.running_mean', 'module.fpn.enc4.0.2.branch1.0.bn.running_var', 'module.fpn.enc4.0.2.branch1.0.bn.num_batches_tracked', 'module.fpn.enc4.0.2.branch1.1.conv.weight', 'module.fpn.enc4.0.2.branch1.1.bn.weight', 'module.fpn.enc4.0.2.branch1.1.bn.bias', 'module.fpn.enc4.0.2.branch1.1.bn.running_mean', 'module.fpn.enc4.0.2.branch1.1.bn.running_var', 'module.fpn.enc4.0.2.branch1.1.bn.num_batches_tracked', 'module.fpn.enc4.0.2.branch1.2.conv.weight', 'module.fpn.enc4.0.2.branch1.2.bn.weight', 'module.fpn.enc4.0.2.branch1.2.bn.bias', 'module.fpn.enc4.0.2.branch1.2.bn.running_mean', 'module.fpn.enc4.0.2.branch1.2.bn.running_var', 'module.fpn.enc4.0.2.branch1.2.bn.num_batches_tracked', 'module.fpn.enc4.0.2.conv2d.weight', 'module.fpn.enc4.0.2.conv2d.bias', 'module.fpn.enc4.0.3.branch0.conv.weight', 'module.fpn.enc4.0.3.branch0.bn.weight', 'module.fpn.enc4.0.3.branch0.bn.bias', 'module.fpn.enc4.0.3.branch0.bn.running_mean', 'module.fpn.enc4.0.3.branch0.bn.running_var', 'module.fpn.enc4.0.3.branch0.bn.num_batches_tracked', 'module.fpn.enc4.0.3.branch1.0.conv.weight', 'module.fpn.enc4.0.3.branch1.0.bn.weight', 'module.fpn.enc4.0.3.branch1.0.bn.bias', 'module.fpn.enc4.0.3.branch1.0.bn.running_mean', 'module.fpn.enc4.0.3.branch1.0.bn.running_var', 'module.fpn.enc4.0.3.branch1.0.bn.num_batches_tracked', 'module.fpn.enc4.0.3.branch1.1.conv.weight', 'module.fpn.enc4.0.3.branch1.1.bn.weight', 'module.fpn.enc4.0.3.branch1.1.bn.bias', 'module.fpn.enc4.0.3.branch1.1.bn.running_mean', 'module.fpn.enc4.0.3.branch1.1.bn.running_var', 'module.fpn.enc4.0.3.branch1.1.bn.num_batches_tracked', 'module.fpn.enc4.0.3.branch1.2.conv.weight', 'module.fpn.enc4.0.3.branch1.2.bn.weight', 'module.fpn.enc4.0.3.branch1.2.bn.bias', 'module.fpn.enc4.0.3.branch1.2.bn.running_mean', 'module.fpn.enc4.0.3.branch1.2.bn.running_var', 'module.fpn.enc4.0.3.branch1.2.bn.num_batches_tracked', 'module.fpn.enc4.0.3.conv2d.weight', 'module.fpn.enc4.0.3.conv2d.bias', 'module.fpn.enc4.0.4.branch0.conv.weight', 'module.fpn.enc4.0.4.branch0.bn.weight', 'module.fpn.enc4.0.4.branch0.bn.bias', 'module.fpn.enc4.0.4.branch0.bn.running_mean', 'module.fpn.enc4.0.4.branch0.bn.running_var', 'module.fpn.enc4.0.4.branch0.bn.num_batches_tracked', 'module.fpn.enc4.0.4.branch1.0.conv.weight', 'module.fpn.enc4.0.4.branch1.0.bn.weight', 'module.fpn.enc4.0.4.branch1.0.bn.bias', 'module.fpn.enc4.0.4.branch1.0.bn.running_mean', 'module.fpn.enc4.0.4.branch1.0.bn.running_var', 'module.fpn.enc4.0.4.branch1.0.bn.num_batches_tracked', 'module.fpn.enc4.0.4.branch1.1.conv.weight', 'module.fpn.enc4.0.4.branch1.1.bn.weight', 'module.fpn.enc4.0.4.branch1.1.bn.bias', 'module.fpn.enc4.0.4.branch1.1.bn.running_mean', 'module.fpn.enc4.0.4.branch1.1.bn.running_var', 'module.fpn.enc4.0.4.branch1.1.bn.num_batches_tracked', 'module.fpn.enc4.0.4.branch1.2.conv.weight', 'module.fpn.enc4.0.4.branch1.2.bn.weight', 'module.fpn.enc4.0.4.branch1.2.bn.bias', 'module.fpn.enc4.0.4.branch1.2.bn.running_mean', 'module.fpn.enc4.0.4.branch1.2.bn.running_var', 'module.fpn.enc4.0.4.branch1.2.bn.num_batches_tracked', 'module.fpn.enc4.0.4.conv2d.weight', 'module.fpn.enc4.0.4.conv2d.bias', 'module.fpn.enc4.0.5.branch0.conv.weight', 'module.fpn.enc4.0.5.branch0.bn.weight', 'module.fpn.enc4.0.5.branch0.bn.bias', 'module.fpn.enc4.0.5.branch0.bn.running_mean', 'module.fpn.enc4.0.5.branch0.bn.running_var', 'module.fpn.enc4.0.5.branch0.bn.num_batches_tracked', 'module.fpn.enc4.0.5.branch1.0.conv.weight', 'module.fpn.enc4.0.5.branch1.0.bn.weight', 'module.fpn.enc4.0.5.branch1.0.bn.bias', 'module.fpn.enc4.0.5.branch1.0.bn.running_mean', 'module.fpn.enc4.0.5.branch1.0.bn.running_var', 'module.fpn.enc4.0.5.branch1.0.bn.num_batches_tracked', 'module.fpn.enc4.0.5.branch1.1.conv.weight', 'module.fpn.enc4.0.5.branch1.1.bn.weight', 'module.fpn.enc4.0.5.branch1.1.bn.bias', 'module.fpn.enc4.0.5.branch1.1.bn.running_mean', 'module.fpn.enc4.0.5.branch1.1.bn.running_var', 'module.fpn.enc4.0.5.branch1.1.bn.num_batches_tracked', 'module.fpn.enc4.0.5.branch1.2.conv.weight', 'module.fpn.enc4.0.5.branch1.2.bn.weight', 'module.fpn.enc4.0.5.branch1.2.bn.bias', 'module.fpn.enc4.0.5.branch1.2.bn.running_mean', 'module.fpn.enc4.0.5.branch1.2.bn.running_var', 'module.fpn.enc4.0.5.branch1.2.bn.num_batches_tracked', 'module.fpn.enc4.0.5.conv2d.weight', 'module.fpn.enc4.0.5.conv2d.bias', 'module.fpn.enc4.0.6.branch0.conv.weight', 'module.fpn.enc4.0.6.branch0.bn.weight', 'module.fpn.enc4.0.6.branch0.bn.bias', 'module.fpn.enc4.0.6.branch0.bn.running_mean', 'module.fpn.enc4.0.6.branch0.bn.running_var', 'module.fpn.enc4.0.6.branch0.bn.num_batches_tracked', 'module.fpn.enc4.0.6.branch1.0.conv.weight', 'module.fpn.enc4.0.6.branch1.0.bn.weight', 'module.fpn.enc4.0.6.branch1.0.bn.bias', 'module.fpn.enc4.0.6.branch1.0.bn.running_mean', 'module.fpn.enc4.0.6.branch1.0.bn.running_var', 'module.fpn.enc4.0.6.branch1.0.bn.num_batches_tracked', 'module.fpn.enc4.0.6.branch1.1.conv.weight', 'module.fpn.enc4.0.6.branch1.1.bn.weight', 'module.fpn.enc4.0.6.branch1.1.bn.bias', 'module.fpn.enc4.0.6.branch1.1.bn.running_mean', 'module.fpn.enc4.0.6.branch1.1.bn.running_var', 'module.fpn.enc4.0.6.branch1.1.bn.num_batches_tracked', 'module.fpn.enc4.0.6.branch1.2.conv.weight', 'module.fpn.enc4.0.6.branch1.2.bn.weight', 'module.fpn.enc4.0.6.branch1.2.bn.bias', 'module.fpn.enc4.0.6.branch1.2.bn.running_mean', 'module.fpn.enc4.0.6.branch1.2.bn.running_var', 'module.fpn.enc4.0.6.branch1.2.bn.num_batches_tracked', 'module.fpn.enc4.0.6.conv2d.weight', 'module.fpn.enc4.0.6.conv2d.bias', 'module.fpn.enc4.0.7.branch0.conv.weight', 'module.fpn.enc4.0.7.branch0.bn.weight', 'module.fpn.enc4.0.7.branch0.bn.bias', 'module.fpn.enc4.0.7.branch0.bn.running_mean', 'module.fpn.enc4.0.7.branch0.bn.running_var', 'module.fpn.enc4.0.7.branch0.bn.num_batches_tracked', 'module.fpn.enc4.0.7.branch1.0.conv.weight', 'module.fpn.enc4.0.7.branch1.0.bn.weight', 'module.fpn.enc4.0.7.branch1.0.bn.bias', 'module.fpn.enc4.0.7.branch1.0.bn.running_mean', 'module.fpn.enc4.0.7.branch1.0.bn.running_var', 'module.fpn.enc4.0.7.branch1.0.bn.num_batches_tracked', 'module.fpn.enc4.0.7.branch1.1.conv.weight', 'module.fpn.enc4.0.7.branch1.1.bn.weight', 'module.fpn.enc4.0.7.branch1.1.bn.bias', 'module.fpn.enc4.0.7.branch1.1.bn.running_mean', 'module.fpn.enc4.0.7.branch1.1.bn.running_var', 'module.fpn.enc4.0.7.branch1.1.bn.num_batches_tracked', 'module.fpn.enc4.0.7.branch1.2.conv.weight', 'module.fpn.enc4.0.7.branch1.2.bn.weight', 'module.fpn.enc4.0.7.branch1.2.bn.bias', 'module.fpn.enc4.0.7.branch1.2.bn.running_mean', 'module.fpn.enc4.0.7.branch1.2.bn.running_var', 'module.fpn.enc4.0.7.branch1.2.bn.num_batches_tracked', 'module.fpn.enc4.0.7.conv2d.weight', 'module.fpn.enc4.0.7.conv2d.bias', 'module.fpn.enc4.0.8.branch0.conv.weight', 'module.fpn.enc4.0.8.branch0.bn.weight', 'module.fpn.enc4.0.8.branch0.bn.bias', 'module.fpn.enc4.0.8.branch0.bn.running_mean', 'module.fpn.enc4.0.8.branch0.bn.running_var', 'module.fpn.enc4.0.8.branch0.bn.num_batches_tracked', 'module.fpn.enc4.0.8.branch1.0.conv.weight', 'module.fpn.enc4.0.8.branch1.0.bn.weight', 'module.fpn.enc4.0.8.branch1.0.bn.bias', 'module.fpn.enc4.0.8.branch1.0.bn.running_mean', 'module.fpn.enc4.0.8.branch1.0.bn.running_var', 'module.fpn.enc4.0.8.branch1.0.bn.num_batches_tracked', 'module.fpn.enc4.0.8.branch1.1.conv.weight', 'module.fpn.enc4.0.8.branch1.1.bn.weight', 'module.fpn.enc4.0.8.branch1.1.bn.bias', 'module.fpn.enc4.0.8.branch1.1.bn.running_mean', 'module.fpn.enc4.0.8.branch1.1.bn.running_var', 'module.fpn.enc4.0.8.branch1.1.bn.num_batches_tracked', 'module.fpn.enc4.0.8.branch1.2.conv.weight', 'module.fpn.enc4.0.8.branch1.2.bn.weight', 'module.fpn.enc4.0.8.branch1.2.bn.bias', 'module.fpn.enc4.0.8.branch1.2.bn.running_mean', 'module.fpn.enc4.0.8.branch1.2.bn.running_var', 'module.fpn.enc4.0.8.branch1.2.bn.num_batches_tracked', 'module.fpn.enc4.0.8.conv2d.weight', 'module.fpn.enc4.0.8.conv2d.bias', 'module.fpn.enc4.0.9.branch0.conv.weight', 'module.fpn.enc4.0.9.branch0.bn.weight', 'module.fpn.enc4.0.9.branch0.bn.bias', 'module.fpn.enc4.0.9.branch0.bn.running_mean', 'module.fpn.enc4.0.9.branch0.bn.running_var', 'module.fpn.enc4.0.9.branch0.bn.num_batches_tracked', 'module.fpn.enc4.0.9.branch1.0.conv.weight', 'module.fpn.enc4.0.9.branch1.0.bn.weight', 'module.fpn.enc4.0.9.branch1.0.bn.bias', 'module.fpn.enc4.0.9.branch1.0.bn.running_mean', 'module.fpn.enc4.0.9.branch1.0.bn.running_var', 'module.fpn.enc4.0.9.branch1.0.bn.num_batches_tracked', 'module.fpn.enc4.0.9.branch1.1.conv.weight', 'module.fpn.enc4.0.9.branch1.1.bn.weight', 'module.fpn.enc4.0.9.branch1.1.bn.bias', 'module.fpn.enc4.0.9.branch1.1.bn.running_mean', 'module.fpn.enc4.0.9.branch1.1.bn.running_var', 'module.fpn.enc4.0.9.branch1.1.bn.num_batches_tracked', 'module.fpn.enc4.0.9.branch1.2.conv.weight', 'module.fpn.enc4.0.9.branch1.2.bn.weight', 'module.fpn.enc4.0.9.branch1.2.bn.bias', 'module.fpn.enc4.0.9.branch1.2.bn.running_mean', 'module.fpn.enc4.0.9.branch1.2.bn.running_var', 'module.fpn.enc4.0.9.branch1.2.bn.num_batches_tracked', 'module.fpn.enc4.0.9.conv2d.weight', 'module.fpn.enc4.0.9.conv2d.bias', 'module.fpn.enc4.0.10.branch0.conv.weight', 'module.fpn.enc4.0.10.branch0.bn.weight', 'module.fpn.enc4.0.10.branch0.bn.bias', 'module.fpn.enc4.0.10.branch0.bn.running_mean', 'module.fpn.enc4.0.10.branch0.bn.running_var', 'module.fpn.enc4.0.10.branch0.bn.num_batches_tracked', 'module.fpn.enc4.0.10.branch1.0.conv.weight', 'module.fpn.enc4.0.10.branch1.0.bn.weight', 'module.fpn.enc4.0.10.branch1.0.bn.bias', 'module.fpn.enc4.0.10.branch1.0.bn.running_mean', 'module.fpn.enc4.0.10.branch1.0.bn.running_var', 'module.fpn.enc4.0.10.branch1.0.bn.num_batches_tracked', 'module.fpn.enc4.0.10.branch1.1.conv.weight', 'module.fpn.enc4.0.10.branch1.1.bn.weight', 'module.fpn.enc4.0.10.branch1.1.bn.bias', 'module.fpn.enc4.0.10.branch1.1.bn.running_mean', 'module.fpn.enc4.0.10.branch1.1.bn.running_var', 'module.fpn.enc4.0.10.branch1.1.bn.num_batches_tracked', 'module.fpn.enc4.0.10.branch1.2.conv.weight', 'module.fpn.enc4.0.10.branch1.2.bn.weight', 'module.fpn.enc4.0.10.branch1.2.bn.bias', 'module.fpn.enc4.0.10.branch1.2.bn.running_mean', 'module.fpn.enc4.0.10.branch1.2.bn.running_var', 'module.fpn.enc4.0.10.branch1.2.bn.num_batches_tracked', 'module.fpn.enc4.0.10.conv2d.weight', 'module.fpn.enc4.0.10.conv2d.bias', 'module.fpn.enc4.0.11.branch0.conv.weight', 'module.fpn.enc4.0.11.branch0.bn.weight', 'module.fpn.enc4.0.11.branch0.bn.bias', 'module.fpn.enc4.0.11.branch0.bn.running_mean', 'module.fpn.enc4.0.11.branch0.bn.running_var', 'module.fpn.enc4.0.11.branch0.bn.num_batches_tracked', 'module.fpn.enc4.0.11.branch1.0.conv.weight', 'module.fpn.enc4.0.11.branch1.0.bn.weight', 'module.fpn.enc4.0.11.branch1.0.bn.bias', 'module.fpn.enc4.0.11.branch1.0.bn.running_mean', 'module.fpn.enc4.0.11.branch1.0.bn.running_var', 'module.fpn.enc4.0.11.branch1.0.bn.num_batches_tracked', 'module.fpn.enc4.0.11.branch1.1.conv.weight', 'module.fpn.enc4.0.11.branch1.1.bn.weight', 'module.fpn.enc4.0.11.branch1.1.bn.bias', 'module.fpn.enc4.0.11.branch1.1.bn.running_mean', 'module.fpn.enc4.0.11.branch1.1.bn.running_var', 'module.fpn.enc4.0.11.branch1.1.bn.num_batches_tracked', 'module.fpn.enc4.0.11.branch1.2.conv.weight', 'module.fpn.enc4.0.11.branch1.2.bn.weight', 'module.fpn.enc4.0.11.branch1.2.bn.bias', 'module.fpn.enc4.0.11.branch1.2.bn.running_mean', 'module.fpn.enc4.0.11.branch1.2.bn.running_var', 'module.fpn.enc4.0.11.branch1.2.bn.num_batches_tracked', 'module.fpn.enc4.0.11.conv2d.weight', 'module.fpn.enc4.0.11.conv2d.bias', 'module.fpn.enc4.0.12.branch0.conv.weight', 'module.fpn.enc4.0.12.branch0.bn.weight', 'module.fpn.enc4.0.12.branch0.bn.bias', 'module.fpn.enc4.0.12.branch0.bn.running_mean', 'module.fpn.enc4.0.12.branch0.bn.running_var', 'module.fpn.enc4.0.12.branch0.bn.num_batches_tracked', 'module.fpn.enc4.0.12.branch1.0.conv.weight', 'module.fpn.enc4.0.12.branch1.0.bn.weight', 'module.fpn.enc4.0.12.branch1.0.bn.bias', 'module.fpn.enc4.0.12.branch1.0.bn.running_mean', 'module.fpn.enc4.0.12.branch1.0.bn.running_var', 'module.fpn.enc4.0.12.branch1.0.bn.num_batches_tracked', 'module.fpn.enc4.0.12.branch1.1.conv.weight', 'module.fpn.enc4.0.12.branch1.1.bn.weight', 'module.fpn.enc4.0.12.branch1.1.bn.bias', 'module.fpn.enc4.0.12.branch1.1.bn.running_mean', 'module.fpn.enc4.0.12.branch1.1.bn.running_var', 'module.fpn.enc4.0.12.branch1.1.bn.num_batches_tracked', 'module.fpn.enc4.0.12.branch1.2.conv.weight', 'module.fpn.enc4.0.12.branch1.2.bn.weight', 'module.fpn.enc4.0.12.branch1.2.bn.bias', 'module.fpn.enc4.0.12.branch1.2.bn.running_mean', 'module.fpn.enc4.0.12.branch1.2.bn.running_var', 'module.fpn.enc4.0.12.branch1.2.bn.num_batches_tracked', 'module.fpn.enc4.0.12.conv2d.weight', 'module.fpn.enc4.0.12.conv2d.bias', 'module.fpn.enc4.0.13.branch0.conv.weight', 'module.fpn.enc4.0.13.branch0.bn.weight', 'module.fpn.enc4.0.13.branch0.bn.bias', 'module.fpn.enc4.0.13.branch0.bn.running_mean', 'module.fpn.enc4.0.13.branch0.bn.running_var', 'module.fpn.enc4.0.13.branch0.bn.num_batches_tracked', 'module.fpn.enc4.0.13.branch1.0.conv.weight', 'module.fpn.enc4.0.13.branch1.0.bn.weight', 'module.fpn.enc4.0.13.branch1.0.bn.bias', 'module.fpn.enc4.0.13.branch1.0.bn.running_mean', 'module.fpn.enc4.0.13.branch1.0.bn.running_var', 'module.fpn.enc4.0.13.branch1.0.bn.num_batches_tracked', 'module.fpn.enc4.0.13.branch1.1.conv.weight', 'module.fpn.enc4.0.13.branch1.1.bn.weight', 'module.fpn.enc4.0.13.branch1.1.bn.bias', 'module.fpn.enc4.0.13.branch1.1.bn.running_mean', 'module.fpn.enc4.0.13.branch1.1.bn.running_var', 'module.fpn.enc4.0.13.branch1.1.bn.num_batches_tracked', 'module.fpn.enc4.0.13.branch1.2.conv.weight', 'module.fpn.enc4.0.13.branch1.2.bn.weight', 'module.fpn.enc4.0.13.branch1.2.bn.bias', 'module.fpn.enc4.0.13.branch1.2.bn.running_mean', 'module.fpn.enc4.0.13.branch1.2.bn.running_var', 'module.fpn.enc4.0.13.branch1.2.bn.num_batches_tracked', 'module.fpn.enc4.0.13.conv2d.weight', 'module.fpn.enc4.0.13.conv2d.bias', 'module.fpn.enc4.0.14.branch0.conv.weight', 'module.fpn.enc4.0.14.branch0.bn.weight', 'module.fpn.enc4.0.14.branch0.bn.bias', 'module.fpn.enc4.0.14.branch0.bn.running_mean', 'module.fpn.enc4.0.14.branch0.bn.running_var', 'module.fpn.enc4.0.14.branch0.bn.num_batches_tracked', 'module.fpn.enc4.0.14.branch1.0.conv.weight', 'module.fpn.enc4.0.14.branch1.0.bn.weight', 'module.fpn.enc4.0.14.branch1.0.bn.bias', 'module.fpn.enc4.0.14.branch1.0.bn.running_mean', 'module.fpn.enc4.0.14.branch1.0.bn.running_var', 'module.fpn.enc4.0.14.branch1.0.bn.num_batches_tracked', 'module.fpn.enc4.0.14.branch1.1.conv.weight', 'module.fpn.enc4.0.14.branch1.1.bn.weight', 'module.fpn.enc4.0.14.branch1.1.bn.bias', 'module.fpn.enc4.0.14.branch1.1.bn.running_mean', 'module.fpn.enc4.0.14.branch1.1.bn.running_var', 'module.fpn.enc4.0.14.branch1.1.bn.num_batches_tracked', 'module.fpn.enc4.0.14.branch1.2.conv.weight', 'module.fpn.enc4.0.14.branch1.2.bn.weight', 'module.fpn.enc4.0.14.branch1.2.bn.bias', 'module.fpn.enc4.0.14.branch1.2.bn.running_mean', 'module.fpn.enc4.0.14.branch1.2.bn.running_var', 'module.fpn.enc4.0.14.branch1.2.bn.num_batches_tracked', 'module.fpn.enc4.0.14.conv2d.weight', 'module.fpn.enc4.0.14.conv2d.bias', 'module.fpn.enc4.0.15.branch0.conv.weight', 'module.fpn.enc4.0.15.branch0.bn.weight', 'module.fpn.enc4.0.15.branch0.bn.bias', 'module.fpn.enc4.0.15.branch0.bn.running_mean', 'module.fpn.enc4.0.15.branch0.bn.running_var', 'module.fpn.enc4.0.15.branch0.bn.num_batches_tracked', 'module.fpn.enc4.0.15.branch1.0.conv.weight', 'module.fpn.enc4.0.15.branch1.0.bn.weight', 'module.fpn.enc4.0.15.branch1.0.bn.bias', 'module.fpn.enc4.0.15.branch1.0.bn.running_mean', 'module.fpn.enc4.0.15.branch1.0.bn.running_var', 'module.fpn.enc4.0.15.branch1.0.bn.num_batches_tracked', 'module.fpn.enc4.0.15.branch1.1.conv.weight', 'module.fpn.enc4.0.15.branch1.1.bn.weight', 'module.fpn.enc4.0.15.branch1.1.bn.bias', 'module.fpn.enc4.0.15.branch1.1.bn.running_mean', 'module.fpn.enc4.0.15.branch1.1.bn.running_var', 'module.fpn.enc4.0.15.branch1.1.bn.num_batches_tracked', 'module.fpn.enc4.0.15.branch1.2.conv.weight', 'module.fpn.enc4.0.15.branch1.2.bn.weight', 'module.fpn.enc4.0.15.branch1.2.bn.bias', 'module.fpn.enc4.0.15.branch1.2.bn.running_mean', 'module.fpn.enc4.0.15.branch1.2.bn.running_var', 'module.fpn.enc4.0.15.branch1.2.bn.num_batches_tracked', 'module.fpn.enc4.0.15.conv2d.weight', 'module.fpn.enc4.0.15.conv2d.bias', 'module.fpn.enc4.0.16.branch0.conv.weight', 'module.fpn.enc4.0.16.branch0.bn.weight', 'module.fpn.enc4.0.16.branch0.bn.bias', 'module.fpn.enc4.0.16.branch0.bn.running_mean', 'module.fpn.enc4.0.16.branch0.bn.running_var', 'module.fpn.enc4.0.16.branch0.bn.num_batches_tracked', 'module.fpn.enc4.0.16.branch1.0.conv.weight', 'module.fpn.enc4.0.16.branch1.0.bn.weight', 'module.fpn.enc4.0.16.branch1.0.bn.bias', 'module.fpn.enc4.0.16.branch1.0.bn.running_mean', 'module.fpn.enc4.0.16.branch1.0.bn.running_var', 'module.fpn.enc4.0.16.branch1.0.bn.num_batches_tracked', 'module.fpn.enc4.0.16.branch1.1.conv.weight', 'module.fpn.enc4.0.16.branch1.1.bn.weight', 'module.fpn.enc4.0.16.branch1.1.bn.bias', 'module.fpn.enc4.0.16.branch1.1.bn.running_mean', 'module.fpn.enc4.0.16.branch1.1.bn.running_var', 'module.fpn.enc4.0.16.branch1.1.bn.num_batches_tracked', 'module.fpn.enc4.0.16.branch1.2.conv.weight', 'module.fpn.enc4.0.16.branch1.2.bn.weight', 'module.fpn.enc4.0.16.branch1.2.bn.bias', 'module.fpn.enc4.0.16.branch1.2.bn.running_mean', 'module.fpn.enc4.0.16.branch1.2.bn.running_var', 'module.fpn.enc4.0.16.branch1.2.bn.num_batches_tracked', 'module.fpn.enc4.0.16.conv2d.weight', 'module.fpn.enc4.0.16.conv2d.bias', 'module.fpn.enc4.0.17.branch0.conv.weight', 'module.fpn.enc4.0.17.branch0.bn.weight', 'module.fpn.enc4.0.17.branch0.bn.bias', 'module.fpn.enc4.0.17.branch0.bn.running_mean', 'module.fpn.enc4.0.17.branch0.bn.running_var', 'module.fpn.enc4.0.17.branch0.bn.num_batches_tracked', 'module.fpn.enc4.0.17.branch1.0.conv.weight', 'module.fpn.enc4.0.17.branch1.0.bn.weight', 'module.fpn.enc4.0.17.branch1.0.bn.bias', 'module.fpn.enc4.0.17.branch1.0.bn.running_mean', 'module.fpn.enc4.0.17.branch1.0.bn.running_var', 'module.fpn.enc4.0.17.branch1.0.bn.num_batches_tracked', 'module.fpn.enc4.0.17.branch1.1.conv.weight', 'module.fpn.enc4.0.17.branch1.1.bn.weight', 'module.fpn.enc4.0.17.branch1.1.bn.bias', 'module.fpn.enc4.0.17.branch1.1.bn.running_mean', 'module.fpn.enc4.0.17.branch1.1.bn.running_var', 'module.fpn.enc4.0.17.branch1.1.bn.num_batches_tracked', 'module.fpn.enc4.0.17.branch1.2.conv.weight', 'module.fpn.enc4.0.17.branch1.2.bn.weight', 'module.fpn.enc4.0.17.branch1.2.bn.bias', 'module.fpn.enc4.0.17.branch1.2.bn.running_mean', 'module.fpn.enc4.0.17.branch1.2.bn.running_var', 'module.fpn.enc4.0.17.branch1.2.bn.num_batches_tracked', 'module.fpn.enc4.0.17.conv2d.weight', 'module.fpn.enc4.0.17.conv2d.bias', 'module.fpn.enc4.0.18.branch0.conv.weight', 'module.fpn.enc4.0.18.branch0.bn.weight', 'module.fpn.enc4.0.18.branch0.bn.bias', 'module.fpn.enc4.0.18.branch0.bn.running_mean', 'module.fpn.enc4.0.18.branch0.bn.running_var', 'module.fpn.enc4.0.18.branch0.bn.num_batches_tracked', 'module.fpn.enc4.0.18.branch1.0.conv.weight', 'module.fpn.enc4.0.18.branch1.0.bn.weight', 'module.fpn.enc4.0.18.branch1.0.bn.bias', 'module.fpn.enc4.0.18.branch1.0.bn.running_mean', 'module.fpn.enc4.0.18.branch1.0.bn.running_var', 'module.fpn.enc4.0.18.branch1.0.bn.num_batches_tracked', 'module.fpn.enc4.0.18.branch1.1.conv.weight', 'module.fpn.enc4.0.18.branch1.1.bn.weight', 'module.fpn.enc4.0.18.branch1.1.bn.bias', 'module.fpn.enc4.0.18.branch1.1.bn.running_mean', 'module.fpn.enc4.0.18.branch1.1.bn.running_var', 'module.fpn.enc4.0.18.branch1.1.bn.num_batches_tracked', 'module.fpn.enc4.0.18.branch1.2.conv.weight', 'module.fpn.enc4.0.18.branch1.2.bn.weight', 'module.fpn.enc4.0.18.branch1.2.bn.bias', 'module.fpn.enc4.0.18.branch1.2.bn.running_mean', 'module.fpn.enc4.0.18.branch1.2.bn.running_var', 'module.fpn.enc4.0.18.branch1.2.bn.num_batches_tracked', 'module.fpn.enc4.0.18.conv2d.weight', 'module.fpn.enc4.0.18.conv2d.bias', 'module.fpn.enc4.0.19.branch0.conv.weight', 'module.fpn.enc4.0.19.branch0.bn.weight', 'module.fpn.enc4.0.19.branch0.bn.bias', 'module.fpn.enc4.0.19.branch0.bn.running_mean', 'module.fpn.enc4.0.19.branch0.bn.running_var', 'module.fpn.enc4.0.19.branch0.bn.num_batches_tracked', 'module.fpn.enc4.0.19.branch1.0.conv.weight', 'module.fpn.enc4.0.19.branch1.0.bn.weight', 'module.fpn.enc4.0.19.branch1.0.bn.bias', 'module.fpn.enc4.0.19.branch1.0.bn.running_mean', 'module.fpn.enc4.0.19.branch1.0.bn.running_var', 'module.fpn.enc4.0.19.branch1.0.bn.num_batches_tracked', 'module.fpn.enc4.0.19.branch1.1.conv.weight', 'module.fpn.enc4.0.19.branch1.1.bn.weight', 'module.fpn.enc4.0.19.branch1.1.bn.bias', 'module.fpn.enc4.0.19.branch1.1.bn.running_mean', 'module.fpn.enc4.0.19.branch1.1.bn.running_var', 'module.fpn.enc4.0.19.branch1.1.bn.num_batches_tracked', 'module.fpn.enc4.0.19.branch1.2.conv.weight', 'module.fpn.enc4.0.19.branch1.2.bn.weight', 'module.fpn.enc4.0.19.branch1.2.bn.bias', 'module.fpn.enc4.0.19.branch1.2.bn.running_mean', 'module.fpn.enc4.0.19.branch1.2.bn.running_var', 'module.fpn.enc4.0.19.branch1.2.bn.num_batches_tracked', 'module.fpn.enc4.0.19.conv2d.weight', 'module.fpn.enc4.0.19.conv2d.bias', 'module.fpn.enc4.1.branch0.0.conv.weight', 'module.fpn.enc4.1.branch0.0.bn.weight', 'module.fpn.enc4.1.branch0.0.bn.bias', 'module.fpn.enc4.1.branch0.0.bn.running_mean', 'module.fpn.enc4.1.branch0.0.bn.running_var', 'module.fpn.enc4.1.branch0.0.bn.num_batches_tracked', 'module.fpn.enc4.1.branch0.1.conv.weight', 'module.fpn.enc4.1.branch0.1.bn.weight', 'module.fpn.enc4.1.branch0.1.bn.bias', 'module.fpn.enc4.1.branch0.1.bn.running_mean', 'module.fpn.enc4.1.branch0.1.bn.running_var', 'module.fpn.enc4.1.branch0.1.bn.num_batches_tracked', 'module.fpn.enc4.1.branch1.0.conv.weight', 'module.fpn.enc4.1.branch1.0.bn.weight', 'module.fpn.enc4.1.branch1.0.bn.bias', 'module.fpn.enc4.1.branch1.0.bn.running_mean', 'module.fpn.enc4.1.branch1.0.bn.running_var', 'module.fpn.enc4.1.branch1.0.bn.num_batches_tracked', 'module.fpn.enc4.1.branch1.1.conv.weight', 'module.fpn.enc4.1.branch1.1.bn.weight', 'module.fpn.enc4.1.branch1.1.bn.bias', 'module.fpn.enc4.1.branch1.1.bn.running_mean', 'module.fpn.enc4.1.branch1.1.bn.running_var', 'module.fpn.enc4.1.branch1.1.bn.num_batches_tracked', 'module.fpn.enc4.1.branch2.0.conv.weight', 'module.fpn.enc4.1.branch2.0.bn.weight', 'module.fpn.enc4.1.branch2.0.bn.bias', 'module.fpn.enc4.1.branch2.0.bn.running_mean', 'module.fpn.enc4.1.branch2.0.bn.running_var', 'module.fpn.enc4.1.branch2.0.bn.num_batches_tracked', 'module.fpn.enc4.1.branch2.1.conv.weight', 'module.fpn.enc4.1.branch2.1.bn.weight', 'module.fpn.enc4.1.branch2.1.bn.bias', 'module.fpn.enc4.1.branch2.1.bn.running_mean', 'module.fpn.enc4.1.branch2.1.bn.running_var', 'module.fpn.enc4.1.branch2.1.bn.num_batches_tracked', 'module.fpn.enc4.1.branch2.2.conv.weight', 'module.fpn.enc4.1.branch2.2.bn.weight', 'module.fpn.enc4.1.branch2.2.bn.bias', 'module.fpn.enc4.1.branch2.2.bn.running_mean', 'module.fpn.enc4.1.branch2.2.bn.running_var', 'module.fpn.enc4.1.branch2.2.bn.num_batches_tracked', 'module.fpn.td1.0.weight', 'module.fpn.td1.0.bias', 'module.fpn.td1.1.running_mean', 'module.fpn.td1.1.running_var', 'module.fpn.td1.1.num_batches_tracked', 'module.fpn.td2.0.weight', 'module.fpn.td2.0.bias', 'module.fpn.td2.1.running_mean', 'module.fpn.td2.1.running_var', 'module.fpn.td2.1.num_batches_tracked', 'module.fpn.td3.0.weight', 'module.fpn.td3.0.bias', 'module.fpn.td3.1.running_mean', 'module.fpn.td3.1.running_var', 'module.fpn.td3.1.num_batches_tracked', 'module.fpn.lateral4.weight', 'module.fpn.lateral3.weight', 'module.fpn.lateral2.weight', 'module.fpn.lateral1.weight', 'module.fpn.lateral0.weight', 'module.head1.block0.weight', 'module.head1.block1.weight', 'module.head2.block0.weight', 'module.head2.block1.weight', 'module.head3.block0.weight', 'module.head3.block1.weight', 'module.head4.block0.weight', 'module.head4.block1.weight', 'module.smooth.0.weight', 'module.smooth.0.bias', 'module.smooth.1.running_mean', 'module.smooth.1.running_var', 'module.smooth.1.num_batches_tracked', 'module.smooth2.0.weight', 'module.smooth2.0.bias', 'module.smooth2.1.running_mean', 'module.smooth2.1.running_var', 'module.smooth2.1.num_batches_tracked', 'module.final.weight', 'module.final.bias'])"
            ]
          },
          "metadata": {
            "tags": []
          },
          "execution_count": 9
        }
      ]
    },
    {
      "cell_type": "code",
      "metadata": {
        "colab": {
          "base_uri": "https://localhost:8080/"
        },
        "id": "yXyRveSjrRpR",
        "outputId": "2475c091-6241-4d0d-f577-2d1cdd74cf26"
      },
      "source": [
        "!wget -P model http://data.lip6.fr/cadene/pretrainedmodels/inceptionresnetv2-520b38e4.pth"
      ],
      "execution_count": null,
      "outputs": [
        {
          "output_type": "stream",
          "text": [
            "HTTP request sent, awaiting response... 200 OK\n",
            "Length: 223774246 (213M) [application/octet-stream]\n",
            "Saving to: ‘model/inceptionresnetv2-520b38e4.pth’\n",
            "\n",
            "inceptionresnetv2-5 100%[===================>] 213.41M   362KB/s    in 10m 29s \n",
            "\n",
            "2021-05-29 17:03:57 (347 KB/s) - ‘model/inceptionresnetv2-520b38e4.pth’ saved [223774246/223774246]\n",
            "\n"
          ],
          "name": "stdout"
        }
      ]
    },
    {
      "cell_type": "code",
      "metadata": {
        "id": "86BUOIigyELu"
      },
      "source": [
        "inceptionresnetv2_t = torch.load(\"model/inceptionresnetv2-520b38e4.pth\")"
      ],
      "execution_count": null,
      "outputs": []
    },
    {
      "cell_type": "code",
      "metadata": {
        "id": "wfbrfvLF1Fyt",
        "colab": {
          "base_uri": "https://localhost:8080/"
        },
        "outputId": "6d6d4079-6681-4616-fe9d-4cd30fcc28c8"
      },
      "source": [
        "inceptionresnetv2_t.keys()"
      ],
      "execution_count": null,
      "outputs": [
        {
          "output_type": "execute_result",
          "data": {
            "text/plain": [
              "dict_keys(['repeat.8.branch2.0.conv.weight', 'repeat_1.18.branch1.1.bn.running_mean', 'repeat_1.12.branch1.1.bn.weight', 'repeat_1.4.conv2d.weight', 'repeat_1.14.branch1.0.bn.running_var', 'repeat_1.17.branch1.1.bn.weight', 'repeat.5.branch1.0.bn.weight', 'conv2d_1a.bn.running_var', 'repeat_2.6.branch1.0.bn.bias', 'repeat.4.branch1.0.bn.running_mean', 'repeat_2.4.branch0.bn.running_var', 'repeat.9.branch2.0.bn.bias', 'block8.branch1.1.bn.bias', 'repeat_1.2.branch1.0.conv.weight', 'repeat.6.branch2.1.bn.bias', 'repeat.8.branch2.0.bn.running_mean', 'repeat_1.11.branch1.0.conv.weight', 'repeat.7.branch2.2.conv.weight', 'repeat_1.11.branch1.2.bn.running_mean', 'repeat_2.6.branch1.2.conv.weight', 'repeat_2.7.branch0.bn.running_var', 'repeat_1.18.branch1.2.bn.bias', 'repeat_1.13.branch1.0.bn.running_var', 'repeat_1.14.branch1.1.conv.weight', 'repeat_1.10.branch0.bn.bias', 'repeat.3.branch0.bn.running_var', 'last_linear.weight', 'repeat_2.3.branch1.2.bn.weight', 'mixed_6a.branch1.1.bn.running_mean', 'repeat.8.branch0.bn.running_mean', 'repeat_2.0.branch1.2.bn.running_mean', 'repeat.5.conv2d.bias', 'repeat_1.7.branch1.1.bn.running_var', 'conv2d_2b.bn.running_var', 'mixed_7a.branch2.1.bn.running_mean', 'repeat_1.13.conv2d.weight', 'repeat_1.9.branch1.2.conv.weight', 'repeat_1.4.branch1.0.conv.weight', 'repeat_1.15.branch1.0.bn.bias', 'repeat_2.5.conv2d.bias', 'repeat.8.branch1.0.bn.bias', 'repeat_1.18.branch1.1.conv.weight', 'repeat_1.16.branch1.0.bn.weight', 'repeat_2.6.branch0.bn.running_mean', 'repeat.7.branch1.1.bn.bias', 'repeat_2.3.branch1.0.conv.weight', 'repeat.7.branch1.0.bn.running_var', 'repeat_1.13.conv2d.bias', 'repeat.6.branch2.0.bn.running_var', 'repeat.3.conv2d.weight', 'repeat_1.14.branch1.2.bn.running_var', 'repeat_1.5.branch0.bn.weight', 'repeat_2.5.branch1.0.bn.running_mean', 'repeat_1.10.conv2d.weight', 'repeat.6.branch2.2.conv.weight', 'repeat_1.19.branch1.2.bn.weight', 'repeat.0.branch0.bn.running_var', 'repeat.7.branch2.0.bn.bias', 'repeat_1.3.branch0.bn.running_var', 'repeat.8.branch2.0.bn.running_var', 'repeat_2.0.branch1.0.bn.running_mean', 'repeat_2.2.branch0.bn.weight', 'repeat_1.16.branch1.1.bn.weight', 'repeat_2.2.branch0.conv.weight', 'repeat_2.8.branch0.bn.bias', 'repeat.3.branch2.2.bn.running_var', 'repeat_1.15.branch1.2.bn.running_var', 'repeat.9.branch1.1.bn.bias', 'repeat_1.11.branch0.bn.bias', 'repeat_2.6.branch1.1.bn.weight', 'repeat_2.3.branch1.0.bn.running_mean', 'repeat.9.branch2.0.bn.weight', 'repeat.5.branch1.1.bn.weight', 'conv2d_4a.bn.weight', 'repeat.8.branch2.2.bn.bias', 'repeat_1.5.branch1.0.bn.running_mean', 'repeat_1.2.branch0.bn.weight', 'repeat.8.branch2.1.bn.bias', 'repeat_2.0.branch1.2.bn.weight', 'repeat_2.6.branch1.0.conv.weight', 'repeat_1.14.branch1.0.bn.running_mean', 'repeat_2.3.branch1.2.bn.running_mean', 'repeat.2.branch1.1.bn.weight', 'repeat_1.10.branch1.2.bn.running_mean', 'repeat_1.10.branch1.1.conv.weight', 'repeat.7.branch2.2.bn.bias', 'repeat_1.14.branch0.conv.weight', 'repeat_2.6.conv2d.weight', 'repeat.7.branch2.1.bn.running_var', 'repeat.6.branch2.2.bn.weight', 'repeat_1.15.branch1.1.bn.weight', 'conv2d_7b.bn.weight', 'repeat_2.4.branch1.0.bn.weight', 'repeat_1.8.branch1.1.bn.weight', 'repeat_2.8.branch1.2.conv.weight', 'mixed_5b.branch3.1.bn.weight', 'repeat.3.branch1.0.bn.running_mean', 'repeat_2.2.branch1.2.bn.bias', 'repeat_1.9.branch1.2.bn.weight', 'repeat_1.17.branch0.bn.weight', 'repeat_2.7.branch1.0.bn.running_var', 'repeat_2.4.branch1.2.bn.bias', 'repeat_1.14.branch0.bn.running_var', 'repeat_1.0.branch0.conv.weight', 'repeat_1.18.branch0.conv.weight', 'repeat_2.4.branch0.bn.weight', 'repeat.0.branch2.2.bn.running_mean', 'repeat_2.4.conv2d.weight', 'repeat.2.branch2.2.bn.bias', 'repeat_1.5.branch1.1.conv.weight', 'mixed_5b.branch2.2.bn.bias', 'repeat_1.1.branch1.1.bn.running_mean', 'repeat.0.branch2.0.bn.running_var', 'block8.conv2d.weight', 'repeat.3.branch2.1.bn.running_mean', 'repeat.8.branch2.1.bn.running_mean', 'repeat_1.7.branch0.bn.running_var', 'repeat_1.9.branch1.2.bn.bias', 'repeat_1.1.branch1.0.bn.running_mean', 'repeat_2.5.branch1.1.bn.running_var', 'repeat.4.branch2.0.bn.bias', 'repeat_1.19.branch1.0.bn.weight', 'repeat.1.branch2.2.bn.running_mean', 'repeat_1.12.branch1.0.conv.weight', 'block8.branch1.0.bn.weight', 'repeat.7.branch0.bn.running_mean', 'repeat_2.0.branch1.0.bn.weight', 'block8.branch1.2.bn.bias', 'repeat.0.branch2.1.bn.weight', 'repeat_2.0.branch0.bn.running_mean', 'repeat_2.4.branch1.1.conv.weight', 'repeat.3.branch2.1.bn.running_var', 'repeat.6.branch1.0.bn.bias', 'repeat.4.branch2.0.conv.weight', 'repeat_1.14.conv2d.bias', 'repeat_2.7.branch1.1.conv.weight', 'repeat.4.branch2.2.bn.weight', 'repeat.5.branch1.0.bn.running_mean', 'mixed_7a.branch0.0.bn.bias', 'conv2d_2b.bn.running_mean', 'mixed_6a.branch1.2.bn.bias', 'repeat.0.branch1.0.bn.running_var', 'mixed_6a.branch1.0.bn.running_var', 'repeat_2.1.branch1.0.conv.weight', 'repeat.2.branch2.0.conv.weight', 'repeat.9.conv2d.bias', 'repeat_1.5.branch1.1.bn.running_var', 'repeat_1.9.branch1.1.bn.running_var', 'mixed_7a.branch1.0.bn.running_var', 'repeat_2.6.branch1.0.bn.running_mean', 'repeat.0.conv2d.weight', 'repeat_2.1.branch1.2.bn.running_mean', 'repeat.2.branch2.2.bn.weight', 'mixed_6a.branch0.conv.weight', 'block8.branch1.1.bn.running_mean', 'conv2d_1a.bn.bias', 'repeat_1.13.branch1.1.bn.bias', 'repeat.3.branch2.2.conv.weight', 'repeat.0.branch2.1.bn.running_mean', 'repeat_1.9.branch0.bn.running_mean', 'repeat_1.7.branch1.1.conv.weight', 'repeat_1.10.branch1.0.bn.bias', 'mixed_5b.branch1.1.bn.weight', 'repeat_2.4.branch1.0.bn.bias', 'repeat_1.2.conv2d.weight', 'repeat_1.2.branch1.1.bn.bias', 'repeat.6.branch1.0.bn.running_var', 'mixed_5b.branch1.0.bn.running_var', 'repeat_1.6.branch1.2.bn.running_var', 'mixed_5b.branch2.0.bn.weight', 'repeat_2.7.branch1.0.bn.running_mean', 'repeat_2.2.conv2d.bias', 'repeat_1.15.branch1.0.conv.weight', 'repeat_2.1.branch0.bn.running_var', 'repeat.3.branch2.0.bn.bias', 'mixed_5b.branch1.1.conv.weight', 'repeat.3.branch2.1.bn.bias', 'repeat.5.branch2.0.bn.weight', 'repeat_2.5.branch1.2.bn.bias', 'repeat_1.10.branch1.1.bn.running_var', 'repeat.2.branch2.0.bn.running_var', 'repeat_1.2.branch1.0.bn.bias', 'repeat.9.branch2.0.conv.weight', 'repeat_1.4.branch1.0.bn.running_var', 'repeat_2.2.branch1.2.bn.running_var', 'repeat_2.6.branch1.2.bn.running_mean', 'repeat_1.14.branch0.bn.weight', 'repeat.5.branch2.2.bn.running_var', 'repeat_1.10.branch0.bn.running_mean', 'repeat_2.8.branch1.0.bn.running_mean', 'repeat_2.7.branch0.conv.weight', 'repeat.2.branch2.0.bn.weight', 'mixed_5b.branch1.1.bn.running_var', 'repeat_1.3.branch1.2.bn.running_var', 'repeat.2.branch0.bn.bias', 'repeat.3.branch1.0.conv.weight', 'repeat.8.branch0.bn.bias', 'repeat_2.6.branch1.1.bn.running_var', 'repeat_1.16.conv2d.weight', 'mixed_5b.branch2.1.bn.weight', 'repeat_2.3.branch1.0.bn.running_var', 'conv2d_2a.bn.bias', 'repeat_1.4.branch1.2.conv.weight', 'repeat_1.19.branch1.1.bn.running_mean', 'repeat_2.5.branch1.1.bn.weight', 'repeat.8.branch2.2.bn.weight', 'repeat_1.7.conv2d.weight', 'repeat_2.0.branch1.0.bn.running_var', 'repeat_2.1.branch1.0.bn.weight', 'repeat_1.17.branch0.bn.bias', 'repeat.8.branch1.1.bn.running_var', 'repeat.4.branch0.bn.weight', 'repeat_1.11.branch1.1.bn.weight', 'repeat_1.3.branch0.bn.running_mean', 'repeat.0.branch1.0.bn.running_mean', 'mixed_6a.branch1.0.bn.bias', 'repeat_1.4.branch1.2.bn.running_var', 'mixed_7a.branch0.1.bn.weight', 'repeat_1.0.branch1.1.conv.weight', 'repeat_1.4.branch1.1.conv.weight', 'repeat.0.branch2.1.bn.bias', 'repeat_1.17.branch1.2.bn.bias', 'repeat_1.15.branch1.1.bn.bias', 'conv2d_7b.conv.weight', 'repeat_1.11.branch1.0.bn.running_mean', 'repeat.9.branch0.bn.running_mean', 'repeat_2.4.branch1.0.bn.running_var', 'mixed_5b.branch2.0.bn.running_var', 'repeat.2.conv2d.weight', 'repeat_1.6.branch1.0.bn.running_var', 'repeat.1.branch2.0.bn.weight', 'repeat_1.9.branch1.1.conv.weight', 'repeat.7.branch0.bn.weight', 'mixed_7a.branch0.1.conv.weight', 'repeat_1.1.branch1.2.bn.running_mean', 'conv2d_2b.bn.weight', 'repeat_2.2.branch1.0.conv.weight', 'repeat.7.branch2.0.bn.weight', 'mixed_6a.branch1.0.bn.running_mean', 'conv2d_2a.bn.weight', 'repeat.2.branch2.0.bn.bias', 'mixed_5b.branch2.2.bn.running_var', 'repeat_1.11.branch1.0.bn.weight', 'repeat_1.13.branch0.bn.running_var', 'repeat_1.11.branch1.2.bn.bias', 'repeat_2.1.branch1.0.bn.running_mean', 'repeat_1.5.branch1.2.bn.running_mean', 'repeat_1.19.branch1.1.conv.weight', 'repeat_1.19.branch0.conv.weight', 'repeat.4.branch2.2.bn.running_mean', 'mixed_5b.branch2.1.bn.running_var', 'repeat.9.branch2.2.bn.weight', 'repeat_1.5.branch1.0.bn.running_var', 'repeat_1.17.branch1.1.bn.running_mean', 'repeat_1.18.branch1.0.bn.weight', 'mixed_7a.branch2.2.bn.running_mean', 'repeat.7.branch2.0.conv.weight', 'repeat_2.3.branch1.1.conv.weight', 'repeat_1.1.branch1.1.bn.running_var', 'repeat_2.7.branch1.1.bn.running_var', 'repeat_2.2.branch0.bn.running_mean', 'repeat_1.12.conv2d.bias', 'repeat_1.4.branch1.1.bn.running_var', 'repeat.0.branch2.0.conv.weight', 'repeat.7.conv2d.weight', 'repeat_1.15.branch0.bn.bias', 'repeat_1.6.branch1.2.bn.bias', 'repeat_1.1.branch1.2.conv.weight', 'repeat_1.0.branch0.bn.bias', 'repeat.2.conv2d.bias', 'repeat_1.11.conv2d.bias', 'block8.branch0.bn.running_mean', 'repeat_1.18.conv2d.bias', 'repeat.2.branch0.conv.weight', 'repeat_1.15.branch1.1.conv.weight', 'block8.branch1.0.bn.running_var', 'repeat.8.branch2.2.bn.running_mean', 'mixed_7a.branch2.2.bn.weight', 'repeat.7.branch2.0.bn.running_mean', 'repeat_1.12.branch1.1.bn.running_mean', 'repeat_2.5.branch1.2.bn.weight', 'block8.branch1.1.bn.running_var', 'repeat_1.12.branch1.1.conv.weight', 'repeat_2.8.branch0.bn.weight', 'repeat.5.branch2.2.conv.weight', 'repeat_1.5.branch0.bn.running_mean', 'repeat_1.18.branch1.0.conv.weight', 'repeat.4.branch1.0.bn.weight', 'conv2d_2a.bn.running_var', 'repeat_1.1.branch1.0.conv.weight', 'repeat_1.0.branch1.0.conv.weight', 'repeat_1.8.branch1.0.bn.bias', 'repeat_1.14.branch1.1.bn.weight', 'repeat.2.branch0.bn.weight', 'repeat_2.0.conv2d.weight', 'repeat_1.14.branch0.bn.running_mean', 'repeat_2.4.branch0.bn.bias', 'repeat.0.branch2.2.bn.weight', 'repeat.9.branch2.1.bn.running_mean', 'mixed_5b.branch3.1.bn.running_var', 'repeat.4.branch2.1.bn.bias', 'repeat_1.18.branch1.1.bn.running_var', 'repeat.4.branch1.1.conv.weight', 'mixed_5b.branch0.conv.weight', 'repeat.5.branch1.0.bn.running_var', 'repeat_2.8.branch1.2.bn.weight', 'repeat_1.15.conv2d.bias', 'repeat_1.13.branch1.2.bn.running_var', 'repeat.4.branch2.1.bn.running_mean', 'repeat_1.9.branch1.0.bn.running_var', 'repeat_1.18.branch1.2.conv.weight', 'repeat_2.7.branch1.0.bn.bias', 'repeat_1.19.branch1.0.bn.running_var', 'repeat_2.7.branch1.2.bn.bias', 'repeat.2.branch1.0.bn.running_mean', 'repeat.6.branch2.0.bn.weight', 'repeat_2.0.branch1.0.bn.bias', 'repeat_1.15.branch1.2.conv.weight', 'repeat_2.0.branch1.2.conv.weight', 'repeat.0.branch2.0.bn.bias', 'repeat_2.3.branch0.bn.bias', 'repeat.2.branch1.1.bn.running_mean', 'repeat_2.5.branch1.0.bn.running_var', 'repeat_1.7.branch1.1.bn.running_mean', 'repeat_1.3.branch1.1.bn.running_mean', 'repeat.0.branch0.bn.weight', 'repeat_2.1.branch1.2.conv.weight', 'repeat.1.branch1.1.bn.weight', 'repeat.6.branch1.1.conv.weight', 'repeat_2.5.branch1.2.conv.weight', 'repeat_1.14.branch1.0.conv.weight', 'repeat_1.18.branch1.0.bn.running_var', 'repeat_1.16.branch1.2.bn.weight', 'conv2d_3b.bn.bias', 'repeat_2.5.branch1.0.conv.weight', 'repeat.3.branch1.0.bn.running_var', 'repeat_1.9.branch1.0.conv.weight', 'repeat_2.3.branch1.1.bn.running_mean', 'mixed_6a.branch1.0.conv.weight', 'repeat_1.16.branch0.bn.running_var', 'repeat_2.3.branch0.bn.running_var', 'repeat.9.branch2.2.bn.running_var', 'block8.branch1.2.bn.running_var', 'repeat_2.5.branch0.conv.weight', 'repeat.3.branch2.1.conv.weight', 'repeat.7.branch2.2.bn.running_var', 'block8.conv2d.bias', 'conv2d_7b.bn.bias', 'repeat_1.13.branch1.2.conv.weight', 'repeat.6.branch0.bn.running_mean', 'repeat_2.6.branch1.1.bn.running_mean', 'repeat_1.0.branch1.2.conv.weight', 'repeat_1.4.branch1.2.bn.running_mean', 'repeat_1.3.branch1.1.conv.weight', 'repeat_1.16.branch1.2.bn.running_var', 'repeat_2.0.branch0.bn.weight', 'repeat.9.branch0.bn.running_var', 'repeat_1.19.conv2d.bias', 'repeat_2.3.conv2d.weight', 'repeat_1.2.branch0.bn.running_var', 'repeat_1.2.branch1.2.conv.weight', 'repeat.4.branch0.bn.running_var', 'repeat_1.14.branch1.2.conv.weight', 'repeat.1.branch2.0.bn.running_var', 'repeat_1.3.branch1.0.bn.weight', 'mixed_7a.branch0.1.bn.bias', 'repeat.9.branch1.1.conv.weight', 'conv2d_3b.bn.running_var', 'repeat.8.branch1.1.bn.bias', 'repeat_1.6.branch1.1.conv.weight', 'repeat.1.branch2.1.bn.bias', 'mixed_5b.branch2.0.conv.weight', 'repeat_1.0.branch1.2.bn.bias', 'repeat_1.11.branch1.1.bn.running_var', 'repeat_1.16.branch1.0.bn.running_var', 'repeat_1.5.branch1.0.bn.bias', 'repeat_1.1.branch0.conv.weight', 'repeat.7.branch2.1.bn.running_mean', 'repeat_1.17.branch1.0.bn.weight', 'repeat.6.branch2.1.conv.weight', 'conv2d_4a.bn.bias', 'repeat.2.branch1.0.bn.bias', 'mixed_6a.branch1.2.bn.running_var', 'repeat_1.8.branch1.0.bn.weight', 'mixed_7a.branch1.1.bn.weight', 'repeat_1.8.branch1.0.bn.running_mean', 'repeat_1.6.branch0.conv.weight', 'repeat_1.8.branch1.1.conv.weight', 'mixed_5b.branch2.0.bn.bias', 'repeat.1.conv2d.weight', 'repeat.2.branch2.0.bn.running_mean', 'mixed_7a.branch0.1.bn.running_mean', 'repeat_1.7.branch0.bn.bias', 'repeat_1.15.branch1.2.bn.running_mean', 'repeat_2.2.branch1.0.bn.running_var', 'repeat_2.5.branch1.1.bn.bias', 'repeat_2.7.branch0.bn.bias', 'repeat.8.branch2.0.bn.bias', 'mixed_7a.branch1.1.bn.bias', 'mixed_7a.branch0.1.bn.running_var', 'repeat_1.15.branch0.conv.weight', 'repeat_2.2.branch1.2.bn.weight', 'repeat_1.13.branch0.bn.weight', 'repeat.4.branch2.1.conv.weight', 'repeat_1.4.branch0.bn.running_var', 'repeat.9.branch2.1.conv.weight', 'repeat.0.branch2.1.bn.running_var', 'repeat_1.15.branch0.bn.running_mean', 'repeat_2.3.branch1.0.bn.weight', 'repeat.3.branch2.2.bn.running_mean', 'repeat_1.19.branch1.1.bn.running_var', 'repeat_1.7.branch1.0.bn.running_var', 'repeat_2.4.branch1.2.bn.running_var', 'mixed_7a.branch0.0.bn.weight', 'repeat_2.2.branch0.bn.running_var', 'repeat.1.branch1.1.conv.weight', 'repeat.3.conv2d.bias', 'repeat_2.2.branch1.1.bn.running_var', 'repeat.2.branch1.1.conv.weight', 'repeat.5.branch2.1.bn.weight', 'repeat_1.0.branch1.0.bn.running_var', 'repeat_1.10.branch1.2.bn.running_var', 'repeat_1.9.branch1.0.bn.weight', 'repeat.8.branch0.bn.running_var', 'repeat_1.9.branch0.bn.bias', 'repeat.1.branch2.2.bn.weight', 'repeat.5.branch0.bn.running_mean', 'repeat_1.10.branch1.1.bn.bias', 'repeat_1.7.branch1.2.conv.weight', 'repeat.3.branch1.1.bn.running_mean', 'repeat.4.branch2.2.conv.weight', 'repeat_1.13.branch1.0.bn.weight', 'repeat_1.19.branch1.2.bn.running_mean', 'repeat.2.branch2.1.bn.running_var', 'mixed_5b.branch3.1.bn.running_mean', 'repeat.3.branch1.1.bn.bias', 'repeat_2.0.branch1.1.bn.running_mean', 'repeat_1.5.branch1.1.bn.weight', 'repeat_2.0.conv2d.bias', 'repeat_1.16.branch0.bn.weight', 'block8.branch0.bn.bias', 'repeat.5.branch2.0.conv.weight', 'repeat.3.branch2.0.conv.weight', 'repeat.5.branch1.1.conv.weight', 'repeat_1.5.branch0.conv.weight', 'repeat_1.3.branch1.0.bn.bias', 'repeat.5.branch2.1.bn.running_var', 'repeat_2.1.branch1.0.bn.running_var', 'repeat_1.6.branch0.bn.running_var', 'repeat.3.branch1.1.bn.running_var', 'repeat_1.4.branch1.1.bn.running_mean', 'mixed_6a.branch1.0.bn.weight', 'last_linear.bias', 'repeat.5.branch2.2.bn.running_mean', 'repeat_1.19.branch0.bn.weight', 'repeat_1.17.branch1.1.bn.running_var', 'repeat.9.branch1.0.bn.bias', 'repeat_1.12.conv2d.weight', 'mixed_6a.branch1.2.bn.running_mean', 'repeat_1.8.conv2d.bias', 'repeat.0.conv2d.bias', 'repeat.1.branch0.conv.weight', 'repeat_1.14.branch1.0.bn.weight', 'mixed_7a.branch2.2.bn.running_var', 'repeat_1.12.branch1.1.bn.running_var', 'repeat_1.12.branch0.conv.weight', 'repeat_1.6.branch1.2.conv.weight', 'repeat_1.1.branch0.bn.weight', 'repeat.5.branch2.1.bn.running_mean', 'repeat_2.7.branch1.2.bn.weight', 'repeat.4.branch0.bn.bias', 'repeat_1.3.branch1.2.conv.weight', 'repeat.4.branch1.0.bn.running_var', 'repeat_1.13.branch1.2.bn.weight', 'repeat.3.branch2.0.bn.running_var', 'repeat_1.1.branch1.2.bn.bias', 'repeat.1.branch0.bn.running_mean', 'repeat_2.3.branch0.conv.weight', 'repeat_1.8.branch0.bn.weight', 'repeat.0.branch2.2.conv.weight', 'repeat_1.9.branch1.0.bn.bias', 'repeat_1.8.branch1.0.conv.weight', 'repeat.1.branch2.1.bn.running_mean', 'repeat_1.0.branch1.0.bn.running_mean', 'repeat_1.19.branch0.bn.running_var', 'repeat_2.3.conv2d.bias', 'repeat_1.11.branch1.2.bn.running_var', 'mixed_7a.branch2.0.bn.running_var', 'repeat_1.10.branch0.conv.weight', 'mixed_7a.branch2.1.bn.weight', 'repeat_2.5.branch1.1.conv.weight', 'repeat_1.2.branch0.conv.weight', 'block8.branch0.bn.running_var', 'repeat_1.18.branch1.0.bn.running_mean', 'repeat_1.12.branch1.2.conv.weight', 'repeat_1.14.branch0.bn.bias', 'repeat.8.branch2.2.conv.weight', 'repeat_1.7.branch0.bn.weight', 'repeat_1.5.branch1.2.bn.bias', 'repeat_1.19.branch0.bn.running_mean', 'mixed_6a.branch0.bn.running_mean', 'conv2d_2a.bn.running_mean', 'repeat_2.2.branch1.1.bn.weight', 'mixed_7a.branch1.0.bn.bias', 'repeat_1.3.conv2d.weight', 'repeat.0.branch1.1.bn.running_mean', 'repeat_1.1.branch1.1.bn.weight', 'repeat_1.5.branch1.0.bn.weight', 'repeat.6.branch0.conv.weight', 'repeat.1.branch1.0.bn.running_mean', 'repeat.8.branch0.bn.weight', 'repeat_1.1.branch1.2.bn.weight', 'repeat_1.6.conv2d.weight', 'repeat_1.0.branch1.0.bn.bias', 'repeat_1.9.branch1.0.bn.running_mean', 'repeat_1.10.branch1.0.conv.weight', 'repeat_2.8.branch0.bn.running_var', 'conv2d_4a.bn.running_mean', 'repeat_2.1.branch1.2.bn.running_var', 'repeat_2.3.branch0.bn.running_mean', 'mixed_7a.branch0.0.conv.weight', 'repeat_1.11.branch1.2.conv.weight', 'repeat_1.7.branch1.0.bn.bias', 'repeat.9.branch2.1.bn.weight', 'repeat_2.2.branch1.2.bn.running_mean', 'repeat_1.1.branch1.0.bn.weight', 'mixed_6a.branch1.2.conv.weight', 'repeat_1.0.branch1.1.bn.running_var', 'repeat_1.8.conv2d.weight', 'repeat_1.7.branch1.0.conv.weight', 'repeat_1.6.branch0.bn.weight', 'repeat_1.8.branch1.0.bn.running_var', 'repeat_1.1.branch1.2.bn.running_var', 'repeat.7.branch0.bn.bias', 'repeat.7.branch1.0.conv.weight', 'repeat_1.1.branch0.bn.running_mean', 'repeat_1.18.branch1.0.bn.bias', 'repeat_1.11.branch0.bn.weight', 'repeat_2.4.branch1.1.bn.bias', 'repeat_2.7.branch1.0.conv.weight', 'repeat_1.3.branch1.2.bn.weight', 'repeat_1.19.conv2d.weight', 'repeat_2.7.branch1.1.bn.running_mean', 'conv2d_1a.bn.running_mean', 'repeat_1.13.branch1.2.bn.bias', 'repeat_1.19.branch0.bn.bias', 'mixed_5b.branch0.bn.weight', 'repeat.6.branch1.0.bn.running_mean', 'repeat.3.branch2.1.bn.weight', 'repeat.9.branch2.1.bn.bias', 'mixed_7a.branch1.1.conv.weight', 'repeat.9.branch1.0.conv.weight', 'repeat_1.9.branch1.1.bn.weight', 'repeat_1.7.branch1.2.bn.running_var', 'repeat.1.branch0.bn.running_var', 'repeat.5.branch2.1.conv.weight', 'repeat_2.8.branch1.2.bn.running_mean', 'repeat.1.branch0.bn.weight', 'repeat_1.15.branch1.0.bn.weight', 'repeat.0.branch0.bn.running_mean', 'conv2d_1a.bn.weight', 'repeat_1.4.branch1.0.bn.bias', 'repeat_1.16.conv2d.bias', 'repeat_2.1.branch0.bn.bias', 'repeat.8.branch1.1.bn.weight', 'repeat_1.15.branch0.bn.running_var', 'repeat.5.branch0.bn.weight', 'mixed_5b.branch2.1.bn.bias', 'mixed_6a.branch1.1.bn.bias', 'repeat.7.branch0.bn.running_var', 'repeat.2.branch2.2.bn.running_var', 'repeat.8.branch2.0.bn.weight', 'repeat_2.4.branch0.conv.weight', 'repeat_2.3.branch1.1.bn.running_var', 'repeat_1.6.branch1.1.bn.running_var', 'repeat_1.7.branch1.2.bn.running_mean', 'repeat_1.18.conv2d.weight', 'repeat_2.7.branch1.2.conv.weight', 'repeat_1.6.branch1.0.conv.weight', 'repeat_1.6.branch1.0.bn.bias', 'repeat_1.6.branch1.1.bn.weight', 'repeat_1.11.branch0.bn.running_mean', 'repeat_1.7.branch1.2.bn.bias', 'repeat_1.18.branch1.2.bn.running_var', 'repeat.2.branch2.2.conv.weight', 'repeat.8.branch2.1.bn.weight', 'repeat_1.11.branch0.conv.weight', 'repeat_1.8.branch1.2.bn.weight', 'repeat_1.4.branch1.0.bn.weight', 'repeat_2.5.branch0.bn.running_var', 'repeat.1.conv2d.bias', 'repeat_1.0.branch1.1.bn.running_mean', 'mixed_7a.branch2.0.bn.weight', 'mixed_7a.branch2.0.conv.weight', 'repeat.2.branch1.1.bn.running_var', 'repeat.2.branch1.0.bn.running_var', 'repeat_1.13.branch1.1.conv.weight', 'repeat.2.branch0.bn.running_mean', 'mixed_7a.branch2.1.conv.weight', 'repeat.4.conv2d.weight', 'repeat_1.11.branch1.0.bn.running_var', 'repeat_2.5.branch1.0.bn.bias', 'repeat_2.7.branch1.1.bn.weight', 'repeat_2.8.branch1.1.bn.bias', 'repeat.0.branch1.0.conv.weight', 'repeat_1.12.branch1.2.bn.running_mean', 'repeat_1.10.branch0.bn.weight', 'mixed_7a.branch1.1.bn.running_var', 'repeat_1.5.branch1.0.conv.weight', 'mixed_7a.branch1.0.bn.weight', 'repeat.1.branch2.1.bn.weight', 'repeat.8.branch2.2.bn.running_var', 'repeat_1.2.branch1.1.conv.weight', 'block8.branch1.1.conv.weight', 'repeat_1.10.conv2d.bias', 'repeat_1.6.branch0.bn.bias', 'repeat_2.0.branch1.1.bn.weight', 'repeat.5.branch1.1.bn.running_var', 'repeat_2.8.branch1.1.bn.running_var', 'repeat_1.7.conv2d.bias', 'repeat_2.2.branch1.2.conv.weight', 'repeat_1.15.branch1.0.bn.running_mean', 'repeat.3.branch1.0.bn.bias', 'repeat_2.7.branch0.bn.weight', 'repeat_1.9.branch1.1.bn.running_mean', 'mixed_5b.branch0.bn.running_var', 'repeat_1.17.branch1.2.bn.running_var', 'repeat_2.7.branch1.0.bn.weight', 'repeat.0.branch2.1.conv.weight', 'repeat_1.1.branch0.bn.running_var', 'repeat.0.branch2.0.bn.weight', 'repeat.9.branch0.bn.bias', 'repeat_1.16.branch1.1.conv.weight', 'repeat.7.branch1.0.bn.bias', 'repeat.0.branch2.2.bn.running_var', 'repeat_2.5.branch0.bn.weight', 'repeat_1.2.branch1.1.bn.running_var', 'repeat_1.13.branch0.conv.weight', 'repeat.1.branch0.bn.bias', 'repeat_2.8.branch1.1.bn.running_mean', 'repeat.9.branch1.1.bn.running_var', 'repeat_1.10.branch1.2.bn.bias', 'repeat_1.10.branch1.0.bn.weight', 'repeat_2.2.branch1.1.conv.weight', 'repeat_1.15.branch1.1.bn.running_var', 'mixed_7a.branch0.0.bn.running_var', 'repeat_1.16.branch1.2.bn.bias', 'repeat.7.branch0.conv.weight', 'repeat.0.branch2.2.bn.bias', 'repeat_1.4.branch0.bn.weight', 'repeat_1.19.branch1.2.conv.weight', 'repeat_2.5.branch1.2.bn.running_mean', 'repeat_1.7.branch0.bn.running_mean', 'repeat_1.14.conv2d.weight', 'repeat_1.0.branch0.bn.weight', 'repeat.9.branch1.0.bn.weight', 'repeat_1.12.branch0.bn.running_var', 'repeat_2.4.branch1.2.conv.weight', 'repeat_2.3.branch1.0.bn.bias', 'repeat_1.0.branch0.bn.running_var', 'repeat.7.branch1.1.bn.weight', 'repeat_1.16.branch1.2.conv.weight', 'repeat_1.3.branch0.bn.bias', 'repeat.8.branch1.0.conv.weight', 'repeat_1.18.branch0.bn.bias', 'repeat_1.12.branch1.2.bn.bias', 'repeat_1.13.branch1.0.bn.bias', 'repeat_1.0.conv2d.weight', 'repeat.6.branch0.bn.running_var', 'repeat_1.2.branch1.1.bn.running_mean', 'repeat_2.8.branch1.0.bn.weight', 'repeat_1.6.branch1.0.bn.running_mean', 'repeat_2.6.branch1.0.bn.weight', 'repeat_2.2.branch1.0.bn.weight', 'repeat_2.5.branch1.0.bn.weight', 'repeat_2.6.branch0.bn.weight', 'repeat.5.branch1.0.conv.weight', 'repeat.3.branch2.2.bn.bias', 'repeat.8.conv2d.bias', 'repeat_2.5.conv2d.weight', 'repeat_1.5.branch1.2.bn.running_var', 'repeat.5.branch1.1.bn.running_mean', 'repeat.6.branch2.2.bn.bias', 'repeat.2.branch2.1.conv.weight', 'repeat.4.branch2.0.bn.running_mean', 'mixed_7a.branch2.0.bn.bias', 'repeat_1.9.branch0.bn.running_var', 'repeat_2.1.branch1.2.bn.weight', 'repeat.1.branch2.0.bn.running_mean', 'repeat_2.8.branch1.0.bn.running_var', 'repeat_2.8.branch1.2.bn.running_var', 'repeat_2.3.branch1.2.bn.running_var', 'repeat_1.18.branch1.2.bn.weight', 'repeat_1.17.branch0.conv.weight', 'repeat.9.branch2.1.bn.running_var', 'repeat.2.branch0.bn.running_var', 'repeat_1.16.branch1.1.bn.bias', 'repeat_1.3.branch0.bn.weight', 'repeat_1.4.branch1.2.bn.weight', 'repeat_1.0.branch1.2.bn.weight', 'repeat_1.8.branch0.bn.running_var', 'repeat_1.13.branch1.0.bn.running_mean', 'mixed_6a.branch1.1.conv.weight', 'repeat_1.19.branch1.2.bn.bias', 'repeat_1.3.branch1.2.bn.bias', 'repeat.3.branch0.bn.weight', 'repeat_1.3.branch1.0.bn.running_mean', 'repeat.6.branch2.1.bn.running_var', 'repeat_1.15.branch1.2.bn.bias', 'repeat_1.17.branch1.0.conv.weight', 'repeat.4.branch2.2.bn.running_var', 'repeat.4.branch2.0.bn.running_var', 'repeat_1.17.branch1.1.bn.bias', 'repeat_1.0.conv2d.bias', 'repeat_2.0.branch0.bn.running_var', 'repeat_1.19.branch1.0.conv.weight', 'repeat_1.5.branch1.2.bn.weight', 'repeat_1.3.branch1.0.bn.running_var', 'repeat.6.branch0.bn.bias', 'mixed_5b.branch1.1.bn.running_mean', 'repeat.1.branch1.1.bn.bias', 'repeat.5.branch0.bn.running_var', 'repeat.3.branch0.conv.weight', 'repeat.2.branch2.1.bn.running_mean', 'repeat_1.5.branch0.bn.bias', 'repeat_1.7.branch1.0.bn.running_mean', 'repeat.6.branch2.1.bn.running_mean', 'conv2d_2b.bn.bias', 'repeat.2.branch2.1.bn.bias', 'repeat_2.6.branch1.1.bn.bias', 'mixed_6a.branch1.2.bn.weight', 'repeat_1.7.branch1.0.bn.weight', 'repeat_1.15.branch1.0.bn.running_var', 'repeat.1.branch2.0.bn.bias', 'repeat_2.3.branch1.2.conv.weight', 'mixed_7a.branch1.0.conv.weight', 'repeat_2.4.branch1.1.bn.running_mean', 'repeat_2.8.branch0.bn.running_mean', 'repeat_1.17.branch1.2.conv.weight', 'repeat_1.0.branch1.0.bn.weight', 'repeat.2.branch1.0.bn.weight', 'block8.branch0.bn.weight', 'repeat_1.5.branch1.1.bn.bias', 'repeat_2.2.branch1.1.bn.running_mean', 'repeat_1.3.branch0.conv.weight', 'mixed_5b.branch2.2.bn.weight', 'repeat_1.3.branch1.1.bn.weight', 'repeat_1.11.conv2d.weight', 'repeat.1.branch1.0.bn.weight', 'repeat_1.5.branch1.2.conv.weight', 'repeat_2.2.branch1.1.bn.bias', 'repeat_1.6.branch0.bn.running_mean', 'repeat_1.8.branch1.2.bn.running_mean', 'repeat.3.branch0.bn.running_mean', 'repeat_1.2.branch1.1.bn.weight', 'repeat_1.14.branch1.2.bn.bias', 'repeat_1.9.branch0.conv.weight', 'repeat.5.branch0.bn.bias', 'repeat.7.branch2.2.bn.weight', 'repeat.5.branch0.conv.weight', 'repeat.5.branch2.0.bn.bias', 'repeat.0.branch2.0.bn.running_mean', 'repeat.6.branch1.1.bn.weight', 'repeat.2.branch1.1.bn.bias', 'repeat.9.branch1.1.bn.weight', 'repeat.8.branch1.1.conv.weight', 'repeat.6.branch2.2.bn.running_var', 'repeat_1.6.branch1.1.bn.running_mean', 'repeat_1.16.branch0.bn.running_mean', 'mixed_5b.branch2.1.conv.weight', 'repeat_1.0.branch0.bn.running_mean', 'block8.branch1.0.bn.running_mean', 'repeat.5.branch2.0.bn.running_var', 'repeat_1.3.conv2d.bias', 'repeat_1.3.branch1.1.bn.running_var', 'repeat.7.branch2.1.conv.weight', 'repeat.5.branch2.0.bn.running_mean', 'repeat_1.10.branch0.bn.running_var', 'repeat_1.7.branch1.2.bn.weight', 'repeat_1.6.branch1.2.bn.running_mean', 'repeat_1.14.branch1.1.bn.bias', 'block8.branch1.2.bn.weight', 'repeat.3.branch2.0.bn.weight', 'mixed_6a.branch0.bn.bias', 'repeat_1.9.conv2d.weight', 'repeat_1.15.branch1.2.bn.weight', 'repeat_1.18.branch0.bn.running_var', 'repeat_1.14.branch1.2.bn.weight', 'repeat_1.13.branch0.bn.running_mean', 'repeat_2.7.branch1.2.bn.running_var', 'repeat.6.branch1.1.bn.running_var', 'repeat_1.8.branch1.2.conv.weight', 'repeat_1.10.branch1.0.bn.running_var', 'repeat_1.14.branch1.1.bn.running_mean', 'repeat_2.1.branch1.0.bn.bias', 'repeat_1.4.conv2d.bias', 'repeat_1.2.branch1.2.bn.weight', 'repeat.6.branch0.bn.weight', 'repeat_1.10.branch1.0.bn.running_mean', 'repeat.1.branch1.0.bn.bias', 'repeat_2.4.conv2d.bias', 'mixed_5b.branch1.0.bn.bias', 'repeat.8.branch1.1.bn.running_mean', 'repeat.0.branch0.conv.weight', 'repeat_2.0.branch1.1.conv.weight', 'repeat.3.branch2.2.bn.weight', 'repeat.7.conv2d.bias', 'repeat_1.13.branch1.1.bn.running_mean', 'mixed_7a.branch0.0.bn.running_mean', 'mixed_5b.branch1.0.conv.weight', 'repeat.6.branch1.0.conv.weight', 'repeat.5.branch2.2.bn.weight', 'repeat_2.8.branch0.conv.weight', 'repeat.6.conv2d.bias', 'repeat_1.6.conv2d.bias', 'repeat_1.17.branch1.0.bn.bias', 'repeat_1.12.branch1.0.bn.bias', 'mixed_7a.branch1.0.bn.running_mean', 'repeat_1.11.branch1.0.bn.bias', 'repeat.6.branch2.0.conv.weight', 'repeat_1.19.branch1.2.bn.running_var', 'repeat.5.branch2.2.bn.bias', 'repeat_1.17.branch0.bn.running_var', 'repeat_1.11.branch0.bn.running_var', 'repeat.9.branch0.bn.weight', 'repeat_1.5.branch1.1.bn.running_mean', 'repeat_1.15.conv2d.weight', 'repeat.4.branch1.0.conv.weight', 'mixed_5b.branch1.0.bn.weight', 'repeat.9.branch2.2.bn.bias', 'repeat_1.0.branch1.2.bn.running_var', 'repeat_2.6.branch0.bn.bias', 'repeat_2.2.branch1.0.bn.bias', 'repeat_1.16.branch1.1.bn.running_var', 'repeat_2.5.branch0.bn.running_mean', 'repeat_1.17.branch1.1.conv.weight', 'repeat_1.2.branch1.0.bn.running_var', 'repeat_1.14.branch1.1.bn.running_var', 'repeat_1.4.branch0.conv.weight', 'repeat.6.branch1.1.bn.bias', 'repeat_2.1.branch0.conv.weight', 'repeat_2.1.conv2d.bias', 'repeat_1.17.branch1.2.bn.weight', 'repeat_1.12.branch1.2.bn.running_var', 'repeat_1.12.branch1.0.bn.running_mean', 'repeat.9.branch1.1.bn.running_mean', 'repeat.1.branch2.1.conv.weight', 'repeat_1.2.branch1.2.bn.bias', 'repeat.5.conv2d.weight', 'repeat_1.10.branch1.1.bn.weight', 'repeat.4.branch0.bn.running_mean', 'block8.branch0.conv.weight', 'repeat_1.16.branch0.conv.weight', 'repeat_1.19.branch1.0.bn.running_mean', 'repeat_1.8.branch0.bn.running_mean', 'repeat_1.3.branch1.2.bn.running_mean', 'repeat_1.1.branch1.0.bn.bias', 'repeat_1.5.conv2d.bias', 'repeat_1.15.branch1.1.bn.running_mean', 'repeat_2.1.branch1.2.bn.bias', 'repeat.1.branch1.1.bn.running_mean', 'repeat.3.branch1.0.bn.weight', 'repeat_1.12.branch1.0.bn.weight', 'repeat_2.8.branch1.2.bn.bias', 'repeat.7.branch2.1.bn.bias', 'repeat_2.6.branch0.bn.running_var', 'repeat_1.14.branch1.0.bn.bias', 'block8.branch1.2.conv.weight', 'repeat_1.8.branch0.conv.weight', 'repeat_2.6.conv2d.bias', 'repeat_1.15.branch0.bn.weight', 'mixed_5b.branch2.0.bn.running_mean', 'repeat_1.13.branch1.2.bn.running_mean', 'repeat_1.4.branch1.2.bn.bias', 'repeat.9.branch1.0.bn.running_mean', 'repeat_1.4.branch0.bn.running_mean', 'repeat_1.6.branch1.0.bn.weight', 'repeat.1.branch2.0.conv.weight', 'repeat_2.3.branch1.1.bn.bias', 'repeat_1.19.branch1.1.bn.bias', 'repeat_1.18.branch0.bn.weight', 'repeat.5.branch1.0.bn.bias', 'repeat_1.16.branch0.bn.bias', 'repeat_2.8.branch1.0.bn.bias', 'repeat_1.2.branch0.bn.running_mean', 'repeat_1.12.branch0.bn.running_mean', 'repeat.8.branch1.0.bn.weight', 'repeat_1.8.branch1.1.bn.running_mean', 'repeat_1.7.branch1.1.bn.bias', 'repeat_1.17.branch1.2.bn.running_mean', 'repeat_2.8.conv2d.bias', 'repeat_1.10.branch1.1.bn.running_mean', 'conv2d_7b.bn.running_mean', 'repeat.9.conv2d.weight', 'repeat_1.4.branch0.bn.bias', 'repeat.1.branch1.0.bn.running_var', 'repeat_2.0.branch1.2.bn.bias', 'repeat_2.1.branch1.1.conv.weight', 'repeat_1.10.branch1.2.bn.weight', 'repeat_1.17.conv2d.weight', 'repeat.5.branch2.1.bn.bias', 'repeat_1.12.branch0.bn.bias', 'repeat_1.16.branch1.1.bn.running_mean', 'repeat_2.0.branch1.1.bn.bias', 'mixed_6a.branch1.1.bn.running_var', 'mixed_7a.branch2.2.bn.bias', 'repeat_2.4.branch1.2.bn.weight', 'repeat_2.8.conv2d.weight', 'mixed_7a.branch2.2.conv.weight', 'repeat.0.branch0.bn.bias', 'repeat_2.6.branch0.conv.weight', 'repeat_1.11.branch1.1.bn.bias', 'repeat_1.17.branch1.0.bn.running_mean', 'repeat_1.1.branch1.1.conv.weight', 'repeat_1.17.branch1.0.bn.running_var', 'repeat_1.0.branch1.1.bn.weight', 'repeat.0.branch1.1.bn.running_var', 'repeat_1.0.branch1.2.bn.running_mean', 'repeat.4.branch2.0.bn.weight', 'mixed_6a.branch0.bn.running_var', 'repeat_1.4.branch1.1.bn.bias', 'repeat_2.1.branch1.1.bn.running_mean', 'repeat_2.4.branch1.1.bn.weight', 'repeat_2.4.branch1.0.conv.weight', 'repeat_1.6.branch1.1.bn.bias', 'repeat.0.branch1.1.bn.bias', 'repeat_2.6.branch1.2.bn.bias', 'conv2d_4a.bn.running_var', 'repeat_1.13.branch1.1.bn.weight', 'repeat_1.8.branch1.2.bn.running_var', 'repeat_1.8.branch1.2.bn.bias', 'repeat_2.6.branch1.2.bn.running_var', 'repeat.9.branch1.0.bn.running_var', 'repeat_2.0.branch0.conv.weight', 'repeat.5.branch1.1.bn.bias', 'repeat_1.18.branch1.2.bn.running_mean', 'repeat.8.conv2d.weight', 'repeat.9.branch2.0.bn.running_var', 'repeat_1.4.branch1.1.bn.weight', 'repeat.6.branch1.0.bn.weight', 'repeat_1.18.branch0.bn.running_mean', 'block8.branch1.0.conv.weight', 'repeat_1.11.branch1.2.bn.weight', 'repeat_1.9.branch1.2.bn.running_mean', 'repeat.7.branch1.0.bn.weight', 'repeat.0.branch1.1.bn.weight', 'repeat_1.7.branch0.conv.weight', 'repeat_2.3.branch1.1.bn.weight', 'repeat_1.12.branch1.2.bn.weight', 'repeat.9.branch2.0.bn.running_mean', 'repeat.3.branch0.bn.bias', 'repeat_1.17.branch0.bn.running_mean', 'repeat.6.branch1.1.bn.running_mean', 'repeat_1.19.branch1.0.bn.bias', 'repeat.6.branch2.0.bn.bias', 'repeat_1.12.branch1.1.bn.bias', 'repeat_2.1.branch0.bn.weight', 'repeat_2.1.branch1.1.bn.bias', 'repeat_2.4.branch1.1.bn.running_var', 'mixed_5b.branch3.1.bn.bias', 'conv2d_3b.conv.weight', 'repeat_2.6.branch1.2.bn.weight', 'repeat_1.10.branch1.2.conv.weight', 'repeat.0.branch1.0.bn.weight', 'repeat_1.4.branch1.0.bn.running_mean', 'repeat.2.branch1.0.conv.weight', 'repeat.4.conv2d.bias', 'repeat_1.5.branch0.bn.running_var', 'repeat.8.branch1.0.bn.running_var', 'repeat.7.branch1.1.bn.running_mean', 'repeat_2.7.conv2d.bias', 'repeat_1.13.branch0.bn.bias', 'conv2d_1a.conv.weight', 'repeat.1.branch1.0.conv.weight', 'repeat_2.1.branch0.bn.running_mean', 'repeat_1.2.conv2d.bias', 'repeat_1.11.branch1.1.conv.weight', 'repeat_2.4.branch1.0.bn.running_mean', 'mixed_5b.branch3.1.conv.weight', 'repeat_1.2.branch1.2.bn.running_var', 'repeat.4.branch1.1.bn.running_var', 'repeat_1.1.branch0.bn.bias', 'repeat.8.branch1.0.bn.running_mean', 'repeat_2.7.conv2d.weight', 'repeat_1.3.branch1.0.conv.weight', 'repeat_2.2.branch1.0.bn.running_mean', 'repeat.8.branch2.1.bn.running_var', 'conv2d_2b.conv.weight', 'repeat_1.0.branch1.1.bn.bias', 'repeat_1.2.branch1.0.bn.weight', 'repeat.1.branch2.2.bn.running_var', 'repeat.7.branch1.0.bn.running_mean', 'repeat_2.5.branch1.2.bn.running_var', 'repeat_1.8.branch1.1.bn.bias', 'repeat_1.11.branch1.1.bn.running_mean', 'mixed_7a.branch2.1.bn.running_var', 'mixed_5b.branch1.1.bn.bias', 'repeat.7.branch2.1.bn.weight', 'repeat.7.branch2.0.bn.running_var', 'repeat_1.9.branch1.1.bn.bias', 'repeat.2.branch2.1.bn.weight', 'repeat_1.12.branch0.bn.weight', 'repeat_1.1.branch1.1.bn.bias', 'mixed_7a.branch1.1.bn.running_mean', 'repeat.6.branch2.0.bn.running_mean', 'block8.branch1.1.bn.weight', 'mixed_5b.branch2.1.bn.running_mean', 'repeat.0.branch1.0.bn.bias', 'repeat_2.2.conv2d.weight', 'repeat_2.5.branch0.bn.bias', 'repeat_2.7.branch0.bn.running_mean', 'conv2d_3b.bn.running_mean', 'repeat_2.8.branch1.1.bn.weight', 'repeat_1.9.branch0.bn.weight', 'repeat.6.branch2.1.bn.weight', 'block8.branch1.0.bn.bias', 'repeat_1.13.branch1.1.bn.running_var', 'repeat.4.branch2.2.bn.bias', 'repeat_2.0.branch0.bn.bias', 'repeat_1.8.branch0.bn.bias', 'repeat.7.branch1.1.conv.weight', 'repeat_1.2.branch1.0.bn.running_mean', 'repeat_1.16.branch1.0.bn.bias', 'repeat_1.9.branch1.2.bn.running_var', 'repeat_2.1.branch1.1.bn.running_var', 'repeat_2.7.branch1.1.bn.bias', 'repeat_2.0.branch1.0.conv.weight', 'repeat.9.branch2.2.conv.weight', 'mixed_7a.branch2.0.bn.running_mean', 'repeat_1.16.branch1.0.conv.weight', 'repeat.4.branch2.1.bn.weight', 'repeat_2.4.branch0.bn.running_mean', 'repeat_2.3.branch1.2.bn.bias', 'repeat.4.branch0.conv.weight', 'conv2d_2a.conv.weight', 'repeat_2.5.branch1.1.bn.running_mean', 'repeat.4.branch1.1.bn.running_mean', 'mixed_5b.branch1.0.bn.running_mean', 'repeat_2.2.branch0.bn.bias', 'repeat_1.1.conv2d.bias', 'repeat_2.4.branch1.2.bn.running_mean', 'repeat_1.16.branch1.2.bn.running_mean', 'repeat_1.12.branch1.0.bn.running_var', 'repeat.6.conv2d.weight', 'repeat_1.17.conv2d.bias', 'repeat_1.18.branch1.1.bn.bias', 'repeat_1.9.conv2d.bias', 'repeat.4.branch1.1.bn.weight', 'repeat.1.branch1.1.bn.running_var', 'repeat_2.3.branch0.bn.weight', 'conv2d_3b.bn.weight', 'mixed_6a.branch0.bn.weight', 'repeat.9.branch0.conv.weight', 'repeat_1.19.branch1.1.bn.weight', 'repeat_1.7.branch1.1.bn.weight', 'mixed_6a.branch1.1.bn.weight', 'repeat.1.branch2.1.bn.running_var', 'conv2d_7b.bn.running_var', 'mixed_5b.branch2.2.conv.weight', 'repeat_2.1.branch1.1.bn.weight', 'repeat_2.0.branch1.1.bn.running_var', 'repeat.3.branch1.1.bn.weight', 'repeat_2.7.branch1.2.bn.running_mean', 'repeat.4.branch1.1.bn.bias', 'repeat_1.1.conv2d.weight', 'repeat_1.1.branch1.0.bn.running_var', 'mixed_5b.branch0.bn.running_mean', 'repeat_1.14.branch1.2.bn.running_mean', 'repeat_1.3.branch1.1.bn.bias', 'repeat_2.8.branch1.0.conv.weight', 'repeat.7.branch1.1.bn.running_var', 'repeat.1.branch2.2.bn.bias', 'repeat_1.6.branch1.2.bn.weight', 'conv2d_4a.conv.weight', 'repeat.0.branch1.1.conv.weight', 'repeat_1.2.branch1.2.bn.running_mean', 'repeat.6.branch2.2.bn.running_mean', 'mixed_7a.branch2.1.bn.bias', 'repeat.4.branch2.1.bn.running_var', 'repeat_1.13.branch1.0.conv.weight', 'repeat.7.branch2.2.bn.running_mean', 'repeat_1.5.conv2d.weight', 'repeat.1.branch2.2.conv.weight', 'repeat.8.branch2.1.conv.weight', 'repeat_2.8.branch1.1.conv.weight', 'repeat.3.branch2.0.bn.running_mean', 'mixed_5b.branch2.2.bn.running_mean', 'mixed_5b.branch0.bn.bias', 'repeat.9.branch2.2.bn.running_mean', 'repeat_2.6.branch1.0.bn.running_var', 'repeat.2.branch2.2.bn.running_mean', 'repeat_1.2.branch0.bn.bias', 'repeat_1.8.branch1.1.bn.running_var', 'block8.branch1.2.bn.running_mean', 'repeat.4.branch1.0.bn.bias', 'repeat_1.16.branch1.0.bn.running_mean', 'repeat_2.1.conv2d.weight', 'repeat.8.branch0.conv.weight', 'repeat_2.6.branch1.1.conv.weight', 'repeat.3.branch1.1.conv.weight', 'repeat_1.18.branch1.1.bn.weight', 'repeat_2.0.branch1.2.bn.running_var'])"
            ]
          },
          "metadata": {
            "tags": []
          },
          "execution_count": 12
        }
      ]
    },
    {
      "cell_type": "code",
      "metadata": {
        "id": "kRhxkceQ1IGa",
        "colab": {
          "base_uri": "https://localhost:8080/"
        },
        "outputId": "31966eec-32f4-4749-8a60-3f58b35a911e"
      },
      "source": [
        "!wget https://raw.githubusercontent.com/Cadene/pretrained-models.pytorch/master/pretrainedmodels/models/inceptionresnetv2.py"
      ],
      "execution_count": null,
      "outputs": [
        {
          "output_type": "stream",
          "text": [
            "--2021-05-29 17:16:50--  https://raw.githubusercontent.com/Cadene/pretrained-models.pytorch/master/pretrainedmodels/models/inceptionresnetv2.py\n",
            "Resolving raw.githubusercontent.com (raw.githubusercontent.com)... 185.199.108.133, 185.199.109.133, 185.199.110.133, ...\n",
            "Connecting to raw.githubusercontent.com (raw.githubusercontent.com)|185.199.108.133|:443... connected.\n",
            "HTTP request sent, awaiting response... 200 OK\n",
            "Length: 12055 (12K) [text/plain]\n",
            "Saving to: ‘inceptionresnetv2.py’\n",
            "\n",
            "\rinceptionresnetv2.p   0%[                    ]       0  --.-KB/s               \rinceptionresnetv2.p 100%[===================>]  11.77K  --.-KB/s    in 0s      \n",
            "\n",
            "2021-05-29 17:16:50 (80.3 MB/s) - ‘inceptionresnetv2.py’ saved [12055/12055]\n",
            "\n"
          ],
          "name": "stdout"
        }
      ]
    },
    {
      "cell_type": "code",
      "metadata": {
        "id": "reVJOf1dINuL"
      },
      "source": [
        "!rm inceptionresnetv2_t.py\n",
        "!cp inceptionresnetv2.py inceptionresnetv2_t.py"
      ],
      "execution_count": null,
      "outputs": []
    },
    {
      "cell_type": "code",
      "metadata": {
        "id": "WDhzYHC-IWQ4"
      },
      "source": [
        "import inceptionresnetv2_t as ipt_t\n",
        "import inceptionresnetv2_p as ipt_p"
      ],
      "execution_count": 16,
      "outputs": []
    },
    {
      "cell_type": "code",
      "metadata": {
        "id": "O6iuYHnoIbgs"
      },
      "source": [
        "model_t = ipt_t.InceptionResNetV2(num_classes=1001)\n",
        "model_p = ipt_p.InceptionResNetV2(num_classes=1001)"
      ],
      "execution_count": 17,
      "outputs": []
    },
    {
      "cell_type": "code",
      "metadata": {
        "id": "8BrjW3VZJB9W"
      },
      "source": [
        "model_p_dk = model_p.state_dict()\n",
        "model_t_dk = model_t.state_dict()"
      ],
      "execution_count": 18,
      "outputs": []
    },
    {
      "cell_type": "code",
      "metadata": {
        "colab": {
          "base_uri": "https://localhost:8080/"
        },
        "id": "L2x-Q3pJcdEq",
        "outputId": "f089f38d-c757-41df-9431-8038d9a1532a"
      },
      "source": [
        "len(model_p_dk.keys()),len(model_t_dk.keys())"
      ],
      "execution_count": 62,
      "outputs": [
        {
          "output_type": "execute_result",
          "data": {
            "text/plain": [
              "(1102, 1306)"
            ]
          },
          "metadata": {
            "tags": []
          },
          "execution_count": 62
        }
      ]
    },
    {
      "cell_type": "code",
      "metadata": {
        "colab": {
          "base_uri": "https://localhost:8080/"
        },
        "id": "6eW7x1tTdDb4",
        "outputId": "eb8f1094-2164-4a69-b6de-baf1745dbd30"
      },
      "source": [
        "len(inceptionresnetv2_t.keys())"
      ],
      "execution_count": null,
      "outputs": [
        {
          "output_type": "execute_result",
          "data": {
            "text/plain": [
              "1102"
            ]
          },
          "metadata": {
            "tags": []
          },
          "execution_count": 29
        }
      ]
    },
    {
      "cell_type": "code",
      "metadata": {
        "colab": {
          "base_uri": "https://localhost:8080/"
        },
        "id": "5vorBCsyjbuH",
        "outputId": "0a5dddea-fdc1-470c-df53-2b1083202859"
      },
      "source": [
        "len([x for x in model_t_dk.keys() if x.endswith(\"num_batches_tracked\")])"
      ],
      "execution_count": null,
      "outputs": [
        {
          "output_type": "execute_result",
          "data": {
            "text/plain": [
              "204"
            ]
          },
          "metadata": {
            "tags": []
          },
          "execution_count": 58
        }
      ]
    },
    {
      "cell_type": "code",
      "metadata": {
        "colab": {
          "base_uri": "https://localhost:8080/"
        },
        "id": "EANUy9eBecJv",
        "outputId": "c34ab815-dce7-48ca-e957-a01e8238803e"
      },
      "source": [
        "for i, (k_p, k_t) in enumerate(zip(model_p_dk.keys(), [x for x in model_t_dk.keys() if not x.endswith(\"num_batches_tracked\")])):\n",
        "  print(i, k_p, '=====', k_t)"
      ],
      "execution_count": null,
      "outputs": [
        {
          "output_type": "stream",
          "text": [
            "0 conv2d_1a.conv.weight ===== conv2d_1a.conv.weight\n",
            "1 conv2d_1a.bn.weight ===== conv2d_1a.bn.weight\n",
            "2 conv2d_1a.bn.bias ===== conv2d_1a.bn.bias\n",
            "3 conv2d_1a.bn._mean ===== conv2d_1a.bn.running_mean\n",
            "4 conv2d_1a.bn._variance ===== conv2d_1a.bn.running_var\n",
            "5 conv2d_2a.conv.weight ===== conv2d_2a.conv.weight\n",
            "6 conv2d_2a.bn.weight ===== conv2d_2a.bn.weight\n",
            "7 conv2d_2a.bn.bias ===== conv2d_2a.bn.bias\n",
            "8 conv2d_2a.bn._mean ===== conv2d_2a.bn.running_mean\n",
            "9 conv2d_2a.bn._variance ===== conv2d_2a.bn.running_var\n",
            "10 conv2d_2b.conv.weight ===== conv2d_2b.conv.weight\n",
            "11 conv2d_2b.bn.weight ===== conv2d_2b.bn.weight\n",
            "12 conv2d_2b.bn.bias ===== conv2d_2b.bn.bias\n",
            "13 conv2d_2b.bn._mean ===== conv2d_2b.bn.running_mean\n",
            "14 conv2d_2b.bn._variance ===== conv2d_2b.bn.running_var\n",
            "15 conv2d_3b.conv.weight ===== conv2d_3b.conv.weight\n",
            "16 conv2d_3b.bn.weight ===== conv2d_3b.bn.weight\n",
            "17 conv2d_3b.bn.bias ===== conv2d_3b.bn.bias\n",
            "18 conv2d_3b.bn._mean ===== conv2d_3b.bn.running_mean\n",
            "19 conv2d_3b.bn._variance ===== conv2d_3b.bn.running_var\n",
            "20 conv2d_4a.conv.weight ===== conv2d_4a.conv.weight\n",
            "21 conv2d_4a.bn.weight ===== conv2d_4a.bn.weight\n",
            "22 conv2d_4a.bn.bias ===== conv2d_4a.bn.bias\n",
            "23 conv2d_4a.bn._mean ===== conv2d_4a.bn.running_mean\n",
            "24 conv2d_4a.bn._variance ===== conv2d_4a.bn.running_var\n",
            "25 mixed_5b.branch0.conv.weight ===== mixed_5b.branch0.conv.weight\n",
            "26 mixed_5b.branch0.bn.weight ===== mixed_5b.branch0.bn.weight\n",
            "27 mixed_5b.branch0.bn.bias ===== mixed_5b.branch0.bn.bias\n",
            "28 mixed_5b.branch0.bn._mean ===== mixed_5b.branch0.bn.running_mean\n",
            "29 mixed_5b.branch0.bn._variance ===== mixed_5b.branch0.bn.running_var\n",
            "30 mixed_5b.branch1.0.conv.weight ===== mixed_5b.branch1.0.conv.weight\n",
            "31 mixed_5b.branch1.0.bn.weight ===== mixed_5b.branch1.0.bn.weight\n",
            "32 mixed_5b.branch1.0.bn.bias ===== mixed_5b.branch1.0.bn.bias\n",
            "33 mixed_5b.branch1.0.bn._mean ===== mixed_5b.branch1.0.bn.running_mean\n",
            "34 mixed_5b.branch1.0.bn._variance ===== mixed_5b.branch1.0.bn.running_var\n",
            "35 mixed_5b.branch1.1.conv.weight ===== mixed_5b.branch1.1.conv.weight\n",
            "36 mixed_5b.branch1.1.bn.weight ===== mixed_5b.branch1.1.bn.weight\n",
            "37 mixed_5b.branch1.1.bn.bias ===== mixed_5b.branch1.1.bn.bias\n",
            "38 mixed_5b.branch1.1.bn._mean ===== mixed_5b.branch1.1.bn.running_mean\n",
            "39 mixed_5b.branch1.1.bn._variance ===== mixed_5b.branch1.1.bn.running_var\n",
            "40 mixed_5b.branch2.0.conv.weight ===== mixed_5b.branch2.0.conv.weight\n",
            "41 mixed_5b.branch2.0.bn.weight ===== mixed_5b.branch2.0.bn.weight\n",
            "42 mixed_5b.branch2.0.bn.bias ===== mixed_5b.branch2.0.bn.bias\n",
            "43 mixed_5b.branch2.0.bn._mean ===== mixed_5b.branch2.0.bn.running_mean\n",
            "44 mixed_5b.branch2.0.bn._variance ===== mixed_5b.branch2.0.bn.running_var\n",
            "45 mixed_5b.branch2.1.conv.weight ===== mixed_5b.branch2.1.conv.weight\n",
            "46 mixed_5b.branch2.1.bn.weight ===== mixed_5b.branch2.1.bn.weight\n",
            "47 mixed_5b.branch2.1.bn.bias ===== mixed_5b.branch2.1.bn.bias\n",
            "48 mixed_5b.branch2.1.bn._mean ===== mixed_5b.branch2.1.bn.running_mean\n",
            "49 mixed_5b.branch2.1.bn._variance ===== mixed_5b.branch2.1.bn.running_var\n",
            "50 mixed_5b.branch2.2.conv.weight ===== mixed_5b.branch2.2.conv.weight\n",
            "51 mixed_5b.branch2.2.bn.weight ===== mixed_5b.branch2.2.bn.weight\n",
            "52 mixed_5b.branch2.2.bn.bias ===== mixed_5b.branch2.2.bn.bias\n",
            "53 mixed_5b.branch2.2.bn._mean ===== mixed_5b.branch2.2.bn.running_mean\n",
            "54 mixed_5b.branch2.2.bn._variance ===== mixed_5b.branch2.2.bn.running_var\n",
            "55 mixed_5b.branch3.1.conv.weight ===== mixed_5b.branch3.1.conv.weight\n",
            "56 mixed_5b.branch3.1.bn.weight ===== mixed_5b.branch3.1.bn.weight\n",
            "57 mixed_5b.branch3.1.bn.bias ===== mixed_5b.branch3.1.bn.bias\n",
            "58 mixed_5b.branch3.1.bn._mean ===== mixed_5b.branch3.1.bn.running_mean\n",
            "59 mixed_5b.branch3.1.bn._variance ===== mixed_5b.branch3.1.bn.running_var\n",
            "60 repeat.0.branch0.conv.weight ===== repeat.0.branch0.conv.weight\n",
            "61 repeat.0.branch0.bn.weight ===== repeat.0.branch0.bn.weight\n",
            "62 repeat.0.branch0.bn.bias ===== repeat.0.branch0.bn.bias\n",
            "63 repeat.0.branch0.bn._mean ===== repeat.0.branch0.bn.running_mean\n",
            "64 repeat.0.branch0.bn._variance ===== repeat.0.branch0.bn.running_var\n",
            "65 repeat.0.branch1.0.conv.weight ===== repeat.0.branch1.0.conv.weight\n",
            "66 repeat.0.branch1.0.bn.weight ===== repeat.0.branch1.0.bn.weight\n",
            "67 repeat.0.branch1.0.bn.bias ===== repeat.0.branch1.0.bn.bias\n",
            "68 repeat.0.branch1.0.bn._mean ===== repeat.0.branch1.0.bn.running_mean\n",
            "69 repeat.0.branch1.0.bn._variance ===== repeat.0.branch1.0.bn.running_var\n",
            "70 repeat.0.branch1.1.conv.weight ===== repeat.0.branch1.1.conv.weight\n",
            "71 repeat.0.branch1.1.bn.weight ===== repeat.0.branch1.1.bn.weight\n",
            "72 repeat.0.branch1.1.bn.bias ===== repeat.0.branch1.1.bn.bias\n",
            "73 repeat.0.branch1.1.bn._mean ===== repeat.0.branch1.1.bn.running_mean\n",
            "74 repeat.0.branch1.1.bn._variance ===== repeat.0.branch1.1.bn.running_var\n",
            "75 repeat.0.branch2.0.conv.weight ===== repeat.0.branch2.0.conv.weight\n",
            "76 repeat.0.branch2.0.bn.weight ===== repeat.0.branch2.0.bn.weight\n",
            "77 repeat.0.branch2.0.bn.bias ===== repeat.0.branch2.0.bn.bias\n",
            "78 repeat.0.branch2.0.bn._mean ===== repeat.0.branch2.0.bn.running_mean\n",
            "79 repeat.0.branch2.0.bn._variance ===== repeat.0.branch2.0.bn.running_var\n",
            "80 repeat.0.branch2.1.conv.weight ===== repeat.0.branch2.1.conv.weight\n",
            "81 repeat.0.branch2.1.bn.weight ===== repeat.0.branch2.1.bn.weight\n",
            "82 repeat.0.branch2.1.bn.bias ===== repeat.0.branch2.1.bn.bias\n",
            "83 repeat.0.branch2.1.bn._mean ===== repeat.0.branch2.1.bn.running_mean\n",
            "84 repeat.0.branch2.1.bn._variance ===== repeat.0.branch2.1.bn.running_var\n",
            "85 repeat.0.branch2.2.conv.weight ===== repeat.0.branch2.2.conv.weight\n",
            "86 repeat.0.branch2.2.bn.weight ===== repeat.0.branch2.2.bn.weight\n",
            "87 repeat.0.branch2.2.bn.bias ===== repeat.0.branch2.2.bn.bias\n",
            "88 repeat.0.branch2.2.bn._mean ===== repeat.0.branch2.2.bn.running_mean\n",
            "89 repeat.0.branch2.2.bn._variance ===== repeat.0.branch2.2.bn.running_var\n",
            "90 repeat.0.conv2d.weight ===== repeat.0.conv2d.weight\n",
            "91 repeat.0.conv2d.bias ===== repeat.0.conv2d.bias\n",
            "92 repeat.1.branch0.conv.weight ===== repeat.1.branch0.conv.weight\n",
            "93 repeat.1.branch0.bn.weight ===== repeat.1.branch0.bn.weight\n",
            "94 repeat.1.branch0.bn.bias ===== repeat.1.branch0.bn.bias\n",
            "95 repeat.1.branch0.bn._mean ===== repeat.1.branch0.bn.running_mean\n",
            "96 repeat.1.branch0.bn._variance ===== repeat.1.branch0.bn.running_var\n",
            "97 repeat.1.branch1.0.conv.weight ===== repeat.1.branch1.0.conv.weight\n",
            "98 repeat.1.branch1.0.bn.weight ===== repeat.1.branch1.0.bn.weight\n",
            "99 repeat.1.branch1.0.bn.bias ===== repeat.1.branch1.0.bn.bias\n",
            "100 repeat.1.branch1.0.bn._mean ===== repeat.1.branch1.0.bn.running_mean\n",
            "101 repeat.1.branch1.0.bn._variance ===== repeat.1.branch1.0.bn.running_var\n",
            "102 repeat.1.branch1.1.conv.weight ===== repeat.1.branch1.1.conv.weight\n",
            "103 repeat.1.branch1.1.bn.weight ===== repeat.1.branch1.1.bn.weight\n",
            "104 repeat.1.branch1.1.bn.bias ===== repeat.1.branch1.1.bn.bias\n",
            "105 repeat.1.branch1.1.bn._mean ===== repeat.1.branch1.1.bn.running_mean\n",
            "106 repeat.1.branch1.1.bn._variance ===== repeat.1.branch1.1.bn.running_var\n",
            "107 repeat.1.branch2.0.conv.weight ===== repeat.1.branch2.0.conv.weight\n",
            "108 repeat.1.branch2.0.bn.weight ===== repeat.1.branch2.0.bn.weight\n",
            "109 repeat.1.branch2.0.bn.bias ===== repeat.1.branch2.0.bn.bias\n",
            "110 repeat.1.branch2.0.bn._mean ===== repeat.1.branch2.0.bn.running_mean\n",
            "111 repeat.1.branch2.0.bn._variance ===== repeat.1.branch2.0.bn.running_var\n",
            "112 repeat.1.branch2.1.conv.weight ===== repeat.1.branch2.1.conv.weight\n",
            "113 repeat.1.branch2.1.bn.weight ===== repeat.1.branch2.1.bn.weight\n",
            "114 repeat.1.branch2.1.bn.bias ===== repeat.1.branch2.1.bn.bias\n",
            "115 repeat.1.branch2.1.bn._mean ===== repeat.1.branch2.1.bn.running_mean\n",
            "116 repeat.1.branch2.1.bn._variance ===== repeat.1.branch2.1.bn.running_var\n",
            "117 repeat.1.branch2.2.conv.weight ===== repeat.1.branch2.2.conv.weight\n",
            "118 repeat.1.branch2.2.bn.weight ===== repeat.1.branch2.2.bn.weight\n",
            "119 repeat.1.branch2.2.bn.bias ===== repeat.1.branch2.2.bn.bias\n",
            "120 repeat.1.branch2.2.bn._mean ===== repeat.1.branch2.2.bn.running_mean\n",
            "121 repeat.1.branch2.2.bn._variance ===== repeat.1.branch2.2.bn.running_var\n",
            "122 repeat.1.conv2d.weight ===== repeat.1.conv2d.weight\n",
            "123 repeat.1.conv2d.bias ===== repeat.1.conv2d.bias\n",
            "124 repeat.2.branch0.conv.weight ===== repeat.2.branch0.conv.weight\n",
            "125 repeat.2.branch0.bn.weight ===== repeat.2.branch0.bn.weight\n",
            "126 repeat.2.branch0.bn.bias ===== repeat.2.branch0.bn.bias\n",
            "127 repeat.2.branch0.bn._mean ===== repeat.2.branch0.bn.running_mean\n",
            "128 repeat.2.branch0.bn._variance ===== repeat.2.branch0.bn.running_var\n",
            "129 repeat.2.branch1.0.conv.weight ===== repeat.2.branch1.0.conv.weight\n",
            "130 repeat.2.branch1.0.bn.weight ===== repeat.2.branch1.0.bn.weight\n",
            "131 repeat.2.branch1.0.bn.bias ===== repeat.2.branch1.0.bn.bias\n",
            "132 repeat.2.branch1.0.bn._mean ===== repeat.2.branch1.0.bn.running_mean\n",
            "133 repeat.2.branch1.0.bn._variance ===== repeat.2.branch1.0.bn.running_var\n",
            "134 repeat.2.branch1.1.conv.weight ===== repeat.2.branch1.1.conv.weight\n",
            "135 repeat.2.branch1.1.bn.weight ===== repeat.2.branch1.1.bn.weight\n",
            "136 repeat.2.branch1.1.bn.bias ===== repeat.2.branch1.1.bn.bias\n",
            "137 repeat.2.branch1.1.bn._mean ===== repeat.2.branch1.1.bn.running_mean\n",
            "138 repeat.2.branch1.1.bn._variance ===== repeat.2.branch1.1.bn.running_var\n",
            "139 repeat.2.branch2.0.conv.weight ===== repeat.2.branch2.0.conv.weight\n",
            "140 repeat.2.branch2.0.bn.weight ===== repeat.2.branch2.0.bn.weight\n",
            "141 repeat.2.branch2.0.bn.bias ===== repeat.2.branch2.0.bn.bias\n",
            "142 repeat.2.branch2.0.bn._mean ===== repeat.2.branch2.0.bn.running_mean\n",
            "143 repeat.2.branch2.0.bn._variance ===== repeat.2.branch2.0.bn.running_var\n",
            "144 repeat.2.branch2.1.conv.weight ===== repeat.2.branch2.1.conv.weight\n",
            "145 repeat.2.branch2.1.bn.weight ===== repeat.2.branch2.1.bn.weight\n",
            "146 repeat.2.branch2.1.bn.bias ===== repeat.2.branch2.1.bn.bias\n",
            "147 repeat.2.branch2.1.bn._mean ===== repeat.2.branch2.1.bn.running_mean\n",
            "148 repeat.2.branch2.1.bn._variance ===== repeat.2.branch2.1.bn.running_var\n",
            "149 repeat.2.branch2.2.conv.weight ===== repeat.2.branch2.2.conv.weight\n",
            "150 repeat.2.branch2.2.bn.weight ===== repeat.2.branch2.2.bn.weight\n",
            "151 repeat.2.branch2.2.bn.bias ===== repeat.2.branch2.2.bn.bias\n",
            "152 repeat.2.branch2.2.bn._mean ===== repeat.2.branch2.2.bn.running_mean\n",
            "153 repeat.2.branch2.2.bn._variance ===== repeat.2.branch2.2.bn.running_var\n",
            "154 repeat.2.conv2d.weight ===== repeat.2.conv2d.weight\n",
            "155 repeat.2.conv2d.bias ===== repeat.2.conv2d.bias\n",
            "156 repeat.3.branch0.conv.weight ===== repeat.3.branch0.conv.weight\n",
            "157 repeat.3.branch0.bn.weight ===== repeat.3.branch0.bn.weight\n",
            "158 repeat.3.branch0.bn.bias ===== repeat.3.branch0.bn.bias\n",
            "159 repeat.3.branch0.bn._mean ===== repeat.3.branch0.bn.running_mean\n",
            "160 repeat.3.branch0.bn._variance ===== repeat.3.branch0.bn.running_var\n",
            "161 repeat.3.branch1.0.conv.weight ===== repeat.3.branch1.0.conv.weight\n",
            "162 repeat.3.branch1.0.bn.weight ===== repeat.3.branch1.0.bn.weight\n",
            "163 repeat.3.branch1.0.bn.bias ===== repeat.3.branch1.0.bn.bias\n",
            "164 repeat.3.branch1.0.bn._mean ===== repeat.3.branch1.0.bn.running_mean\n",
            "165 repeat.3.branch1.0.bn._variance ===== repeat.3.branch1.0.bn.running_var\n",
            "166 repeat.3.branch1.1.conv.weight ===== repeat.3.branch1.1.conv.weight\n",
            "167 repeat.3.branch1.1.bn.weight ===== repeat.3.branch1.1.bn.weight\n",
            "168 repeat.3.branch1.1.bn.bias ===== repeat.3.branch1.1.bn.bias\n",
            "169 repeat.3.branch1.1.bn._mean ===== repeat.3.branch1.1.bn.running_mean\n",
            "170 repeat.3.branch1.1.bn._variance ===== repeat.3.branch1.1.bn.running_var\n",
            "171 repeat.3.branch2.0.conv.weight ===== repeat.3.branch2.0.conv.weight\n",
            "172 repeat.3.branch2.0.bn.weight ===== repeat.3.branch2.0.bn.weight\n",
            "173 repeat.3.branch2.0.bn.bias ===== repeat.3.branch2.0.bn.bias\n",
            "174 repeat.3.branch2.0.bn._mean ===== repeat.3.branch2.0.bn.running_mean\n",
            "175 repeat.3.branch2.0.bn._variance ===== repeat.3.branch2.0.bn.running_var\n",
            "176 repeat.3.branch2.1.conv.weight ===== repeat.3.branch2.1.conv.weight\n",
            "177 repeat.3.branch2.1.bn.weight ===== repeat.3.branch2.1.bn.weight\n",
            "178 repeat.3.branch2.1.bn.bias ===== repeat.3.branch2.1.bn.bias\n",
            "179 repeat.3.branch2.1.bn._mean ===== repeat.3.branch2.1.bn.running_mean\n",
            "180 repeat.3.branch2.1.bn._variance ===== repeat.3.branch2.1.bn.running_var\n",
            "181 repeat.3.branch2.2.conv.weight ===== repeat.3.branch2.2.conv.weight\n",
            "182 repeat.3.branch2.2.bn.weight ===== repeat.3.branch2.2.bn.weight\n",
            "183 repeat.3.branch2.2.bn.bias ===== repeat.3.branch2.2.bn.bias\n",
            "184 repeat.3.branch2.2.bn._mean ===== repeat.3.branch2.2.bn.running_mean\n",
            "185 repeat.3.branch2.2.bn._variance ===== repeat.3.branch2.2.bn.running_var\n",
            "186 repeat.3.conv2d.weight ===== repeat.3.conv2d.weight\n",
            "187 repeat.3.conv2d.bias ===== repeat.3.conv2d.bias\n",
            "188 repeat.4.branch0.conv.weight ===== repeat.4.branch0.conv.weight\n",
            "189 repeat.4.branch0.bn.weight ===== repeat.4.branch0.bn.weight\n",
            "190 repeat.4.branch0.bn.bias ===== repeat.4.branch0.bn.bias\n",
            "191 repeat.4.branch0.bn._mean ===== repeat.4.branch0.bn.running_mean\n",
            "192 repeat.4.branch0.bn._variance ===== repeat.4.branch0.bn.running_var\n",
            "193 repeat.4.branch1.0.conv.weight ===== repeat.4.branch1.0.conv.weight\n",
            "194 repeat.4.branch1.0.bn.weight ===== repeat.4.branch1.0.bn.weight\n",
            "195 repeat.4.branch1.0.bn.bias ===== repeat.4.branch1.0.bn.bias\n",
            "196 repeat.4.branch1.0.bn._mean ===== repeat.4.branch1.0.bn.running_mean\n",
            "197 repeat.4.branch1.0.bn._variance ===== repeat.4.branch1.0.bn.running_var\n",
            "198 repeat.4.branch1.1.conv.weight ===== repeat.4.branch1.1.conv.weight\n",
            "199 repeat.4.branch1.1.bn.weight ===== repeat.4.branch1.1.bn.weight\n",
            "200 repeat.4.branch1.1.bn.bias ===== repeat.4.branch1.1.bn.bias\n",
            "201 repeat.4.branch1.1.bn._mean ===== repeat.4.branch1.1.bn.running_mean\n",
            "202 repeat.4.branch1.1.bn._variance ===== repeat.4.branch1.1.bn.running_var\n",
            "203 repeat.4.branch2.0.conv.weight ===== repeat.4.branch2.0.conv.weight\n",
            "204 repeat.4.branch2.0.bn.weight ===== repeat.4.branch2.0.bn.weight\n",
            "205 repeat.4.branch2.0.bn.bias ===== repeat.4.branch2.0.bn.bias\n",
            "206 repeat.4.branch2.0.bn._mean ===== repeat.4.branch2.0.bn.running_mean\n",
            "207 repeat.4.branch2.0.bn._variance ===== repeat.4.branch2.0.bn.running_var\n",
            "208 repeat.4.branch2.1.conv.weight ===== repeat.4.branch2.1.conv.weight\n",
            "209 repeat.4.branch2.1.bn.weight ===== repeat.4.branch2.1.bn.weight\n",
            "210 repeat.4.branch2.1.bn.bias ===== repeat.4.branch2.1.bn.bias\n",
            "211 repeat.4.branch2.1.bn._mean ===== repeat.4.branch2.1.bn.running_mean\n",
            "212 repeat.4.branch2.1.bn._variance ===== repeat.4.branch2.1.bn.running_var\n",
            "213 repeat.4.branch2.2.conv.weight ===== repeat.4.branch2.2.conv.weight\n",
            "214 repeat.4.branch2.2.bn.weight ===== repeat.4.branch2.2.bn.weight\n",
            "215 repeat.4.branch2.2.bn.bias ===== repeat.4.branch2.2.bn.bias\n",
            "216 repeat.4.branch2.2.bn._mean ===== repeat.4.branch2.2.bn.running_mean\n",
            "217 repeat.4.branch2.2.bn._variance ===== repeat.4.branch2.2.bn.running_var\n",
            "218 repeat.4.conv2d.weight ===== repeat.4.conv2d.weight\n",
            "219 repeat.4.conv2d.bias ===== repeat.4.conv2d.bias\n",
            "220 repeat.5.branch0.conv.weight ===== repeat.5.branch0.conv.weight\n",
            "221 repeat.5.branch0.bn.weight ===== repeat.5.branch0.bn.weight\n",
            "222 repeat.5.branch0.bn.bias ===== repeat.5.branch0.bn.bias\n",
            "223 repeat.5.branch0.bn._mean ===== repeat.5.branch0.bn.running_mean\n",
            "224 repeat.5.branch0.bn._variance ===== repeat.5.branch0.bn.running_var\n",
            "225 repeat.5.branch1.0.conv.weight ===== repeat.5.branch1.0.conv.weight\n",
            "226 repeat.5.branch1.0.bn.weight ===== repeat.5.branch1.0.bn.weight\n",
            "227 repeat.5.branch1.0.bn.bias ===== repeat.5.branch1.0.bn.bias\n",
            "228 repeat.5.branch1.0.bn._mean ===== repeat.5.branch1.0.bn.running_mean\n",
            "229 repeat.5.branch1.0.bn._variance ===== repeat.5.branch1.0.bn.running_var\n",
            "230 repeat.5.branch1.1.conv.weight ===== repeat.5.branch1.1.conv.weight\n",
            "231 repeat.5.branch1.1.bn.weight ===== repeat.5.branch1.1.bn.weight\n",
            "232 repeat.5.branch1.1.bn.bias ===== repeat.5.branch1.1.bn.bias\n",
            "233 repeat.5.branch1.1.bn._mean ===== repeat.5.branch1.1.bn.running_mean\n",
            "234 repeat.5.branch1.1.bn._variance ===== repeat.5.branch1.1.bn.running_var\n",
            "235 repeat.5.branch2.0.conv.weight ===== repeat.5.branch2.0.conv.weight\n",
            "236 repeat.5.branch2.0.bn.weight ===== repeat.5.branch2.0.bn.weight\n",
            "237 repeat.5.branch2.0.bn.bias ===== repeat.5.branch2.0.bn.bias\n",
            "238 repeat.5.branch2.0.bn._mean ===== repeat.5.branch2.0.bn.running_mean\n",
            "239 repeat.5.branch2.0.bn._variance ===== repeat.5.branch2.0.bn.running_var\n",
            "240 repeat.5.branch2.1.conv.weight ===== repeat.5.branch2.1.conv.weight\n",
            "241 repeat.5.branch2.1.bn.weight ===== repeat.5.branch2.1.bn.weight\n",
            "242 repeat.5.branch2.1.bn.bias ===== repeat.5.branch2.1.bn.bias\n",
            "243 repeat.5.branch2.1.bn._mean ===== repeat.5.branch2.1.bn.running_mean\n",
            "244 repeat.5.branch2.1.bn._variance ===== repeat.5.branch2.1.bn.running_var\n",
            "245 repeat.5.branch2.2.conv.weight ===== repeat.5.branch2.2.conv.weight\n",
            "246 repeat.5.branch2.2.bn.weight ===== repeat.5.branch2.2.bn.weight\n",
            "247 repeat.5.branch2.2.bn.bias ===== repeat.5.branch2.2.bn.bias\n",
            "248 repeat.5.branch2.2.bn._mean ===== repeat.5.branch2.2.bn.running_mean\n",
            "249 repeat.5.branch2.2.bn._variance ===== repeat.5.branch2.2.bn.running_var\n",
            "250 repeat.5.conv2d.weight ===== repeat.5.conv2d.weight\n",
            "251 repeat.5.conv2d.bias ===== repeat.5.conv2d.bias\n",
            "252 repeat.6.branch0.conv.weight ===== repeat.6.branch0.conv.weight\n",
            "253 repeat.6.branch0.bn.weight ===== repeat.6.branch0.bn.weight\n",
            "254 repeat.6.branch0.bn.bias ===== repeat.6.branch0.bn.bias\n",
            "255 repeat.6.branch0.bn._mean ===== repeat.6.branch0.bn.running_mean\n",
            "256 repeat.6.branch0.bn._variance ===== repeat.6.branch0.bn.running_var\n",
            "257 repeat.6.branch1.0.conv.weight ===== repeat.6.branch1.0.conv.weight\n",
            "258 repeat.6.branch1.0.bn.weight ===== repeat.6.branch1.0.bn.weight\n",
            "259 repeat.6.branch1.0.bn.bias ===== repeat.6.branch1.0.bn.bias\n",
            "260 repeat.6.branch1.0.bn._mean ===== repeat.6.branch1.0.bn.running_mean\n",
            "261 repeat.6.branch1.0.bn._variance ===== repeat.6.branch1.0.bn.running_var\n",
            "262 repeat.6.branch1.1.conv.weight ===== repeat.6.branch1.1.conv.weight\n",
            "263 repeat.6.branch1.1.bn.weight ===== repeat.6.branch1.1.bn.weight\n",
            "264 repeat.6.branch1.1.bn.bias ===== repeat.6.branch1.1.bn.bias\n",
            "265 repeat.6.branch1.1.bn._mean ===== repeat.6.branch1.1.bn.running_mean\n",
            "266 repeat.6.branch1.1.bn._variance ===== repeat.6.branch1.1.bn.running_var\n",
            "267 repeat.6.branch2.0.conv.weight ===== repeat.6.branch2.0.conv.weight\n",
            "268 repeat.6.branch2.0.bn.weight ===== repeat.6.branch2.0.bn.weight\n",
            "269 repeat.6.branch2.0.bn.bias ===== repeat.6.branch2.0.bn.bias\n",
            "270 repeat.6.branch2.0.bn._mean ===== repeat.6.branch2.0.bn.running_mean\n",
            "271 repeat.6.branch2.0.bn._variance ===== repeat.6.branch2.0.bn.running_var\n",
            "272 repeat.6.branch2.1.conv.weight ===== repeat.6.branch2.1.conv.weight\n",
            "273 repeat.6.branch2.1.bn.weight ===== repeat.6.branch2.1.bn.weight\n",
            "274 repeat.6.branch2.1.bn.bias ===== repeat.6.branch2.1.bn.bias\n",
            "275 repeat.6.branch2.1.bn._mean ===== repeat.6.branch2.1.bn.running_mean\n",
            "276 repeat.6.branch2.1.bn._variance ===== repeat.6.branch2.1.bn.running_var\n",
            "277 repeat.6.branch2.2.conv.weight ===== repeat.6.branch2.2.conv.weight\n",
            "278 repeat.6.branch2.2.bn.weight ===== repeat.6.branch2.2.bn.weight\n",
            "279 repeat.6.branch2.2.bn.bias ===== repeat.6.branch2.2.bn.bias\n",
            "280 repeat.6.branch2.2.bn._mean ===== repeat.6.branch2.2.bn.running_mean\n",
            "281 repeat.6.branch2.2.bn._variance ===== repeat.6.branch2.2.bn.running_var\n",
            "282 repeat.6.conv2d.weight ===== repeat.6.conv2d.weight\n",
            "283 repeat.6.conv2d.bias ===== repeat.6.conv2d.bias\n",
            "284 repeat.7.branch0.conv.weight ===== repeat.7.branch0.conv.weight\n",
            "285 repeat.7.branch0.bn.weight ===== repeat.7.branch0.bn.weight\n",
            "286 repeat.7.branch0.bn.bias ===== repeat.7.branch0.bn.bias\n",
            "287 repeat.7.branch0.bn._mean ===== repeat.7.branch0.bn.running_mean\n",
            "288 repeat.7.branch0.bn._variance ===== repeat.7.branch0.bn.running_var\n",
            "289 repeat.7.branch1.0.conv.weight ===== repeat.7.branch1.0.conv.weight\n",
            "290 repeat.7.branch1.0.bn.weight ===== repeat.7.branch1.0.bn.weight\n",
            "291 repeat.7.branch1.0.bn.bias ===== repeat.7.branch1.0.bn.bias\n",
            "292 repeat.7.branch1.0.bn._mean ===== repeat.7.branch1.0.bn.running_mean\n",
            "293 repeat.7.branch1.0.bn._variance ===== repeat.7.branch1.0.bn.running_var\n",
            "294 repeat.7.branch1.1.conv.weight ===== repeat.7.branch1.1.conv.weight\n",
            "295 repeat.7.branch1.1.bn.weight ===== repeat.7.branch1.1.bn.weight\n",
            "296 repeat.7.branch1.1.bn.bias ===== repeat.7.branch1.1.bn.bias\n",
            "297 repeat.7.branch1.1.bn._mean ===== repeat.7.branch1.1.bn.running_mean\n",
            "298 repeat.7.branch1.1.bn._variance ===== repeat.7.branch1.1.bn.running_var\n",
            "299 repeat.7.branch2.0.conv.weight ===== repeat.7.branch2.0.conv.weight\n",
            "300 repeat.7.branch2.0.bn.weight ===== repeat.7.branch2.0.bn.weight\n",
            "301 repeat.7.branch2.0.bn.bias ===== repeat.7.branch2.0.bn.bias\n",
            "302 repeat.7.branch2.0.bn._mean ===== repeat.7.branch2.0.bn.running_mean\n",
            "303 repeat.7.branch2.0.bn._variance ===== repeat.7.branch2.0.bn.running_var\n",
            "304 repeat.7.branch2.1.conv.weight ===== repeat.7.branch2.1.conv.weight\n",
            "305 repeat.7.branch2.1.bn.weight ===== repeat.7.branch2.1.bn.weight\n",
            "306 repeat.7.branch2.1.bn.bias ===== repeat.7.branch2.1.bn.bias\n",
            "307 repeat.7.branch2.1.bn._mean ===== repeat.7.branch2.1.bn.running_mean\n",
            "308 repeat.7.branch2.1.bn._variance ===== repeat.7.branch2.1.bn.running_var\n",
            "309 repeat.7.branch2.2.conv.weight ===== repeat.7.branch2.2.conv.weight\n",
            "310 repeat.7.branch2.2.bn.weight ===== repeat.7.branch2.2.bn.weight\n",
            "311 repeat.7.branch2.2.bn.bias ===== repeat.7.branch2.2.bn.bias\n",
            "312 repeat.7.branch2.2.bn._mean ===== repeat.7.branch2.2.bn.running_mean\n",
            "313 repeat.7.branch2.2.bn._variance ===== repeat.7.branch2.2.bn.running_var\n",
            "314 repeat.7.conv2d.weight ===== repeat.7.conv2d.weight\n",
            "315 repeat.7.conv2d.bias ===== repeat.7.conv2d.bias\n",
            "316 repeat.8.branch0.conv.weight ===== repeat.8.branch0.conv.weight\n",
            "317 repeat.8.branch0.bn.weight ===== repeat.8.branch0.bn.weight\n",
            "318 repeat.8.branch0.bn.bias ===== repeat.8.branch0.bn.bias\n",
            "319 repeat.8.branch0.bn._mean ===== repeat.8.branch0.bn.running_mean\n",
            "320 repeat.8.branch0.bn._variance ===== repeat.8.branch0.bn.running_var\n",
            "321 repeat.8.branch1.0.conv.weight ===== repeat.8.branch1.0.conv.weight\n",
            "322 repeat.8.branch1.0.bn.weight ===== repeat.8.branch1.0.bn.weight\n",
            "323 repeat.8.branch1.0.bn.bias ===== repeat.8.branch1.0.bn.bias\n",
            "324 repeat.8.branch1.0.bn._mean ===== repeat.8.branch1.0.bn.running_mean\n",
            "325 repeat.8.branch1.0.bn._variance ===== repeat.8.branch1.0.bn.running_var\n",
            "326 repeat.8.branch1.1.conv.weight ===== repeat.8.branch1.1.conv.weight\n",
            "327 repeat.8.branch1.1.bn.weight ===== repeat.8.branch1.1.bn.weight\n",
            "328 repeat.8.branch1.1.bn.bias ===== repeat.8.branch1.1.bn.bias\n",
            "329 repeat.8.branch1.1.bn._mean ===== repeat.8.branch1.1.bn.running_mean\n",
            "330 repeat.8.branch1.1.bn._variance ===== repeat.8.branch1.1.bn.running_var\n",
            "331 repeat.8.branch2.0.conv.weight ===== repeat.8.branch2.0.conv.weight\n",
            "332 repeat.8.branch2.0.bn.weight ===== repeat.8.branch2.0.bn.weight\n",
            "333 repeat.8.branch2.0.bn.bias ===== repeat.8.branch2.0.bn.bias\n",
            "334 repeat.8.branch2.0.bn._mean ===== repeat.8.branch2.0.bn.running_mean\n",
            "335 repeat.8.branch2.0.bn._variance ===== repeat.8.branch2.0.bn.running_var\n",
            "336 repeat.8.branch2.1.conv.weight ===== repeat.8.branch2.1.conv.weight\n",
            "337 repeat.8.branch2.1.bn.weight ===== repeat.8.branch2.1.bn.weight\n",
            "338 repeat.8.branch2.1.bn.bias ===== repeat.8.branch2.1.bn.bias\n",
            "339 repeat.8.branch2.1.bn._mean ===== repeat.8.branch2.1.bn.running_mean\n",
            "340 repeat.8.branch2.1.bn._variance ===== repeat.8.branch2.1.bn.running_var\n",
            "341 repeat.8.branch2.2.conv.weight ===== repeat.8.branch2.2.conv.weight\n",
            "342 repeat.8.branch2.2.bn.weight ===== repeat.8.branch2.2.bn.weight\n",
            "343 repeat.8.branch2.2.bn.bias ===== repeat.8.branch2.2.bn.bias\n",
            "344 repeat.8.branch2.2.bn._mean ===== repeat.8.branch2.2.bn.running_mean\n",
            "345 repeat.8.branch2.2.bn._variance ===== repeat.8.branch2.2.bn.running_var\n",
            "346 repeat.8.conv2d.weight ===== repeat.8.conv2d.weight\n",
            "347 repeat.8.conv2d.bias ===== repeat.8.conv2d.bias\n",
            "348 repeat.9.branch0.conv.weight ===== repeat.9.branch0.conv.weight\n",
            "349 repeat.9.branch0.bn.weight ===== repeat.9.branch0.bn.weight\n",
            "350 repeat.9.branch0.bn.bias ===== repeat.9.branch0.bn.bias\n",
            "351 repeat.9.branch0.bn._mean ===== repeat.9.branch0.bn.running_mean\n",
            "352 repeat.9.branch0.bn._variance ===== repeat.9.branch0.bn.running_var\n",
            "353 repeat.9.branch1.0.conv.weight ===== repeat.9.branch1.0.conv.weight\n",
            "354 repeat.9.branch1.0.bn.weight ===== repeat.9.branch1.0.bn.weight\n",
            "355 repeat.9.branch1.0.bn.bias ===== repeat.9.branch1.0.bn.bias\n",
            "356 repeat.9.branch1.0.bn._mean ===== repeat.9.branch1.0.bn.running_mean\n",
            "357 repeat.9.branch1.0.bn._variance ===== repeat.9.branch1.0.bn.running_var\n",
            "358 repeat.9.branch1.1.conv.weight ===== repeat.9.branch1.1.conv.weight\n",
            "359 repeat.9.branch1.1.bn.weight ===== repeat.9.branch1.1.bn.weight\n",
            "360 repeat.9.branch1.1.bn.bias ===== repeat.9.branch1.1.bn.bias\n",
            "361 repeat.9.branch1.1.bn._mean ===== repeat.9.branch1.1.bn.running_mean\n",
            "362 repeat.9.branch1.1.bn._variance ===== repeat.9.branch1.1.bn.running_var\n",
            "363 repeat.9.branch2.0.conv.weight ===== repeat.9.branch2.0.conv.weight\n",
            "364 repeat.9.branch2.0.bn.weight ===== repeat.9.branch2.0.bn.weight\n",
            "365 repeat.9.branch2.0.bn.bias ===== repeat.9.branch2.0.bn.bias\n",
            "366 repeat.9.branch2.0.bn._mean ===== repeat.9.branch2.0.bn.running_mean\n",
            "367 repeat.9.branch2.0.bn._variance ===== repeat.9.branch2.0.bn.running_var\n",
            "368 repeat.9.branch2.1.conv.weight ===== repeat.9.branch2.1.conv.weight\n",
            "369 repeat.9.branch2.1.bn.weight ===== repeat.9.branch2.1.bn.weight\n",
            "370 repeat.9.branch2.1.bn.bias ===== repeat.9.branch2.1.bn.bias\n",
            "371 repeat.9.branch2.1.bn._mean ===== repeat.9.branch2.1.bn.running_mean\n",
            "372 repeat.9.branch2.1.bn._variance ===== repeat.9.branch2.1.bn.running_var\n",
            "373 repeat.9.branch2.2.conv.weight ===== repeat.9.branch2.2.conv.weight\n",
            "374 repeat.9.branch2.2.bn.weight ===== repeat.9.branch2.2.bn.weight\n",
            "375 repeat.9.branch2.2.bn.bias ===== repeat.9.branch2.2.bn.bias\n",
            "376 repeat.9.branch2.2.bn._mean ===== repeat.9.branch2.2.bn.running_mean\n",
            "377 repeat.9.branch2.2.bn._variance ===== repeat.9.branch2.2.bn.running_var\n",
            "378 repeat.9.conv2d.weight ===== repeat.9.conv2d.weight\n",
            "379 repeat.9.conv2d.bias ===== repeat.9.conv2d.bias\n",
            "380 mixed_6a.branch0.conv.weight ===== mixed_6a.branch0.conv.weight\n",
            "381 mixed_6a.branch0.bn.weight ===== mixed_6a.branch0.bn.weight\n",
            "382 mixed_6a.branch0.bn.bias ===== mixed_6a.branch0.bn.bias\n",
            "383 mixed_6a.branch0.bn._mean ===== mixed_6a.branch0.bn.running_mean\n",
            "384 mixed_6a.branch0.bn._variance ===== mixed_6a.branch0.bn.running_var\n",
            "385 mixed_6a.branch1.0.conv.weight ===== mixed_6a.branch1.0.conv.weight\n",
            "386 mixed_6a.branch1.0.bn.weight ===== mixed_6a.branch1.0.bn.weight\n",
            "387 mixed_6a.branch1.0.bn.bias ===== mixed_6a.branch1.0.bn.bias\n",
            "388 mixed_6a.branch1.0.bn._mean ===== mixed_6a.branch1.0.bn.running_mean\n",
            "389 mixed_6a.branch1.0.bn._variance ===== mixed_6a.branch1.0.bn.running_var\n",
            "390 mixed_6a.branch1.1.conv.weight ===== mixed_6a.branch1.1.conv.weight\n",
            "391 mixed_6a.branch1.1.bn.weight ===== mixed_6a.branch1.1.bn.weight\n",
            "392 mixed_6a.branch1.1.bn.bias ===== mixed_6a.branch1.1.bn.bias\n",
            "393 mixed_6a.branch1.1.bn._mean ===== mixed_6a.branch1.1.bn.running_mean\n",
            "394 mixed_6a.branch1.1.bn._variance ===== mixed_6a.branch1.1.bn.running_var\n",
            "395 mixed_6a.branch1.2.conv.weight ===== mixed_6a.branch1.2.conv.weight\n",
            "396 mixed_6a.branch1.2.bn.weight ===== mixed_6a.branch1.2.bn.weight\n",
            "397 mixed_6a.branch1.2.bn.bias ===== mixed_6a.branch1.2.bn.bias\n",
            "398 mixed_6a.branch1.2.bn._mean ===== mixed_6a.branch1.2.bn.running_mean\n",
            "399 mixed_6a.branch1.2.bn._variance ===== mixed_6a.branch1.2.bn.running_var\n",
            "400 repeat_1.0.branch0.conv.weight ===== repeat_1.0.branch0.conv.weight\n",
            "401 repeat_1.0.branch0.bn.weight ===== repeat_1.0.branch0.bn.weight\n",
            "402 repeat_1.0.branch0.bn.bias ===== repeat_1.0.branch0.bn.bias\n",
            "403 repeat_1.0.branch0.bn._mean ===== repeat_1.0.branch0.bn.running_mean\n",
            "404 repeat_1.0.branch0.bn._variance ===== repeat_1.0.branch0.bn.running_var\n",
            "405 repeat_1.0.branch1.0.conv.weight ===== repeat_1.0.branch1.0.conv.weight\n",
            "406 repeat_1.0.branch1.0.bn.weight ===== repeat_1.0.branch1.0.bn.weight\n",
            "407 repeat_1.0.branch1.0.bn.bias ===== repeat_1.0.branch1.0.bn.bias\n",
            "408 repeat_1.0.branch1.0.bn._mean ===== repeat_1.0.branch1.0.bn.running_mean\n",
            "409 repeat_1.0.branch1.0.bn._variance ===== repeat_1.0.branch1.0.bn.running_var\n",
            "410 repeat_1.0.branch1.1.conv.weight ===== repeat_1.0.branch1.1.conv.weight\n",
            "411 repeat_1.0.branch1.1.bn.weight ===== repeat_1.0.branch1.1.bn.weight\n",
            "412 repeat_1.0.branch1.1.bn.bias ===== repeat_1.0.branch1.1.bn.bias\n",
            "413 repeat_1.0.branch1.1.bn._mean ===== repeat_1.0.branch1.1.bn.running_mean\n",
            "414 repeat_1.0.branch1.1.bn._variance ===== repeat_1.0.branch1.1.bn.running_var\n",
            "415 repeat_1.0.branch1.2.conv.weight ===== repeat_1.0.branch1.2.conv.weight\n",
            "416 repeat_1.0.branch1.2.bn.weight ===== repeat_1.0.branch1.2.bn.weight\n",
            "417 repeat_1.0.branch1.2.bn.bias ===== repeat_1.0.branch1.2.bn.bias\n",
            "418 repeat_1.0.branch1.2.bn._mean ===== repeat_1.0.branch1.2.bn.running_mean\n",
            "419 repeat_1.0.branch1.2.bn._variance ===== repeat_1.0.branch1.2.bn.running_var\n",
            "420 repeat_1.0.conv2d.weight ===== repeat_1.0.conv2d.weight\n",
            "421 repeat_1.0.conv2d.bias ===== repeat_1.0.conv2d.bias\n",
            "422 repeat_1.1.branch0.conv.weight ===== repeat_1.1.branch0.conv.weight\n",
            "423 repeat_1.1.branch0.bn.weight ===== repeat_1.1.branch0.bn.weight\n",
            "424 repeat_1.1.branch0.bn.bias ===== repeat_1.1.branch0.bn.bias\n",
            "425 repeat_1.1.branch0.bn._mean ===== repeat_1.1.branch0.bn.running_mean\n",
            "426 repeat_1.1.branch0.bn._variance ===== repeat_1.1.branch0.bn.running_var\n",
            "427 repeat_1.1.branch1.0.conv.weight ===== repeat_1.1.branch1.0.conv.weight\n",
            "428 repeat_1.1.branch1.0.bn.weight ===== repeat_1.1.branch1.0.bn.weight\n",
            "429 repeat_1.1.branch1.0.bn.bias ===== repeat_1.1.branch1.0.bn.bias\n",
            "430 repeat_1.1.branch1.0.bn._mean ===== repeat_1.1.branch1.0.bn.running_mean\n",
            "431 repeat_1.1.branch1.0.bn._variance ===== repeat_1.1.branch1.0.bn.running_var\n",
            "432 repeat_1.1.branch1.1.conv.weight ===== repeat_1.1.branch1.1.conv.weight\n",
            "433 repeat_1.1.branch1.1.bn.weight ===== repeat_1.1.branch1.1.bn.weight\n",
            "434 repeat_1.1.branch1.1.bn.bias ===== repeat_1.1.branch1.1.bn.bias\n",
            "435 repeat_1.1.branch1.1.bn._mean ===== repeat_1.1.branch1.1.bn.running_mean\n",
            "436 repeat_1.1.branch1.1.bn._variance ===== repeat_1.1.branch1.1.bn.running_var\n",
            "437 repeat_1.1.branch1.2.conv.weight ===== repeat_1.1.branch1.2.conv.weight\n",
            "438 repeat_1.1.branch1.2.bn.weight ===== repeat_1.1.branch1.2.bn.weight\n",
            "439 repeat_1.1.branch1.2.bn.bias ===== repeat_1.1.branch1.2.bn.bias\n",
            "440 repeat_1.1.branch1.2.bn._mean ===== repeat_1.1.branch1.2.bn.running_mean\n",
            "441 repeat_1.1.branch1.2.bn._variance ===== repeat_1.1.branch1.2.bn.running_var\n",
            "442 repeat_1.1.conv2d.weight ===== repeat_1.1.conv2d.weight\n",
            "443 repeat_1.1.conv2d.bias ===== repeat_1.1.conv2d.bias\n",
            "444 repeat_1.2.branch0.conv.weight ===== repeat_1.2.branch0.conv.weight\n",
            "445 repeat_1.2.branch0.bn.weight ===== repeat_1.2.branch0.bn.weight\n",
            "446 repeat_1.2.branch0.bn.bias ===== repeat_1.2.branch0.bn.bias\n",
            "447 repeat_1.2.branch0.bn._mean ===== repeat_1.2.branch0.bn.running_mean\n",
            "448 repeat_1.2.branch0.bn._variance ===== repeat_1.2.branch0.bn.running_var\n",
            "449 repeat_1.2.branch1.0.conv.weight ===== repeat_1.2.branch1.0.conv.weight\n",
            "450 repeat_1.2.branch1.0.bn.weight ===== repeat_1.2.branch1.0.bn.weight\n",
            "451 repeat_1.2.branch1.0.bn.bias ===== repeat_1.2.branch1.0.bn.bias\n",
            "452 repeat_1.2.branch1.0.bn._mean ===== repeat_1.2.branch1.0.bn.running_mean\n",
            "453 repeat_1.2.branch1.0.bn._variance ===== repeat_1.2.branch1.0.bn.running_var\n",
            "454 repeat_1.2.branch1.1.conv.weight ===== repeat_1.2.branch1.1.conv.weight\n",
            "455 repeat_1.2.branch1.1.bn.weight ===== repeat_1.2.branch1.1.bn.weight\n",
            "456 repeat_1.2.branch1.1.bn.bias ===== repeat_1.2.branch1.1.bn.bias\n",
            "457 repeat_1.2.branch1.1.bn._mean ===== repeat_1.2.branch1.1.bn.running_mean\n",
            "458 repeat_1.2.branch1.1.bn._variance ===== repeat_1.2.branch1.1.bn.running_var\n",
            "459 repeat_1.2.branch1.2.conv.weight ===== repeat_1.2.branch1.2.conv.weight\n",
            "460 repeat_1.2.branch1.2.bn.weight ===== repeat_1.2.branch1.2.bn.weight\n",
            "461 repeat_1.2.branch1.2.bn.bias ===== repeat_1.2.branch1.2.bn.bias\n",
            "462 repeat_1.2.branch1.2.bn._mean ===== repeat_1.2.branch1.2.bn.running_mean\n",
            "463 repeat_1.2.branch1.2.bn._variance ===== repeat_1.2.branch1.2.bn.running_var\n",
            "464 repeat_1.2.conv2d.weight ===== repeat_1.2.conv2d.weight\n",
            "465 repeat_1.2.conv2d.bias ===== repeat_1.2.conv2d.bias\n",
            "466 repeat_1.3.branch0.conv.weight ===== repeat_1.3.branch0.conv.weight\n",
            "467 repeat_1.3.branch0.bn.weight ===== repeat_1.3.branch0.bn.weight\n",
            "468 repeat_1.3.branch0.bn.bias ===== repeat_1.3.branch0.bn.bias\n",
            "469 repeat_1.3.branch0.bn._mean ===== repeat_1.3.branch0.bn.running_mean\n",
            "470 repeat_1.3.branch0.bn._variance ===== repeat_1.3.branch0.bn.running_var\n",
            "471 repeat_1.3.branch1.0.conv.weight ===== repeat_1.3.branch1.0.conv.weight\n",
            "472 repeat_1.3.branch1.0.bn.weight ===== repeat_1.3.branch1.0.bn.weight\n",
            "473 repeat_1.3.branch1.0.bn.bias ===== repeat_1.3.branch1.0.bn.bias\n",
            "474 repeat_1.3.branch1.0.bn._mean ===== repeat_1.3.branch1.0.bn.running_mean\n",
            "475 repeat_1.3.branch1.0.bn._variance ===== repeat_1.3.branch1.0.bn.running_var\n",
            "476 repeat_1.3.branch1.1.conv.weight ===== repeat_1.3.branch1.1.conv.weight\n",
            "477 repeat_1.3.branch1.1.bn.weight ===== repeat_1.3.branch1.1.bn.weight\n",
            "478 repeat_1.3.branch1.1.bn.bias ===== repeat_1.3.branch1.1.bn.bias\n",
            "479 repeat_1.3.branch1.1.bn._mean ===== repeat_1.3.branch1.1.bn.running_mean\n",
            "480 repeat_1.3.branch1.1.bn._variance ===== repeat_1.3.branch1.1.bn.running_var\n",
            "481 repeat_1.3.branch1.2.conv.weight ===== repeat_1.3.branch1.2.conv.weight\n",
            "482 repeat_1.3.branch1.2.bn.weight ===== repeat_1.3.branch1.2.bn.weight\n",
            "483 repeat_1.3.branch1.2.bn.bias ===== repeat_1.3.branch1.2.bn.bias\n",
            "484 repeat_1.3.branch1.2.bn._mean ===== repeat_1.3.branch1.2.bn.running_mean\n",
            "485 repeat_1.3.branch1.2.bn._variance ===== repeat_1.3.branch1.2.bn.running_var\n",
            "486 repeat_1.3.conv2d.weight ===== repeat_1.3.conv2d.weight\n",
            "487 repeat_1.3.conv2d.bias ===== repeat_1.3.conv2d.bias\n",
            "488 repeat_1.4.branch0.conv.weight ===== repeat_1.4.branch0.conv.weight\n",
            "489 repeat_1.4.branch0.bn.weight ===== repeat_1.4.branch0.bn.weight\n",
            "490 repeat_1.4.branch0.bn.bias ===== repeat_1.4.branch0.bn.bias\n",
            "491 repeat_1.4.branch0.bn._mean ===== repeat_1.4.branch0.bn.running_mean\n",
            "492 repeat_1.4.branch0.bn._variance ===== repeat_1.4.branch0.bn.running_var\n",
            "493 repeat_1.4.branch1.0.conv.weight ===== repeat_1.4.branch1.0.conv.weight\n",
            "494 repeat_1.4.branch1.0.bn.weight ===== repeat_1.4.branch1.0.bn.weight\n",
            "495 repeat_1.4.branch1.0.bn.bias ===== repeat_1.4.branch1.0.bn.bias\n",
            "496 repeat_1.4.branch1.0.bn._mean ===== repeat_1.4.branch1.0.bn.running_mean\n",
            "497 repeat_1.4.branch1.0.bn._variance ===== repeat_1.4.branch1.0.bn.running_var\n",
            "498 repeat_1.4.branch1.1.conv.weight ===== repeat_1.4.branch1.1.conv.weight\n",
            "499 repeat_1.4.branch1.1.bn.weight ===== repeat_1.4.branch1.1.bn.weight\n",
            "500 repeat_1.4.branch1.1.bn.bias ===== repeat_1.4.branch1.1.bn.bias\n",
            "501 repeat_1.4.branch1.1.bn._mean ===== repeat_1.4.branch1.1.bn.running_mean\n",
            "502 repeat_1.4.branch1.1.bn._variance ===== repeat_1.4.branch1.1.bn.running_var\n",
            "503 repeat_1.4.branch1.2.conv.weight ===== repeat_1.4.branch1.2.conv.weight\n",
            "504 repeat_1.4.branch1.2.bn.weight ===== repeat_1.4.branch1.2.bn.weight\n",
            "505 repeat_1.4.branch1.2.bn.bias ===== repeat_1.4.branch1.2.bn.bias\n",
            "506 repeat_1.4.branch1.2.bn._mean ===== repeat_1.4.branch1.2.bn.running_mean\n",
            "507 repeat_1.4.branch1.2.bn._variance ===== repeat_1.4.branch1.2.bn.running_var\n",
            "508 repeat_1.4.conv2d.weight ===== repeat_1.4.conv2d.weight\n",
            "509 repeat_1.4.conv2d.bias ===== repeat_1.4.conv2d.bias\n",
            "510 repeat_1.5.branch0.conv.weight ===== repeat_1.5.branch0.conv.weight\n",
            "511 repeat_1.5.branch0.bn.weight ===== repeat_1.5.branch0.bn.weight\n",
            "512 repeat_1.5.branch0.bn.bias ===== repeat_1.5.branch0.bn.bias\n",
            "513 repeat_1.5.branch0.bn._mean ===== repeat_1.5.branch0.bn.running_mean\n",
            "514 repeat_1.5.branch0.bn._variance ===== repeat_1.5.branch0.bn.running_var\n",
            "515 repeat_1.5.branch1.0.conv.weight ===== repeat_1.5.branch1.0.conv.weight\n",
            "516 repeat_1.5.branch1.0.bn.weight ===== repeat_1.5.branch1.0.bn.weight\n",
            "517 repeat_1.5.branch1.0.bn.bias ===== repeat_1.5.branch1.0.bn.bias\n",
            "518 repeat_1.5.branch1.0.bn._mean ===== repeat_1.5.branch1.0.bn.running_mean\n",
            "519 repeat_1.5.branch1.0.bn._variance ===== repeat_1.5.branch1.0.bn.running_var\n",
            "520 repeat_1.5.branch1.1.conv.weight ===== repeat_1.5.branch1.1.conv.weight\n",
            "521 repeat_1.5.branch1.1.bn.weight ===== repeat_1.5.branch1.1.bn.weight\n",
            "522 repeat_1.5.branch1.1.bn.bias ===== repeat_1.5.branch1.1.bn.bias\n",
            "523 repeat_1.5.branch1.1.bn._mean ===== repeat_1.5.branch1.1.bn.running_mean\n",
            "524 repeat_1.5.branch1.1.bn._variance ===== repeat_1.5.branch1.1.bn.running_var\n",
            "525 repeat_1.5.branch1.2.conv.weight ===== repeat_1.5.branch1.2.conv.weight\n",
            "526 repeat_1.5.branch1.2.bn.weight ===== repeat_1.5.branch1.2.bn.weight\n",
            "527 repeat_1.5.branch1.2.bn.bias ===== repeat_1.5.branch1.2.bn.bias\n",
            "528 repeat_1.5.branch1.2.bn._mean ===== repeat_1.5.branch1.2.bn.running_mean\n",
            "529 repeat_1.5.branch1.2.bn._variance ===== repeat_1.5.branch1.2.bn.running_var\n",
            "530 repeat_1.5.conv2d.weight ===== repeat_1.5.conv2d.weight\n",
            "531 repeat_1.5.conv2d.bias ===== repeat_1.5.conv2d.bias\n",
            "532 repeat_1.6.branch0.conv.weight ===== repeat_1.6.branch0.conv.weight\n",
            "533 repeat_1.6.branch0.bn.weight ===== repeat_1.6.branch0.bn.weight\n",
            "534 repeat_1.6.branch0.bn.bias ===== repeat_1.6.branch0.bn.bias\n",
            "535 repeat_1.6.branch0.bn._mean ===== repeat_1.6.branch0.bn.running_mean\n",
            "536 repeat_1.6.branch0.bn._variance ===== repeat_1.6.branch0.bn.running_var\n",
            "537 repeat_1.6.branch1.0.conv.weight ===== repeat_1.6.branch1.0.conv.weight\n",
            "538 repeat_1.6.branch1.0.bn.weight ===== repeat_1.6.branch1.0.bn.weight\n",
            "539 repeat_1.6.branch1.0.bn.bias ===== repeat_1.6.branch1.0.bn.bias\n",
            "540 repeat_1.6.branch1.0.bn._mean ===== repeat_1.6.branch1.0.bn.running_mean\n",
            "541 repeat_1.6.branch1.0.bn._variance ===== repeat_1.6.branch1.0.bn.running_var\n",
            "542 repeat_1.6.branch1.1.conv.weight ===== repeat_1.6.branch1.1.conv.weight\n",
            "543 repeat_1.6.branch1.1.bn.weight ===== repeat_1.6.branch1.1.bn.weight\n",
            "544 repeat_1.6.branch1.1.bn.bias ===== repeat_1.6.branch1.1.bn.bias\n",
            "545 repeat_1.6.branch1.1.bn._mean ===== repeat_1.6.branch1.1.bn.running_mean\n",
            "546 repeat_1.6.branch1.1.bn._variance ===== repeat_1.6.branch1.1.bn.running_var\n",
            "547 repeat_1.6.branch1.2.conv.weight ===== repeat_1.6.branch1.2.conv.weight\n",
            "548 repeat_1.6.branch1.2.bn.weight ===== repeat_1.6.branch1.2.bn.weight\n",
            "549 repeat_1.6.branch1.2.bn.bias ===== repeat_1.6.branch1.2.bn.bias\n",
            "550 repeat_1.6.branch1.2.bn._mean ===== repeat_1.6.branch1.2.bn.running_mean\n",
            "551 repeat_1.6.branch1.2.bn._variance ===== repeat_1.6.branch1.2.bn.running_var\n",
            "552 repeat_1.6.conv2d.weight ===== repeat_1.6.conv2d.weight\n",
            "553 repeat_1.6.conv2d.bias ===== repeat_1.6.conv2d.bias\n",
            "554 repeat_1.7.branch0.conv.weight ===== repeat_1.7.branch0.conv.weight\n",
            "555 repeat_1.7.branch0.bn.weight ===== repeat_1.7.branch0.bn.weight\n",
            "556 repeat_1.7.branch0.bn.bias ===== repeat_1.7.branch0.bn.bias\n",
            "557 repeat_1.7.branch0.bn._mean ===== repeat_1.7.branch0.bn.running_mean\n",
            "558 repeat_1.7.branch0.bn._variance ===== repeat_1.7.branch0.bn.running_var\n",
            "559 repeat_1.7.branch1.0.conv.weight ===== repeat_1.7.branch1.0.conv.weight\n",
            "560 repeat_1.7.branch1.0.bn.weight ===== repeat_1.7.branch1.0.bn.weight\n",
            "561 repeat_1.7.branch1.0.bn.bias ===== repeat_1.7.branch1.0.bn.bias\n",
            "562 repeat_1.7.branch1.0.bn._mean ===== repeat_1.7.branch1.0.bn.running_mean\n",
            "563 repeat_1.7.branch1.0.bn._variance ===== repeat_1.7.branch1.0.bn.running_var\n",
            "564 repeat_1.7.branch1.1.conv.weight ===== repeat_1.7.branch1.1.conv.weight\n",
            "565 repeat_1.7.branch1.1.bn.weight ===== repeat_1.7.branch1.1.bn.weight\n",
            "566 repeat_1.7.branch1.1.bn.bias ===== repeat_1.7.branch1.1.bn.bias\n",
            "567 repeat_1.7.branch1.1.bn._mean ===== repeat_1.7.branch1.1.bn.running_mean\n",
            "568 repeat_1.7.branch1.1.bn._variance ===== repeat_1.7.branch1.1.bn.running_var\n",
            "569 repeat_1.7.branch1.2.conv.weight ===== repeat_1.7.branch1.2.conv.weight\n",
            "570 repeat_1.7.branch1.2.bn.weight ===== repeat_1.7.branch1.2.bn.weight\n",
            "571 repeat_1.7.branch1.2.bn.bias ===== repeat_1.7.branch1.2.bn.bias\n",
            "572 repeat_1.7.branch1.2.bn._mean ===== repeat_1.7.branch1.2.bn.running_mean\n",
            "573 repeat_1.7.branch1.2.bn._variance ===== repeat_1.7.branch1.2.bn.running_var\n",
            "574 repeat_1.7.conv2d.weight ===== repeat_1.7.conv2d.weight\n",
            "575 repeat_1.7.conv2d.bias ===== repeat_1.7.conv2d.bias\n",
            "576 repeat_1.8.branch0.conv.weight ===== repeat_1.8.branch0.conv.weight\n",
            "577 repeat_1.8.branch0.bn.weight ===== repeat_1.8.branch0.bn.weight\n",
            "578 repeat_1.8.branch0.bn.bias ===== repeat_1.8.branch0.bn.bias\n",
            "579 repeat_1.8.branch0.bn._mean ===== repeat_1.8.branch0.bn.running_mean\n",
            "580 repeat_1.8.branch0.bn._variance ===== repeat_1.8.branch0.bn.running_var\n",
            "581 repeat_1.8.branch1.0.conv.weight ===== repeat_1.8.branch1.0.conv.weight\n",
            "582 repeat_1.8.branch1.0.bn.weight ===== repeat_1.8.branch1.0.bn.weight\n",
            "583 repeat_1.8.branch1.0.bn.bias ===== repeat_1.8.branch1.0.bn.bias\n",
            "584 repeat_1.8.branch1.0.bn._mean ===== repeat_1.8.branch1.0.bn.running_mean\n",
            "585 repeat_1.8.branch1.0.bn._variance ===== repeat_1.8.branch1.0.bn.running_var\n",
            "586 repeat_1.8.branch1.1.conv.weight ===== repeat_1.8.branch1.1.conv.weight\n",
            "587 repeat_1.8.branch1.1.bn.weight ===== repeat_1.8.branch1.1.bn.weight\n",
            "588 repeat_1.8.branch1.1.bn.bias ===== repeat_1.8.branch1.1.bn.bias\n",
            "589 repeat_1.8.branch1.1.bn._mean ===== repeat_1.8.branch1.1.bn.running_mean\n",
            "590 repeat_1.8.branch1.1.bn._variance ===== repeat_1.8.branch1.1.bn.running_var\n",
            "591 repeat_1.8.branch1.2.conv.weight ===== repeat_1.8.branch1.2.conv.weight\n",
            "592 repeat_1.8.branch1.2.bn.weight ===== repeat_1.8.branch1.2.bn.weight\n",
            "593 repeat_1.8.branch1.2.bn.bias ===== repeat_1.8.branch1.2.bn.bias\n",
            "594 repeat_1.8.branch1.2.bn._mean ===== repeat_1.8.branch1.2.bn.running_mean\n",
            "595 repeat_1.8.branch1.2.bn._variance ===== repeat_1.8.branch1.2.bn.running_var\n",
            "596 repeat_1.8.conv2d.weight ===== repeat_1.8.conv2d.weight\n",
            "597 repeat_1.8.conv2d.bias ===== repeat_1.8.conv2d.bias\n",
            "598 repeat_1.9.branch0.conv.weight ===== repeat_1.9.branch0.conv.weight\n",
            "599 repeat_1.9.branch0.bn.weight ===== repeat_1.9.branch0.bn.weight\n",
            "600 repeat_1.9.branch0.bn.bias ===== repeat_1.9.branch0.bn.bias\n",
            "601 repeat_1.9.branch0.bn._mean ===== repeat_1.9.branch0.bn.running_mean\n",
            "602 repeat_1.9.branch0.bn._variance ===== repeat_1.9.branch0.bn.running_var\n",
            "603 repeat_1.9.branch1.0.conv.weight ===== repeat_1.9.branch1.0.conv.weight\n",
            "604 repeat_1.9.branch1.0.bn.weight ===== repeat_1.9.branch1.0.bn.weight\n",
            "605 repeat_1.9.branch1.0.bn.bias ===== repeat_1.9.branch1.0.bn.bias\n",
            "606 repeat_1.9.branch1.0.bn._mean ===== repeat_1.9.branch1.0.bn.running_mean\n",
            "607 repeat_1.9.branch1.0.bn._variance ===== repeat_1.9.branch1.0.bn.running_var\n",
            "608 repeat_1.9.branch1.1.conv.weight ===== repeat_1.9.branch1.1.conv.weight\n",
            "609 repeat_1.9.branch1.1.bn.weight ===== repeat_1.9.branch1.1.bn.weight\n",
            "610 repeat_1.9.branch1.1.bn.bias ===== repeat_1.9.branch1.1.bn.bias\n",
            "611 repeat_1.9.branch1.1.bn._mean ===== repeat_1.9.branch1.1.bn.running_mean\n",
            "612 repeat_1.9.branch1.1.bn._variance ===== repeat_1.9.branch1.1.bn.running_var\n",
            "613 repeat_1.9.branch1.2.conv.weight ===== repeat_1.9.branch1.2.conv.weight\n",
            "614 repeat_1.9.branch1.2.bn.weight ===== repeat_1.9.branch1.2.bn.weight\n",
            "615 repeat_1.9.branch1.2.bn.bias ===== repeat_1.9.branch1.2.bn.bias\n",
            "616 repeat_1.9.branch1.2.bn._mean ===== repeat_1.9.branch1.2.bn.running_mean\n",
            "617 repeat_1.9.branch1.2.bn._variance ===== repeat_1.9.branch1.2.bn.running_var\n",
            "618 repeat_1.9.conv2d.weight ===== repeat_1.9.conv2d.weight\n",
            "619 repeat_1.9.conv2d.bias ===== repeat_1.9.conv2d.bias\n",
            "620 repeat_1.10.branch0.conv.weight ===== repeat_1.10.branch0.conv.weight\n",
            "621 repeat_1.10.branch0.bn.weight ===== repeat_1.10.branch0.bn.weight\n",
            "622 repeat_1.10.branch0.bn.bias ===== repeat_1.10.branch0.bn.bias\n",
            "623 repeat_1.10.branch0.bn._mean ===== repeat_1.10.branch0.bn.running_mean\n",
            "624 repeat_1.10.branch0.bn._variance ===== repeat_1.10.branch0.bn.running_var\n",
            "625 repeat_1.10.branch1.0.conv.weight ===== repeat_1.10.branch1.0.conv.weight\n",
            "626 repeat_1.10.branch1.0.bn.weight ===== repeat_1.10.branch1.0.bn.weight\n",
            "627 repeat_1.10.branch1.0.bn.bias ===== repeat_1.10.branch1.0.bn.bias\n",
            "628 repeat_1.10.branch1.0.bn._mean ===== repeat_1.10.branch1.0.bn.running_mean\n",
            "629 repeat_1.10.branch1.0.bn._variance ===== repeat_1.10.branch1.0.bn.running_var\n",
            "630 repeat_1.10.branch1.1.conv.weight ===== repeat_1.10.branch1.1.conv.weight\n",
            "631 repeat_1.10.branch1.1.bn.weight ===== repeat_1.10.branch1.1.bn.weight\n",
            "632 repeat_1.10.branch1.1.bn.bias ===== repeat_1.10.branch1.1.bn.bias\n",
            "633 repeat_1.10.branch1.1.bn._mean ===== repeat_1.10.branch1.1.bn.running_mean\n",
            "634 repeat_1.10.branch1.1.bn._variance ===== repeat_1.10.branch1.1.bn.running_var\n",
            "635 repeat_1.10.branch1.2.conv.weight ===== repeat_1.10.branch1.2.conv.weight\n",
            "636 repeat_1.10.branch1.2.bn.weight ===== repeat_1.10.branch1.2.bn.weight\n",
            "637 repeat_1.10.branch1.2.bn.bias ===== repeat_1.10.branch1.2.bn.bias\n",
            "638 repeat_1.10.branch1.2.bn._mean ===== repeat_1.10.branch1.2.bn.running_mean\n",
            "639 repeat_1.10.branch1.2.bn._variance ===== repeat_1.10.branch1.2.bn.running_var\n",
            "640 repeat_1.10.conv2d.weight ===== repeat_1.10.conv2d.weight\n",
            "641 repeat_1.10.conv2d.bias ===== repeat_1.10.conv2d.bias\n",
            "642 repeat_1.11.branch0.conv.weight ===== repeat_1.11.branch0.conv.weight\n",
            "643 repeat_1.11.branch0.bn.weight ===== repeat_1.11.branch0.bn.weight\n",
            "644 repeat_1.11.branch0.bn.bias ===== repeat_1.11.branch0.bn.bias\n",
            "645 repeat_1.11.branch0.bn._mean ===== repeat_1.11.branch0.bn.running_mean\n",
            "646 repeat_1.11.branch0.bn._variance ===== repeat_1.11.branch0.bn.running_var\n",
            "647 repeat_1.11.branch1.0.conv.weight ===== repeat_1.11.branch1.0.conv.weight\n",
            "648 repeat_1.11.branch1.0.bn.weight ===== repeat_1.11.branch1.0.bn.weight\n",
            "649 repeat_1.11.branch1.0.bn.bias ===== repeat_1.11.branch1.0.bn.bias\n",
            "650 repeat_1.11.branch1.0.bn._mean ===== repeat_1.11.branch1.0.bn.running_mean\n",
            "651 repeat_1.11.branch1.0.bn._variance ===== repeat_1.11.branch1.0.bn.running_var\n",
            "652 repeat_1.11.branch1.1.conv.weight ===== repeat_1.11.branch1.1.conv.weight\n",
            "653 repeat_1.11.branch1.1.bn.weight ===== repeat_1.11.branch1.1.bn.weight\n",
            "654 repeat_1.11.branch1.1.bn.bias ===== repeat_1.11.branch1.1.bn.bias\n",
            "655 repeat_1.11.branch1.1.bn._mean ===== repeat_1.11.branch1.1.bn.running_mean\n",
            "656 repeat_1.11.branch1.1.bn._variance ===== repeat_1.11.branch1.1.bn.running_var\n",
            "657 repeat_1.11.branch1.2.conv.weight ===== repeat_1.11.branch1.2.conv.weight\n",
            "658 repeat_1.11.branch1.2.bn.weight ===== repeat_1.11.branch1.2.bn.weight\n",
            "659 repeat_1.11.branch1.2.bn.bias ===== repeat_1.11.branch1.2.bn.bias\n",
            "660 repeat_1.11.branch1.2.bn._mean ===== repeat_1.11.branch1.2.bn.running_mean\n",
            "661 repeat_1.11.branch1.2.bn._variance ===== repeat_1.11.branch1.2.bn.running_var\n",
            "662 repeat_1.11.conv2d.weight ===== repeat_1.11.conv2d.weight\n",
            "663 repeat_1.11.conv2d.bias ===== repeat_1.11.conv2d.bias\n",
            "664 repeat_1.12.branch0.conv.weight ===== repeat_1.12.branch0.conv.weight\n",
            "665 repeat_1.12.branch0.bn.weight ===== repeat_1.12.branch0.bn.weight\n",
            "666 repeat_1.12.branch0.bn.bias ===== repeat_1.12.branch0.bn.bias\n",
            "667 repeat_1.12.branch0.bn._mean ===== repeat_1.12.branch0.bn.running_mean\n",
            "668 repeat_1.12.branch0.bn._variance ===== repeat_1.12.branch0.bn.running_var\n",
            "669 repeat_1.12.branch1.0.conv.weight ===== repeat_1.12.branch1.0.conv.weight\n",
            "670 repeat_1.12.branch1.0.bn.weight ===== repeat_1.12.branch1.0.bn.weight\n",
            "671 repeat_1.12.branch1.0.bn.bias ===== repeat_1.12.branch1.0.bn.bias\n",
            "672 repeat_1.12.branch1.0.bn._mean ===== repeat_1.12.branch1.0.bn.running_mean\n",
            "673 repeat_1.12.branch1.0.bn._variance ===== repeat_1.12.branch1.0.bn.running_var\n",
            "674 repeat_1.12.branch1.1.conv.weight ===== repeat_1.12.branch1.1.conv.weight\n",
            "675 repeat_1.12.branch1.1.bn.weight ===== repeat_1.12.branch1.1.bn.weight\n",
            "676 repeat_1.12.branch1.1.bn.bias ===== repeat_1.12.branch1.1.bn.bias\n",
            "677 repeat_1.12.branch1.1.bn._mean ===== repeat_1.12.branch1.1.bn.running_mean\n",
            "678 repeat_1.12.branch1.1.bn._variance ===== repeat_1.12.branch1.1.bn.running_var\n",
            "679 repeat_1.12.branch1.2.conv.weight ===== repeat_1.12.branch1.2.conv.weight\n",
            "680 repeat_1.12.branch1.2.bn.weight ===== repeat_1.12.branch1.2.bn.weight\n",
            "681 repeat_1.12.branch1.2.bn.bias ===== repeat_1.12.branch1.2.bn.bias\n",
            "682 repeat_1.12.branch1.2.bn._mean ===== repeat_1.12.branch1.2.bn.running_mean\n",
            "683 repeat_1.12.branch1.2.bn._variance ===== repeat_1.12.branch1.2.bn.running_var\n",
            "684 repeat_1.12.conv2d.weight ===== repeat_1.12.conv2d.weight\n",
            "685 repeat_1.12.conv2d.bias ===== repeat_1.12.conv2d.bias\n",
            "686 repeat_1.13.branch0.conv.weight ===== repeat_1.13.branch0.conv.weight\n",
            "687 repeat_1.13.branch0.bn.weight ===== repeat_1.13.branch0.bn.weight\n",
            "688 repeat_1.13.branch0.bn.bias ===== repeat_1.13.branch0.bn.bias\n",
            "689 repeat_1.13.branch0.bn._mean ===== repeat_1.13.branch0.bn.running_mean\n",
            "690 repeat_1.13.branch0.bn._variance ===== repeat_1.13.branch0.bn.running_var\n",
            "691 repeat_1.13.branch1.0.conv.weight ===== repeat_1.13.branch1.0.conv.weight\n",
            "692 repeat_1.13.branch1.0.bn.weight ===== repeat_1.13.branch1.0.bn.weight\n",
            "693 repeat_1.13.branch1.0.bn.bias ===== repeat_1.13.branch1.0.bn.bias\n",
            "694 repeat_1.13.branch1.0.bn._mean ===== repeat_1.13.branch1.0.bn.running_mean\n",
            "695 repeat_1.13.branch1.0.bn._variance ===== repeat_1.13.branch1.0.bn.running_var\n",
            "696 repeat_1.13.branch1.1.conv.weight ===== repeat_1.13.branch1.1.conv.weight\n",
            "697 repeat_1.13.branch1.1.bn.weight ===== repeat_1.13.branch1.1.bn.weight\n",
            "698 repeat_1.13.branch1.1.bn.bias ===== repeat_1.13.branch1.1.bn.bias\n",
            "699 repeat_1.13.branch1.1.bn._mean ===== repeat_1.13.branch1.1.bn.running_mean\n",
            "700 repeat_1.13.branch1.1.bn._variance ===== repeat_1.13.branch1.1.bn.running_var\n",
            "701 repeat_1.13.branch1.2.conv.weight ===== repeat_1.13.branch1.2.conv.weight\n",
            "702 repeat_1.13.branch1.2.bn.weight ===== repeat_1.13.branch1.2.bn.weight\n",
            "703 repeat_1.13.branch1.2.bn.bias ===== repeat_1.13.branch1.2.bn.bias\n",
            "704 repeat_1.13.branch1.2.bn._mean ===== repeat_1.13.branch1.2.bn.running_mean\n",
            "705 repeat_1.13.branch1.2.bn._variance ===== repeat_1.13.branch1.2.bn.running_var\n",
            "706 repeat_1.13.conv2d.weight ===== repeat_1.13.conv2d.weight\n",
            "707 repeat_1.13.conv2d.bias ===== repeat_1.13.conv2d.bias\n",
            "708 repeat_1.14.branch0.conv.weight ===== repeat_1.14.branch0.conv.weight\n",
            "709 repeat_1.14.branch0.bn.weight ===== repeat_1.14.branch0.bn.weight\n",
            "710 repeat_1.14.branch0.bn.bias ===== repeat_1.14.branch0.bn.bias\n",
            "711 repeat_1.14.branch0.bn._mean ===== repeat_1.14.branch0.bn.running_mean\n",
            "712 repeat_1.14.branch0.bn._variance ===== repeat_1.14.branch0.bn.running_var\n",
            "713 repeat_1.14.branch1.0.conv.weight ===== repeat_1.14.branch1.0.conv.weight\n",
            "714 repeat_1.14.branch1.0.bn.weight ===== repeat_1.14.branch1.0.bn.weight\n",
            "715 repeat_1.14.branch1.0.bn.bias ===== repeat_1.14.branch1.0.bn.bias\n",
            "716 repeat_1.14.branch1.0.bn._mean ===== repeat_1.14.branch1.0.bn.running_mean\n",
            "717 repeat_1.14.branch1.0.bn._variance ===== repeat_1.14.branch1.0.bn.running_var\n",
            "718 repeat_1.14.branch1.1.conv.weight ===== repeat_1.14.branch1.1.conv.weight\n",
            "719 repeat_1.14.branch1.1.bn.weight ===== repeat_1.14.branch1.1.bn.weight\n",
            "720 repeat_1.14.branch1.1.bn.bias ===== repeat_1.14.branch1.1.bn.bias\n",
            "721 repeat_1.14.branch1.1.bn._mean ===== repeat_1.14.branch1.1.bn.running_mean\n",
            "722 repeat_1.14.branch1.1.bn._variance ===== repeat_1.14.branch1.1.bn.running_var\n",
            "723 repeat_1.14.branch1.2.conv.weight ===== repeat_1.14.branch1.2.conv.weight\n",
            "724 repeat_1.14.branch1.2.bn.weight ===== repeat_1.14.branch1.2.bn.weight\n",
            "725 repeat_1.14.branch1.2.bn.bias ===== repeat_1.14.branch1.2.bn.bias\n",
            "726 repeat_1.14.branch1.2.bn._mean ===== repeat_1.14.branch1.2.bn.running_mean\n",
            "727 repeat_1.14.branch1.2.bn._variance ===== repeat_1.14.branch1.2.bn.running_var\n",
            "728 repeat_1.14.conv2d.weight ===== repeat_1.14.conv2d.weight\n",
            "729 repeat_1.14.conv2d.bias ===== repeat_1.14.conv2d.bias\n",
            "730 repeat_1.15.branch0.conv.weight ===== repeat_1.15.branch0.conv.weight\n",
            "731 repeat_1.15.branch0.bn.weight ===== repeat_1.15.branch0.bn.weight\n",
            "732 repeat_1.15.branch0.bn.bias ===== repeat_1.15.branch0.bn.bias\n",
            "733 repeat_1.15.branch0.bn._mean ===== repeat_1.15.branch0.bn.running_mean\n",
            "734 repeat_1.15.branch0.bn._variance ===== repeat_1.15.branch0.bn.running_var\n",
            "735 repeat_1.15.branch1.0.conv.weight ===== repeat_1.15.branch1.0.conv.weight\n",
            "736 repeat_1.15.branch1.0.bn.weight ===== repeat_1.15.branch1.0.bn.weight\n",
            "737 repeat_1.15.branch1.0.bn.bias ===== repeat_1.15.branch1.0.bn.bias\n",
            "738 repeat_1.15.branch1.0.bn._mean ===== repeat_1.15.branch1.0.bn.running_mean\n",
            "739 repeat_1.15.branch1.0.bn._variance ===== repeat_1.15.branch1.0.bn.running_var\n",
            "740 repeat_1.15.branch1.1.conv.weight ===== repeat_1.15.branch1.1.conv.weight\n",
            "741 repeat_1.15.branch1.1.bn.weight ===== repeat_1.15.branch1.1.bn.weight\n",
            "742 repeat_1.15.branch1.1.bn.bias ===== repeat_1.15.branch1.1.bn.bias\n",
            "743 repeat_1.15.branch1.1.bn._mean ===== repeat_1.15.branch1.1.bn.running_mean\n",
            "744 repeat_1.15.branch1.1.bn._variance ===== repeat_1.15.branch1.1.bn.running_var\n",
            "745 repeat_1.15.branch1.2.conv.weight ===== repeat_1.15.branch1.2.conv.weight\n",
            "746 repeat_1.15.branch1.2.bn.weight ===== repeat_1.15.branch1.2.bn.weight\n",
            "747 repeat_1.15.branch1.2.bn.bias ===== repeat_1.15.branch1.2.bn.bias\n",
            "748 repeat_1.15.branch1.2.bn._mean ===== repeat_1.15.branch1.2.bn.running_mean\n",
            "749 repeat_1.15.branch1.2.bn._variance ===== repeat_1.15.branch1.2.bn.running_var\n",
            "750 repeat_1.15.conv2d.weight ===== repeat_1.15.conv2d.weight\n",
            "751 repeat_1.15.conv2d.bias ===== repeat_1.15.conv2d.bias\n",
            "752 repeat_1.16.branch0.conv.weight ===== repeat_1.16.branch0.conv.weight\n",
            "753 repeat_1.16.branch0.bn.weight ===== repeat_1.16.branch0.bn.weight\n",
            "754 repeat_1.16.branch0.bn.bias ===== repeat_1.16.branch0.bn.bias\n",
            "755 repeat_1.16.branch0.bn._mean ===== repeat_1.16.branch0.bn.running_mean\n",
            "756 repeat_1.16.branch0.bn._variance ===== repeat_1.16.branch0.bn.running_var\n",
            "757 repeat_1.16.branch1.0.conv.weight ===== repeat_1.16.branch1.0.conv.weight\n",
            "758 repeat_1.16.branch1.0.bn.weight ===== repeat_1.16.branch1.0.bn.weight\n",
            "759 repeat_1.16.branch1.0.bn.bias ===== repeat_1.16.branch1.0.bn.bias\n",
            "760 repeat_1.16.branch1.0.bn._mean ===== repeat_1.16.branch1.0.bn.running_mean\n",
            "761 repeat_1.16.branch1.0.bn._variance ===== repeat_1.16.branch1.0.bn.running_var\n",
            "762 repeat_1.16.branch1.1.conv.weight ===== repeat_1.16.branch1.1.conv.weight\n",
            "763 repeat_1.16.branch1.1.bn.weight ===== repeat_1.16.branch1.1.bn.weight\n",
            "764 repeat_1.16.branch1.1.bn.bias ===== repeat_1.16.branch1.1.bn.bias\n",
            "765 repeat_1.16.branch1.1.bn._mean ===== repeat_1.16.branch1.1.bn.running_mean\n",
            "766 repeat_1.16.branch1.1.bn._variance ===== repeat_1.16.branch1.1.bn.running_var\n",
            "767 repeat_1.16.branch1.2.conv.weight ===== repeat_1.16.branch1.2.conv.weight\n",
            "768 repeat_1.16.branch1.2.bn.weight ===== repeat_1.16.branch1.2.bn.weight\n",
            "769 repeat_1.16.branch1.2.bn.bias ===== repeat_1.16.branch1.2.bn.bias\n",
            "770 repeat_1.16.branch1.2.bn._mean ===== repeat_1.16.branch1.2.bn.running_mean\n",
            "771 repeat_1.16.branch1.2.bn._variance ===== repeat_1.16.branch1.2.bn.running_var\n",
            "772 repeat_1.16.conv2d.weight ===== repeat_1.16.conv2d.weight\n",
            "773 repeat_1.16.conv2d.bias ===== repeat_1.16.conv2d.bias\n",
            "774 repeat_1.17.branch0.conv.weight ===== repeat_1.17.branch0.conv.weight\n",
            "775 repeat_1.17.branch0.bn.weight ===== repeat_1.17.branch0.bn.weight\n",
            "776 repeat_1.17.branch0.bn.bias ===== repeat_1.17.branch0.bn.bias\n",
            "777 repeat_1.17.branch0.bn._mean ===== repeat_1.17.branch0.bn.running_mean\n",
            "778 repeat_1.17.branch0.bn._variance ===== repeat_1.17.branch0.bn.running_var\n",
            "779 repeat_1.17.branch1.0.conv.weight ===== repeat_1.17.branch1.0.conv.weight\n",
            "780 repeat_1.17.branch1.0.bn.weight ===== repeat_1.17.branch1.0.bn.weight\n",
            "781 repeat_1.17.branch1.0.bn.bias ===== repeat_1.17.branch1.0.bn.bias\n",
            "782 repeat_1.17.branch1.0.bn._mean ===== repeat_1.17.branch1.0.bn.running_mean\n",
            "783 repeat_1.17.branch1.0.bn._variance ===== repeat_1.17.branch1.0.bn.running_var\n",
            "784 repeat_1.17.branch1.1.conv.weight ===== repeat_1.17.branch1.1.conv.weight\n",
            "785 repeat_1.17.branch1.1.bn.weight ===== repeat_1.17.branch1.1.bn.weight\n",
            "786 repeat_1.17.branch1.1.bn.bias ===== repeat_1.17.branch1.1.bn.bias\n",
            "787 repeat_1.17.branch1.1.bn._mean ===== repeat_1.17.branch1.1.bn.running_mean\n",
            "788 repeat_1.17.branch1.1.bn._variance ===== repeat_1.17.branch1.1.bn.running_var\n",
            "789 repeat_1.17.branch1.2.conv.weight ===== repeat_1.17.branch1.2.conv.weight\n",
            "790 repeat_1.17.branch1.2.bn.weight ===== repeat_1.17.branch1.2.bn.weight\n",
            "791 repeat_1.17.branch1.2.bn.bias ===== repeat_1.17.branch1.2.bn.bias\n",
            "792 repeat_1.17.branch1.2.bn._mean ===== repeat_1.17.branch1.2.bn.running_mean\n",
            "793 repeat_1.17.branch1.2.bn._variance ===== repeat_1.17.branch1.2.bn.running_var\n",
            "794 repeat_1.17.conv2d.weight ===== repeat_1.17.conv2d.weight\n",
            "795 repeat_1.17.conv2d.bias ===== repeat_1.17.conv2d.bias\n",
            "796 repeat_1.18.branch0.conv.weight ===== repeat_1.18.branch0.conv.weight\n",
            "797 repeat_1.18.branch0.bn.weight ===== repeat_1.18.branch0.bn.weight\n",
            "798 repeat_1.18.branch0.bn.bias ===== repeat_1.18.branch0.bn.bias\n",
            "799 repeat_1.18.branch0.bn._mean ===== repeat_1.18.branch0.bn.running_mean\n",
            "800 repeat_1.18.branch0.bn._variance ===== repeat_1.18.branch0.bn.running_var\n",
            "801 repeat_1.18.branch1.0.conv.weight ===== repeat_1.18.branch1.0.conv.weight\n",
            "802 repeat_1.18.branch1.0.bn.weight ===== repeat_1.18.branch1.0.bn.weight\n",
            "803 repeat_1.18.branch1.0.bn.bias ===== repeat_1.18.branch1.0.bn.bias\n",
            "804 repeat_1.18.branch1.0.bn._mean ===== repeat_1.18.branch1.0.bn.running_mean\n",
            "805 repeat_1.18.branch1.0.bn._variance ===== repeat_1.18.branch1.0.bn.running_var\n",
            "806 repeat_1.18.branch1.1.conv.weight ===== repeat_1.18.branch1.1.conv.weight\n",
            "807 repeat_1.18.branch1.1.bn.weight ===== repeat_1.18.branch1.1.bn.weight\n",
            "808 repeat_1.18.branch1.1.bn.bias ===== repeat_1.18.branch1.1.bn.bias\n",
            "809 repeat_1.18.branch1.1.bn._mean ===== repeat_1.18.branch1.1.bn.running_mean\n",
            "810 repeat_1.18.branch1.1.bn._variance ===== repeat_1.18.branch1.1.bn.running_var\n",
            "811 repeat_1.18.branch1.2.conv.weight ===== repeat_1.18.branch1.2.conv.weight\n",
            "812 repeat_1.18.branch1.2.bn.weight ===== repeat_1.18.branch1.2.bn.weight\n",
            "813 repeat_1.18.branch1.2.bn.bias ===== repeat_1.18.branch1.2.bn.bias\n",
            "814 repeat_1.18.branch1.2.bn._mean ===== repeat_1.18.branch1.2.bn.running_mean\n",
            "815 repeat_1.18.branch1.2.bn._variance ===== repeat_1.18.branch1.2.bn.running_var\n",
            "816 repeat_1.18.conv2d.weight ===== repeat_1.18.conv2d.weight\n",
            "817 repeat_1.18.conv2d.bias ===== repeat_1.18.conv2d.bias\n",
            "818 repeat_1.19.branch0.conv.weight ===== repeat_1.19.branch0.conv.weight\n",
            "819 repeat_1.19.branch0.bn.weight ===== repeat_1.19.branch0.bn.weight\n",
            "820 repeat_1.19.branch0.bn.bias ===== repeat_1.19.branch0.bn.bias\n",
            "821 repeat_1.19.branch0.bn._mean ===== repeat_1.19.branch0.bn.running_mean\n",
            "822 repeat_1.19.branch0.bn._variance ===== repeat_1.19.branch0.bn.running_var\n",
            "823 repeat_1.19.branch1.0.conv.weight ===== repeat_1.19.branch1.0.conv.weight\n",
            "824 repeat_1.19.branch1.0.bn.weight ===== repeat_1.19.branch1.0.bn.weight\n",
            "825 repeat_1.19.branch1.0.bn.bias ===== repeat_1.19.branch1.0.bn.bias\n",
            "826 repeat_1.19.branch1.0.bn._mean ===== repeat_1.19.branch1.0.bn.running_mean\n",
            "827 repeat_1.19.branch1.0.bn._variance ===== repeat_1.19.branch1.0.bn.running_var\n",
            "828 repeat_1.19.branch1.1.conv.weight ===== repeat_1.19.branch1.1.conv.weight\n",
            "829 repeat_1.19.branch1.1.bn.weight ===== repeat_1.19.branch1.1.bn.weight\n",
            "830 repeat_1.19.branch1.1.bn.bias ===== repeat_1.19.branch1.1.bn.bias\n",
            "831 repeat_1.19.branch1.1.bn._mean ===== repeat_1.19.branch1.1.bn.running_mean\n",
            "832 repeat_1.19.branch1.1.bn._variance ===== repeat_1.19.branch1.1.bn.running_var\n",
            "833 repeat_1.19.branch1.2.conv.weight ===== repeat_1.19.branch1.2.conv.weight\n",
            "834 repeat_1.19.branch1.2.bn.weight ===== repeat_1.19.branch1.2.bn.weight\n",
            "835 repeat_1.19.branch1.2.bn.bias ===== repeat_1.19.branch1.2.bn.bias\n",
            "836 repeat_1.19.branch1.2.bn._mean ===== repeat_1.19.branch1.2.bn.running_mean\n",
            "837 repeat_1.19.branch1.2.bn._variance ===== repeat_1.19.branch1.2.bn.running_var\n",
            "838 repeat_1.19.conv2d.weight ===== repeat_1.19.conv2d.weight\n",
            "839 repeat_1.19.conv2d.bias ===== repeat_1.19.conv2d.bias\n",
            "840 mixed_7a.branch0.0.conv.weight ===== mixed_7a.branch0.0.conv.weight\n",
            "841 mixed_7a.branch0.0.bn.weight ===== mixed_7a.branch0.0.bn.weight\n",
            "842 mixed_7a.branch0.0.bn.bias ===== mixed_7a.branch0.0.bn.bias\n",
            "843 mixed_7a.branch0.0.bn._mean ===== mixed_7a.branch0.0.bn.running_mean\n",
            "844 mixed_7a.branch0.0.bn._variance ===== mixed_7a.branch0.0.bn.running_var\n",
            "845 mixed_7a.branch0.1.conv.weight ===== mixed_7a.branch0.1.conv.weight\n",
            "846 mixed_7a.branch0.1.bn.weight ===== mixed_7a.branch0.1.bn.weight\n",
            "847 mixed_7a.branch0.1.bn.bias ===== mixed_7a.branch0.1.bn.bias\n",
            "848 mixed_7a.branch0.1.bn._mean ===== mixed_7a.branch0.1.bn.running_mean\n",
            "849 mixed_7a.branch0.1.bn._variance ===== mixed_7a.branch0.1.bn.running_var\n",
            "850 mixed_7a.branch1.0.conv.weight ===== mixed_7a.branch1.0.conv.weight\n",
            "851 mixed_7a.branch1.0.bn.weight ===== mixed_7a.branch1.0.bn.weight\n",
            "852 mixed_7a.branch1.0.bn.bias ===== mixed_7a.branch1.0.bn.bias\n",
            "853 mixed_7a.branch1.0.bn._mean ===== mixed_7a.branch1.0.bn.running_mean\n",
            "854 mixed_7a.branch1.0.bn._variance ===== mixed_7a.branch1.0.bn.running_var\n",
            "855 mixed_7a.branch1.1.conv.weight ===== mixed_7a.branch1.1.conv.weight\n",
            "856 mixed_7a.branch1.1.bn.weight ===== mixed_7a.branch1.1.bn.weight\n",
            "857 mixed_7a.branch1.1.bn.bias ===== mixed_7a.branch1.1.bn.bias\n",
            "858 mixed_7a.branch1.1.bn._mean ===== mixed_7a.branch1.1.bn.running_mean\n",
            "859 mixed_7a.branch1.1.bn._variance ===== mixed_7a.branch1.1.bn.running_var\n",
            "860 mixed_7a.branch2.0.conv.weight ===== mixed_7a.branch2.0.conv.weight\n",
            "861 mixed_7a.branch2.0.bn.weight ===== mixed_7a.branch2.0.bn.weight\n",
            "862 mixed_7a.branch2.0.bn.bias ===== mixed_7a.branch2.0.bn.bias\n",
            "863 mixed_7a.branch2.0.bn._mean ===== mixed_7a.branch2.0.bn.running_mean\n",
            "864 mixed_7a.branch2.0.bn._variance ===== mixed_7a.branch2.0.bn.running_var\n",
            "865 mixed_7a.branch2.1.conv.weight ===== mixed_7a.branch2.1.conv.weight\n",
            "866 mixed_7a.branch2.1.bn.weight ===== mixed_7a.branch2.1.bn.weight\n",
            "867 mixed_7a.branch2.1.bn.bias ===== mixed_7a.branch2.1.bn.bias\n",
            "868 mixed_7a.branch2.1.bn._mean ===== mixed_7a.branch2.1.bn.running_mean\n",
            "869 mixed_7a.branch2.1.bn._variance ===== mixed_7a.branch2.1.bn.running_var\n",
            "870 mixed_7a.branch2.2.conv.weight ===== mixed_7a.branch2.2.conv.weight\n",
            "871 mixed_7a.branch2.2.bn.weight ===== mixed_7a.branch2.2.bn.weight\n",
            "872 mixed_7a.branch2.2.bn.bias ===== mixed_7a.branch2.2.bn.bias\n",
            "873 mixed_7a.branch2.2.bn._mean ===== mixed_7a.branch2.2.bn.running_mean\n",
            "874 mixed_7a.branch2.2.bn._variance ===== mixed_7a.branch2.2.bn.running_var\n",
            "875 repeat_2.0.branch0.conv.weight ===== repeat_2.0.branch0.conv.weight\n",
            "876 repeat_2.0.branch0.bn.weight ===== repeat_2.0.branch0.bn.weight\n",
            "877 repeat_2.0.branch0.bn.bias ===== repeat_2.0.branch0.bn.bias\n",
            "878 repeat_2.0.branch0.bn._mean ===== repeat_2.0.branch0.bn.running_mean\n",
            "879 repeat_2.0.branch0.bn._variance ===== repeat_2.0.branch0.bn.running_var\n",
            "880 repeat_2.0.branch1.0.conv.weight ===== repeat_2.0.branch1.0.conv.weight\n",
            "881 repeat_2.0.branch1.0.bn.weight ===== repeat_2.0.branch1.0.bn.weight\n",
            "882 repeat_2.0.branch1.0.bn.bias ===== repeat_2.0.branch1.0.bn.bias\n",
            "883 repeat_2.0.branch1.0.bn._mean ===== repeat_2.0.branch1.0.bn.running_mean\n",
            "884 repeat_2.0.branch1.0.bn._variance ===== repeat_2.0.branch1.0.bn.running_var\n",
            "885 repeat_2.0.branch1.1.conv.weight ===== repeat_2.0.branch1.1.conv.weight\n",
            "886 repeat_2.0.branch1.1.bn.weight ===== repeat_2.0.branch1.1.bn.weight\n",
            "887 repeat_2.0.branch1.1.bn.bias ===== repeat_2.0.branch1.1.bn.bias\n",
            "888 repeat_2.0.branch1.1.bn._mean ===== repeat_2.0.branch1.1.bn.running_mean\n",
            "889 repeat_2.0.branch1.1.bn._variance ===== repeat_2.0.branch1.1.bn.running_var\n",
            "890 repeat_2.0.branch1.2.conv.weight ===== repeat_2.0.branch1.2.conv.weight\n",
            "891 repeat_2.0.branch1.2.bn.weight ===== repeat_2.0.branch1.2.bn.weight\n",
            "892 repeat_2.0.branch1.2.bn.bias ===== repeat_2.0.branch1.2.bn.bias\n",
            "893 repeat_2.0.branch1.2.bn._mean ===== repeat_2.0.branch1.2.bn.running_mean\n",
            "894 repeat_2.0.branch1.2.bn._variance ===== repeat_2.0.branch1.2.bn.running_var\n",
            "895 repeat_2.0.conv2d.weight ===== repeat_2.0.conv2d.weight\n",
            "896 repeat_2.0.conv2d.bias ===== repeat_2.0.conv2d.bias\n",
            "897 repeat_2.1.branch0.conv.weight ===== repeat_2.1.branch0.conv.weight\n",
            "898 repeat_2.1.branch0.bn.weight ===== repeat_2.1.branch0.bn.weight\n",
            "899 repeat_2.1.branch0.bn.bias ===== repeat_2.1.branch0.bn.bias\n",
            "900 repeat_2.1.branch0.bn._mean ===== repeat_2.1.branch0.bn.running_mean\n",
            "901 repeat_2.1.branch0.bn._variance ===== repeat_2.1.branch0.bn.running_var\n",
            "902 repeat_2.1.branch1.0.conv.weight ===== repeat_2.1.branch1.0.conv.weight\n",
            "903 repeat_2.1.branch1.0.bn.weight ===== repeat_2.1.branch1.0.bn.weight\n",
            "904 repeat_2.1.branch1.0.bn.bias ===== repeat_2.1.branch1.0.bn.bias\n",
            "905 repeat_2.1.branch1.0.bn._mean ===== repeat_2.1.branch1.0.bn.running_mean\n",
            "906 repeat_2.1.branch1.0.bn._variance ===== repeat_2.1.branch1.0.bn.running_var\n",
            "907 repeat_2.1.branch1.1.conv.weight ===== repeat_2.1.branch1.1.conv.weight\n",
            "908 repeat_2.1.branch1.1.bn.weight ===== repeat_2.1.branch1.1.bn.weight\n",
            "909 repeat_2.1.branch1.1.bn.bias ===== repeat_2.1.branch1.1.bn.bias\n",
            "910 repeat_2.1.branch1.1.bn._mean ===== repeat_2.1.branch1.1.bn.running_mean\n",
            "911 repeat_2.1.branch1.1.bn._variance ===== repeat_2.1.branch1.1.bn.running_var\n",
            "912 repeat_2.1.branch1.2.conv.weight ===== repeat_2.1.branch1.2.conv.weight\n",
            "913 repeat_2.1.branch1.2.bn.weight ===== repeat_2.1.branch1.2.bn.weight\n",
            "914 repeat_2.1.branch1.2.bn.bias ===== repeat_2.1.branch1.2.bn.bias\n",
            "915 repeat_2.1.branch1.2.bn._mean ===== repeat_2.1.branch1.2.bn.running_mean\n",
            "916 repeat_2.1.branch1.2.bn._variance ===== repeat_2.1.branch1.2.bn.running_var\n",
            "917 repeat_2.1.conv2d.weight ===== repeat_2.1.conv2d.weight\n",
            "918 repeat_2.1.conv2d.bias ===== repeat_2.1.conv2d.bias\n",
            "919 repeat_2.2.branch0.conv.weight ===== repeat_2.2.branch0.conv.weight\n",
            "920 repeat_2.2.branch0.bn.weight ===== repeat_2.2.branch0.bn.weight\n",
            "921 repeat_2.2.branch0.bn.bias ===== repeat_2.2.branch0.bn.bias\n",
            "922 repeat_2.2.branch0.bn._mean ===== repeat_2.2.branch0.bn.running_mean\n",
            "923 repeat_2.2.branch0.bn._variance ===== repeat_2.2.branch0.bn.running_var\n",
            "924 repeat_2.2.branch1.0.conv.weight ===== repeat_2.2.branch1.0.conv.weight\n",
            "925 repeat_2.2.branch1.0.bn.weight ===== repeat_2.2.branch1.0.bn.weight\n",
            "926 repeat_2.2.branch1.0.bn.bias ===== repeat_2.2.branch1.0.bn.bias\n",
            "927 repeat_2.2.branch1.0.bn._mean ===== repeat_2.2.branch1.0.bn.running_mean\n",
            "928 repeat_2.2.branch1.0.bn._variance ===== repeat_2.2.branch1.0.bn.running_var\n",
            "929 repeat_2.2.branch1.1.conv.weight ===== repeat_2.2.branch1.1.conv.weight\n",
            "930 repeat_2.2.branch1.1.bn.weight ===== repeat_2.2.branch1.1.bn.weight\n",
            "931 repeat_2.2.branch1.1.bn.bias ===== repeat_2.2.branch1.1.bn.bias\n",
            "932 repeat_2.2.branch1.1.bn._mean ===== repeat_2.2.branch1.1.bn.running_mean\n",
            "933 repeat_2.2.branch1.1.bn._variance ===== repeat_2.2.branch1.1.bn.running_var\n",
            "934 repeat_2.2.branch1.2.conv.weight ===== repeat_2.2.branch1.2.conv.weight\n",
            "935 repeat_2.2.branch1.2.bn.weight ===== repeat_2.2.branch1.2.bn.weight\n",
            "936 repeat_2.2.branch1.2.bn.bias ===== repeat_2.2.branch1.2.bn.bias\n",
            "937 repeat_2.2.branch1.2.bn._mean ===== repeat_2.2.branch1.2.bn.running_mean\n",
            "938 repeat_2.2.branch1.2.bn._variance ===== repeat_2.2.branch1.2.bn.running_var\n",
            "939 repeat_2.2.conv2d.weight ===== repeat_2.2.conv2d.weight\n",
            "940 repeat_2.2.conv2d.bias ===== repeat_2.2.conv2d.bias\n",
            "941 repeat_2.3.branch0.conv.weight ===== repeat_2.3.branch0.conv.weight\n",
            "942 repeat_2.3.branch0.bn.weight ===== repeat_2.3.branch0.bn.weight\n",
            "943 repeat_2.3.branch0.bn.bias ===== repeat_2.3.branch0.bn.bias\n",
            "944 repeat_2.3.branch0.bn._mean ===== repeat_2.3.branch0.bn.running_mean\n",
            "945 repeat_2.3.branch0.bn._variance ===== repeat_2.3.branch0.bn.running_var\n",
            "946 repeat_2.3.branch1.0.conv.weight ===== repeat_2.3.branch1.0.conv.weight\n",
            "947 repeat_2.3.branch1.0.bn.weight ===== repeat_2.3.branch1.0.bn.weight\n",
            "948 repeat_2.3.branch1.0.bn.bias ===== repeat_2.3.branch1.0.bn.bias\n",
            "949 repeat_2.3.branch1.0.bn._mean ===== repeat_2.3.branch1.0.bn.running_mean\n",
            "950 repeat_2.3.branch1.0.bn._variance ===== repeat_2.3.branch1.0.bn.running_var\n",
            "951 repeat_2.3.branch1.1.conv.weight ===== repeat_2.3.branch1.1.conv.weight\n",
            "952 repeat_2.3.branch1.1.bn.weight ===== repeat_2.3.branch1.1.bn.weight\n",
            "953 repeat_2.3.branch1.1.bn.bias ===== repeat_2.3.branch1.1.bn.bias\n",
            "954 repeat_2.3.branch1.1.bn._mean ===== repeat_2.3.branch1.1.bn.running_mean\n",
            "955 repeat_2.3.branch1.1.bn._variance ===== repeat_2.3.branch1.1.bn.running_var\n",
            "956 repeat_2.3.branch1.2.conv.weight ===== repeat_2.3.branch1.2.conv.weight\n",
            "957 repeat_2.3.branch1.2.bn.weight ===== repeat_2.3.branch1.2.bn.weight\n",
            "958 repeat_2.3.branch1.2.bn.bias ===== repeat_2.3.branch1.2.bn.bias\n",
            "959 repeat_2.3.branch1.2.bn._mean ===== repeat_2.3.branch1.2.bn.running_mean\n",
            "960 repeat_2.3.branch1.2.bn._variance ===== repeat_2.3.branch1.2.bn.running_var\n",
            "961 repeat_2.3.conv2d.weight ===== repeat_2.3.conv2d.weight\n",
            "962 repeat_2.3.conv2d.bias ===== repeat_2.3.conv2d.bias\n",
            "963 repeat_2.4.branch0.conv.weight ===== repeat_2.4.branch0.conv.weight\n",
            "964 repeat_2.4.branch0.bn.weight ===== repeat_2.4.branch0.bn.weight\n",
            "965 repeat_2.4.branch0.bn.bias ===== repeat_2.4.branch0.bn.bias\n",
            "966 repeat_2.4.branch0.bn._mean ===== repeat_2.4.branch0.bn.running_mean\n",
            "967 repeat_2.4.branch0.bn._variance ===== repeat_2.4.branch0.bn.running_var\n",
            "968 repeat_2.4.branch1.0.conv.weight ===== repeat_2.4.branch1.0.conv.weight\n",
            "969 repeat_2.4.branch1.0.bn.weight ===== repeat_2.4.branch1.0.bn.weight\n",
            "970 repeat_2.4.branch1.0.bn.bias ===== repeat_2.4.branch1.0.bn.bias\n",
            "971 repeat_2.4.branch1.0.bn._mean ===== repeat_2.4.branch1.0.bn.running_mean\n",
            "972 repeat_2.4.branch1.0.bn._variance ===== repeat_2.4.branch1.0.bn.running_var\n",
            "973 repeat_2.4.branch1.1.conv.weight ===== repeat_2.4.branch1.1.conv.weight\n",
            "974 repeat_2.4.branch1.1.bn.weight ===== repeat_2.4.branch1.1.bn.weight\n",
            "975 repeat_2.4.branch1.1.bn.bias ===== repeat_2.4.branch1.1.bn.bias\n",
            "976 repeat_2.4.branch1.1.bn._mean ===== repeat_2.4.branch1.1.bn.running_mean\n",
            "977 repeat_2.4.branch1.1.bn._variance ===== repeat_2.4.branch1.1.bn.running_var\n",
            "978 repeat_2.4.branch1.2.conv.weight ===== repeat_2.4.branch1.2.conv.weight\n",
            "979 repeat_2.4.branch1.2.bn.weight ===== repeat_2.4.branch1.2.bn.weight\n",
            "980 repeat_2.4.branch1.2.bn.bias ===== repeat_2.4.branch1.2.bn.bias\n",
            "981 repeat_2.4.branch1.2.bn._mean ===== repeat_2.4.branch1.2.bn.running_mean\n",
            "982 repeat_2.4.branch1.2.bn._variance ===== repeat_2.4.branch1.2.bn.running_var\n",
            "983 repeat_2.4.conv2d.weight ===== repeat_2.4.conv2d.weight\n",
            "984 repeat_2.4.conv2d.bias ===== repeat_2.4.conv2d.bias\n",
            "985 repeat_2.5.branch0.conv.weight ===== repeat_2.5.branch0.conv.weight\n",
            "986 repeat_2.5.branch0.bn.weight ===== repeat_2.5.branch0.bn.weight\n",
            "987 repeat_2.5.branch0.bn.bias ===== repeat_2.5.branch0.bn.bias\n",
            "988 repeat_2.5.branch0.bn._mean ===== repeat_2.5.branch0.bn.running_mean\n",
            "989 repeat_2.5.branch0.bn._variance ===== repeat_2.5.branch0.bn.running_var\n",
            "990 repeat_2.5.branch1.0.conv.weight ===== repeat_2.5.branch1.0.conv.weight\n",
            "991 repeat_2.5.branch1.0.bn.weight ===== repeat_2.5.branch1.0.bn.weight\n",
            "992 repeat_2.5.branch1.0.bn.bias ===== repeat_2.5.branch1.0.bn.bias\n",
            "993 repeat_2.5.branch1.0.bn._mean ===== repeat_2.5.branch1.0.bn.running_mean\n",
            "994 repeat_2.5.branch1.0.bn._variance ===== repeat_2.5.branch1.0.bn.running_var\n",
            "995 repeat_2.5.branch1.1.conv.weight ===== repeat_2.5.branch1.1.conv.weight\n",
            "996 repeat_2.5.branch1.1.bn.weight ===== repeat_2.5.branch1.1.bn.weight\n",
            "997 repeat_2.5.branch1.1.bn.bias ===== repeat_2.5.branch1.1.bn.bias\n",
            "998 repeat_2.5.branch1.1.bn._mean ===== repeat_2.5.branch1.1.bn.running_mean\n",
            "999 repeat_2.5.branch1.1.bn._variance ===== repeat_2.5.branch1.1.bn.running_var\n",
            "1000 repeat_2.5.branch1.2.conv.weight ===== repeat_2.5.branch1.2.conv.weight\n",
            "1001 repeat_2.5.branch1.2.bn.weight ===== repeat_2.5.branch1.2.bn.weight\n",
            "1002 repeat_2.5.branch1.2.bn.bias ===== repeat_2.5.branch1.2.bn.bias\n",
            "1003 repeat_2.5.branch1.2.bn._mean ===== repeat_2.5.branch1.2.bn.running_mean\n",
            "1004 repeat_2.5.branch1.2.bn._variance ===== repeat_2.5.branch1.2.bn.running_var\n",
            "1005 repeat_2.5.conv2d.weight ===== repeat_2.5.conv2d.weight\n",
            "1006 repeat_2.5.conv2d.bias ===== repeat_2.5.conv2d.bias\n",
            "1007 repeat_2.6.branch0.conv.weight ===== repeat_2.6.branch0.conv.weight\n",
            "1008 repeat_2.6.branch0.bn.weight ===== repeat_2.6.branch0.bn.weight\n",
            "1009 repeat_2.6.branch0.bn.bias ===== repeat_2.6.branch0.bn.bias\n",
            "1010 repeat_2.6.branch0.bn._mean ===== repeat_2.6.branch0.bn.running_mean\n",
            "1011 repeat_2.6.branch0.bn._variance ===== repeat_2.6.branch0.bn.running_var\n",
            "1012 repeat_2.6.branch1.0.conv.weight ===== repeat_2.6.branch1.0.conv.weight\n",
            "1013 repeat_2.6.branch1.0.bn.weight ===== repeat_2.6.branch1.0.bn.weight\n",
            "1014 repeat_2.6.branch1.0.bn.bias ===== repeat_2.6.branch1.0.bn.bias\n",
            "1015 repeat_2.6.branch1.0.bn._mean ===== repeat_2.6.branch1.0.bn.running_mean\n",
            "1016 repeat_2.6.branch1.0.bn._variance ===== repeat_2.6.branch1.0.bn.running_var\n",
            "1017 repeat_2.6.branch1.1.conv.weight ===== repeat_2.6.branch1.1.conv.weight\n",
            "1018 repeat_2.6.branch1.1.bn.weight ===== repeat_2.6.branch1.1.bn.weight\n",
            "1019 repeat_2.6.branch1.1.bn.bias ===== repeat_2.6.branch1.1.bn.bias\n",
            "1020 repeat_2.6.branch1.1.bn._mean ===== repeat_2.6.branch1.1.bn.running_mean\n",
            "1021 repeat_2.6.branch1.1.bn._variance ===== repeat_2.6.branch1.1.bn.running_var\n",
            "1022 repeat_2.6.branch1.2.conv.weight ===== repeat_2.6.branch1.2.conv.weight\n",
            "1023 repeat_2.6.branch1.2.bn.weight ===== repeat_2.6.branch1.2.bn.weight\n",
            "1024 repeat_2.6.branch1.2.bn.bias ===== repeat_2.6.branch1.2.bn.bias\n",
            "1025 repeat_2.6.branch1.2.bn._mean ===== repeat_2.6.branch1.2.bn.running_mean\n",
            "1026 repeat_2.6.branch1.2.bn._variance ===== repeat_2.6.branch1.2.bn.running_var\n",
            "1027 repeat_2.6.conv2d.weight ===== repeat_2.6.conv2d.weight\n",
            "1028 repeat_2.6.conv2d.bias ===== repeat_2.6.conv2d.bias\n",
            "1029 repeat_2.7.branch0.conv.weight ===== repeat_2.7.branch0.conv.weight\n",
            "1030 repeat_2.7.branch0.bn.weight ===== repeat_2.7.branch0.bn.weight\n",
            "1031 repeat_2.7.branch0.bn.bias ===== repeat_2.7.branch0.bn.bias\n",
            "1032 repeat_2.7.branch0.bn._mean ===== repeat_2.7.branch0.bn.running_mean\n",
            "1033 repeat_2.7.branch0.bn._variance ===== repeat_2.7.branch0.bn.running_var\n",
            "1034 repeat_2.7.branch1.0.conv.weight ===== repeat_2.7.branch1.0.conv.weight\n",
            "1035 repeat_2.7.branch1.0.bn.weight ===== repeat_2.7.branch1.0.bn.weight\n",
            "1036 repeat_2.7.branch1.0.bn.bias ===== repeat_2.7.branch1.0.bn.bias\n",
            "1037 repeat_2.7.branch1.0.bn._mean ===== repeat_2.7.branch1.0.bn.running_mean\n",
            "1038 repeat_2.7.branch1.0.bn._variance ===== repeat_2.7.branch1.0.bn.running_var\n",
            "1039 repeat_2.7.branch1.1.conv.weight ===== repeat_2.7.branch1.1.conv.weight\n",
            "1040 repeat_2.7.branch1.1.bn.weight ===== repeat_2.7.branch1.1.bn.weight\n",
            "1041 repeat_2.7.branch1.1.bn.bias ===== repeat_2.7.branch1.1.bn.bias\n",
            "1042 repeat_2.7.branch1.1.bn._mean ===== repeat_2.7.branch1.1.bn.running_mean\n",
            "1043 repeat_2.7.branch1.1.bn._variance ===== repeat_2.7.branch1.1.bn.running_var\n",
            "1044 repeat_2.7.branch1.2.conv.weight ===== repeat_2.7.branch1.2.conv.weight\n",
            "1045 repeat_2.7.branch1.2.bn.weight ===== repeat_2.7.branch1.2.bn.weight\n",
            "1046 repeat_2.7.branch1.2.bn.bias ===== repeat_2.7.branch1.2.bn.bias\n",
            "1047 repeat_2.7.branch1.2.bn._mean ===== repeat_2.7.branch1.2.bn.running_mean\n",
            "1048 repeat_2.7.branch1.2.bn._variance ===== repeat_2.7.branch1.2.bn.running_var\n",
            "1049 repeat_2.7.conv2d.weight ===== repeat_2.7.conv2d.weight\n",
            "1050 repeat_2.7.conv2d.bias ===== repeat_2.7.conv2d.bias\n",
            "1051 repeat_2.8.branch0.conv.weight ===== repeat_2.8.branch0.conv.weight\n",
            "1052 repeat_2.8.branch0.bn.weight ===== repeat_2.8.branch0.bn.weight\n",
            "1053 repeat_2.8.branch0.bn.bias ===== repeat_2.8.branch0.bn.bias\n",
            "1054 repeat_2.8.branch0.bn._mean ===== repeat_2.8.branch0.bn.running_mean\n",
            "1055 repeat_2.8.branch0.bn._variance ===== repeat_2.8.branch0.bn.running_var\n",
            "1056 repeat_2.8.branch1.0.conv.weight ===== repeat_2.8.branch1.0.conv.weight\n",
            "1057 repeat_2.8.branch1.0.bn.weight ===== repeat_2.8.branch1.0.bn.weight\n",
            "1058 repeat_2.8.branch1.0.bn.bias ===== repeat_2.8.branch1.0.bn.bias\n",
            "1059 repeat_2.8.branch1.0.bn._mean ===== repeat_2.8.branch1.0.bn.running_mean\n",
            "1060 repeat_2.8.branch1.0.bn._variance ===== repeat_2.8.branch1.0.bn.running_var\n",
            "1061 repeat_2.8.branch1.1.conv.weight ===== repeat_2.8.branch1.1.conv.weight\n",
            "1062 repeat_2.8.branch1.1.bn.weight ===== repeat_2.8.branch1.1.bn.weight\n",
            "1063 repeat_2.8.branch1.1.bn.bias ===== repeat_2.8.branch1.1.bn.bias\n",
            "1064 repeat_2.8.branch1.1.bn._mean ===== repeat_2.8.branch1.1.bn.running_mean\n",
            "1065 repeat_2.8.branch1.1.bn._variance ===== repeat_2.8.branch1.1.bn.running_var\n",
            "1066 repeat_2.8.branch1.2.conv.weight ===== repeat_2.8.branch1.2.conv.weight\n",
            "1067 repeat_2.8.branch1.2.bn.weight ===== repeat_2.8.branch1.2.bn.weight\n",
            "1068 repeat_2.8.branch1.2.bn.bias ===== repeat_2.8.branch1.2.bn.bias\n",
            "1069 repeat_2.8.branch1.2.bn._mean ===== repeat_2.8.branch1.2.bn.running_mean\n",
            "1070 repeat_2.8.branch1.2.bn._variance ===== repeat_2.8.branch1.2.bn.running_var\n",
            "1071 repeat_2.8.conv2d.weight ===== repeat_2.8.conv2d.weight\n",
            "1072 repeat_2.8.conv2d.bias ===== repeat_2.8.conv2d.bias\n",
            "1073 block8.branch0.conv.weight ===== block8.branch0.conv.weight\n",
            "1074 block8.branch0.bn.weight ===== block8.branch0.bn.weight\n",
            "1075 block8.branch0.bn.bias ===== block8.branch0.bn.bias\n",
            "1076 block8.branch0.bn._mean ===== block8.branch0.bn.running_mean\n",
            "1077 block8.branch0.bn._variance ===== block8.branch0.bn.running_var\n",
            "1078 block8.branch1.0.conv.weight ===== block8.branch1.0.conv.weight\n",
            "1079 block8.branch1.0.bn.weight ===== block8.branch1.0.bn.weight\n",
            "1080 block8.branch1.0.bn.bias ===== block8.branch1.0.bn.bias\n",
            "1081 block8.branch1.0.bn._mean ===== block8.branch1.0.bn.running_mean\n",
            "1082 block8.branch1.0.bn._variance ===== block8.branch1.0.bn.running_var\n",
            "1083 block8.branch1.1.conv.weight ===== block8.branch1.1.conv.weight\n",
            "1084 block8.branch1.1.bn.weight ===== block8.branch1.1.bn.weight\n",
            "1085 block8.branch1.1.bn.bias ===== block8.branch1.1.bn.bias\n",
            "1086 block8.branch1.1.bn._mean ===== block8.branch1.1.bn.running_mean\n",
            "1087 block8.branch1.1.bn._variance ===== block8.branch1.1.bn.running_var\n",
            "1088 block8.branch1.2.conv.weight ===== block8.branch1.2.conv.weight\n",
            "1089 block8.branch1.2.bn.weight ===== block8.branch1.2.bn.weight\n",
            "1090 block8.branch1.2.bn.bias ===== block8.branch1.2.bn.bias\n",
            "1091 block8.branch1.2.bn._mean ===== block8.branch1.2.bn.running_mean\n",
            "1092 block8.branch1.2.bn._variance ===== block8.branch1.2.bn.running_var\n",
            "1093 block8.conv2d.weight ===== block8.conv2d.weight\n",
            "1094 block8.conv2d.bias ===== block8.conv2d.bias\n",
            "1095 conv2d_7b.conv.weight ===== conv2d_7b.conv.weight\n",
            "1096 conv2d_7b.bn.weight ===== conv2d_7b.bn.weight\n",
            "1097 conv2d_7b.bn.bias ===== conv2d_7b.bn.bias\n",
            "1098 conv2d_7b.bn._mean ===== conv2d_7b.bn.running_mean\n",
            "1099 conv2d_7b.bn._variance ===== conv2d_7b.bn.running_var\n",
            "1100 last_linear.weight ===== last_linear.weight\n",
            "1101 last_linear.bias ===== last_linear.bias\n"
          ],
          "name": "stdout"
        }
      ]
    },
    {
      "cell_type": "code",
      "metadata": {
        "colab": {
          "base_uri": "https://localhost:8080/"
        },
        "id": "pQHsG9_OfwVV",
        "outputId": "064d7392-6c84-4589-fa89-2486c7a2207b"
      },
      "source": [
        "all([True for x in list(inceptionresnetv2_t.keys()) if x in list(model_p_dk.keys())])"
      ],
      "execution_count": null,
      "outputs": [
        {
          "output_type": "execute_result",
          "data": {
            "text/plain": [
              "True"
            ]
          },
          "metadata": {
            "tags": []
          },
          "execution_count": 49
        }
      ]
    },
    {
      "cell_type": "code",
      "metadata": {
        "id": "i55wDlwUgD90",
        "colab": {
          "base_uri": "https://localhost:8080/"
        },
        "outputId": "088a5580-524e-4311-fc11-3485dbd1cede"
      },
      "source": [
        "%cd /content/work\n",
        "import paddle\n",
        "import torch\n",
        "from collections import OrderedDict\n",
        "import pickle"
      ],
      "execution_count": 14,
      "outputs": [
        {
          "output_type": "stream",
          "text": [
            "/content/work\n"
          ],
          "name": "stdout"
        }
      ]
    },
    {
      "cell_type": "code",
      "metadata": {
        "id": "mYZ6rbzUhMYm",
        "colab": {
          "base_uri": "https://localhost:8080/"
        },
        "outputId": "6ad61cd5-d3c5-495d-e752-8b3e34c49ebb"
      },
      "source": [
        "inceptionresnetv2_t = torch.load('/content/model/inceptionresnetv2-520b38e4.pth')\n",
        "paddle_new_dict = OrderedDict()\n",
        "for paddle_key,torch_key in zip(model_p_dk.keys(), [x for x in model_t_dk.keys() if not x.endswith(\"num_batches_tracked\")]):\n",
        "  if 'linear' in paddle_key.split('.')[-2]:\n",
        "    print(paddle_key)\n",
        "    paddle_new_dict[paddle_key] = inceptionresnetv2_t[torch_key].detach().numpy().T\n",
        "  else:\n",
        "    paddle_new_dict[paddle_key] = inceptionresnetv2_t[torch_key].detach().numpy()\n",
        "with open('inceptionresnetv2_p.pdparams', 'wb') as f:\n",
        "  pickle.dump(paddle_new_dict, f)"
      ],
      "execution_count": 22,
      "outputs": [
        {
          "output_type": "stream",
          "text": [
            "last_linear.weight\n",
            "last_linear.bias\n"
          ],
          "name": "stdout"
        }
      ]
    },
    {
      "cell_type": "code",
      "metadata": {
        "colab": {
          "base_uri": "https://localhost:8080/"
        },
        "id": "6XxchCVwkyV5",
        "outputId": "4dda17ff-948d-47c5-a2f1-d0cd5df4d47d"
      },
      "source": [
        "model_p.load_dict(paddle.load('inceptionresnetv2_p.pdparams'))"
      ],
      "execution_count": 66,
      "outputs": [
        {
          "output_type": "stream",
          "text": [
            "/usr/local/lib/python3.7/dist-packages/paddle/fluid/dygraph/layers.py:1297: UserWarning: Skip loading for last_linear.weight. last_linear.weight receives a shape [1001, 1536], but the expected shape is [1536, 1001].\n",
            "  warnings.warn((\"Skip loading for {}. \".format(key) + str(err)))\n"
          ],
          "name": "stderr"
        }
      ]
    },
    {
      "cell_type": "code",
      "metadata": {
        "id": "BEgo1ZPmlbTN"
      },
      "source": [
        "!cp inceptionresnetv2_p.pdparams /content/drive/MyDrive/GAN/DeblurGANv2"
      ],
      "execution_count": null,
      "outputs": []
    },
    {
      "cell_type": "markdown",
      "metadata": {
        "id": "sZd11lYv108W"
      },
      "source": [
        "## instancenorm2d"
      ]
    },
    {
      "cell_type": "code",
      "metadata": {
        "id": "l15sz3uCl10V"
      },
      "source": [
        "import paddle.nn as nn\n",
        "from paddle.nn.functional import instance_norm\n",
        "\n",
        "class InstanceNorm2d(nn.Layer):\n",
        "    \"\"\"\n",
        "    This class is based class for InstanceNorm1D, 2d, 3d. \n",
        "    See InstaceNorm1D, InstanceNorm2D or InstanceNorm3D for more details.\n",
        "    \"\"\"\n",
        "\n",
        "    def __init__(self,\n",
        "                 num_features,\n",
        "                 epsilon=1e-5,\n",
        "                 momentum=0.9,\n",
        "                 weight_attr=None,\n",
        "                 bias_attr=None,\n",
        "                 data_format=\"NCHW\",\n",
        "                 name=None):\n",
        "        super(_InstanceNormBase, self).__init__()\n",
        "\n",
        "        if weight_attr == False or bias_attr == False:\n",
        "            assert weight_attr == bias_attr, \"weight_attr and bias_attr must be set to Fasle at the same time in InstanceNorm\"\n",
        "        self._epsilon = epsilon\n",
        "        self._weight_attr = weight_attr\n",
        "        self._bias_attr = bias_attr\n",
        "\n",
        "        if weight_attr != False and bias_attr != False:\n",
        "            self.scale = self.create_parameter(\n",
        "                attr=self._weight_attr,\n",
        "                shape=[num_features],\n",
        "                default_initializer=Constant(1.0),\n",
        "                is_bias=False)\n",
        "            self.bias = self.create_parameter(\n",
        "                attr=self._bias_attr,\n",
        "                shape=[num_features],\n",
        "                default_initializer=Constant(0.0),\n",
        "                is_bias=True)\n",
        "        else:\n",
        "            self.scale = None\n",
        "            self.bias = None\n",
        "\n",
        "    def _check_input_dim(self, input):\n",
        "        if len(input.shape) != 4:\n",
        "            raise ValueError('expected 4D input (got {}D input)'.format(\n",
        "                len(input.shape)))\n",
        "\n",
        "    def forward(self, input):\n",
        "        self._check_input_dim(input)\n",
        "\n",
        "        return instance_norm(\n",
        "            input, weight=self.scale, bias=self.bias, eps=self._epsilon)\n",
        "\n",
        "    def extra_repr(self):\n",
        "        return 'num_features={}, epsilon={}'.format(self.scale.shape[0],\n",
        "                                                    self._epsilon)"
      ],
      "execution_count": null,
      "outputs": []
    },
    {
      "cell_type": "code",
      "metadata": {
        "id": "sOeb3l0b9u7Y"
      },
      "source": [
        "in_t = torch.nn.InstanceNorm2d(100, affine=True)\n",
        "in_p = paddle.nn.InstanceNorm2D(num_features=100, weight_attr=True, bias_attr=True)"
      ],
      "execution_count": null,
      "outputs": []
    },
    {
      "cell_type": "code",
      "metadata": {
        "id": "ABGaT1ecF6zK"
      },
      "source": [
        "import numpy as np"
      ],
      "execution_count": null,
      "outputs": []
    },
    {
      "cell_type": "code",
      "metadata": {
        "id": "qXJUxRh5Foa9"
      },
      "source": [
        "x = np.random.rand(1, 100, 64, 64).astype(np.float32)\n",
        "x_t = torch.from_numpy(x)\n",
        "x_p = paddle.to_tensor(x)"
      ],
      "execution_count": null,
      "outputs": []
    },
    {
      "cell_type": "code",
      "metadata": {
        "colab": {
          "base_uri": "https://localhost:8080/",
          "height": 539
        },
        "id": "XLZHFVZkF5fN",
        "outputId": "cd4d949c-6116-4a05-8cf4-859494f6b7a1"
      },
      "source": [
        "np.testing.assert_allclose(in_t(x_t).detach().cpu().numpy(), in_p(x_p).detach().cpu().numpy())"
      ],
      "execution_count": null,
      "outputs": [
        {
          "output_type": "error",
          "ename": "AssertionError",
          "evalue": "ignored",
          "traceback": [
            "\u001b[0;31m---------------------------------------------------------------------------\u001b[0m",
            "\u001b[0;31mAssertionError\u001b[0m                            Traceback (most recent call last)",
            "\u001b[0;32m<ipython-input-79-6e461ebce0c5>\u001b[0m in \u001b[0;36m<module>\u001b[0;34m()\u001b[0m\n\u001b[0;32m----> 1\u001b[0;31m \u001b[0mnp\u001b[0m\u001b[0;34m.\u001b[0m\u001b[0mtesting\u001b[0m\u001b[0;34m.\u001b[0m\u001b[0massert_allclose\u001b[0m\u001b[0;34m(\u001b[0m\u001b[0min_t\u001b[0m\u001b[0;34m(\u001b[0m\u001b[0mx_t\u001b[0m\u001b[0;34m)\u001b[0m\u001b[0;34m.\u001b[0m\u001b[0mdetach\u001b[0m\u001b[0;34m(\u001b[0m\u001b[0;34m)\u001b[0m\u001b[0;34m.\u001b[0m\u001b[0mcpu\u001b[0m\u001b[0;34m(\u001b[0m\u001b[0;34m)\u001b[0m\u001b[0;34m.\u001b[0m\u001b[0mnumpy\u001b[0m\u001b[0;34m(\u001b[0m\u001b[0;34m)\u001b[0m\u001b[0;34m,\u001b[0m \u001b[0min_p\u001b[0m\u001b[0;34m(\u001b[0m\u001b[0mx_p\u001b[0m\u001b[0;34m)\u001b[0m\u001b[0;34m.\u001b[0m\u001b[0mdetach\u001b[0m\u001b[0;34m(\u001b[0m\u001b[0;34m)\u001b[0m\u001b[0;34m.\u001b[0m\u001b[0mcpu\u001b[0m\u001b[0;34m(\u001b[0m\u001b[0;34m)\u001b[0m\u001b[0;34m.\u001b[0m\u001b[0mnumpy\u001b[0m\u001b[0;34m(\u001b[0m\u001b[0;34m)\u001b[0m\u001b[0;34m)\u001b[0m\u001b[0;34m\u001b[0m\u001b[0;34m\u001b[0m\u001b[0m\n\u001b[0m",
            "\u001b[0;32m/usr/local/lib/python3.7/dist-packages/numpy/testing/_private/utils.py\u001b[0m in \u001b[0;36massert_allclose\u001b[0;34m(actual, desired, rtol, atol, equal_nan, err_msg, verbose)\u001b[0m\n\u001b[1;32m   1526\u001b[0m     \u001b[0mheader\u001b[0m \u001b[0;34m=\u001b[0m \u001b[0;34m'Not equal to tolerance rtol=%g, atol=%g'\u001b[0m \u001b[0;34m%\u001b[0m \u001b[0;34m(\u001b[0m\u001b[0mrtol\u001b[0m\u001b[0;34m,\u001b[0m \u001b[0matol\u001b[0m\u001b[0;34m)\u001b[0m\u001b[0;34m\u001b[0m\u001b[0;34m\u001b[0m\u001b[0m\n\u001b[1;32m   1527\u001b[0m     assert_array_compare(compare, actual, desired, err_msg=str(err_msg),\n\u001b[0;32m-> 1528\u001b[0;31m                          verbose=verbose, header=header, equal_nan=equal_nan)\n\u001b[0m\u001b[1;32m   1529\u001b[0m \u001b[0;34m\u001b[0m\u001b[0m\n\u001b[1;32m   1530\u001b[0m \u001b[0;34m\u001b[0m\u001b[0m\n",
            "\u001b[0;32m/usr/local/lib/python3.7/dist-packages/numpy/testing/_private/utils.py\u001b[0m in \u001b[0;36massert_array_compare\u001b[0;34m(comparison, x, y, err_msg, verbose, header, precision, equal_nan, equal_inf)\u001b[0m\n\u001b[1;32m    838\u001b[0m                                 \u001b[0mverbose\u001b[0m\u001b[0;34m=\u001b[0m\u001b[0mverbose\u001b[0m\u001b[0;34m,\u001b[0m \u001b[0mheader\u001b[0m\u001b[0;34m=\u001b[0m\u001b[0mheader\u001b[0m\u001b[0;34m,\u001b[0m\u001b[0;34m\u001b[0m\u001b[0;34m\u001b[0m\u001b[0m\n\u001b[1;32m    839\u001b[0m                                 names=('x', 'y'), precision=precision)\n\u001b[0;32m--> 840\u001b[0;31m             \u001b[0;32mraise\u001b[0m \u001b[0mAssertionError\u001b[0m\u001b[0;34m(\u001b[0m\u001b[0mmsg\u001b[0m\u001b[0;34m)\u001b[0m\u001b[0;34m\u001b[0m\u001b[0;34m\u001b[0m\u001b[0m\n\u001b[0m\u001b[1;32m    841\u001b[0m     \u001b[0;32mexcept\u001b[0m \u001b[0mValueError\u001b[0m\u001b[0;34m:\u001b[0m\u001b[0;34m\u001b[0m\u001b[0;34m\u001b[0m\u001b[0m\n\u001b[1;32m    842\u001b[0m         \u001b[0;32mimport\u001b[0m \u001b[0mtraceback\u001b[0m\u001b[0;34m\u001b[0m\u001b[0;34m\u001b[0m\u001b[0m\n",
            "\u001b[0;31mAssertionError\u001b[0m: \nNot equal to tolerance rtol=1e-07, atol=0\n\nMismatched elements: 281763 / 409600 (68.8%)\nMax absolute difference: 8.34465e-07\nMax relative difference: 0.0322582\n x: array([[[[ 1.544716,  0.067205, -0.869493, ...,  1.025576, -0.900716,\n           0.441617],\n         [ 1.417889,  0.2122  , -0.850656, ...,  0.877612, -0.405928,...\n y: array([[[[ 1.544717,  0.067205, -0.869493, ...,  1.025576, -0.900717,\n           0.441617],\n         [ 1.417889,  0.2122  , -0.850656, ...,  0.877612, -0.405928,..."
          ]
        }
      ]
    },
    {
      "cell_type": "code",
      "metadata": {
        "id": "i8poY-mLGBNo"
      },
      "source": [
        "import paddle\n",
        "\n",
        "def get_norm_layer(norm_type='instance'):\n",
        "    if norm_type == 'batch':\n",
        "        norm_layer = functools.partial(nn.BatchNorm2d, weight_attr=True, bias_attr=True)\n",
        "    elif norm_type == 'instance':\n",
        "        norm_layer = functools.partial(nn.InstanceNorm2d, weight_attr=True, bias_attr=True)\n",
        "    else:\n",
        "        raise NotImplementedError('normalization layer [%s] is not found' % norm_type)\n",
        "    return norm_layer"
      ],
      "execution_count": null,
      "outputs": []
    },
    {
      "cell_type": "code",
      "metadata": {
        "id": "Es9uSsJHuKWs"
      },
      "source": [
        "!rm -rf model"
      ],
      "execution_count": 9,
      "outputs": []
    },
    {
      "cell_type": "code",
      "metadata": {
        "id": "cqBCdXA7HFjv",
        "colab": {
          "base_uri": "https://localhost:8080/"
        },
        "outputId": "ca544ea6-2d99-46bc-85df-5c08d34e82d5"
      },
      "source": [
        "%cd /content/\n",
        "!zip -q -r /content/drive/MyDrive/Work/DeblurGANv2/work.zip work\n",
        "!zip -q -r /content/drive/MyDrive/Work/DeblurGANv2/model.zip model\n",
        "%cd work"
      ],
      "execution_count": 5,
      "outputs": [
        {
          "output_type": "stream",
          "text": [
            "/content\n",
            "/content/work\n"
          ],
          "name": "stdout"
        }
      ]
    },
    {
      "cell_type": "code",
      "metadata": {
        "id": "UFXyqXPMHkAC"
      },
      "source": [
        "!rm -rf model\n",
        "!rm -rf work"
      ],
      "execution_count": null,
      "outputs": []
    },
    {
      "cell_type": "code",
      "metadata": {
        "id": "pvW12I6BHxOL",
        "colab": {
          "base_uri": "https://localhost:8080/"
        },
        "outputId": "0889b8ac-1d1b-4287-e2e2-a470ffc8e258"
      },
      "source": [
        "!unzip -q /content/drive/MyDrive/Work/DeblurGANv2/work.zip -d .\n",
        "!unzip -q /content/drive/MyDrive/Work/DeblurGANv2/model.zip -d ."
      ],
      "execution_count": 7,
      "outputs": [
        {
          "output_type": "stream",
          "text": [
            "replace ./model/inceptionresnetv2-520b38e4.pth? [y]es, [n]o, [A]ll, [N]one, [r]ename: "
          ],
          "name": "stdout"
        }
      ]
    },
    {
      "cell_type": "code",
      "metadata": {
        "colab": {
          "base_uri": "https://localhost:8080/"
        },
        "id": "ZgaENnCuF2Jm",
        "outputId": "5f46020b-d220-4d8f-c864-81a5d30e6b36"
      },
      "source": [
        "%cd work"
      ],
      "execution_count": 30,
      "outputs": [
        {
          "output_type": "stream",
          "text": [
            "/content/work\n"
          ],
          "name": "stdout"
        }
      ]
    },
    {
      "cell_type": "code",
      "metadata": {
        "colab": {
          "base_uri": "https://localhost:8080/"
        },
        "id": "5tNnYRwDKTg3",
        "outputId": "b3781ead-8a22-45db-9735-fa3c13cd2f12"
      },
      "source": [
        "import yaml\n",
        "\n",
        "with open('config/config.yaml') as cfg:\n",
        "  config = yaml.load(cfg)\n",
        "config['model']"
      ],
      "execution_count": 2,
      "outputs": [
        {
          "output_type": "execute_result",
          "data": {
            "text/plain": [
              "{'adv_lambda': 0.001,\n",
              " 'blocks': 9,\n",
              " 'content_loss': 'perceptual',\n",
              " 'd_layers': 3,\n",
              " 'd_name': 'double_gan',\n",
              " 'disc_loss': 'wgan-gp',\n",
              " 'dropout': True,\n",
              " 'g_name': 'fpn_inception',\n",
              " 'learn_residual': True,\n",
              " 'norm_layer': 'instance'}"
            ]
          },
          "metadata": {
            "tags": []
          },
          "execution_count": 2
        }
      ]
    },
    {
      "cell_type": "code",
      "metadata": {
        "id": "0y1lmrRxJlqQ"
      },
      "source": [
        "import networks_t"
      ],
      "execution_count": 3,
      "outputs": []
    },
    {
      "cell_type": "code",
      "metadata": {
        "id": "f_Ce-hP4JzZ7"
      },
      "source": [
        "model_g_t  = networks_t.get_generator(config['model'])"
      ],
      "execution_count": 4,
      "outputs": []
    },
    {
      "cell_type": "code",
      "metadata": {
        "colab": {
          "base_uri": "https://localhost:8080/"
        },
        "id": "CpyuxOztKdgQ",
        "outputId": "8c1931e6-9c33-4b7f-877d-b803fa21146b"
      },
      "source": [
        "\"model_g_t.state_dict().keys()\",len(model_g_t.state_dict().keys()), len([x for x in model_g_t.state_dict().keys() if not x.endswith(\"num_batches_tracked\")])"
      ],
      "execution_count": 14,
      "outputs": [
        {
          "output_type": "execute_result",
          "data": {
            "text/plain": [
              "('model_g_t.state_dict().keys()', 2384, 2012)"
            ]
          },
          "metadata": {
            "tags": []
          },
          "execution_count": 14
        }
      ]
    },
    {
      "cell_type": "code",
      "metadata": {
        "colab": {
          "base_uri": "https://localhost:8080/"
        },
        "id": "Cs6dNmchN3K7",
        "outputId": "d07700e5-e282-43ec-d2be-fd956bcbd384"
      },
      "source": [
        "# 查看 fpn_inception.h5 的参数个数\n",
        "import torch\n",
        "test_state_dict = torch.load('/content/model/fpn_inception.h5', map_location=torch.device('cpu'))\n",
        "len(test_state_dict['model'].keys())"
      ],
      "execution_count": 15,
      "outputs": [
        {
          "output_type": "execute_result",
          "data": {
            "text/plain": [
              "2384"
            ]
          },
          "metadata": {
            "tags": []
          },
          "execution_count": 15
        }
      ]
    },
    {
      "cell_type": "code",
      "metadata": {
        "id": "qK0uIgdlOWAC"
      },
      "source": [
        "import paddle\n",
        "import paddle.nn as nn_p\n",
        "import torch\n",
        "import torch.nn as nn_t\n",
        "import numpy as np"
      ],
      "execution_count": 8,
      "outputs": []
    },
    {
      "cell_type": "code",
      "metadata": {
        "id": "oIsWyHtzSzAN"
      },
      "source": [
        "linear_p = nn_p.Linear(10,10)\n",
        "linear_t = nn_t.Linear(10,10)"
      ],
      "execution_count": 9,
      "outputs": []
    },
    {
      "cell_type": "code",
      "metadata": {
        "colab": {
          "base_uri": "https://localhost:8080/"
        },
        "id": "eX8K695igFYs",
        "outputId": "92abde81-83b7-43f0-89ef-40cdc983f525"
      },
      "source": [
        "linear_new_weight = np.random.rand(11,10).astype(np.float32)\n",
        "linear_new_weight"
      ],
      "execution_count": 10,
      "outputs": [
        {
          "output_type": "execute_result",
          "data": {
            "text/plain": [
              "array([[8.5512459e-01, 5.3082687e-01, 5.2483964e-01, 8.9949971e-01,\n",
              "        6.1144072e-01, 3.8811275e-01, 8.1796050e-02, 7.2327965e-01,\n",
              "        7.7235883e-01, 3.8134196e-01],\n",
              "       [7.7083552e-01, 4.9762115e-01, 5.5177402e-01, 5.4581022e-01,\n",
              "        4.0651923e-01, 1.8649544e-01, 9.1570210e-01, 2.5547025e-01,\n",
              "        3.1251225e-01, 9.8989749e-01],\n",
              "       [8.8155830e-01, 2.7977133e-01, 2.0344328e-04, 6.3892311e-01,\n",
              "        5.9131092e-01, 9.2678839e-01, 6.1577076e-01, 4.4377980e-01,\n",
              "        7.0901519e-01, 3.9665792e-02],\n",
              "       [5.6734103e-01, 4.2180173e-02, 7.4561834e-02, 9.9308068e-01,\n",
              "        7.8669512e-01, 4.4965786e-01, 3.7048614e-01, 6.4385548e-02,\n",
              "        7.6378536e-01, 4.7061631e-01],\n",
              "       [3.3337212e-01, 7.2621578e-01, 7.7218187e-01, 2.4432026e-01,\n",
              "        7.5970553e-02, 8.1041753e-01, 7.0987952e-01, 1.0477323e-01,\n",
              "        4.0745598e-01, 5.0558209e-01],\n",
              "       [7.8205550e-01, 6.0065895e-01, 4.1503242e-01, 5.1162577e-01,\n",
              "        7.4334514e-01, 9.1027343e-01, 4.9262075e-03, 3.3131471e-01,\n",
              "        1.2084202e-01, 3.9211705e-01],\n",
              "       [9.7447509e-01, 1.3776506e-01, 5.1972234e-01, 1.5010852e-01,\n",
              "        8.5667616e-01, 6.2507385e-01, 2.4590132e-01, 8.0914068e-01,\n",
              "        5.6510329e-01, 2.0846990e-01],\n",
              "       [1.6867773e-01, 8.1993096e-02, 8.5476154e-01, 2.2078823e-01,\n",
              "        3.3363279e-02, 5.3315675e-01, 6.7514980e-01, 7.3243183e-01,\n",
              "        9.9533570e-01, 9.8827285e-01],\n",
              "       [8.5949916e-01, 7.3497599e-01, 6.0762382e-01, 4.3067622e-01,\n",
              "        4.9711367e-01, 1.9044781e-01, 4.9892041e-01, 6.2086672e-01,\n",
              "        7.5603157e-01, 5.1762891e-01],\n",
              "       [2.2446503e-01, 4.4864482e-01, 4.5991236e-01, 2.2655663e-01,\n",
              "        1.5459757e-01, 8.7011582e-01, 6.8677539e-01, 1.4066517e-01,\n",
              "        5.6751364e-01, 4.7995374e-02],\n",
              "       [5.9946311e-01, 7.2995371e-01, 8.0347699e-01, 8.4542513e-02,\n",
              "        8.8426107e-01, 8.2014555e-01, 9.7993189e-01, 9.4773126e-01,\n",
              "        8.5390031e-01, 9.1809195e-01]], dtype=float32)"
            ]
          },
          "metadata": {
            "tags": []
          },
          "execution_count": 10
        }
      ]
    },
    {
      "cell_type": "code",
      "metadata": {
        "colab": {
          "base_uri": "https://localhost:8080/"
        },
        "id": "UkOrkWCwUZ1Q",
        "outputId": "1b8c8fa0-29df-4f4f-dca6-9feb0db048ee"
      },
      "source": [
        "linear_t.weight.data = torch.from_numpy(linear_new_weight)[1:]\n",
        "linear_t.weight"
      ],
      "execution_count": 53,
      "outputs": [
        {
          "output_type": "execute_result",
          "data": {
            "text/plain": [
              "Parameter containing:\n",
              "tensor([[0.4390, 0.3377, 0.0030, 0.0750, 0.0490, 0.6924, 0.9764, 0.3239, 0.3102,\n",
              "         0.2118],\n",
              "        [0.6468, 0.2991, 0.3512, 0.5673, 0.6531, 0.1530, 0.5342, 0.7890, 0.7472,\n",
              "         0.2963],\n",
              "        [0.6367, 0.0660, 0.9835, 0.4253, 0.6254, 0.2897, 0.7320, 0.5047, 0.4688,\n",
              "         0.1789],\n",
              "        [0.4267, 0.2899, 0.0614, 0.6353, 0.4762, 0.0595, 0.9079, 0.7272, 0.1672,\n",
              "         0.7134],\n",
              "        [0.8137, 0.3864, 0.6391, 0.7269, 0.3521, 0.8082, 0.9775, 0.3082, 0.7832,\n",
              "         0.2601],\n",
              "        [0.3860, 0.0030, 0.2418, 0.9646, 0.2094, 0.1445, 0.4926, 0.1037, 0.0490,\n",
              "         0.0088],\n",
              "        [0.5697, 0.5996, 0.1817, 0.8138, 0.4863, 0.5082, 0.1343, 0.8007, 0.9933,\n",
              "         0.0919],\n",
              "        [0.8496, 0.3147, 0.2539, 0.1151, 0.6330, 0.4250, 0.2064, 0.8443, 0.4356,\n",
              "         0.9012],\n",
              "        [0.3371, 0.8247, 0.7086, 0.3851, 0.8644, 0.6908, 0.7703, 0.4699, 0.7032,\n",
              "         0.3461],\n",
              "        [0.9620, 0.9896, 0.8388, 0.8159, 0.4043, 0.6342, 0.1705, 0.1927, 0.4812,\n",
              "         0.7981]], requires_grad=True)"
            ]
          },
          "metadata": {
            "tags": []
          },
          "execution_count": 53
        }
      ]
    },
    {
      "cell_type": "code",
      "metadata": {
        "id": "l9gHVtsNUbww"
      },
      "source": [
        "linear_p.weight.set_value(linear_new_weight[1:])\n",
        "linear_p.weight.value\n",
        "new_linear = nn_p.Linear(10,10)\n",
        "new_linear.weight.set_value(linear_p.weight.detach().numpy())"
      ],
      "execution_count": 16,
      "outputs": []
    },
    {
      "cell_type": "code",
      "metadata": {
        "colab": {
          "base_uri": "https://localhost:8080/"
        },
        "id": "_CkpWu6aXLE9",
        "outputId": "6fa8ae84-a7cc-43e0-a14e-27e073a13d12"
      },
      "source": [
        "linear_p.weight[1:]"
      ],
      "execution_count": 51,
      "outputs": [
        {
          "output_type": "execute_result",
          "data": {
            "text/plain": [
              "Tensor(shape=[9, 10], dtype=float32, place=CPUPlace, stop_gradient=False,\n",
              "       [[0.45556971, 0.72864884, 0.10700054, 0.53075236, 0.38853502, 0.43445241, 0.02289046, 0.65532029, 0.63694680, 0.96094841],\n",
              "        [0.58223438, 0.37954718, 0.81510454, 0.07726010, 0.05803346, 0.97192162, 0.83371413, 0.60419321, 0.81852549, 0.49954459],\n",
              "        [0.87253374, 0.32882243, 0.07931733, 0.23797603, 0.09358963, 0.01136917, 0.07168984, 0.13035800, 0.36521974, 0.91496587],\n",
              "        [0.74177688, 0.91973114, 0.61551613, 0.23708586, 0.89372337, 0.07686203, 0.72259486, 0.78461677, 0.02755834, 0.28321281],\n",
              "        [0.84633249, 0.68299544, 0.60528421, 0.07787077, 0.72284168, 0.93835050, 0.30477268, 0.82818097, 0.29684347, 0.40448311],\n",
              "        [0.55562991, 0.26155818, 0.50775343, 0.85548437, 0.97107881, 0.44355512, 0.21002963, 0.80586708, 0.06853718, 0.45385495],\n",
              "        [0.37879086, 0.89960837, 0.91659665, 0.92257351, 0.74896032, 0.66155422, 0.98174530, 0.33560520, 0.86870915, 0.98172510],\n",
              "        [0.91686547, 0.34717223, 0.40625533, 0.03465216, 0.62794340, 0.68321288, 0.89293480, 0.92706639, 0.88734120, 0.53671271],\n",
              "        [0.74166763, 0.92072469, 0.36048073, 0.26527762, 0.31574678, 0.15305792, 0.98031801, 0.91140085, 0.08733545, 0.87580198]])"
            ]
          },
          "metadata": {
            "tags": []
          },
          "execution_count": 51
        }
      ]
    },
    {
      "cell_type": "code",
      "metadata": {
        "colab": {
          "base_uri": "https://localhost:8080/"
        },
        "id": "H-AoLVtQXPgb",
        "outputId": "8165f1a1-4e2d-4ef2-8615-54d2d7264b5c"
      },
      "source": [
        "%cd /content/work\n",
        "import inceptionresnetv2_p as ipt_p"
      ],
      "execution_count": 1,
      "outputs": [
        {
          "output_type": "stream",
          "text": [
            "/content/work\n"
          ],
          "name": "stdout"
        }
      ]
    },
    {
      "cell_type": "code",
      "metadata": {
        "id": "UE_nI2Ijhyar"
      },
      "source": [
        "model_test = ipt_p.inceptionresnetv2(num_classes=1000, pretrained='imagenet')"
      ],
      "execution_count": 2,
      "outputs": []
    },
    {
      "cell_type": "markdown",
      "metadata": {
        "id": "jlDY6L5orNjS"
      },
      "source": [
        "出错原因：FC 层权重需要转置"
      ]
    },
    {
      "cell_type": "code",
      "metadata": {
        "id": "uCYemJMKk2gI"
      },
      "source": [
        "import torch\n",
        "import paddle\n",
        "import torch.nn as nn_t\n",
        "import paddle.nn as nn_p"
      ],
      "execution_count": 5,
      "outputs": []
    },
    {
      "cell_type": "code",
      "metadata": {
        "id": "TTpMSxbxrWc8"
      },
      "source": [
        "fc_t = nn_t.Linear(3,5)\n",
        "fc_p = nn_p.Linear(3,5)"
      ],
      "execution_count": 6,
      "outputs": []
    },
    {
      "cell_type": "code",
      "metadata": {
        "colab": {
          "base_uri": "https://localhost:8080/"
        },
        "id": "oqlBjZ6DrjMU",
        "outputId": "2a001f47-ea46-45a0-dd30-220529cc443c"
      },
      "source": [
        "print(f\"PyTorch Weight Shape: {fc_t.weight.shape}, PyTorch Bias Shape: {fc_t.bias.shape}\")\n",
        "print(f\"Paddle Weight Shape: {fc_p.weight.shape}, Paddle Bias Shape: {fc_p.bias.shape}\")"
      ],
      "execution_count": 9,
      "outputs": [
        {
          "output_type": "stream",
          "text": [
            "PyTorch Weight Shape: torch.Size([5, 3]), PyTorch Bias Shape: torch.Size([5])\n",
            "Paddle Weight Shape: [3, 5], Paddle Bias Shape: [5]\n"
          ],
          "name": "stdout"
        }
      ]
    },
    {
      "cell_type": "markdown",
      "metadata": {
        "id": "jrDO_tOMtbkD"
      },
      "source": [
        "测试 inceptionresnetv2 转换的如何"
      ]
    },
    {
      "cell_type": "code",
      "metadata": {
        "colab": {
          "base_uri": "https://localhost:8080/"
        },
        "id": "Pz4mBPkaruCg",
        "outputId": "47eb721d-9649-46f5-c1b5-ea0f14aab0c9"
      },
      "source": [
        "%cd work\n",
        "import paddle\n",
        "import torch\n",
        "import numpy as np\n",
        "import inceptionresnetv2_p as ipt_p\n",
        "import inceptionresnetv2_t as ipt_t"
      ],
      "execution_count": 1,
      "outputs": [
        {
          "output_type": "stream",
          "text": [
            "/content/work\n"
          ],
          "name": "stdout"
        }
      ]
    },
    {
      "cell_type": "code",
      "metadata": {
        "id": "8j_ljZIPtkCK"
      },
      "source": [
        "torch_model = ipt_t.inceptionresnetv2(num_classes=1000, pretrained='imagenet')\n",
        "paddle_model = ipt_p.inceptionresnetv2(num_classes=1000, pretrained='imagenet')"
      ],
      "execution_count": 2,
      "outputs": []
    },
    {
      "cell_type": "code",
      "metadata": {
        "id": "8agyNVjst307"
      },
      "source": [
        "x = np.random.rand(1,3,299, 299).astype(np.float32)\n",
        "x_t = torch.from_numpy(x)\n",
        "x_p = paddle.to_tensor(x)"
      ],
      "execution_count": 3,
      "outputs": []
    },
    {
      "cell_type": "code",
      "metadata": {
        "colab": {
          "base_uri": "https://localhost:8080/",
          "height": 611
        },
        "id": "eHN_vE_ovQaq",
        "outputId": "ab5bfc6d-d957-4a07-abc8-d5346e7e9036"
      },
      "source": [
        "out_t = torch_model(x_t)\n",
        "out_p = paddle_model(x_p)\n",
        "np.testing.assert_allclose(out_t.detach().numpy(), out_p.detach().numpy())"
      ],
      "execution_count": 4,
      "outputs": [
        {
          "output_type": "stream",
          "text": [
            "/usr/local/lib/python3.7/dist-packages/paddle/nn/layer/norm.py:641: UserWarning: When training, we now always track global mean and variance.\n",
            "  \"When training, we now always track global mean and variance.\")\n"
          ],
          "name": "stderr"
        },
        {
          "output_type": "error",
          "ename": "AssertionError",
          "evalue": "ignored",
          "traceback": [
            "\u001b[0;31m---------------------------------------------------------------------------\u001b[0m",
            "\u001b[0;31mAssertionError\u001b[0m                            Traceback (most recent call last)",
            "\u001b[0;32m<ipython-input-4-c9de687da797>\u001b[0m in \u001b[0;36m<module>\u001b[0;34m()\u001b[0m\n\u001b[1;32m      1\u001b[0m \u001b[0mout_t\u001b[0m \u001b[0;34m=\u001b[0m \u001b[0mtorch_model\u001b[0m\u001b[0;34m(\u001b[0m\u001b[0mx_t\u001b[0m\u001b[0;34m)\u001b[0m\u001b[0;34m\u001b[0m\u001b[0;34m\u001b[0m\u001b[0m\n\u001b[1;32m      2\u001b[0m \u001b[0mout_p\u001b[0m \u001b[0;34m=\u001b[0m \u001b[0mpaddle_model\u001b[0m\u001b[0;34m(\u001b[0m\u001b[0mx_p\u001b[0m\u001b[0;34m)\u001b[0m\u001b[0;34m\u001b[0m\u001b[0;34m\u001b[0m\u001b[0m\n\u001b[0;32m----> 3\u001b[0;31m \u001b[0mnp\u001b[0m\u001b[0;34m.\u001b[0m\u001b[0mtesting\u001b[0m\u001b[0;34m.\u001b[0m\u001b[0massert_allclose\u001b[0m\u001b[0;34m(\u001b[0m\u001b[0mout_t\u001b[0m\u001b[0;34m.\u001b[0m\u001b[0mdetach\u001b[0m\u001b[0;34m(\u001b[0m\u001b[0;34m)\u001b[0m\u001b[0;34m.\u001b[0m\u001b[0mnumpy\u001b[0m\u001b[0;34m(\u001b[0m\u001b[0;34m)\u001b[0m\u001b[0;34m,\u001b[0m \u001b[0mout_p\u001b[0m\u001b[0;34m.\u001b[0m\u001b[0mdetach\u001b[0m\u001b[0;34m(\u001b[0m\u001b[0;34m)\u001b[0m\u001b[0;34m.\u001b[0m\u001b[0mnumpy\u001b[0m\u001b[0;34m(\u001b[0m\u001b[0;34m)\u001b[0m\u001b[0;34m)\u001b[0m\u001b[0;34m\u001b[0m\u001b[0;34m\u001b[0m\u001b[0m\n\u001b[0m",
            "\u001b[0;32m/usr/local/lib/python3.7/dist-packages/numpy/testing/_private/utils.py\u001b[0m in \u001b[0;36massert_allclose\u001b[0;34m(actual, desired, rtol, atol, equal_nan, err_msg, verbose)\u001b[0m\n\u001b[1;32m   1526\u001b[0m     \u001b[0mheader\u001b[0m \u001b[0;34m=\u001b[0m \u001b[0;34m'Not equal to tolerance rtol=%g, atol=%g'\u001b[0m \u001b[0;34m%\u001b[0m \u001b[0;34m(\u001b[0m\u001b[0mrtol\u001b[0m\u001b[0;34m,\u001b[0m \u001b[0matol\u001b[0m\u001b[0;34m)\u001b[0m\u001b[0;34m\u001b[0m\u001b[0;34m\u001b[0m\u001b[0m\n\u001b[1;32m   1527\u001b[0m     assert_array_compare(compare, actual, desired, err_msg=str(err_msg),\n\u001b[0;32m-> 1528\u001b[0;31m                          verbose=verbose, header=header, equal_nan=equal_nan)\n\u001b[0m\u001b[1;32m   1529\u001b[0m \u001b[0;34m\u001b[0m\u001b[0m\n\u001b[1;32m   1530\u001b[0m \u001b[0;34m\u001b[0m\u001b[0m\n",
            "\u001b[0;32m/usr/local/lib/python3.7/dist-packages/numpy/testing/_private/utils.py\u001b[0m in \u001b[0;36massert_array_compare\u001b[0;34m(comparison, x, y, err_msg, verbose, header, precision, equal_nan, equal_inf)\u001b[0m\n\u001b[1;32m    838\u001b[0m                                 \u001b[0mverbose\u001b[0m\u001b[0;34m=\u001b[0m\u001b[0mverbose\u001b[0m\u001b[0;34m,\u001b[0m \u001b[0mheader\u001b[0m\u001b[0;34m=\u001b[0m\u001b[0mheader\u001b[0m\u001b[0;34m,\u001b[0m\u001b[0;34m\u001b[0m\u001b[0;34m\u001b[0m\u001b[0m\n\u001b[1;32m    839\u001b[0m                                 names=('x', 'y'), precision=precision)\n\u001b[0;32m--> 840\u001b[0;31m             \u001b[0;32mraise\u001b[0m \u001b[0mAssertionError\u001b[0m\u001b[0;34m(\u001b[0m\u001b[0mmsg\u001b[0m\u001b[0;34m)\u001b[0m\u001b[0;34m\u001b[0m\u001b[0;34m\u001b[0m\u001b[0m\n\u001b[0m\u001b[1;32m    841\u001b[0m     \u001b[0;32mexcept\u001b[0m \u001b[0mValueError\u001b[0m\u001b[0;34m:\u001b[0m\u001b[0;34m\u001b[0m\u001b[0;34m\u001b[0m\u001b[0m\n\u001b[1;32m    842\u001b[0m         \u001b[0;32mimport\u001b[0m \u001b[0mtraceback\u001b[0m\u001b[0;34m\u001b[0m\u001b[0;34m\u001b[0m\u001b[0m\n",
            "\u001b[0;31mAssertionError\u001b[0m: \nNot equal to tolerance rtol=1e-07, atol=0\n\nMismatched elements: 981 / 1000 (98.1%)\nMax absolute difference: 2.115965e-06\nMax relative difference: 0.00084859\n x: array([[-5.671002e-02, -2.758217e-02, -7.252159e-02, -1.359193e-01,\n        -1.741503e-01,  1.913270e-02, -8.955914e-02,  2.792600e-02,\n         5.503830e-02, -1.230237e-01, -1.344699e-01, -1.016594e-01,...\n y: array([[-5.670944e-02, -2.758184e-02, -7.252198e-02, -1.359192e-01,\n        -1.741505e-01,  1.913226e-02, -8.955930e-02,  2.792606e-02,\n         5.503741e-02, -1.230246e-01, -1.344701e-01, -1.016598e-01,..."
          ]
        }
      ]
    },
    {
      "cell_type": "code",
      "metadata": {
        "colab": {
          "base_uri": "https://localhost:8080/"
        },
        "id": "Yt-znz96vTZs",
        "outputId": "9a8a06e7-5b1a-4b50-c149-db5576073502"
      },
      "source": [
        "print(f\"out_t {out_t.shape}, out_p {out_p.shape}\")"
      ],
      "execution_count": 5,
      "outputs": [
        {
          "output_type": "stream",
          "text": [
            "out_t torch.Size([1, 1000]), out_p [1, 1000]\n"
          ],
          "name": "stdout"
        }
      ]
    },
    {
      "cell_type": "markdown",
      "metadata": {
        "id": "Deddd0dI20F9"
      },
      "source": [
        "# 保存环境"
      ]
    },
    {
      "cell_type": "code",
      "metadata": {
        "colab": {
          "base_uri": "https://localhost:8080/"
        },
        "id": "1Gvw9ofKxYyZ",
        "outputId": "826ac4d8-dc05-4c9f-9e78-fde7b60f3212"
      },
      "source": [
        "%cd /content/\n",
        "!zip -q -r /content/drive/MyDrive/Work/DeblurGANv2/work.zip work\n",
        "!zip -q -r /content/drive/MyDrive/Work/DeblurGANv2/model.zip model\n",
        "%cd work"
      ],
      "execution_count": 145,
      "outputs": [
        {
          "output_type": "stream",
          "text": [
            "/content\n",
            "/content/work\n"
          ],
          "name": "stdout"
        }
      ]
    },
    {
      "cell_type": "markdown",
      "metadata": {
        "id": "VVSN4RNg3RWr"
      },
      "source": [
        "# 恢复环境"
      ]
    },
    {
      "cell_type": "code",
      "metadata": {
        "colab": {
          "base_uri": "https://localhost:8080/"
        },
        "id": "eP19WTDM22XN",
        "outputId": "75555013-cec1-44fa-8340-bb57a866af65"
      },
      "source": [
        "%cd /content\n",
        "!unzip -q /content/drive/MyDrive/Work/DeblurGANv2/work.zip -d .\n",
        "!unzip -q /content/drive/MyDrive/Work/DeblurGANv2/model.zip -d .\n",
        "%cd /work"
      ],
      "execution_count": 1,
      "outputs": [
        {
          "output_type": "stream",
          "text": [
            "/content\n",
            "[Errno 2] No such file or directory: '/work'\n",
            "/content\n"
          ],
          "name": "stdout"
        }
      ]
    },
    {
      "cell_type": "markdown",
      "metadata": {
        "id": "W97BiViK3ZHW"
      },
      "source": [
        "## fpn_inceptin"
      ]
    },
    {
      "cell_type": "code",
      "metadata": {
        "colab": {
          "base_uri": "https://localhost:8080/"
        },
        "id": "ECYec5ntNhby",
        "outputId": "b815611d-cc9a-4293-92d5-a9a5b126050c"
      },
      "source": [
        "%cd /content/work"
      ],
      "execution_count": 1,
      "outputs": [
        {
          "output_type": "stream",
          "text": [
            "/content/work\n"
          ],
          "name": "stdout"
        }
      ]
    },
    {
      "cell_type": "code",
      "metadata": {
        "id": "9ebKd7Zu3brM"
      },
      "source": [
        "import yaml\n",
        "import networks_t as net_t\n",
        "import networks_p as net_p"
      ],
      "execution_count": 2,
      "outputs": []
    },
    {
      "cell_type": "code",
      "metadata": {
        "id": "dpCM8DP28its"
      },
      "source": [
        "with open('config/config.yaml', 'r') as f:\n",
        "  config = yaml.load(f)\n",
        "\n",
        "gent_t = net_t.get_generator(config['model'])"
      ],
      "execution_count": 19,
      "outputs": []
    },
    {
      "cell_type": "code",
      "metadata": {
        "colab": {
          "base_uri": "https://localhost:8080/"
        },
        "id": "dXmZaTsz88BW",
        "outputId": "ed9b3a09-c467-49c0-bfda-82174812e417"
      },
      "source": [
        "len(gent_t.state_dict().keys())"
      ],
      "execution_count": 13,
      "outputs": [
        {
          "output_type": "execute_result",
          "data": {
            "text/plain": [
              "2384"
            ]
          },
          "metadata": {
            "tags": []
          },
          "execution_count": 13
        }
      ]
    },
    {
      "cell_type": "code",
      "metadata": {
        "id": "prLqnvKY89su"
      },
      "source": [
        "layer_p = net_p.get_norm_layer('instance')\n",
        "layer_t = net_t.get_norm_layer('instance')"
      ],
      "execution_count": 7,
      "outputs": []
    },
    {
      "cell_type": "code",
      "metadata": {
        "id": "uAhWjGO5NM_5"
      },
      "source": [
        "import fpn_inception_p as fpn_p\n",
        "import fpn_inception_t as fpn_t"
      ],
      "execution_count": 7,
      "outputs": []
    },
    {
      "cell_type": "code",
      "metadata": {
        "id": "6RUjBWG6PoFk"
      },
      "source": [
        "model_p = fpn_p.FPN(norm_layer=net_p.get_norm_layer(norm_type='instance'))\n",
        "model_t = fpn_t.FPN(norm_layer=net_t.get_norm_layer(norm_type='instance'))"
      ],
      "execution_count": 8,
      "outputs": []
    },
    {
      "cell_type": "code",
      "metadata": {
        "colab": {
          "base_uri": "https://localhost:8080/"
        },
        "id": "eEE5rxAIP2yC",
        "outputId": "55a1ceb7-805d-4716-dfc6-9533d288682b"
      },
      "source": [
        "print(f\"FPN_p {len(model_p.state_dict().keys())} , FPN_t {len([x for x in model_t.state_dict().keys() if not x.endswith('num_batches_tracked')])}\")"
      ],
      "execution_count": 14,
      "outputs": [
        {
          "output_type": "stream",
          "text": [
            "FPN_p 1988 , FPN_t 1994\n"
          ],
          "name": "stdout"
        }
      ]
    },
    {
      "cell_type": "code",
      "metadata": {
        "colab": {
          "base_uri": "https://localhost:8080/"
        },
        "id": "_3Mxz65qQT_x",
        "outputId": "1191e90d-bdaa-4404-b304-49594c6e9f13"
      },
      "source": [
        "for i,(paddle_key, torch_key) in enumerate(zip(list(model_p.state_dict().keys())[-994:], [x for x in model_t.state_dict().keys() if not x.endswith('num_batches_tracked')][-994:])):\n",
        "  print(i, paddle_key, '====', torch_key)"
      ],
      "execution_count": 16,
      "outputs": [
        {
          "output_type": "stream",
          "text": [
            "0 inception.repeat_2.5.branch1.0.bn._variance ==== inception.repeat_2.5.branch1.2.conv.weight\n",
            "1 inception.repeat_2.5.branch1.1.conv.weight ==== inception.repeat_2.5.branch1.2.bn.weight\n",
            "2 inception.repeat_2.5.branch1.1.bn.weight ==== inception.repeat_2.5.branch1.2.bn.bias\n",
            "3 inception.repeat_2.5.branch1.1.bn.bias ==== inception.repeat_2.5.branch1.2.bn.running_mean\n",
            "4 inception.repeat_2.5.branch1.1.bn._mean ==== inception.repeat_2.5.branch1.2.bn.running_var\n",
            "5 inception.repeat_2.5.branch1.1.bn._variance ==== inception.repeat_2.5.conv2d.weight\n",
            "6 inception.repeat_2.5.branch1.2.conv.weight ==== inception.repeat_2.5.conv2d.bias\n",
            "7 inception.repeat_2.5.branch1.2.bn.weight ==== inception.repeat_2.6.branch0.conv.weight\n",
            "8 inception.repeat_2.5.branch1.2.bn.bias ==== inception.repeat_2.6.branch0.bn.weight\n",
            "9 inception.repeat_2.5.branch1.2.bn._mean ==== inception.repeat_2.6.branch0.bn.bias\n",
            "10 inception.repeat_2.5.branch1.2.bn._variance ==== inception.repeat_2.6.branch0.bn.running_mean\n",
            "11 inception.repeat_2.5.conv2d.weight ==== inception.repeat_2.6.branch0.bn.running_var\n",
            "12 inception.repeat_2.5.conv2d.bias ==== inception.repeat_2.6.branch1.0.conv.weight\n",
            "13 inception.repeat_2.6.branch0.conv.weight ==== inception.repeat_2.6.branch1.0.bn.weight\n",
            "14 inception.repeat_2.6.branch0.bn.weight ==== inception.repeat_2.6.branch1.0.bn.bias\n",
            "15 inception.repeat_2.6.branch0.bn.bias ==== inception.repeat_2.6.branch1.0.bn.running_mean\n",
            "16 inception.repeat_2.6.branch0.bn._mean ==== inception.repeat_2.6.branch1.0.bn.running_var\n",
            "17 inception.repeat_2.6.branch0.bn._variance ==== inception.repeat_2.6.branch1.1.conv.weight\n",
            "18 inception.repeat_2.6.branch1.0.conv.weight ==== inception.repeat_2.6.branch1.1.bn.weight\n",
            "19 inception.repeat_2.6.branch1.0.bn.weight ==== inception.repeat_2.6.branch1.1.bn.bias\n",
            "20 inception.repeat_2.6.branch1.0.bn.bias ==== inception.repeat_2.6.branch1.1.bn.running_mean\n",
            "21 inception.repeat_2.6.branch1.0.bn._mean ==== inception.repeat_2.6.branch1.1.bn.running_var\n",
            "22 inception.repeat_2.6.branch1.0.bn._variance ==== inception.repeat_2.6.branch1.2.conv.weight\n",
            "23 inception.repeat_2.6.branch1.1.conv.weight ==== inception.repeat_2.6.branch1.2.bn.weight\n",
            "24 inception.repeat_2.6.branch1.1.bn.weight ==== inception.repeat_2.6.branch1.2.bn.bias\n",
            "25 inception.repeat_2.6.branch1.1.bn.bias ==== inception.repeat_2.6.branch1.2.bn.running_mean\n",
            "26 inception.repeat_2.6.branch1.1.bn._mean ==== inception.repeat_2.6.branch1.2.bn.running_var\n",
            "27 inception.repeat_2.6.branch1.1.bn._variance ==== inception.repeat_2.6.conv2d.weight\n",
            "28 inception.repeat_2.6.branch1.2.conv.weight ==== inception.repeat_2.6.conv2d.bias\n",
            "29 inception.repeat_2.6.branch1.2.bn.weight ==== inception.repeat_2.7.branch0.conv.weight\n",
            "30 inception.repeat_2.6.branch1.2.bn.bias ==== inception.repeat_2.7.branch0.bn.weight\n",
            "31 inception.repeat_2.6.branch1.2.bn._mean ==== inception.repeat_2.7.branch0.bn.bias\n",
            "32 inception.repeat_2.6.branch1.2.bn._variance ==== inception.repeat_2.7.branch0.bn.running_mean\n",
            "33 inception.repeat_2.6.conv2d.weight ==== inception.repeat_2.7.branch0.bn.running_var\n",
            "34 inception.repeat_2.6.conv2d.bias ==== inception.repeat_2.7.branch1.0.conv.weight\n",
            "35 inception.repeat_2.7.branch0.conv.weight ==== inception.repeat_2.7.branch1.0.bn.weight\n",
            "36 inception.repeat_2.7.branch0.bn.weight ==== inception.repeat_2.7.branch1.0.bn.bias\n",
            "37 inception.repeat_2.7.branch0.bn.bias ==== inception.repeat_2.7.branch1.0.bn.running_mean\n",
            "38 inception.repeat_2.7.branch0.bn._mean ==== inception.repeat_2.7.branch1.0.bn.running_var\n",
            "39 inception.repeat_2.7.branch0.bn._variance ==== inception.repeat_2.7.branch1.1.conv.weight\n",
            "40 inception.repeat_2.7.branch1.0.conv.weight ==== inception.repeat_2.7.branch1.1.bn.weight\n",
            "41 inception.repeat_2.7.branch1.0.bn.weight ==== inception.repeat_2.7.branch1.1.bn.bias\n",
            "42 inception.repeat_2.7.branch1.0.bn.bias ==== inception.repeat_2.7.branch1.1.bn.running_mean\n",
            "43 inception.repeat_2.7.branch1.0.bn._mean ==== inception.repeat_2.7.branch1.1.bn.running_var\n",
            "44 inception.repeat_2.7.branch1.0.bn._variance ==== inception.repeat_2.7.branch1.2.conv.weight\n",
            "45 inception.repeat_2.7.branch1.1.conv.weight ==== inception.repeat_2.7.branch1.2.bn.weight\n",
            "46 inception.repeat_2.7.branch1.1.bn.weight ==== inception.repeat_2.7.branch1.2.bn.bias\n",
            "47 inception.repeat_2.7.branch1.1.bn.bias ==== inception.repeat_2.7.branch1.2.bn.running_mean\n",
            "48 inception.repeat_2.7.branch1.1.bn._mean ==== inception.repeat_2.7.branch1.2.bn.running_var\n",
            "49 inception.repeat_2.7.branch1.1.bn._variance ==== inception.repeat_2.7.conv2d.weight\n",
            "50 inception.repeat_2.7.branch1.2.conv.weight ==== inception.repeat_2.7.conv2d.bias\n",
            "51 inception.repeat_2.7.branch1.2.bn.weight ==== inception.repeat_2.8.branch0.conv.weight\n",
            "52 inception.repeat_2.7.branch1.2.bn.bias ==== inception.repeat_2.8.branch0.bn.weight\n",
            "53 inception.repeat_2.7.branch1.2.bn._mean ==== inception.repeat_2.8.branch0.bn.bias\n",
            "54 inception.repeat_2.7.branch1.2.bn._variance ==== inception.repeat_2.8.branch0.bn.running_mean\n",
            "55 inception.repeat_2.7.conv2d.weight ==== inception.repeat_2.8.branch0.bn.running_var\n",
            "56 inception.repeat_2.7.conv2d.bias ==== inception.repeat_2.8.branch1.0.conv.weight\n",
            "57 inception.repeat_2.8.branch0.conv.weight ==== inception.repeat_2.8.branch1.0.bn.weight\n",
            "58 inception.repeat_2.8.branch0.bn.weight ==== inception.repeat_2.8.branch1.0.bn.bias\n",
            "59 inception.repeat_2.8.branch0.bn.bias ==== inception.repeat_2.8.branch1.0.bn.running_mean\n",
            "60 inception.repeat_2.8.branch0.bn._mean ==== inception.repeat_2.8.branch1.0.bn.running_var\n",
            "61 inception.repeat_2.8.branch0.bn._variance ==== inception.repeat_2.8.branch1.1.conv.weight\n",
            "62 inception.repeat_2.8.branch1.0.conv.weight ==== inception.repeat_2.8.branch1.1.bn.weight\n",
            "63 inception.repeat_2.8.branch1.0.bn.weight ==== inception.repeat_2.8.branch1.1.bn.bias\n",
            "64 inception.repeat_2.8.branch1.0.bn.bias ==== inception.repeat_2.8.branch1.1.bn.running_mean\n",
            "65 inception.repeat_2.8.branch1.0.bn._mean ==== inception.repeat_2.8.branch1.1.bn.running_var\n",
            "66 inception.repeat_2.8.branch1.0.bn._variance ==== inception.repeat_2.8.branch1.2.conv.weight\n",
            "67 inception.repeat_2.8.branch1.1.conv.weight ==== inception.repeat_2.8.branch1.2.bn.weight\n",
            "68 inception.repeat_2.8.branch1.1.bn.weight ==== inception.repeat_2.8.branch1.2.bn.bias\n",
            "69 inception.repeat_2.8.branch1.1.bn.bias ==== inception.repeat_2.8.branch1.2.bn.running_mean\n",
            "70 inception.repeat_2.8.branch1.1.bn._mean ==== inception.repeat_2.8.branch1.2.bn.running_var\n",
            "71 inception.repeat_2.8.branch1.1.bn._variance ==== inception.repeat_2.8.conv2d.weight\n",
            "72 inception.repeat_2.8.branch1.2.conv.weight ==== inception.repeat_2.8.conv2d.bias\n",
            "73 inception.repeat_2.8.branch1.2.bn.weight ==== inception.block8.branch0.conv.weight\n",
            "74 inception.repeat_2.8.branch1.2.bn.bias ==== inception.block8.branch0.bn.weight\n",
            "75 inception.repeat_2.8.branch1.2.bn._mean ==== inception.block8.branch0.bn.bias\n",
            "76 inception.repeat_2.8.branch1.2.bn._variance ==== inception.block8.branch0.bn.running_mean\n",
            "77 inception.repeat_2.8.conv2d.weight ==== inception.block8.branch0.bn.running_var\n",
            "78 inception.repeat_2.8.conv2d.bias ==== inception.block8.branch1.0.conv.weight\n",
            "79 inception.block8.branch0.conv.weight ==== inception.block8.branch1.0.bn.weight\n",
            "80 inception.block8.branch0.bn.weight ==== inception.block8.branch1.0.bn.bias\n",
            "81 inception.block8.branch0.bn.bias ==== inception.block8.branch1.0.bn.running_mean\n",
            "82 inception.block8.branch0.bn._mean ==== inception.block8.branch1.0.bn.running_var\n",
            "83 inception.block8.branch0.bn._variance ==== inception.block8.branch1.1.conv.weight\n",
            "84 inception.block8.branch1.0.conv.weight ==== inception.block8.branch1.1.bn.weight\n",
            "85 inception.block8.branch1.0.bn.weight ==== inception.block8.branch1.1.bn.bias\n",
            "86 inception.block8.branch1.0.bn.bias ==== inception.block8.branch1.1.bn.running_mean\n",
            "87 inception.block8.branch1.0.bn._mean ==== inception.block8.branch1.1.bn.running_var\n",
            "88 inception.block8.branch1.0.bn._variance ==== inception.block8.branch1.2.conv.weight\n",
            "89 inception.block8.branch1.1.conv.weight ==== inception.block8.branch1.2.bn.weight\n",
            "90 inception.block8.branch1.1.bn.weight ==== inception.block8.branch1.2.bn.bias\n",
            "91 inception.block8.branch1.1.bn.bias ==== inception.block8.branch1.2.bn.running_mean\n",
            "92 inception.block8.branch1.1.bn._mean ==== inception.block8.branch1.2.bn.running_var\n",
            "93 inception.block8.branch1.1.bn._variance ==== inception.block8.conv2d.weight\n",
            "94 inception.block8.branch1.2.conv.weight ==== inception.block8.conv2d.bias\n",
            "95 inception.block8.branch1.2.bn.weight ==== inception.conv2d_7b.conv.weight\n",
            "96 inception.block8.branch1.2.bn.bias ==== inception.conv2d_7b.bn.weight\n",
            "97 inception.block8.branch1.2.bn._mean ==== inception.conv2d_7b.bn.bias\n",
            "98 inception.block8.branch1.2.bn._variance ==== inception.conv2d_7b.bn.running_mean\n",
            "99 inception.block8.conv2d.weight ==== inception.conv2d_7b.bn.running_var\n",
            "100 inception.block8.conv2d.bias ==== inception.last_linear.weight\n",
            "101 inception.conv2d_7b.conv.weight ==== inception.last_linear.bias\n",
            "102 inception.conv2d_7b.bn.weight ==== enc0.conv.weight\n",
            "103 inception.conv2d_7b.bn.bias ==== enc0.bn.weight\n",
            "104 inception.conv2d_7b.bn._mean ==== enc0.bn.bias\n",
            "105 inception.conv2d_7b.bn._variance ==== enc0.bn.running_mean\n",
            "106 inception.last_linear.weight ==== enc0.bn.running_var\n",
            "107 inception.last_linear.bias ==== enc1.0.conv.weight\n",
            "108 enc0.conv.weight ==== enc1.0.bn.weight\n",
            "109 enc0.bn.weight ==== enc1.0.bn.bias\n",
            "110 enc0.bn.bias ==== enc1.0.bn.running_mean\n",
            "111 enc0.bn._mean ==== enc1.0.bn.running_var\n",
            "112 enc0.bn._variance ==== enc1.1.conv.weight\n",
            "113 enc1.0.conv.weight ==== enc1.1.bn.weight\n",
            "114 enc1.0.bn.weight ==== enc1.1.bn.bias\n",
            "115 enc1.0.bn.bias ==== enc1.1.bn.running_mean\n",
            "116 enc1.0.bn._mean ==== enc1.1.bn.running_var\n",
            "117 enc1.0.bn._variance ==== enc2.0.conv.weight\n",
            "118 enc1.1.conv.weight ==== enc2.0.bn.weight\n",
            "119 enc1.1.bn.weight ==== enc2.0.bn.bias\n",
            "120 enc1.1.bn.bias ==== enc2.0.bn.running_mean\n",
            "121 enc1.1.bn._mean ==== enc2.0.bn.running_var\n",
            "122 enc1.1.bn._variance ==== enc2.1.conv.weight\n",
            "123 enc2.0.conv.weight ==== enc2.1.bn.weight\n",
            "124 enc2.0.bn.weight ==== enc2.1.bn.bias\n",
            "125 enc2.0.bn.bias ==== enc2.1.bn.running_mean\n",
            "126 enc2.0.bn._mean ==== enc2.1.bn.running_var\n",
            "127 enc2.0.bn._variance ==== enc3.0.branch0.conv.weight\n",
            "128 enc2.1.conv.weight ==== enc3.0.branch0.bn.weight\n",
            "129 enc2.1.bn.weight ==== enc3.0.branch0.bn.bias\n",
            "130 enc2.1.bn.bias ==== enc3.0.branch0.bn.running_mean\n",
            "131 enc2.1.bn._mean ==== enc3.0.branch0.bn.running_var\n",
            "132 enc2.1.bn._variance ==== enc3.0.branch1.0.conv.weight\n",
            "133 enc3.0.branch0.conv.weight ==== enc3.0.branch1.0.bn.weight\n",
            "134 enc3.0.branch0.bn.weight ==== enc3.0.branch1.0.bn.bias\n",
            "135 enc3.0.branch0.bn.bias ==== enc3.0.branch1.0.bn.running_mean\n",
            "136 enc3.0.branch0.bn._mean ==== enc3.0.branch1.0.bn.running_var\n",
            "137 enc3.0.branch0.bn._variance ==== enc3.0.branch1.1.conv.weight\n",
            "138 enc3.0.branch1.0.conv.weight ==== enc3.0.branch1.1.bn.weight\n",
            "139 enc3.0.branch1.0.bn.weight ==== enc3.0.branch1.1.bn.bias\n",
            "140 enc3.0.branch1.0.bn.bias ==== enc3.0.branch1.1.bn.running_mean\n",
            "141 enc3.0.branch1.0.bn._mean ==== enc3.0.branch1.1.bn.running_var\n",
            "142 enc3.0.branch1.0.bn._variance ==== enc3.0.branch2.0.conv.weight\n",
            "143 enc3.0.branch1.1.conv.weight ==== enc3.0.branch2.0.bn.weight\n",
            "144 enc3.0.branch1.1.bn.weight ==== enc3.0.branch2.0.bn.bias\n",
            "145 enc3.0.branch1.1.bn.bias ==== enc3.0.branch2.0.bn.running_mean\n",
            "146 enc3.0.branch1.1.bn._mean ==== enc3.0.branch2.0.bn.running_var\n",
            "147 enc3.0.branch1.1.bn._variance ==== enc3.0.branch2.1.conv.weight\n",
            "148 enc3.0.branch2.0.conv.weight ==== enc3.0.branch2.1.bn.weight\n",
            "149 enc3.0.branch2.0.bn.weight ==== enc3.0.branch2.1.bn.bias\n",
            "150 enc3.0.branch2.0.bn.bias ==== enc3.0.branch2.1.bn.running_mean\n",
            "151 enc3.0.branch2.0.bn._mean ==== enc3.0.branch2.1.bn.running_var\n",
            "152 enc3.0.branch2.0.bn._variance ==== enc3.0.branch2.2.conv.weight\n",
            "153 enc3.0.branch2.1.conv.weight ==== enc3.0.branch2.2.bn.weight\n",
            "154 enc3.0.branch2.1.bn.weight ==== enc3.0.branch2.2.bn.bias\n",
            "155 enc3.0.branch2.1.bn.bias ==== enc3.0.branch2.2.bn.running_mean\n",
            "156 enc3.0.branch2.1.bn._mean ==== enc3.0.branch2.2.bn.running_var\n",
            "157 enc3.0.branch2.1.bn._variance ==== enc3.0.branch3.1.conv.weight\n",
            "158 enc3.0.branch2.2.conv.weight ==== enc3.0.branch3.1.bn.weight\n",
            "159 enc3.0.branch2.2.bn.weight ==== enc3.0.branch3.1.bn.bias\n",
            "160 enc3.0.branch2.2.bn.bias ==== enc3.0.branch3.1.bn.running_mean\n",
            "161 enc3.0.branch2.2.bn._mean ==== enc3.0.branch3.1.bn.running_var\n",
            "162 enc3.0.branch2.2.bn._variance ==== enc3.1.0.branch0.conv.weight\n",
            "163 enc3.0.branch3.1.conv.weight ==== enc3.1.0.branch0.bn.weight\n",
            "164 enc3.0.branch3.1.bn.weight ==== enc3.1.0.branch0.bn.bias\n",
            "165 enc3.0.branch3.1.bn.bias ==== enc3.1.0.branch0.bn.running_mean\n",
            "166 enc3.0.branch3.1.bn._mean ==== enc3.1.0.branch0.bn.running_var\n",
            "167 enc3.0.branch3.1.bn._variance ==== enc3.1.0.branch1.0.conv.weight\n",
            "168 enc3.1.0.branch0.conv.weight ==== enc3.1.0.branch1.0.bn.weight\n",
            "169 enc3.1.0.branch0.bn.weight ==== enc3.1.0.branch1.0.bn.bias\n",
            "170 enc3.1.0.branch0.bn.bias ==== enc3.1.0.branch1.0.bn.running_mean\n",
            "171 enc3.1.0.branch0.bn._mean ==== enc3.1.0.branch1.0.bn.running_var\n",
            "172 enc3.1.0.branch0.bn._variance ==== enc3.1.0.branch1.1.conv.weight\n",
            "173 enc3.1.0.branch1.0.conv.weight ==== enc3.1.0.branch1.1.bn.weight\n",
            "174 enc3.1.0.branch1.0.bn.weight ==== enc3.1.0.branch1.1.bn.bias\n",
            "175 enc3.1.0.branch1.0.bn.bias ==== enc3.1.0.branch1.1.bn.running_mean\n",
            "176 enc3.1.0.branch1.0.bn._mean ==== enc3.1.0.branch1.1.bn.running_var\n",
            "177 enc3.1.0.branch1.0.bn._variance ==== enc3.1.0.branch2.0.conv.weight\n",
            "178 enc3.1.0.branch1.1.conv.weight ==== enc3.1.0.branch2.0.bn.weight\n",
            "179 enc3.1.0.branch1.1.bn.weight ==== enc3.1.0.branch2.0.bn.bias\n",
            "180 enc3.1.0.branch1.1.bn.bias ==== enc3.1.0.branch2.0.bn.running_mean\n",
            "181 enc3.1.0.branch1.1.bn._mean ==== enc3.1.0.branch2.0.bn.running_var\n",
            "182 enc3.1.0.branch1.1.bn._variance ==== enc3.1.0.branch2.1.conv.weight\n",
            "183 enc3.1.0.branch2.0.conv.weight ==== enc3.1.0.branch2.1.bn.weight\n",
            "184 enc3.1.0.branch2.0.bn.weight ==== enc3.1.0.branch2.1.bn.bias\n",
            "185 enc3.1.0.branch2.0.bn.bias ==== enc3.1.0.branch2.1.bn.running_mean\n",
            "186 enc3.1.0.branch2.0.bn._mean ==== enc3.1.0.branch2.1.bn.running_var\n",
            "187 enc3.1.0.branch2.0.bn._variance ==== enc3.1.0.branch2.2.conv.weight\n",
            "188 enc3.1.0.branch2.1.conv.weight ==== enc3.1.0.branch2.2.bn.weight\n",
            "189 enc3.1.0.branch2.1.bn.weight ==== enc3.1.0.branch2.2.bn.bias\n",
            "190 enc3.1.0.branch2.1.bn.bias ==== enc3.1.0.branch2.2.bn.running_mean\n",
            "191 enc3.1.0.branch2.1.bn._mean ==== enc3.1.0.branch2.2.bn.running_var\n",
            "192 enc3.1.0.branch2.1.bn._variance ==== enc3.1.0.conv2d.weight\n",
            "193 enc3.1.0.branch2.2.conv.weight ==== enc3.1.0.conv2d.bias\n",
            "194 enc3.1.0.branch2.2.bn.weight ==== enc3.1.1.branch0.conv.weight\n",
            "195 enc3.1.0.branch2.2.bn.bias ==== enc3.1.1.branch0.bn.weight\n",
            "196 enc3.1.0.branch2.2.bn._mean ==== enc3.1.1.branch0.bn.bias\n",
            "197 enc3.1.0.branch2.2.bn._variance ==== enc3.1.1.branch0.bn.running_mean\n",
            "198 enc3.1.0.conv2d.weight ==== enc3.1.1.branch0.bn.running_var\n",
            "199 enc3.1.0.conv2d.bias ==== enc3.1.1.branch1.0.conv.weight\n",
            "200 enc3.1.1.branch0.conv.weight ==== enc3.1.1.branch1.0.bn.weight\n",
            "201 enc3.1.1.branch0.bn.weight ==== enc3.1.1.branch1.0.bn.bias\n",
            "202 enc3.1.1.branch0.bn.bias ==== enc3.1.1.branch1.0.bn.running_mean\n",
            "203 enc3.1.1.branch0.bn._mean ==== enc3.1.1.branch1.0.bn.running_var\n",
            "204 enc3.1.1.branch0.bn._variance ==== enc3.1.1.branch1.1.conv.weight\n",
            "205 enc3.1.1.branch1.0.conv.weight ==== enc3.1.1.branch1.1.bn.weight\n",
            "206 enc3.1.1.branch1.0.bn.weight ==== enc3.1.1.branch1.1.bn.bias\n",
            "207 enc3.1.1.branch1.0.bn.bias ==== enc3.1.1.branch1.1.bn.running_mean\n",
            "208 enc3.1.1.branch1.0.bn._mean ==== enc3.1.1.branch1.1.bn.running_var\n",
            "209 enc3.1.1.branch1.0.bn._variance ==== enc3.1.1.branch2.0.conv.weight\n",
            "210 enc3.1.1.branch1.1.conv.weight ==== enc3.1.1.branch2.0.bn.weight\n",
            "211 enc3.1.1.branch1.1.bn.weight ==== enc3.1.1.branch2.0.bn.bias\n",
            "212 enc3.1.1.branch1.1.bn.bias ==== enc3.1.1.branch2.0.bn.running_mean\n",
            "213 enc3.1.1.branch1.1.bn._mean ==== enc3.1.1.branch2.0.bn.running_var\n",
            "214 enc3.1.1.branch1.1.bn._variance ==== enc3.1.1.branch2.1.conv.weight\n",
            "215 enc3.1.1.branch2.0.conv.weight ==== enc3.1.1.branch2.1.bn.weight\n",
            "216 enc3.1.1.branch2.0.bn.weight ==== enc3.1.1.branch2.1.bn.bias\n",
            "217 enc3.1.1.branch2.0.bn.bias ==== enc3.1.1.branch2.1.bn.running_mean\n",
            "218 enc3.1.1.branch2.0.bn._mean ==== enc3.1.1.branch2.1.bn.running_var\n",
            "219 enc3.1.1.branch2.0.bn._variance ==== enc3.1.1.branch2.2.conv.weight\n",
            "220 enc3.1.1.branch2.1.conv.weight ==== enc3.1.1.branch2.2.bn.weight\n",
            "221 enc3.1.1.branch2.1.bn.weight ==== enc3.1.1.branch2.2.bn.bias\n",
            "222 enc3.1.1.branch2.1.bn.bias ==== enc3.1.1.branch2.2.bn.running_mean\n",
            "223 enc3.1.1.branch2.1.bn._mean ==== enc3.1.1.branch2.2.bn.running_var\n",
            "224 enc3.1.1.branch2.1.bn._variance ==== enc3.1.1.conv2d.weight\n",
            "225 enc3.1.1.branch2.2.conv.weight ==== enc3.1.1.conv2d.bias\n",
            "226 enc3.1.1.branch2.2.bn.weight ==== enc3.1.2.branch0.conv.weight\n",
            "227 enc3.1.1.branch2.2.bn.bias ==== enc3.1.2.branch0.bn.weight\n",
            "228 enc3.1.1.branch2.2.bn._mean ==== enc3.1.2.branch0.bn.bias\n",
            "229 enc3.1.1.branch2.2.bn._variance ==== enc3.1.2.branch0.bn.running_mean\n",
            "230 enc3.1.1.conv2d.weight ==== enc3.1.2.branch0.bn.running_var\n",
            "231 enc3.1.1.conv2d.bias ==== enc3.1.2.branch1.0.conv.weight\n",
            "232 enc3.1.2.branch0.conv.weight ==== enc3.1.2.branch1.0.bn.weight\n",
            "233 enc3.1.2.branch0.bn.weight ==== enc3.1.2.branch1.0.bn.bias\n",
            "234 enc3.1.2.branch0.bn.bias ==== enc3.1.2.branch1.0.bn.running_mean\n",
            "235 enc3.1.2.branch0.bn._mean ==== enc3.1.2.branch1.0.bn.running_var\n",
            "236 enc3.1.2.branch0.bn._variance ==== enc3.1.2.branch1.1.conv.weight\n",
            "237 enc3.1.2.branch1.0.conv.weight ==== enc3.1.2.branch1.1.bn.weight\n",
            "238 enc3.1.2.branch1.0.bn.weight ==== enc3.1.2.branch1.1.bn.bias\n",
            "239 enc3.1.2.branch1.0.bn.bias ==== enc3.1.2.branch1.1.bn.running_mean\n",
            "240 enc3.1.2.branch1.0.bn._mean ==== enc3.1.2.branch1.1.bn.running_var\n",
            "241 enc3.1.2.branch1.0.bn._variance ==== enc3.1.2.branch2.0.conv.weight\n",
            "242 enc3.1.2.branch1.1.conv.weight ==== enc3.1.2.branch2.0.bn.weight\n",
            "243 enc3.1.2.branch1.1.bn.weight ==== enc3.1.2.branch2.0.bn.bias\n",
            "244 enc3.1.2.branch1.1.bn.bias ==== enc3.1.2.branch2.0.bn.running_mean\n",
            "245 enc3.1.2.branch1.1.bn._mean ==== enc3.1.2.branch2.0.bn.running_var\n",
            "246 enc3.1.2.branch1.1.bn._variance ==== enc3.1.2.branch2.1.conv.weight\n",
            "247 enc3.1.2.branch2.0.conv.weight ==== enc3.1.2.branch2.1.bn.weight\n",
            "248 enc3.1.2.branch2.0.bn.weight ==== enc3.1.2.branch2.1.bn.bias\n",
            "249 enc3.1.2.branch2.0.bn.bias ==== enc3.1.2.branch2.1.bn.running_mean\n",
            "250 enc3.1.2.branch2.0.bn._mean ==== enc3.1.2.branch2.1.bn.running_var\n",
            "251 enc3.1.2.branch2.0.bn._variance ==== enc3.1.2.branch2.2.conv.weight\n",
            "252 enc3.1.2.branch2.1.conv.weight ==== enc3.1.2.branch2.2.bn.weight\n",
            "253 enc3.1.2.branch2.1.bn.weight ==== enc3.1.2.branch2.2.bn.bias\n",
            "254 enc3.1.2.branch2.1.bn.bias ==== enc3.1.2.branch2.2.bn.running_mean\n",
            "255 enc3.1.2.branch2.1.bn._mean ==== enc3.1.2.branch2.2.bn.running_var\n",
            "256 enc3.1.2.branch2.1.bn._variance ==== enc3.1.2.conv2d.weight\n",
            "257 enc3.1.2.branch2.2.conv.weight ==== enc3.1.2.conv2d.bias\n",
            "258 enc3.1.2.branch2.2.bn.weight ==== enc3.1.3.branch0.conv.weight\n",
            "259 enc3.1.2.branch2.2.bn.bias ==== enc3.1.3.branch0.bn.weight\n",
            "260 enc3.1.2.branch2.2.bn._mean ==== enc3.1.3.branch0.bn.bias\n",
            "261 enc3.1.2.branch2.2.bn._variance ==== enc3.1.3.branch0.bn.running_mean\n",
            "262 enc3.1.2.conv2d.weight ==== enc3.1.3.branch0.bn.running_var\n",
            "263 enc3.1.2.conv2d.bias ==== enc3.1.3.branch1.0.conv.weight\n",
            "264 enc3.1.3.branch0.conv.weight ==== enc3.1.3.branch1.0.bn.weight\n",
            "265 enc3.1.3.branch0.bn.weight ==== enc3.1.3.branch1.0.bn.bias\n",
            "266 enc3.1.3.branch0.bn.bias ==== enc3.1.3.branch1.0.bn.running_mean\n",
            "267 enc3.1.3.branch0.bn._mean ==== enc3.1.3.branch1.0.bn.running_var\n",
            "268 enc3.1.3.branch0.bn._variance ==== enc3.1.3.branch1.1.conv.weight\n",
            "269 enc3.1.3.branch1.0.conv.weight ==== enc3.1.3.branch1.1.bn.weight\n",
            "270 enc3.1.3.branch1.0.bn.weight ==== enc3.1.3.branch1.1.bn.bias\n",
            "271 enc3.1.3.branch1.0.bn.bias ==== enc3.1.3.branch1.1.bn.running_mean\n",
            "272 enc3.1.3.branch1.0.bn._mean ==== enc3.1.3.branch1.1.bn.running_var\n",
            "273 enc3.1.3.branch1.0.bn._variance ==== enc3.1.3.branch2.0.conv.weight\n",
            "274 enc3.1.3.branch1.1.conv.weight ==== enc3.1.3.branch2.0.bn.weight\n",
            "275 enc3.1.3.branch1.1.bn.weight ==== enc3.1.3.branch2.0.bn.bias\n",
            "276 enc3.1.3.branch1.1.bn.bias ==== enc3.1.3.branch2.0.bn.running_mean\n",
            "277 enc3.1.3.branch1.1.bn._mean ==== enc3.1.3.branch2.0.bn.running_var\n",
            "278 enc3.1.3.branch1.1.bn._variance ==== enc3.1.3.branch2.1.conv.weight\n",
            "279 enc3.1.3.branch2.0.conv.weight ==== enc3.1.3.branch2.1.bn.weight\n",
            "280 enc3.1.3.branch2.0.bn.weight ==== enc3.1.3.branch2.1.bn.bias\n",
            "281 enc3.1.3.branch2.0.bn.bias ==== enc3.1.3.branch2.1.bn.running_mean\n",
            "282 enc3.1.3.branch2.0.bn._mean ==== enc3.1.3.branch2.1.bn.running_var\n",
            "283 enc3.1.3.branch2.0.bn._variance ==== enc3.1.3.branch2.2.conv.weight\n",
            "284 enc3.1.3.branch2.1.conv.weight ==== enc3.1.3.branch2.2.bn.weight\n",
            "285 enc3.1.3.branch2.1.bn.weight ==== enc3.1.3.branch2.2.bn.bias\n",
            "286 enc3.1.3.branch2.1.bn.bias ==== enc3.1.3.branch2.2.bn.running_mean\n",
            "287 enc3.1.3.branch2.1.bn._mean ==== enc3.1.3.branch2.2.bn.running_var\n",
            "288 enc3.1.3.branch2.1.bn._variance ==== enc3.1.3.conv2d.weight\n",
            "289 enc3.1.3.branch2.2.conv.weight ==== enc3.1.3.conv2d.bias\n",
            "290 enc3.1.3.branch2.2.bn.weight ==== enc3.1.4.branch0.conv.weight\n",
            "291 enc3.1.3.branch2.2.bn.bias ==== enc3.1.4.branch0.bn.weight\n",
            "292 enc3.1.3.branch2.2.bn._mean ==== enc3.1.4.branch0.bn.bias\n",
            "293 enc3.1.3.branch2.2.bn._variance ==== enc3.1.4.branch0.bn.running_mean\n",
            "294 enc3.1.3.conv2d.weight ==== enc3.1.4.branch0.bn.running_var\n",
            "295 enc3.1.3.conv2d.bias ==== enc3.1.4.branch1.0.conv.weight\n",
            "296 enc3.1.4.branch0.conv.weight ==== enc3.1.4.branch1.0.bn.weight\n",
            "297 enc3.1.4.branch0.bn.weight ==== enc3.1.4.branch1.0.bn.bias\n",
            "298 enc3.1.4.branch0.bn.bias ==== enc3.1.4.branch1.0.bn.running_mean\n",
            "299 enc3.1.4.branch0.bn._mean ==== enc3.1.4.branch1.0.bn.running_var\n",
            "300 enc3.1.4.branch0.bn._variance ==== enc3.1.4.branch1.1.conv.weight\n",
            "301 enc3.1.4.branch1.0.conv.weight ==== enc3.1.4.branch1.1.bn.weight\n",
            "302 enc3.1.4.branch1.0.bn.weight ==== enc3.1.4.branch1.1.bn.bias\n",
            "303 enc3.1.4.branch1.0.bn.bias ==== enc3.1.4.branch1.1.bn.running_mean\n",
            "304 enc3.1.4.branch1.0.bn._mean ==== enc3.1.4.branch1.1.bn.running_var\n",
            "305 enc3.1.4.branch1.0.bn._variance ==== enc3.1.4.branch2.0.conv.weight\n",
            "306 enc3.1.4.branch1.1.conv.weight ==== enc3.1.4.branch2.0.bn.weight\n",
            "307 enc3.1.4.branch1.1.bn.weight ==== enc3.1.4.branch2.0.bn.bias\n",
            "308 enc3.1.4.branch1.1.bn.bias ==== enc3.1.4.branch2.0.bn.running_mean\n",
            "309 enc3.1.4.branch1.1.bn._mean ==== enc3.1.4.branch2.0.bn.running_var\n",
            "310 enc3.1.4.branch1.1.bn._variance ==== enc3.1.4.branch2.1.conv.weight\n",
            "311 enc3.1.4.branch2.0.conv.weight ==== enc3.1.4.branch2.1.bn.weight\n",
            "312 enc3.1.4.branch2.0.bn.weight ==== enc3.1.4.branch2.1.bn.bias\n",
            "313 enc3.1.4.branch2.0.bn.bias ==== enc3.1.4.branch2.1.bn.running_mean\n",
            "314 enc3.1.4.branch2.0.bn._mean ==== enc3.1.4.branch2.1.bn.running_var\n",
            "315 enc3.1.4.branch2.0.bn._variance ==== enc3.1.4.branch2.2.conv.weight\n",
            "316 enc3.1.4.branch2.1.conv.weight ==== enc3.1.4.branch2.2.bn.weight\n",
            "317 enc3.1.4.branch2.1.bn.weight ==== enc3.1.4.branch2.2.bn.bias\n",
            "318 enc3.1.4.branch2.1.bn.bias ==== enc3.1.4.branch2.2.bn.running_mean\n",
            "319 enc3.1.4.branch2.1.bn._mean ==== enc3.1.4.branch2.2.bn.running_var\n",
            "320 enc3.1.4.branch2.1.bn._variance ==== enc3.1.4.conv2d.weight\n",
            "321 enc3.1.4.branch2.2.conv.weight ==== enc3.1.4.conv2d.bias\n",
            "322 enc3.1.4.branch2.2.bn.weight ==== enc3.1.5.branch0.conv.weight\n",
            "323 enc3.1.4.branch2.2.bn.bias ==== enc3.1.5.branch0.bn.weight\n",
            "324 enc3.1.4.branch2.2.bn._mean ==== enc3.1.5.branch0.bn.bias\n",
            "325 enc3.1.4.branch2.2.bn._variance ==== enc3.1.5.branch0.bn.running_mean\n",
            "326 enc3.1.4.conv2d.weight ==== enc3.1.5.branch0.bn.running_var\n",
            "327 enc3.1.4.conv2d.bias ==== enc3.1.5.branch1.0.conv.weight\n",
            "328 enc3.1.5.branch0.conv.weight ==== enc3.1.5.branch1.0.bn.weight\n",
            "329 enc3.1.5.branch0.bn.weight ==== enc3.1.5.branch1.0.bn.bias\n",
            "330 enc3.1.5.branch0.bn.bias ==== enc3.1.5.branch1.0.bn.running_mean\n",
            "331 enc3.1.5.branch0.bn._mean ==== enc3.1.5.branch1.0.bn.running_var\n",
            "332 enc3.1.5.branch0.bn._variance ==== enc3.1.5.branch1.1.conv.weight\n",
            "333 enc3.1.5.branch1.0.conv.weight ==== enc3.1.5.branch1.1.bn.weight\n",
            "334 enc3.1.5.branch1.0.bn.weight ==== enc3.1.5.branch1.1.bn.bias\n",
            "335 enc3.1.5.branch1.0.bn.bias ==== enc3.1.5.branch1.1.bn.running_mean\n",
            "336 enc3.1.5.branch1.0.bn._mean ==== enc3.1.5.branch1.1.bn.running_var\n",
            "337 enc3.1.5.branch1.0.bn._variance ==== enc3.1.5.branch2.0.conv.weight\n",
            "338 enc3.1.5.branch1.1.conv.weight ==== enc3.1.5.branch2.0.bn.weight\n",
            "339 enc3.1.5.branch1.1.bn.weight ==== enc3.1.5.branch2.0.bn.bias\n",
            "340 enc3.1.5.branch1.1.bn.bias ==== enc3.1.5.branch2.0.bn.running_mean\n",
            "341 enc3.1.5.branch1.1.bn._mean ==== enc3.1.5.branch2.0.bn.running_var\n",
            "342 enc3.1.5.branch1.1.bn._variance ==== enc3.1.5.branch2.1.conv.weight\n",
            "343 enc3.1.5.branch2.0.conv.weight ==== enc3.1.5.branch2.1.bn.weight\n",
            "344 enc3.1.5.branch2.0.bn.weight ==== enc3.1.5.branch2.1.bn.bias\n",
            "345 enc3.1.5.branch2.0.bn.bias ==== enc3.1.5.branch2.1.bn.running_mean\n",
            "346 enc3.1.5.branch2.0.bn._mean ==== enc3.1.5.branch2.1.bn.running_var\n",
            "347 enc3.1.5.branch2.0.bn._variance ==== enc3.1.5.branch2.2.conv.weight\n",
            "348 enc3.1.5.branch2.1.conv.weight ==== enc3.1.5.branch2.2.bn.weight\n",
            "349 enc3.1.5.branch2.1.bn.weight ==== enc3.1.5.branch2.2.bn.bias\n",
            "350 enc3.1.5.branch2.1.bn.bias ==== enc3.1.5.branch2.2.bn.running_mean\n",
            "351 enc3.1.5.branch2.1.bn._mean ==== enc3.1.5.branch2.2.bn.running_var\n",
            "352 enc3.1.5.branch2.1.bn._variance ==== enc3.1.5.conv2d.weight\n",
            "353 enc3.1.5.branch2.2.conv.weight ==== enc3.1.5.conv2d.bias\n",
            "354 enc3.1.5.branch2.2.bn.weight ==== enc3.1.6.branch0.conv.weight\n",
            "355 enc3.1.5.branch2.2.bn.bias ==== enc3.1.6.branch0.bn.weight\n",
            "356 enc3.1.5.branch2.2.bn._mean ==== enc3.1.6.branch0.bn.bias\n",
            "357 enc3.1.5.branch2.2.bn._variance ==== enc3.1.6.branch0.bn.running_mean\n",
            "358 enc3.1.5.conv2d.weight ==== enc3.1.6.branch0.bn.running_var\n",
            "359 enc3.1.5.conv2d.bias ==== enc3.1.6.branch1.0.conv.weight\n",
            "360 enc3.1.6.branch0.conv.weight ==== enc3.1.6.branch1.0.bn.weight\n",
            "361 enc3.1.6.branch0.bn.weight ==== enc3.1.6.branch1.0.bn.bias\n",
            "362 enc3.1.6.branch0.bn.bias ==== enc3.1.6.branch1.0.bn.running_mean\n",
            "363 enc3.1.6.branch0.bn._mean ==== enc3.1.6.branch1.0.bn.running_var\n",
            "364 enc3.1.6.branch0.bn._variance ==== enc3.1.6.branch1.1.conv.weight\n",
            "365 enc3.1.6.branch1.0.conv.weight ==== enc3.1.6.branch1.1.bn.weight\n",
            "366 enc3.1.6.branch1.0.bn.weight ==== enc3.1.6.branch1.1.bn.bias\n",
            "367 enc3.1.6.branch1.0.bn.bias ==== enc3.1.6.branch1.1.bn.running_mean\n",
            "368 enc3.1.6.branch1.0.bn._mean ==== enc3.1.6.branch1.1.bn.running_var\n",
            "369 enc3.1.6.branch1.0.bn._variance ==== enc3.1.6.branch2.0.conv.weight\n",
            "370 enc3.1.6.branch1.1.conv.weight ==== enc3.1.6.branch2.0.bn.weight\n",
            "371 enc3.1.6.branch1.1.bn.weight ==== enc3.1.6.branch2.0.bn.bias\n",
            "372 enc3.1.6.branch1.1.bn.bias ==== enc3.1.6.branch2.0.bn.running_mean\n",
            "373 enc3.1.6.branch1.1.bn._mean ==== enc3.1.6.branch2.0.bn.running_var\n",
            "374 enc3.1.6.branch1.1.bn._variance ==== enc3.1.6.branch2.1.conv.weight\n",
            "375 enc3.1.6.branch2.0.conv.weight ==== enc3.1.6.branch2.1.bn.weight\n",
            "376 enc3.1.6.branch2.0.bn.weight ==== enc3.1.6.branch2.1.bn.bias\n",
            "377 enc3.1.6.branch2.0.bn.bias ==== enc3.1.6.branch2.1.bn.running_mean\n",
            "378 enc3.1.6.branch2.0.bn._mean ==== enc3.1.6.branch2.1.bn.running_var\n",
            "379 enc3.1.6.branch2.0.bn._variance ==== enc3.1.6.branch2.2.conv.weight\n",
            "380 enc3.1.6.branch2.1.conv.weight ==== enc3.1.6.branch2.2.bn.weight\n",
            "381 enc3.1.6.branch2.1.bn.weight ==== enc3.1.6.branch2.2.bn.bias\n",
            "382 enc3.1.6.branch2.1.bn.bias ==== enc3.1.6.branch2.2.bn.running_mean\n",
            "383 enc3.1.6.branch2.1.bn._mean ==== enc3.1.6.branch2.2.bn.running_var\n",
            "384 enc3.1.6.branch2.1.bn._variance ==== enc3.1.6.conv2d.weight\n",
            "385 enc3.1.6.branch2.2.conv.weight ==== enc3.1.6.conv2d.bias\n",
            "386 enc3.1.6.branch2.2.bn.weight ==== enc3.1.7.branch0.conv.weight\n",
            "387 enc3.1.6.branch2.2.bn.bias ==== enc3.1.7.branch0.bn.weight\n",
            "388 enc3.1.6.branch2.2.bn._mean ==== enc3.1.7.branch0.bn.bias\n",
            "389 enc3.1.6.branch2.2.bn._variance ==== enc3.1.7.branch0.bn.running_mean\n",
            "390 enc3.1.6.conv2d.weight ==== enc3.1.7.branch0.bn.running_var\n",
            "391 enc3.1.6.conv2d.bias ==== enc3.1.7.branch1.0.conv.weight\n",
            "392 enc3.1.7.branch0.conv.weight ==== enc3.1.7.branch1.0.bn.weight\n",
            "393 enc3.1.7.branch0.bn.weight ==== enc3.1.7.branch1.0.bn.bias\n",
            "394 enc3.1.7.branch0.bn.bias ==== enc3.1.7.branch1.0.bn.running_mean\n",
            "395 enc3.1.7.branch0.bn._mean ==== enc3.1.7.branch1.0.bn.running_var\n",
            "396 enc3.1.7.branch0.bn._variance ==== enc3.1.7.branch1.1.conv.weight\n",
            "397 enc3.1.7.branch1.0.conv.weight ==== enc3.1.7.branch1.1.bn.weight\n",
            "398 enc3.1.7.branch1.0.bn.weight ==== enc3.1.7.branch1.1.bn.bias\n",
            "399 enc3.1.7.branch1.0.bn.bias ==== enc3.1.7.branch1.1.bn.running_mean\n",
            "400 enc3.1.7.branch1.0.bn._mean ==== enc3.1.7.branch1.1.bn.running_var\n",
            "401 enc3.1.7.branch1.0.bn._variance ==== enc3.1.7.branch2.0.conv.weight\n",
            "402 enc3.1.7.branch1.1.conv.weight ==== enc3.1.7.branch2.0.bn.weight\n",
            "403 enc3.1.7.branch1.1.bn.weight ==== enc3.1.7.branch2.0.bn.bias\n",
            "404 enc3.1.7.branch1.1.bn.bias ==== enc3.1.7.branch2.0.bn.running_mean\n",
            "405 enc3.1.7.branch1.1.bn._mean ==== enc3.1.7.branch2.0.bn.running_var\n",
            "406 enc3.1.7.branch1.1.bn._variance ==== enc3.1.7.branch2.1.conv.weight\n",
            "407 enc3.1.7.branch2.0.conv.weight ==== enc3.1.7.branch2.1.bn.weight\n",
            "408 enc3.1.7.branch2.0.bn.weight ==== enc3.1.7.branch2.1.bn.bias\n",
            "409 enc3.1.7.branch2.0.bn.bias ==== enc3.1.7.branch2.1.bn.running_mean\n",
            "410 enc3.1.7.branch2.0.bn._mean ==== enc3.1.7.branch2.1.bn.running_var\n",
            "411 enc3.1.7.branch2.0.bn._variance ==== enc3.1.7.branch2.2.conv.weight\n",
            "412 enc3.1.7.branch2.1.conv.weight ==== enc3.1.7.branch2.2.bn.weight\n",
            "413 enc3.1.7.branch2.1.bn.weight ==== enc3.1.7.branch2.2.bn.bias\n",
            "414 enc3.1.7.branch2.1.bn.bias ==== enc3.1.7.branch2.2.bn.running_mean\n",
            "415 enc3.1.7.branch2.1.bn._mean ==== enc3.1.7.branch2.2.bn.running_var\n",
            "416 enc3.1.7.branch2.1.bn._variance ==== enc3.1.7.conv2d.weight\n",
            "417 enc3.1.7.branch2.2.conv.weight ==== enc3.1.7.conv2d.bias\n",
            "418 enc3.1.7.branch2.2.bn.weight ==== enc3.1.8.branch0.conv.weight\n",
            "419 enc3.1.7.branch2.2.bn.bias ==== enc3.1.8.branch0.bn.weight\n",
            "420 enc3.1.7.branch2.2.bn._mean ==== enc3.1.8.branch0.bn.bias\n",
            "421 enc3.1.7.branch2.2.bn._variance ==== enc3.1.8.branch0.bn.running_mean\n",
            "422 enc3.1.7.conv2d.weight ==== enc3.1.8.branch0.bn.running_var\n",
            "423 enc3.1.7.conv2d.bias ==== enc3.1.8.branch1.0.conv.weight\n",
            "424 enc3.1.8.branch0.conv.weight ==== enc3.1.8.branch1.0.bn.weight\n",
            "425 enc3.1.8.branch0.bn.weight ==== enc3.1.8.branch1.0.bn.bias\n",
            "426 enc3.1.8.branch0.bn.bias ==== enc3.1.8.branch1.0.bn.running_mean\n",
            "427 enc3.1.8.branch0.bn._mean ==== enc3.1.8.branch1.0.bn.running_var\n",
            "428 enc3.1.8.branch0.bn._variance ==== enc3.1.8.branch1.1.conv.weight\n",
            "429 enc3.1.8.branch1.0.conv.weight ==== enc3.1.8.branch1.1.bn.weight\n",
            "430 enc3.1.8.branch1.0.bn.weight ==== enc3.1.8.branch1.1.bn.bias\n",
            "431 enc3.1.8.branch1.0.bn.bias ==== enc3.1.8.branch1.1.bn.running_mean\n",
            "432 enc3.1.8.branch1.0.bn._mean ==== enc3.1.8.branch1.1.bn.running_var\n",
            "433 enc3.1.8.branch1.0.bn._variance ==== enc3.1.8.branch2.0.conv.weight\n",
            "434 enc3.1.8.branch1.1.conv.weight ==== enc3.1.8.branch2.0.bn.weight\n",
            "435 enc3.1.8.branch1.1.bn.weight ==== enc3.1.8.branch2.0.bn.bias\n",
            "436 enc3.1.8.branch1.1.bn.bias ==== enc3.1.8.branch2.0.bn.running_mean\n",
            "437 enc3.1.8.branch1.1.bn._mean ==== enc3.1.8.branch2.0.bn.running_var\n",
            "438 enc3.1.8.branch1.1.bn._variance ==== enc3.1.8.branch2.1.conv.weight\n",
            "439 enc3.1.8.branch2.0.conv.weight ==== enc3.1.8.branch2.1.bn.weight\n",
            "440 enc3.1.8.branch2.0.bn.weight ==== enc3.1.8.branch2.1.bn.bias\n",
            "441 enc3.1.8.branch2.0.bn.bias ==== enc3.1.8.branch2.1.bn.running_mean\n",
            "442 enc3.1.8.branch2.0.bn._mean ==== enc3.1.8.branch2.1.bn.running_var\n",
            "443 enc3.1.8.branch2.0.bn._variance ==== enc3.1.8.branch2.2.conv.weight\n",
            "444 enc3.1.8.branch2.1.conv.weight ==== enc3.1.8.branch2.2.bn.weight\n",
            "445 enc3.1.8.branch2.1.bn.weight ==== enc3.1.8.branch2.2.bn.bias\n",
            "446 enc3.1.8.branch2.1.bn.bias ==== enc3.1.8.branch2.2.bn.running_mean\n",
            "447 enc3.1.8.branch2.1.bn._mean ==== enc3.1.8.branch2.2.bn.running_var\n",
            "448 enc3.1.8.branch2.1.bn._variance ==== enc3.1.8.conv2d.weight\n",
            "449 enc3.1.8.branch2.2.conv.weight ==== enc3.1.8.conv2d.bias\n",
            "450 enc3.1.8.branch2.2.bn.weight ==== enc3.1.9.branch0.conv.weight\n",
            "451 enc3.1.8.branch2.2.bn.bias ==== enc3.1.9.branch0.bn.weight\n",
            "452 enc3.1.8.branch2.2.bn._mean ==== enc3.1.9.branch0.bn.bias\n",
            "453 enc3.1.8.branch2.2.bn._variance ==== enc3.1.9.branch0.bn.running_mean\n",
            "454 enc3.1.8.conv2d.weight ==== enc3.1.9.branch0.bn.running_var\n",
            "455 enc3.1.8.conv2d.bias ==== enc3.1.9.branch1.0.conv.weight\n",
            "456 enc3.1.9.branch0.conv.weight ==== enc3.1.9.branch1.0.bn.weight\n",
            "457 enc3.1.9.branch0.bn.weight ==== enc3.1.9.branch1.0.bn.bias\n",
            "458 enc3.1.9.branch0.bn.bias ==== enc3.1.9.branch1.0.bn.running_mean\n",
            "459 enc3.1.9.branch0.bn._mean ==== enc3.1.9.branch1.0.bn.running_var\n",
            "460 enc3.1.9.branch0.bn._variance ==== enc3.1.9.branch1.1.conv.weight\n",
            "461 enc3.1.9.branch1.0.conv.weight ==== enc3.1.9.branch1.1.bn.weight\n",
            "462 enc3.1.9.branch1.0.bn.weight ==== enc3.1.9.branch1.1.bn.bias\n",
            "463 enc3.1.9.branch1.0.bn.bias ==== enc3.1.9.branch1.1.bn.running_mean\n",
            "464 enc3.1.9.branch1.0.bn._mean ==== enc3.1.9.branch1.1.bn.running_var\n",
            "465 enc3.1.9.branch1.0.bn._variance ==== enc3.1.9.branch2.0.conv.weight\n",
            "466 enc3.1.9.branch1.1.conv.weight ==== enc3.1.9.branch2.0.bn.weight\n",
            "467 enc3.1.9.branch1.1.bn.weight ==== enc3.1.9.branch2.0.bn.bias\n",
            "468 enc3.1.9.branch1.1.bn.bias ==== enc3.1.9.branch2.0.bn.running_mean\n",
            "469 enc3.1.9.branch1.1.bn._mean ==== enc3.1.9.branch2.0.bn.running_var\n",
            "470 enc3.1.9.branch1.1.bn._variance ==== enc3.1.9.branch2.1.conv.weight\n",
            "471 enc3.1.9.branch2.0.conv.weight ==== enc3.1.9.branch2.1.bn.weight\n",
            "472 enc3.1.9.branch2.0.bn.weight ==== enc3.1.9.branch2.1.bn.bias\n",
            "473 enc3.1.9.branch2.0.bn.bias ==== enc3.1.9.branch2.1.bn.running_mean\n",
            "474 enc3.1.9.branch2.0.bn._mean ==== enc3.1.9.branch2.1.bn.running_var\n",
            "475 enc3.1.9.branch2.0.bn._variance ==== enc3.1.9.branch2.2.conv.weight\n",
            "476 enc3.1.9.branch2.1.conv.weight ==== enc3.1.9.branch2.2.bn.weight\n",
            "477 enc3.1.9.branch2.1.bn.weight ==== enc3.1.9.branch2.2.bn.bias\n",
            "478 enc3.1.9.branch2.1.bn.bias ==== enc3.1.9.branch2.2.bn.running_mean\n",
            "479 enc3.1.9.branch2.1.bn._mean ==== enc3.1.9.branch2.2.bn.running_var\n",
            "480 enc3.1.9.branch2.1.bn._variance ==== enc3.1.9.conv2d.weight\n",
            "481 enc3.1.9.branch2.2.conv.weight ==== enc3.1.9.conv2d.bias\n",
            "482 enc3.1.9.branch2.2.bn.weight ==== enc3.2.branch0.conv.weight\n",
            "483 enc3.1.9.branch2.2.bn.bias ==== enc3.2.branch0.bn.weight\n",
            "484 enc3.1.9.branch2.2.bn._mean ==== enc3.2.branch0.bn.bias\n",
            "485 enc3.1.9.branch2.2.bn._variance ==== enc3.2.branch0.bn.running_mean\n",
            "486 enc3.1.9.conv2d.weight ==== enc3.2.branch0.bn.running_var\n",
            "487 enc3.1.9.conv2d.bias ==== enc3.2.branch1.0.conv.weight\n",
            "488 enc3.2.branch0.conv.weight ==== enc3.2.branch1.0.bn.weight\n",
            "489 enc3.2.branch0.bn.weight ==== enc3.2.branch1.0.bn.bias\n",
            "490 enc3.2.branch0.bn.bias ==== enc3.2.branch1.0.bn.running_mean\n",
            "491 enc3.2.branch0.bn._mean ==== enc3.2.branch1.0.bn.running_var\n",
            "492 enc3.2.branch0.bn._variance ==== enc3.2.branch1.1.conv.weight\n",
            "493 enc3.2.branch1.0.conv.weight ==== enc3.2.branch1.1.bn.weight\n",
            "494 enc3.2.branch1.0.bn.weight ==== enc3.2.branch1.1.bn.bias\n",
            "495 enc3.2.branch1.0.bn.bias ==== enc3.2.branch1.1.bn.running_mean\n",
            "496 enc3.2.branch1.0.bn._mean ==== enc3.2.branch1.1.bn.running_var\n",
            "497 enc3.2.branch1.0.bn._variance ==== enc3.2.branch1.2.conv.weight\n",
            "498 enc3.2.branch1.1.conv.weight ==== enc3.2.branch1.2.bn.weight\n",
            "499 enc3.2.branch1.1.bn.weight ==== enc3.2.branch1.2.bn.bias\n",
            "500 enc3.2.branch1.1.bn.bias ==== enc3.2.branch1.2.bn.running_mean\n",
            "501 enc3.2.branch1.1.bn._mean ==== enc3.2.branch1.2.bn.running_var\n",
            "502 enc3.2.branch1.1.bn._variance ==== enc4.0.0.branch0.conv.weight\n",
            "503 enc3.2.branch1.2.conv.weight ==== enc4.0.0.branch0.bn.weight\n",
            "504 enc3.2.branch1.2.bn.weight ==== enc4.0.0.branch0.bn.bias\n",
            "505 enc3.2.branch1.2.bn.bias ==== enc4.0.0.branch0.bn.running_mean\n",
            "506 enc3.2.branch1.2.bn._mean ==== enc4.0.0.branch0.bn.running_var\n",
            "507 enc3.2.branch1.2.bn._variance ==== enc4.0.0.branch1.0.conv.weight\n",
            "508 enc4.0.0.branch0.conv.weight ==== enc4.0.0.branch1.0.bn.weight\n",
            "509 enc4.0.0.branch0.bn.weight ==== enc4.0.0.branch1.0.bn.bias\n",
            "510 enc4.0.0.branch0.bn.bias ==== enc4.0.0.branch1.0.bn.running_mean\n",
            "511 enc4.0.0.branch0.bn._mean ==== enc4.0.0.branch1.0.bn.running_var\n",
            "512 enc4.0.0.branch0.bn._variance ==== enc4.0.0.branch1.1.conv.weight\n",
            "513 enc4.0.0.branch1.0.conv.weight ==== enc4.0.0.branch1.1.bn.weight\n",
            "514 enc4.0.0.branch1.0.bn.weight ==== enc4.0.0.branch1.1.bn.bias\n",
            "515 enc4.0.0.branch1.0.bn.bias ==== enc4.0.0.branch1.1.bn.running_mean\n",
            "516 enc4.0.0.branch1.0.bn._mean ==== enc4.0.0.branch1.1.bn.running_var\n",
            "517 enc4.0.0.branch1.0.bn._variance ==== enc4.0.0.branch1.2.conv.weight\n",
            "518 enc4.0.0.branch1.1.conv.weight ==== enc4.0.0.branch1.2.bn.weight\n",
            "519 enc4.0.0.branch1.1.bn.weight ==== enc4.0.0.branch1.2.bn.bias\n",
            "520 enc4.0.0.branch1.1.bn.bias ==== enc4.0.0.branch1.2.bn.running_mean\n",
            "521 enc4.0.0.branch1.1.bn._mean ==== enc4.0.0.branch1.2.bn.running_var\n",
            "522 enc4.0.0.branch1.1.bn._variance ==== enc4.0.0.conv2d.weight\n",
            "523 enc4.0.0.branch1.2.conv.weight ==== enc4.0.0.conv2d.bias\n",
            "524 enc4.0.0.branch1.2.bn.weight ==== enc4.0.1.branch0.conv.weight\n",
            "525 enc4.0.0.branch1.2.bn.bias ==== enc4.0.1.branch0.bn.weight\n",
            "526 enc4.0.0.branch1.2.bn._mean ==== enc4.0.1.branch0.bn.bias\n",
            "527 enc4.0.0.branch1.2.bn._variance ==== enc4.0.1.branch0.bn.running_mean\n",
            "528 enc4.0.0.conv2d.weight ==== enc4.0.1.branch0.bn.running_var\n",
            "529 enc4.0.0.conv2d.bias ==== enc4.0.1.branch1.0.conv.weight\n",
            "530 enc4.0.1.branch0.conv.weight ==== enc4.0.1.branch1.0.bn.weight\n",
            "531 enc4.0.1.branch0.bn.weight ==== enc4.0.1.branch1.0.bn.bias\n",
            "532 enc4.0.1.branch0.bn.bias ==== enc4.0.1.branch1.0.bn.running_mean\n",
            "533 enc4.0.1.branch0.bn._mean ==== enc4.0.1.branch1.0.bn.running_var\n",
            "534 enc4.0.1.branch0.bn._variance ==== enc4.0.1.branch1.1.conv.weight\n",
            "535 enc4.0.1.branch1.0.conv.weight ==== enc4.0.1.branch1.1.bn.weight\n",
            "536 enc4.0.1.branch1.0.bn.weight ==== enc4.0.1.branch1.1.bn.bias\n",
            "537 enc4.0.1.branch1.0.bn.bias ==== enc4.0.1.branch1.1.bn.running_mean\n",
            "538 enc4.0.1.branch1.0.bn._mean ==== enc4.0.1.branch1.1.bn.running_var\n",
            "539 enc4.0.1.branch1.0.bn._variance ==== enc4.0.1.branch1.2.conv.weight\n",
            "540 enc4.0.1.branch1.1.conv.weight ==== enc4.0.1.branch1.2.bn.weight\n",
            "541 enc4.0.1.branch1.1.bn.weight ==== enc4.0.1.branch1.2.bn.bias\n",
            "542 enc4.0.1.branch1.1.bn.bias ==== enc4.0.1.branch1.2.bn.running_mean\n",
            "543 enc4.0.1.branch1.1.bn._mean ==== enc4.0.1.branch1.2.bn.running_var\n",
            "544 enc4.0.1.branch1.1.bn._variance ==== enc4.0.1.conv2d.weight\n",
            "545 enc4.0.1.branch1.2.conv.weight ==== enc4.0.1.conv2d.bias\n",
            "546 enc4.0.1.branch1.2.bn.weight ==== enc4.0.2.branch0.conv.weight\n",
            "547 enc4.0.1.branch1.2.bn.bias ==== enc4.0.2.branch0.bn.weight\n",
            "548 enc4.0.1.branch1.2.bn._mean ==== enc4.0.2.branch0.bn.bias\n",
            "549 enc4.0.1.branch1.2.bn._variance ==== enc4.0.2.branch0.bn.running_mean\n",
            "550 enc4.0.1.conv2d.weight ==== enc4.0.2.branch0.bn.running_var\n",
            "551 enc4.0.1.conv2d.bias ==== enc4.0.2.branch1.0.conv.weight\n",
            "552 enc4.0.2.branch0.conv.weight ==== enc4.0.2.branch1.0.bn.weight\n",
            "553 enc4.0.2.branch0.bn.weight ==== enc4.0.2.branch1.0.bn.bias\n",
            "554 enc4.0.2.branch0.bn.bias ==== enc4.0.2.branch1.0.bn.running_mean\n",
            "555 enc4.0.2.branch0.bn._mean ==== enc4.0.2.branch1.0.bn.running_var\n",
            "556 enc4.0.2.branch0.bn._variance ==== enc4.0.2.branch1.1.conv.weight\n",
            "557 enc4.0.2.branch1.0.conv.weight ==== enc4.0.2.branch1.1.bn.weight\n",
            "558 enc4.0.2.branch1.0.bn.weight ==== enc4.0.2.branch1.1.bn.bias\n",
            "559 enc4.0.2.branch1.0.bn.bias ==== enc4.0.2.branch1.1.bn.running_mean\n",
            "560 enc4.0.2.branch1.0.bn._mean ==== enc4.0.2.branch1.1.bn.running_var\n",
            "561 enc4.0.2.branch1.0.bn._variance ==== enc4.0.2.branch1.2.conv.weight\n",
            "562 enc4.0.2.branch1.1.conv.weight ==== enc4.0.2.branch1.2.bn.weight\n",
            "563 enc4.0.2.branch1.1.bn.weight ==== enc4.0.2.branch1.2.bn.bias\n",
            "564 enc4.0.2.branch1.1.bn.bias ==== enc4.0.2.branch1.2.bn.running_mean\n",
            "565 enc4.0.2.branch1.1.bn._mean ==== enc4.0.2.branch1.2.bn.running_var\n",
            "566 enc4.0.2.branch1.1.bn._variance ==== enc4.0.2.conv2d.weight\n",
            "567 enc4.0.2.branch1.2.conv.weight ==== enc4.0.2.conv2d.bias\n",
            "568 enc4.0.2.branch1.2.bn.weight ==== enc4.0.3.branch0.conv.weight\n",
            "569 enc4.0.2.branch1.2.bn.bias ==== enc4.0.3.branch0.bn.weight\n",
            "570 enc4.0.2.branch1.2.bn._mean ==== enc4.0.3.branch0.bn.bias\n",
            "571 enc4.0.2.branch1.2.bn._variance ==== enc4.0.3.branch0.bn.running_mean\n",
            "572 enc4.0.2.conv2d.weight ==== enc4.0.3.branch0.bn.running_var\n",
            "573 enc4.0.2.conv2d.bias ==== enc4.0.3.branch1.0.conv.weight\n",
            "574 enc4.0.3.branch0.conv.weight ==== enc4.0.3.branch1.0.bn.weight\n",
            "575 enc4.0.3.branch0.bn.weight ==== enc4.0.3.branch1.0.bn.bias\n",
            "576 enc4.0.3.branch0.bn.bias ==== enc4.0.3.branch1.0.bn.running_mean\n",
            "577 enc4.0.3.branch0.bn._mean ==== enc4.0.3.branch1.0.bn.running_var\n",
            "578 enc4.0.3.branch0.bn._variance ==== enc4.0.3.branch1.1.conv.weight\n",
            "579 enc4.0.3.branch1.0.conv.weight ==== enc4.0.3.branch1.1.bn.weight\n",
            "580 enc4.0.3.branch1.0.bn.weight ==== enc4.0.3.branch1.1.bn.bias\n",
            "581 enc4.0.3.branch1.0.bn.bias ==== enc4.0.3.branch1.1.bn.running_mean\n",
            "582 enc4.0.3.branch1.0.bn._mean ==== enc4.0.3.branch1.1.bn.running_var\n",
            "583 enc4.0.3.branch1.0.bn._variance ==== enc4.0.3.branch1.2.conv.weight\n",
            "584 enc4.0.3.branch1.1.conv.weight ==== enc4.0.3.branch1.2.bn.weight\n",
            "585 enc4.0.3.branch1.1.bn.weight ==== enc4.0.3.branch1.2.bn.bias\n",
            "586 enc4.0.3.branch1.1.bn.bias ==== enc4.0.3.branch1.2.bn.running_mean\n",
            "587 enc4.0.3.branch1.1.bn._mean ==== enc4.0.3.branch1.2.bn.running_var\n",
            "588 enc4.0.3.branch1.1.bn._variance ==== enc4.0.3.conv2d.weight\n",
            "589 enc4.0.3.branch1.2.conv.weight ==== enc4.0.3.conv2d.bias\n",
            "590 enc4.0.3.branch1.2.bn.weight ==== enc4.0.4.branch0.conv.weight\n",
            "591 enc4.0.3.branch1.2.bn.bias ==== enc4.0.4.branch0.bn.weight\n",
            "592 enc4.0.3.branch1.2.bn._mean ==== enc4.0.4.branch0.bn.bias\n",
            "593 enc4.0.3.branch1.2.bn._variance ==== enc4.0.4.branch0.bn.running_mean\n",
            "594 enc4.0.3.conv2d.weight ==== enc4.0.4.branch0.bn.running_var\n",
            "595 enc4.0.3.conv2d.bias ==== enc4.0.4.branch1.0.conv.weight\n",
            "596 enc4.0.4.branch0.conv.weight ==== enc4.0.4.branch1.0.bn.weight\n",
            "597 enc4.0.4.branch0.bn.weight ==== enc4.0.4.branch1.0.bn.bias\n",
            "598 enc4.0.4.branch0.bn.bias ==== enc4.0.4.branch1.0.bn.running_mean\n",
            "599 enc4.0.4.branch0.bn._mean ==== enc4.0.4.branch1.0.bn.running_var\n",
            "600 enc4.0.4.branch0.bn._variance ==== enc4.0.4.branch1.1.conv.weight\n",
            "601 enc4.0.4.branch1.0.conv.weight ==== enc4.0.4.branch1.1.bn.weight\n",
            "602 enc4.0.4.branch1.0.bn.weight ==== enc4.0.4.branch1.1.bn.bias\n",
            "603 enc4.0.4.branch1.0.bn.bias ==== enc4.0.4.branch1.1.bn.running_mean\n",
            "604 enc4.0.4.branch1.0.bn._mean ==== enc4.0.4.branch1.1.bn.running_var\n",
            "605 enc4.0.4.branch1.0.bn._variance ==== enc4.0.4.branch1.2.conv.weight\n",
            "606 enc4.0.4.branch1.1.conv.weight ==== enc4.0.4.branch1.2.bn.weight\n",
            "607 enc4.0.4.branch1.1.bn.weight ==== enc4.0.4.branch1.2.bn.bias\n",
            "608 enc4.0.4.branch1.1.bn.bias ==== enc4.0.4.branch1.2.bn.running_mean\n",
            "609 enc4.0.4.branch1.1.bn._mean ==== enc4.0.4.branch1.2.bn.running_var\n",
            "610 enc4.0.4.branch1.1.bn._variance ==== enc4.0.4.conv2d.weight\n",
            "611 enc4.0.4.branch1.2.conv.weight ==== enc4.0.4.conv2d.bias\n",
            "612 enc4.0.4.branch1.2.bn.weight ==== enc4.0.5.branch0.conv.weight\n",
            "613 enc4.0.4.branch1.2.bn.bias ==== enc4.0.5.branch0.bn.weight\n",
            "614 enc4.0.4.branch1.2.bn._mean ==== enc4.0.5.branch0.bn.bias\n",
            "615 enc4.0.4.branch1.2.bn._variance ==== enc4.0.5.branch0.bn.running_mean\n",
            "616 enc4.0.4.conv2d.weight ==== enc4.0.5.branch0.bn.running_var\n",
            "617 enc4.0.4.conv2d.bias ==== enc4.0.5.branch1.0.conv.weight\n",
            "618 enc4.0.5.branch0.conv.weight ==== enc4.0.5.branch1.0.bn.weight\n",
            "619 enc4.0.5.branch0.bn.weight ==== enc4.0.5.branch1.0.bn.bias\n",
            "620 enc4.0.5.branch0.bn.bias ==== enc4.0.5.branch1.0.bn.running_mean\n",
            "621 enc4.0.5.branch0.bn._mean ==== enc4.0.5.branch1.0.bn.running_var\n",
            "622 enc4.0.5.branch0.bn._variance ==== enc4.0.5.branch1.1.conv.weight\n",
            "623 enc4.0.5.branch1.0.conv.weight ==== enc4.0.5.branch1.1.bn.weight\n",
            "624 enc4.0.5.branch1.0.bn.weight ==== enc4.0.5.branch1.1.bn.bias\n",
            "625 enc4.0.5.branch1.0.bn.bias ==== enc4.0.5.branch1.1.bn.running_mean\n",
            "626 enc4.0.5.branch1.0.bn._mean ==== enc4.0.5.branch1.1.bn.running_var\n",
            "627 enc4.0.5.branch1.0.bn._variance ==== enc4.0.5.branch1.2.conv.weight\n",
            "628 enc4.0.5.branch1.1.conv.weight ==== enc4.0.5.branch1.2.bn.weight\n",
            "629 enc4.0.5.branch1.1.bn.weight ==== enc4.0.5.branch1.2.bn.bias\n",
            "630 enc4.0.5.branch1.1.bn.bias ==== enc4.0.5.branch1.2.bn.running_mean\n",
            "631 enc4.0.5.branch1.1.bn._mean ==== enc4.0.5.branch1.2.bn.running_var\n",
            "632 enc4.0.5.branch1.1.bn._variance ==== enc4.0.5.conv2d.weight\n",
            "633 enc4.0.5.branch1.2.conv.weight ==== enc4.0.5.conv2d.bias\n",
            "634 enc4.0.5.branch1.2.bn.weight ==== enc4.0.6.branch0.conv.weight\n",
            "635 enc4.0.5.branch1.2.bn.bias ==== enc4.0.6.branch0.bn.weight\n",
            "636 enc4.0.5.branch1.2.bn._mean ==== enc4.0.6.branch0.bn.bias\n",
            "637 enc4.0.5.branch1.2.bn._variance ==== enc4.0.6.branch0.bn.running_mean\n",
            "638 enc4.0.5.conv2d.weight ==== enc4.0.6.branch0.bn.running_var\n",
            "639 enc4.0.5.conv2d.bias ==== enc4.0.6.branch1.0.conv.weight\n",
            "640 enc4.0.6.branch0.conv.weight ==== enc4.0.6.branch1.0.bn.weight\n",
            "641 enc4.0.6.branch0.bn.weight ==== enc4.0.6.branch1.0.bn.bias\n",
            "642 enc4.0.6.branch0.bn.bias ==== enc4.0.6.branch1.0.bn.running_mean\n",
            "643 enc4.0.6.branch0.bn._mean ==== enc4.0.6.branch1.0.bn.running_var\n",
            "644 enc4.0.6.branch0.bn._variance ==== enc4.0.6.branch1.1.conv.weight\n",
            "645 enc4.0.6.branch1.0.conv.weight ==== enc4.0.6.branch1.1.bn.weight\n",
            "646 enc4.0.6.branch1.0.bn.weight ==== enc4.0.6.branch1.1.bn.bias\n",
            "647 enc4.0.6.branch1.0.bn.bias ==== enc4.0.6.branch1.1.bn.running_mean\n",
            "648 enc4.0.6.branch1.0.bn._mean ==== enc4.0.6.branch1.1.bn.running_var\n",
            "649 enc4.0.6.branch1.0.bn._variance ==== enc4.0.6.branch1.2.conv.weight\n",
            "650 enc4.0.6.branch1.1.conv.weight ==== enc4.0.6.branch1.2.bn.weight\n",
            "651 enc4.0.6.branch1.1.bn.weight ==== enc4.0.6.branch1.2.bn.bias\n",
            "652 enc4.0.6.branch1.1.bn.bias ==== enc4.0.6.branch1.2.bn.running_mean\n",
            "653 enc4.0.6.branch1.1.bn._mean ==== enc4.0.6.branch1.2.bn.running_var\n",
            "654 enc4.0.6.branch1.1.bn._variance ==== enc4.0.6.conv2d.weight\n",
            "655 enc4.0.6.branch1.2.conv.weight ==== enc4.0.6.conv2d.bias\n",
            "656 enc4.0.6.branch1.2.bn.weight ==== enc4.0.7.branch0.conv.weight\n",
            "657 enc4.0.6.branch1.2.bn.bias ==== enc4.0.7.branch0.bn.weight\n",
            "658 enc4.0.6.branch1.2.bn._mean ==== enc4.0.7.branch0.bn.bias\n",
            "659 enc4.0.6.branch1.2.bn._variance ==== enc4.0.7.branch0.bn.running_mean\n",
            "660 enc4.0.6.conv2d.weight ==== enc4.0.7.branch0.bn.running_var\n",
            "661 enc4.0.6.conv2d.bias ==== enc4.0.7.branch1.0.conv.weight\n",
            "662 enc4.0.7.branch0.conv.weight ==== enc4.0.7.branch1.0.bn.weight\n",
            "663 enc4.0.7.branch0.bn.weight ==== enc4.0.7.branch1.0.bn.bias\n",
            "664 enc4.0.7.branch0.bn.bias ==== enc4.0.7.branch1.0.bn.running_mean\n",
            "665 enc4.0.7.branch0.bn._mean ==== enc4.0.7.branch1.0.bn.running_var\n",
            "666 enc4.0.7.branch0.bn._variance ==== enc4.0.7.branch1.1.conv.weight\n",
            "667 enc4.0.7.branch1.0.conv.weight ==== enc4.0.7.branch1.1.bn.weight\n",
            "668 enc4.0.7.branch1.0.bn.weight ==== enc4.0.7.branch1.1.bn.bias\n",
            "669 enc4.0.7.branch1.0.bn.bias ==== enc4.0.7.branch1.1.bn.running_mean\n",
            "670 enc4.0.7.branch1.0.bn._mean ==== enc4.0.7.branch1.1.bn.running_var\n",
            "671 enc4.0.7.branch1.0.bn._variance ==== enc4.0.7.branch1.2.conv.weight\n",
            "672 enc4.0.7.branch1.1.conv.weight ==== enc4.0.7.branch1.2.bn.weight\n",
            "673 enc4.0.7.branch1.1.bn.weight ==== enc4.0.7.branch1.2.bn.bias\n",
            "674 enc4.0.7.branch1.1.bn.bias ==== enc4.0.7.branch1.2.bn.running_mean\n",
            "675 enc4.0.7.branch1.1.bn._mean ==== enc4.0.7.branch1.2.bn.running_var\n",
            "676 enc4.0.7.branch1.1.bn._variance ==== enc4.0.7.conv2d.weight\n",
            "677 enc4.0.7.branch1.2.conv.weight ==== enc4.0.7.conv2d.bias\n",
            "678 enc4.0.7.branch1.2.bn.weight ==== enc4.0.8.branch0.conv.weight\n",
            "679 enc4.0.7.branch1.2.bn.bias ==== enc4.0.8.branch0.bn.weight\n",
            "680 enc4.0.7.branch1.2.bn._mean ==== enc4.0.8.branch0.bn.bias\n",
            "681 enc4.0.7.branch1.2.bn._variance ==== enc4.0.8.branch0.bn.running_mean\n",
            "682 enc4.0.7.conv2d.weight ==== enc4.0.8.branch0.bn.running_var\n",
            "683 enc4.0.7.conv2d.bias ==== enc4.0.8.branch1.0.conv.weight\n",
            "684 enc4.0.8.branch0.conv.weight ==== enc4.0.8.branch1.0.bn.weight\n",
            "685 enc4.0.8.branch0.bn.weight ==== enc4.0.8.branch1.0.bn.bias\n",
            "686 enc4.0.8.branch0.bn.bias ==== enc4.0.8.branch1.0.bn.running_mean\n",
            "687 enc4.0.8.branch0.bn._mean ==== enc4.0.8.branch1.0.bn.running_var\n",
            "688 enc4.0.8.branch0.bn._variance ==== enc4.0.8.branch1.1.conv.weight\n",
            "689 enc4.0.8.branch1.0.conv.weight ==== enc4.0.8.branch1.1.bn.weight\n",
            "690 enc4.0.8.branch1.0.bn.weight ==== enc4.0.8.branch1.1.bn.bias\n",
            "691 enc4.0.8.branch1.0.bn.bias ==== enc4.0.8.branch1.1.bn.running_mean\n",
            "692 enc4.0.8.branch1.0.bn._mean ==== enc4.0.8.branch1.1.bn.running_var\n",
            "693 enc4.0.8.branch1.0.bn._variance ==== enc4.0.8.branch1.2.conv.weight\n",
            "694 enc4.0.8.branch1.1.conv.weight ==== enc4.0.8.branch1.2.bn.weight\n",
            "695 enc4.0.8.branch1.1.bn.weight ==== enc4.0.8.branch1.2.bn.bias\n",
            "696 enc4.0.8.branch1.1.bn.bias ==== enc4.0.8.branch1.2.bn.running_mean\n",
            "697 enc4.0.8.branch1.1.bn._mean ==== enc4.0.8.branch1.2.bn.running_var\n",
            "698 enc4.0.8.branch1.1.bn._variance ==== enc4.0.8.conv2d.weight\n",
            "699 enc4.0.8.branch1.2.conv.weight ==== enc4.0.8.conv2d.bias\n",
            "700 enc4.0.8.branch1.2.bn.weight ==== enc4.0.9.branch0.conv.weight\n",
            "701 enc4.0.8.branch1.2.bn.bias ==== enc4.0.9.branch0.bn.weight\n",
            "702 enc4.0.8.branch1.2.bn._mean ==== enc4.0.9.branch0.bn.bias\n",
            "703 enc4.0.8.branch1.2.bn._variance ==== enc4.0.9.branch0.bn.running_mean\n",
            "704 enc4.0.8.conv2d.weight ==== enc4.0.9.branch0.bn.running_var\n",
            "705 enc4.0.8.conv2d.bias ==== enc4.0.9.branch1.0.conv.weight\n",
            "706 enc4.0.9.branch0.conv.weight ==== enc4.0.9.branch1.0.bn.weight\n",
            "707 enc4.0.9.branch0.bn.weight ==== enc4.0.9.branch1.0.bn.bias\n",
            "708 enc4.0.9.branch0.bn.bias ==== enc4.0.9.branch1.0.bn.running_mean\n",
            "709 enc4.0.9.branch0.bn._mean ==== enc4.0.9.branch1.0.bn.running_var\n",
            "710 enc4.0.9.branch0.bn._variance ==== enc4.0.9.branch1.1.conv.weight\n",
            "711 enc4.0.9.branch1.0.conv.weight ==== enc4.0.9.branch1.1.bn.weight\n",
            "712 enc4.0.9.branch1.0.bn.weight ==== enc4.0.9.branch1.1.bn.bias\n",
            "713 enc4.0.9.branch1.0.bn.bias ==== enc4.0.9.branch1.1.bn.running_mean\n",
            "714 enc4.0.9.branch1.0.bn._mean ==== enc4.0.9.branch1.1.bn.running_var\n",
            "715 enc4.0.9.branch1.0.bn._variance ==== enc4.0.9.branch1.2.conv.weight\n",
            "716 enc4.0.9.branch1.1.conv.weight ==== enc4.0.9.branch1.2.bn.weight\n",
            "717 enc4.0.9.branch1.1.bn.weight ==== enc4.0.9.branch1.2.bn.bias\n",
            "718 enc4.0.9.branch1.1.bn.bias ==== enc4.0.9.branch1.2.bn.running_mean\n",
            "719 enc4.0.9.branch1.1.bn._mean ==== enc4.0.9.branch1.2.bn.running_var\n",
            "720 enc4.0.9.branch1.1.bn._variance ==== enc4.0.9.conv2d.weight\n",
            "721 enc4.0.9.branch1.2.conv.weight ==== enc4.0.9.conv2d.bias\n",
            "722 enc4.0.9.branch1.2.bn.weight ==== enc4.0.10.branch0.conv.weight\n",
            "723 enc4.0.9.branch1.2.bn.bias ==== enc4.0.10.branch0.bn.weight\n",
            "724 enc4.0.9.branch1.2.bn._mean ==== enc4.0.10.branch0.bn.bias\n",
            "725 enc4.0.9.branch1.2.bn._variance ==== enc4.0.10.branch0.bn.running_mean\n",
            "726 enc4.0.9.conv2d.weight ==== enc4.0.10.branch0.bn.running_var\n",
            "727 enc4.0.9.conv2d.bias ==== enc4.0.10.branch1.0.conv.weight\n",
            "728 enc4.0.10.branch0.conv.weight ==== enc4.0.10.branch1.0.bn.weight\n",
            "729 enc4.0.10.branch0.bn.weight ==== enc4.0.10.branch1.0.bn.bias\n",
            "730 enc4.0.10.branch0.bn.bias ==== enc4.0.10.branch1.0.bn.running_mean\n",
            "731 enc4.0.10.branch0.bn._mean ==== enc4.0.10.branch1.0.bn.running_var\n",
            "732 enc4.0.10.branch0.bn._variance ==== enc4.0.10.branch1.1.conv.weight\n",
            "733 enc4.0.10.branch1.0.conv.weight ==== enc4.0.10.branch1.1.bn.weight\n",
            "734 enc4.0.10.branch1.0.bn.weight ==== enc4.0.10.branch1.1.bn.bias\n",
            "735 enc4.0.10.branch1.0.bn.bias ==== enc4.0.10.branch1.1.bn.running_mean\n",
            "736 enc4.0.10.branch1.0.bn._mean ==== enc4.0.10.branch1.1.bn.running_var\n",
            "737 enc4.0.10.branch1.0.bn._variance ==== enc4.0.10.branch1.2.conv.weight\n",
            "738 enc4.0.10.branch1.1.conv.weight ==== enc4.0.10.branch1.2.bn.weight\n",
            "739 enc4.0.10.branch1.1.bn.weight ==== enc4.0.10.branch1.2.bn.bias\n",
            "740 enc4.0.10.branch1.1.bn.bias ==== enc4.0.10.branch1.2.bn.running_mean\n",
            "741 enc4.0.10.branch1.1.bn._mean ==== enc4.0.10.branch1.2.bn.running_var\n",
            "742 enc4.0.10.branch1.1.bn._variance ==== enc4.0.10.conv2d.weight\n",
            "743 enc4.0.10.branch1.2.conv.weight ==== enc4.0.10.conv2d.bias\n",
            "744 enc4.0.10.branch1.2.bn.weight ==== enc4.0.11.branch0.conv.weight\n",
            "745 enc4.0.10.branch1.2.bn.bias ==== enc4.0.11.branch0.bn.weight\n",
            "746 enc4.0.10.branch1.2.bn._mean ==== enc4.0.11.branch0.bn.bias\n",
            "747 enc4.0.10.branch1.2.bn._variance ==== enc4.0.11.branch0.bn.running_mean\n",
            "748 enc4.0.10.conv2d.weight ==== enc4.0.11.branch0.bn.running_var\n",
            "749 enc4.0.10.conv2d.bias ==== enc4.0.11.branch1.0.conv.weight\n",
            "750 enc4.0.11.branch0.conv.weight ==== enc4.0.11.branch1.0.bn.weight\n",
            "751 enc4.0.11.branch0.bn.weight ==== enc4.0.11.branch1.0.bn.bias\n",
            "752 enc4.0.11.branch0.bn.bias ==== enc4.0.11.branch1.0.bn.running_mean\n",
            "753 enc4.0.11.branch0.bn._mean ==== enc4.0.11.branch1.0.bn.running_var\n",
            "754 enc4.0.11.branch0.bn._variance ==== enc4.0.11.branch1.1.conv.weight\n",
            "755 enc4.0.11.branch1.0.conv.weight ==== enc4.0.11.branch1.1.bn.weight\n",
            "756 enc4.0.11.branch1.0.bn.weight ==== enc4.0.11.branch1.1.bn.bias\n",
            "757 enc4.0.11.branch1.0.bn.bias ==== enc4.0.11.branch1.1.bn.running_mean\n",
            "758 enc4.0.11.branch1.0.bn._mean ==== enc4.0.11.branch1.1.bn.running_var\n",
            "759 enc4.0.11.branch1.0.bn._variance ==== enc4.0.11.branch1.2.conv.weight\n",
            "760 enc4.0.11.branch1.1.conv.weight ==== enc4.0.11.branch1.2.bn.weight\n",
            "761 enc4.0.11.branch1.1.bn.weight ==== enc4.0.11.branch1.2.bn.bias\n",
            "762 enc4.0.11.branch1.1.bn.bias ==== enc4.0.11.branch1.2.bn.running_mean\n",
            "763 enc4.0.11.branch1.1.bn._mean ==== enc4.0.11.branch1.2.bn.running_var\n",
            "764 enc4.0.11.branch1.1.bn._variance ==== enc4.0.11.conv2d.weight\n",
            "765 enc4.0.11.branch1.2.conv.weight ==== enc4.0.11.conv2d.bias\n",
            "766 enc4.0.11.branch1.2.bn.weight ==== enc4.0.12.branch0.conv.weight\n",
            "767 enc4.0.11.branch1.2.bn.bias ==== enc4.0.12.branch0.bn.weight\n",
            "768 enc4.0.11.branch1.2.bn._mean ==== enc4.0.12.branch0.bn.bias\n",
            "769 enc4.0.11.branch1.2.bn._variance ==== enc4.0.12.branch0.bn.running_mean\n",
            "770 enc4.0.11.conv2d.weight ==== enc4.0.12.branch0.bn.running_var\n",
            "771 enc4.0.11.conv2d.bias ==== enc4.0.12.branch1.0.conv.weight\n",
            "772 enc4.0.12.branch0.conv.weight ==== enc4.0.12.branch1.0.bn.weight\n",
            "773 enc4.0.12.branch0.bn.weight ==== enc4.0.12.branch1.0.bn.bias\n",
            "774 enc4.0.12.branch0.bn.bias ==== enc4.0.12.branch1.0.bn.running_mean\n",
            "775 enc4.0.12.branch0.bn._mean ==== enc4.0.12.branch1.0.bn.running_var\n",
            "776 enc4.0.12.branch0.bn._variance ==== enc4.0.12.branch1.1.conv.weight\n",
            "777 enc4.0.12.branch1.0.conv.weight ==== enc4.0.12.branch1.1.bn.weight\n",
            "778 enc4.0.12.branch1.0.bn.weight ==== enc4.0.12.branch1.1.bn.bias\n",
            "779 enc4.0.12.branch1.0.bn.bias ==== enc4.0.12.branch1.1.bn.running_mean\n",
            "780 enc4.0.12.branch1.0.bn._mean ==== enc4.0.12.branch1.1.bn.running_var\n",
            "781 enc4.0.12.branch1.0.bn._variance ==== enc4.0.12.branch1.2.conv.weight\n",
            "782 enc4.0.12.branch1.1.conv.weight ==== enc4.0.12.branch1.2.bn.weight\n",
            "783 enc4.0.12.branch1.1.bn.weight ==== enc4.0.12.branch1.2.bn.bias\n",
            "784 enc4.0.12.branch1.1.bn.bias ==== enc4.0.12.branch1.2.bn.running_mean\n",
            "785 enc4.0.12.branch1.1.bn._mean ==== enc4.0.12.branch1.2.bn.running_var\n",
            "786 enc4.0.12.branch1.1.bn._variance ==== enc4.0.12.conv2d.weight\n",
            "787 enc4.0.12.branch1.2.conv.weight ==== enc4.0.12.conv2d.bias\n",
            "788 enc4.0.12.branch1.2.bn.weight ==== enc4.0.13.branch0.conv.weight\n",
            "789 enc4.0.12.branch1.2.bn.bias ==== enc4.0.13.branch0.bn.weight\n",
            "790 enc4.0.12.branch1.2.bn._mean ==== enc4.0.13.branch0.bn.bias\n",
            "791 enc4.0.12.branch1.2.bn._variance ==== enc4.0.13.branch0.bn.running_mean\n",
            "792 enc4.0.12.conv2d.weight ==== enc4.0.13.branch0.bn.running_var\n",
            "793 enc4.0.12.conv2d.bias ==== enc4.0.13.branch1.0.conv.weight\n",
            "794 enc4.0.13.branch0.conv.weight ==== enc4.0.13.branch1.0.bn.weight\n",
            "795 enc4.0.13.branch0.bn.weight ==== enc4.0.13.branch1.0.bn.bias\n",
            "796 enc4.0.13.branch0.bn.bias ==== enc4.0.13.branch1.0.bn.running_mean\n",
            "797 enc4.0.13.branch0.bn._mean ==== enc4.0.13.branch1.0.bn.running_var\n",
            "798 enc4.0.13.branch0.bn._variance ==== enc4.0.13.branch1.1.conv.weight\n",
            "799 enc4.0.13.branch1.0.conv.weight ==== enc4.0.13.branch1.1.bn.weight\n",
            "800 enc4.0.13.branch1.0.bn.weight ==== enc4.0.13.branch1.1.bn.bias\n",
            "801 enc4.0.13.branch1.0.bn.bias ==== enc4.0.13.branch1.1.bn.running_mean\n",
            "802 enc4.0.13.branch1.0.bn._mean ==== enc4.0.13.branch1.1.bn.running_var\n",
            "803 enc4.0.13.branch1.0.bn._variance ==== enc4.0.13.branch1.2.conv.weight\n",
            "804 enc4.0.13.branch1.1.conv.weight ==== enc4.0.13.branch1.2.bn.weight\n",
            "805 enc4.0.13.branch1.1.bn.weight ==== enc4.0.13.branch1.2.bn.bias\n",
            "806 enc4.0.13.branch1.1.bn.bias ==== enc4.0.13.branch1.2.bn.running_mean\n",
            "807 enc4.0.13.branch1.1.bn._mean ==== enc4.0.13.branch1.2.bn.running_var\n",
            "808 enc4.0.13.branch1.1.bn._variance ==== enc4.0.13.conv2d.weight\n",
            "809 enc4.0.13.branch1.2.conv.weight ==== enc4.0.13.conv2d.bias\n",
            "810 enc4.0.13.branch1.2.bn.weight ==== enc4.0.14.branch0.conv.weight\n",
            "811 enc4.0.13.branch1.2.bn.bias ==== enc4.0.14.branch0.bn.weight\n",
            "812 enc4.0.13.branch1.2.bn._mean ==== enc4.0.14.branch0.bn.bias\n",
            "813 enc4.0.13.branch1.2.bn._variance ==== enc4.0.14.branch0.bn.running_mean\n",
            "814 enc4.0.13.conv2d.weight ==== enc4.0.14.branch0.bn.running_var\n",
            "815 enc4.0.13.conv2d.bias ==== enc4.0.14.branch1.0.conv.weight\n",
            "816 enc4.0.14.branch0.conv.weight ==== enc4.0.14.branch1.0.bn.weight\n",
            "817 enc4.0.14.branch0.bn.weight ==== enc4.0.14.branch1.0.bn.bias\n",
            "818 enc4.0.14.branch0.bn.bias ==== enc4.0.14.branch1.0.bn.running_mean\n",
            "819 enc4.0.14.branch0.bn._mean ==== enc4.0.14.branch1.0.bn.running_var\n",
            "820 enc4.0.14.branch0.bn._variance ==== enc4.0.14.branch1.1.conv.weight\n",
            "821 enc4.0.14.branch1.0.conv.weight ==== enc4.0.14.branch1.1.bn.weight\n",
            "822 enc4.0.14.branch1.0.bn.weight ==== enc4.0.14.branch1.1.bn.bias\n",
            "823 enc4.0.14.branch1.0.bn.bias ==== enc4.0.14.branch1.1.bn.running_mean\n",
            "824 enc4.0.14.branch1.0.bn._mean ==== enc4.0.14.branch1.1.bn.running_var\n",
            "825 enc4.0.14.branch1.0.bn._variance ==== enc4.0.14.branch1.2.conv.weight\n",
            "826 enc4.0.14.branch1.1.conv.weight ==== enc4.0.14.branch1.2.bn.weight\n",
            "827 enc4.0.14.branch1.1.bn.weight ==== enc4.0.14.branch1.2.bn.bias\n",
            "828 enc4.0.14.branch1.1.bn.bias ==== enc4.0.14.branch1.2.bn.running_mean\n",
            "829 enc4.0.14.branch1.1.bn._mean ==== enc4.0.14.branch1.2.bn.running_var\n",
            "830 enc4.0.14.branch1.1.bn._variance ==== enc4.0.14.conv2d.weight\n",
            "831 enc4.0.14.branch1.2.conv.weight ==== enc4.0.14.conv2d.bias\n",
            "832 enc4.0.14.branch1.2.bn.weight ==== enc4.0.15.branch0.conv.weight\n",
            "833 enc4.0.14.branch1.2.bn.bias ==== enc4.0.15.branch0.bn.weight\n",
            "834 enc4.0.14.branch1.2.bn._mean ==== enc4.0.15.branch0.bn.bias\n",
            "835 enc4.0.14.branch1.2.bn._variance ==== enc4.0.15.branch0.bn.running_mean\n",
            "836 enc4.0.14.conv2d.weight ==== enc4.0.15.branch0.bn.running_var\n",
            "837 enc4.0.14.conv2d.bias ==== enc4.0.15.branch1.0.conv.weight\n",
            "838 enc4.0.15.branch0.conv.weight ==== enc4.0.15.branch1.0.bn.weight\n",
            "839 enc4.0.15.branch0.bn.weight ==== enc4.0.15.branch1.0.bn.bias\n",
            "840 enc4.0.15.branch0.bn.bias ==== enc4.0.15.branch1.0.bn.running_mean\n",
            "841 enc4.0.15.branch0.bn._mean ==== enc4.0.15.branch1.0.bn.running_var\n",
            "842 enc4.0.15.branch0.bn._variance ==== enc4.0.15.branch1.1.conv.weight\n",
            "843 enc4.0.15.branch1.0.conv.weight ==== enc4.0.15.branch1.1.bn.weight\n",
            "844 enc4.0.15.branch1.0.bn.weight ==== enc4.0.15.branch1.1.bn.bias\n",
            "845 enc4.0.15.branch1.0.bn.bias ==== enc4.0.15.branch1.1.bn.running_mean\n",
            "846 enc4.0.15.branch1.0.bn._mean ==== enc4.0.15.branch1.1.bn.running_var\n",
            "847 enc4.0.15.branch1.0.bn._variance ==== enc4.0.15.branch1.2.conv.weight\n",
            "848 enc4.0.15.branch1.1.conv.weight ==== enc4.0.15.branch1.2.bn.weight\n",
            "849 enc4.0.15.branch1.1.bn.weight ==== enc4.0.15.branch1.2.bn.bias\n",
            "850 enc4.0.15.branch1.1.bn.bias ==== enc4.0.15.branch1.2.bn.running_mean\n",
            "851 enc4.0.15.branch1.1.bn._mean ==== enc4.0.15.branch1.2.bn.running_var\n",
            "852 enc4.0.15.branch1.1.bn._variance ==== enc4.0.15.conv2d.weight\n",
            "853 enc4.0.15.branch1.2.conv.weight ==== enc4.0.15.conv2d.bias\n",
            "854 enc4.0.15.branch1.2.bn.weight ==== enc4.0.16.branch0.conv.weight\n",
            "855 enc4.0.15.branch1.2.bn.bias ==== enc4.0.16.branch0.bn.weight\n",
            "856 enc4.0.15.branch1.2.bn._mean ==== enc4.0.16.branch0.bn.bias\n",
            "857 enc4.0.15.branch1.2.bn._variance ==== enc4.0.16.branch0.bn.running_mean\n",
            "858 enc4.0.15.conv2d.weight ==== enc4.0.16.branch0.bn.running_var\n",
            "859 enc4.0.15.conv2d.bias ==== enc4.0.16.branch1.0.conv.weight\n",
            "860 enc4.0.16.branch0.conv.weight ==== enc4.0.16.branch1.0.bn.weight\n",
            "861 enc4.0.16.branch0.bn.weight ==== enc4.0.16.branch1.0.bn.bias\n",
            "862 enc4.0.16.branch0.bn.bias ==== enc4.0.16.branch1.0.bn.running_mean\n",
            "863 enc4.0.16.branch0.bn._mean ==== enc4.0.16.branch1.0.bn.running_var\n",
            "864 enc4.0.16.branch0.bn._variance ==== enc4.0.16.branch1.1.conv.weight\n",
            "865 enc4.0.16.branch1.0.conv.weight ==== enc4.0.16.branch1.1.bn.weight\n",
            "866 enc4.0.16.branch1.0.bn.weight ==== enc4.0.16.branch1.1.bn.bias\n",
            "867 enc4.0.16.branch1.0.bn.bias ==== enc4.0.16.branch1.1.bn.running_mean\n",
            "868 enc4.0.16.branch1.0.bn._mean ==== enc4.0.16.branch1.1.bn.running_var\n",
            "869 enc4.0.16.branch1.0.bn._variance ==== enc4.0.16.branch1.2.conv.weight\n",
            "870 enc4.0.16.branch1.1.conv.weight ==== enc4.0.16.branch1.2.bn.weight\n",
            "871 enc4.0.16.branch1.1.bn.weight ==== enc4.0.16.branch1.2.bn.bias\n",
            "872 enc4.0.16.branch1.1.bn.bias ==== enc4.0.16.branch1.2.bn.running_mean\n",
            "873 enc4.0.16.branch1.1.bn._mean ==== enc4.0.16.branch1.2.bn.running_var\n",
            "874 enc4.0.16.branch1.1.bn._variance ==== enc4.0.16.conv2d.weight\n",
            "875 enc4.0.16.branch1.2.conv.weight ==== enc4.0.16.conv2d.bias\n",
            "876 enc4.0.16.branch1.2.bn.weight ==== enc4.0.17.branch0.conv.weight\n",
            "877 enc4.0.16.branch1.2.bn.bias ==== enc4.0.17.branch0.bn.weight\n",
            "878 enc4.0.16.branch1.2.bn._mean ==== enc4.0.17.branch0.bn.bias\n",
            "879 enc4.0.16.branch1.2.bn._variance ==== enc4.0.17.branch0.bn.running_mean\n",
            "880 enc4.0.16.conv2d.weight ==== enc4.0.17.branch0.bn.running_var\n",
            "881 enc4.0.16.conv2d.bias ==== enc4.0.17.branch1.0.conv.weight\n",
            "882 enc4.0.17.branch0.conv.weight ==== enc4.0.17.branch1.0.bn.weight\n",
            "883 enc4.0.17.branch0.bn.weight ==== enc4.0.17.branch1.0.bn.bias\n",
            "884 enc4.0.17.branch0.bn.bias ==== enc4.0.17.branch1.0.bn.running_mean\n",
            "885 enc4.0.17.branch0.bn._mean ==== enc4.0.17.branch1.0.bn.running_var\n",
            "886 enc4.0.17.branch0.bn._variance ==== enc4.0.17.branch1.1.conv.weight\n",
            "887 enc4.0.17.branch1.0.conv.weight ==== enc4.0.17.branch1.1.bn.weight\n",
            "888 enc4.0.17.branch1.0.bn.weight ==== enc4.0.17.branch1.1.bn.bias\n",
            "889 enc4.0.17.branch1.0.bn.bias ==== enc4.0.17.branch1.1.bn.running_mean\n",
            "890 enc4.0.17.branch1.0.bn._mean ==== enc4.0.17.branch1.1.bn.running_var\n",
            "891 enc4.0.17.branch1.0.bn._variance ==== enc4.0.17.branch1.2.conv.weight\n",
            "892 enc4.0.17.branch1.1.conv.weight ==== enc4.0.17.branch1.2.bn.weight\n",
            "893 enc4.0.17.branch1.1.bn.weight ==== enc4.0.17.branch1.2.bn.bias\n",
            "894 enc4.0.17.branch1.1.bn.bias ==== enc4.0.17.branch1.2.bn.running_mean\n",
            "895 enc4.0.17.branch1.1.bn._mean ==== enc4.0.17.branch1.2.bn.running_var\n",
            "896 enc4.0.17.branch1.1.bn._variance ==== enc4.0.17.conv2d.weight\n",
            "897 enc4.0.17.branch1.2.conv.weight ==== enc4.0.17.conv2d.bias\n",
            "898 enc4.0.17.branch1.2.bn.weight ==== enc4.0.18.branch0.conv.weight\n",
            "899 enc4.0.17.branch1.2.bn.bias ==== enc4.0.18.branch0.bn.weight\n",
            "900 enc4.0.17.branch1.2.bn._mean ==== enc4.0.18.branch0.bn.bias\n",
            "901 enc4.0.17.branch1.2.bn._variance ==== enc4.0.18.branch0.bn.running_mean\n",
            "902 enc4.0.17.conv2d.weight ==== enc4.0.18.branch0.bn.running_var\n",
            "903 enc4.0.17.conv2d.bias ==== enc4.0.18.branch1.0.conv.weight\n",
            "904 enc4.0.18.branch0.conv.weight ==== enc4.0.18.branch1.0.bn.weight\n",
            "905 enc4.0.18.branch0.bn.weight ==== enc4.0.18.branch1.0.bn.bias\n",
            "906 enc4.0.18.branch0.bn.bias ==== enc4.0.18.branch1.0.bn.running_mean\n",
            "907 enc4.0.18.branch0.bn._mean ==== enc4.0.18.branch1.0.bn.running_var\n",
            "908 enc4.0.18.branch0.bn._variance ==== enc4.0.18.branch1.1.conv.weight\n",
            "909 enc4.0.18.branch1.0.conv.weight ==== enc4.0.18.branch1.1.bn.weight\n",
            "910 enc4.0.18.branch1.0.bn.weight ==== enc4.0.18.branch1.1.bn.bias\n",
            "911 enc4.0.18.branch1.0.bn.bias ==== enc4.0.18.branch1.1.bn.running_mean\n",
            "912 enc4.0.18.branch1.0.bn._mean ==== enc4.0.18.branch1.1.bn.running_var\n",
            "913 enc4.0.18.branch1.0.bn._variance ==== enc4.0.18.branch1.2.conv.weight\n",
            "914 enc4.0.18.branch1.1.conv.weight ==== enc4.0.18.branch1.2.bn.weight\n",
            "915 enc4.0.18.branch1.1.bn.weight ==== enc4.0.18.branch1.2.bn.bias\n",
            "916 enc4.0.18.branch1.1.bn.bias ==== enc4.0.18.branch1.2.bn.running_mean\n",
            "917 enc4.0.18.branch1.1.bn._mean ==== enc4.0.18.branch1.2.bn.running_var\n",
            "918 enc4.0.18.branch1.1.bn._variance ==== enc4.0.18.conv2d.weight\n",
            "919 enc4.0.18.branch1.2.conv.weight ==== enc4.0.18.conv2d.bias\n",
            "920 enc4.0.18.branch1.2.bn.weight ==== enc4.0.19.branch0.conv.weight\n",
            "921 enc4.0.18.branch1.2.bn.bias ==== enc4.0.19.branch0.bn.weight\n",
            "922 enc4.0.18.branch1.2.bn._mean ==== enc4.0.19.branch0.bn.bias\n",
            "923 enc4.0.18.branch1.2.bn._variance ==== enc4.0.19.branch0.bn.running_mean\n",
            "924 enc4.0.18.conv2d.weight ==== enc4.0.19.branch0.bn.running_var\n",
            "925 enc4.0.18.conv2d.bias ==== enc4.0.19.branch1.0.conv.weight\n",
            "926 enc4.0.19.branch0.conv.weight ==== enc4.0.19.branch1.0.bn.weight\n",
            "927 enc4.0.19.branch0.bn.weight ==== enc4.0.19.branch1.0.bn.bias\n",
            "928 enc4.0.19.branch0.bn.bias ==== enc4.0.19.branch1.0.bn.running_mean\n",
            "929 enc4.0.19.branch0.bn._mean ==== enc4.0.19.branch1.0.bn.running_var\n",
            "930 enc4.0.19.branch0.bn._variance ==== enc4.0.19.branch1.1.conv.weight\n",
            "931 enc4.0.19.branch1.0.conv.weight ==== enc4.0.19.branch1.1.bn.weight\n",
            "932 enc4.0.19.branch1.0.bn.weight ==== enc4.0.19.branch1.1.bn.bias\n",
            "933 enc4.0.19.branch1.0.bn.bias ==== enc4.0.19.branch1.1.bn.running_mean\n",
            "934 enc4.0.19.branch1.0.bn._mean ==== enc4.0.19.branch1.1.bn.running_var\n",
            "935 enc4.0.19.branch1.0.bn._variance ==== enc4.0.19.branch1.2.conv.weight\n",
            "936 enc4.0.19.branch1.1.conv.weight ==== enc4.0.19.branch1.2.bn.weight\n",
            "937 enc4.0.19.branch1.1.bn.weight ==== enc4.0.19.branch1.2.bn.bias\n",
            "938 enc4.0.19.branch1.1.bn.bias ==== enc4.0.19.branch1.2.bn.running_mean\n",
            "939 enc4.0.19.branch1.1.bn._mean ==== enc4.0.19.branch1.2.bn.running_var\n",
            "940 enc4.0.19.branch1.1.bn._variance ==== enc4.0.19.conv2d.weight\n",
            "941 enc4.0.19.branch1.2.conv.weight ==== enc4.0.19.conv2d.bias\n",
            "942 enc4.0.19.branch1.2.bn.weight ==== enc4.1.branch0.0.conv.weight\n",
            "943 enc4.0.19.branch1.2.bn.bias ==== enc4.1.branch0.0.bn.weight\n",
            "944 enc4.0.19.branch1.2.bn._mean ==== enc4.1.branch0.0.bn.bias\n",
            "945 enc4.0.19.branch1.2.bn._variance ==== enc4.1.branch0.0.bn.running_mean\n",
            "946 enc4.0.19.conv2d.weight ==== enc4.1.branch0.0.bn.running_var\n",
            "947 enc4.0.19.conv2d.bias ==== enc4.1.branch0.1.conv.weight\n",
            "948 enc4.1.branch0.0.conv.weight ==== enc4.1.branch0.1.bn.weight\n",
            "949 enc4.1.branch0.0.bn.weight ==== enc4.1.branch0.1.bn.bias\n",
            "950 enc4.1.branch0.0.bn.bias ==== enc4.1.branch0.1.bn.running_mean\n",
            "951 enc4.1.branch0.0.bn._mean ==== enc4.1.branch0.1.bn.running_var\n",
            "952 enc4.1.branch0.0.bn._variance ==== enc4.1.branch1.0.conv.weight\n",
            "953 enc4.1.branch0.1.conv.weight ==== enc4.1.branch1.0.bn.weight\n",
            "954 enc4.1.branch0.1.bn.weight ==== enc4.1.branch1.0.bn.bias\n",
            "955 enc4.1.branch0.1.bn.bias ==== enc4.1.branch1.0.bn.running_mean\n",
            "956 enc4.1.branch0.1.bn._mean ==== enc4.1.branch1.0.bn.running_var\n",
            "957 enc4.1.branch0.1.bn._variance ==== enc4.1.branch1.1.conv.weight\n",
            "958 enc4.1.branch1.0.conv.weight ==== enc4.1.branch1.1.bn.weight\n",
            "959 enc4.1.branch1.0.bn.weight ==== enc4.1.branch1.1.bn.bias\n",
            "960 enc4.1.branch1.0.bn.bias ==== enc4.1.branch1.1.bn.running_mean\n",
            "961 enc4.1.branch1.0.bn._mean ==== enc4.1.branch1.1.bn.running_var\n",
            "962 enc4.1.branch1.0.bn._variance ==== enc4.1.branch2.0.conv.weight\n",
            "963 enc4.1.branch1.1.conv.weight ==== enc4.1.branch2.0.bn.weight\n",
            "964 enc4.1.branch1.1.bn.weight ==== enc4.1.branch2.0.bn.bias\n",
            "965 enc4.1.branch1.1.bn.bias ==== enc4.1.branch2.0.bn.running_mean\n",
            "966 enc4.1.branch1.1.bn._mean ==== enc4.1.branch2.0.bn.running_var\n",
            "967 enc4.1.branch1.1.bn._variance ==== enc4.1.branch2.1.conv.weight\n",
            "968 enc4.1.branch2.0.conv.weight ==== enc4.1.branch2.1.bn.weight\n",
            "969 enc4.1.branch2.0.bn.weight ==== enc4.1.branch2.1.bn.bias\n",
            "970 enc4.1.branch2.0.bn.bias ==== enc4.1.branch2.1.bn.running_mean\n",
            "971 enc4.1.branch2.0.bn._mean ==== enc4.1.branch2.1.bn.running_var\n",
            "972 enc4.1.branch2.0.bn._variance ==== enc4.1.branch2.2.conv.weight\n",
            "973 enc4.1.branch2.1.conv.weight ==== enc4.1.branch2.2.bn.weight\n",
            "974 enc4.1.branch2.1.bn.weight ==== enc4.1.branch2.2.bn.bias\n",
            "975 enc4.1.branch2.1.bn.bias ==== enc4.1.branch2.2.bn.running_mean\n",
            "976 enc4.1.branch2.1.bn._mean ==== enc4.1.branch2.2.bn.running_var\n",
            "977 enc4.1.branch2.1.bn._variance ==== td1.0.weight\n",
            "978 enc4.1.branch2.2.conv.weight ==== td1.0.bias\n",
            "979 enc4.1.branch2.2.bn.weight ==== td1.1.running_mean\n",
            "980 enc4.1.branch2.2.bn.bias ==== td1.1.running_var\n",
            "981 enc4.1.branch2.2.bn._mean ==== td2.0.weight\n",
            "982 enc4.1.branch2.2.bn._variance ==== td2.0.bias\n",
            "983 td1.0.weight ==== td2.1.running_mean\n",
            "984 td1.0.bias ==== td2.1.running_var\n",
            "985 td2.0.weight ==== td3.0.weight\n",
            "986 td2.0.bias ==== td3.0.bias\n",
            "987 td3.0.weight ==== td3.1.running_mean\n",
            "988 td3.0.bias ==== td3.1.running_var\n",
            "989 lateral4.weight ==== lateral4.weight\n",
            "990 lateral3.weight ==== lateral3.weight\n",
            "991 lateral2.weight ==== lateral2.weight\n",
            "992 lateral1.weight ==== lateral1.weight\n",
            "993 lateral0.weight ==== lateral0.weight\n"
          ],
          "name": "stdout"
        }
      ]
    },
    {
      "cell_type": "code",
      "metadata": {
        "colab": {
          "base_uri": "https://localhost:8080/"
        },
        "id": "dO3rLKOMRlpT",
        "outputId": "194b948b-2b51-418e-d663-e8acf45ce551"
      },
      "source": [
        "[x for x in model_t.state_dict().keys() if not x.endswith('num_batches_tracked')][-17:]"
      ],
      "execution_count": 20,
      "outputs": [
        {
          "output_type": "execute_result",
          "data": {
            "text/plain": [
              "['td1.0.weight',\n",
              " 'td1.0.bias',\n",
              " 'td1.1.running_mean',\n",
              " 'td1.1.running_var',\n",
              " 'td2.0.weight',\n",
              " 'td2.0.bias',\n",
              " 'td2.1.running_mean',\n",
              " 'td2.1.running_var',\n",
              " 'td3.0.weight',\n",
              " 'td3.0.bias',\n",
              " 'td3.1.running_mean',\n",
              " 'td3.1.running_var',\n",
              " 'lateral4.weight',\n",
              " 'lateral3.weight',\n",
              " 'lateral2.weight',\n",
              " 'lateral1.weight',\n",
              " 'lateral0.weight']"
            ]
          },
          "metadata": {
            "tags": []
          },
          "execution_count": 20
        }
      ]
    },
    {
      "cell_type": "code",
      "metadata": {
        "colab": {
          "base_uri": "https://localhost:8080/"
        },
        "id": "qmvMW4ZOUnls",
        "outputId": "7d7f7138-2c3e-47fb-db3f-855326a126a8"
      },
      "source": [
        "list(model_p.state_dict().keys())[-11:]"
      ],
      "execution_count": 21,
      "outputs": [
        {
          "output_type": "execute_result",
          "data": {
            "text/plain": [
              "['td1.0.weight',\n",
              " 'td1.0.bias',\n",
              " 'td2.0.weight',\n",
              " 'td2.0.bias',\n",
              " 'td3.0.weight',\n",
              " 'td3.0.bias',\n",
              " 'lateral4.weight',\n",
              " 'lateral3.weight',\n",
              " 'lateral2.weight',\n",
              " 'lateral1.weight',\n",
              " 'lateral0.weight']"
            ]
          },
          "metadata": {
            "tags": []
          },
          "execution_count": 21
        }
      ]
    },
    {
      "cell_type": "code",
      "metadata": {
        "id": "YKN9h9YfU88C"
      },
      "source": [
        "import torch"
      ],
      "execution_count": 22,
      "outputs": []
    },
    {
      "cell_type": "code",
      "metadata": {
        "colab": {
          "base_uri": "https://localhost:8080/"
        },
        "id": "KsFYmhvdVJ5g",
        "outputId": "7dfb4028-a8e6-4298-cf58-041c7e480557"
      },
      "source": [
        "fpn_inception = torch.load('/content/model/fpn_inception.h5', map_location=torch.device('cpu'))\n",
        "len(fpn_inception['model'].keys())"
      ],
      "execution_count": 40,
      "outputs": [
        {
          "output_type": "execute_result",
          "data": {
            "text/plain": [
              "2384"
            ]
          },
          "metadata": {
            "tags": []
          },
          "execution_count": 40
        }
      ]
    },
    {
      "cell_type": "code",
      "metadata": {
        "id": "YSQYvZsGVQui"
      },
      "source": [
        "layer_test = torch.nn.InstanceNorm2d(num_features=100, affine=False, track_running_stats=True)"
      ],
      "execution_count": 41,
      "outputs": []
    },
    {
      "cell_type": "code",
      "metadata": {
        "id": "rvn5t5_NVThd"
      },
      "source": [
        "layer_out = layer_test(torch.rand((1,100, 64, 64)))"
      ],
      "execution_count": 44,
      "outputs": []
    },
    {
      "cell_type": "code",
      "metadata": {
        "colab": {
          "base_uri": "https://localhost:8080/"
        },
        "id": "FyYCbOA0YtSo",
        "outputId": "b6205621-2903-4a43-a58a-1a6193ad1921"
      },
      "source": [
        "layer_test.state_dict().keys()"
      ],
      "execution_count": 46,
      "outputs": [
        {
          "output_type": "execute_result",
          "data": {
            "text/plain": [
              "odict_keys(['running_mean', 'running_var', 'num_batches_tracked'])"
            ]
          },
          "metadata": {
            "tags": []
          },
          "execution_count": 46
        }
      ]
    },
    {
      "cell_type": "code",
      "metadata": {
        "id": "HdFTFYuDY2Z3"
      },
      "source": [
        "import paddle\n",
        "import functools\n",
        "def get_norm_layer(norm_type='instance'):\n",
        "    if norm_type == 'batch':\n",
        "        norm_layer = functools.partial(paddle.nn.BatchNorm2D)\n",
        "    elif norm_type == 'instance':\n",
        "        norm_layer = functools.partial(paddle.nn.InstanceNorm2D, weight_attr=paddle.ParamAttr(trainable=False), bias_attr=paddle.ParamAttr(trainable=False))\n",
        "    else:\n",
        "        raise NotImplementedError('normalization layer [%s] is not found' % norm_type)\n",
        "    return norm_layer"
      ],
      "execution_count": 85,
      "outputs": []
    },
    {
      "cell_type": "code",
      "metadata": {
        "id": "zgpwUV4SZl7L"
      },
      "source": [
        "norm_layer_p = get_norm_layer(norm_type='instance')\n",
        "layer_p = norm_layer_p(num_features=100)"
      ],
      "execution_count": 81,
      "outputs": []
    },
    {
      "cell_type": "code",
      "metadata": {
        "id": "eewBqhHBaJwG"
      },
      "source": [
        "layer_p_out = layer_p(paddle.rand(shape=(1,100,64,64)))"
      ],
      "execution_count": 82,
      "outputs": []
    },
    {
      "cell_type": "code",
      "metadata": {
        "colab": {
          "base_uri": "https://localhost:8080/"
        },
        "id": "N-LVhfcvamx8",
        "outputId": "758ad05b-32f5-4382-9f1c-ac0098e0d630"
      },
      "source": [
        "layer_p.state_dict().keys()"
      ],
      "execution_count": 83,
      "outputs": [
        {
          "output_type": "execute_result",
          "data": {
            "text/plain": [
              "odict_keys(['scale', 'bias'])"
            ]
          },
          "metadata": {
            "tags": []
          },
          "execution_count": 83
        }
      ]
    },
    {
      "cell_type": "code",
      "metadata": {
        "colab": {
          "base_uri": "https://localhost:8080/"
        },
        "id": "jRqTHwSBrfAS",
        "outputId": "6a161ee6-f712-428e-d9f2-e714cd83f8f1"
      },
      "source": [
        "layer_p.state_dict()['scale']"
      ],
      "execution_count": 84,
      "outputs": [
        {
          "output_type": "execute_result",
          "data": {
            "text/plain": [
              "Parameter containing:\n",
              "Tensor(shape=[100], dtype=float32, place=CPUPlace, stop_gradient=False,\n",
              "       [1., 1., 1., 1., 1., 1., 1., 1., 1., 1., 1., 1., 1., 1., 1., 1., 1., 1., 1., 1., 1., 1., 1., 1., 1., 1., 1., 1., 1., 1., 1., 1., 1., 1., 1., 1., 1., 1., 1., 1., 1., 1., 1., 1., 1., 1., 1., 1., 1., 1., 1., 1., 1., 1., 1., 1., 1., 1., 1., 1., 1., 1., 1., 1., 1., 1., 1., 1., 1., 1., 1., 1., 1., 1., 1., 1., 1., 1., 1., 1., 1., 1., 1., 1., 1., 1., 1., 1., 1., 1., 1., 1., 1., 1., 1., 1., 1., 1., 1., 1.])"
            ]
          },
          "metadata": {
            "tags": []
          },
          "execution_count": 84
        }
      ]
    },
    {
      "cell_type": "code",
      "metadata": {
        "colab": {
          "base_uri": "https://localhost:8080/"
        },
        "id": "ni2enX6caopO",
        "outputId": "6abf8582-395e-457f-877e-e39498297e9c"
      },
      "source": [
        "list(fpn_inception['model'].keys())[-50:]"
      ],
      "execution_count": 71,
      "outputs": [
        {
          "output_type": "execute_result",
          "data": {
            "text/plain": [
              "['module.fpn.enc4.1.branch2.1.bn.bias',\n",
              " 'module.fpn.enc4.1.branch2.1.bn.running_mean',\n",
              " 'module.fpn.enc4.1.branch2.1.bn.running_var',\n",
              " 'module.fpn.enc4.1.branch2.1.bn.num_batches_tracked',\n",
              " 'module.fpn.enc4.1.branch2.2.conv.weight',\n",
              " 'module.fpn.enc4.1.branch2.2.bn.weight',\n",
              " 'module.fpn.enc4.1.branch2.2.bn.bias',\n",
              " 'module.fpn.enc4.1.branch2.2.bn.running_mean',\n",
              " 'module.fpn.enc4.1.branch2.2.bn.running_var',\n",
              " 'module.fpn.enc4.1.branch2.2.bn.num_batches_tracked',\n",
              " 'module.fpn.td1.0.weight',\n",
              " 'module.fpn.td1.0.bias',\n",
              " 'module.fpn.td1.1.running_mean',\n",
              " 'module.fpn.td1.1.running_var',\n",
              " 'module.fpn.td1.1.num_batches_tracked',\n",
              " 'module.fpn.td2.0.weight',\n",
              " 'module.fpn.td2.0.bias',\n",
              " 'module.fpn.td2.1.running_mean',\n",
              " 'module.fpn.td2.1.running_var',\n",
              " 'module.fpn.td2.1.num_batches_tracked',\n",
              " 'module.fpn.td3.0.weight',\n",
              " 'module.fpn.td3.0.bias',\n",
              " 'module.fpn.td3.1.running_mean',\n",
              " 'module.fpn.td3.1.running_var',\n",
              " 'module.fpn.td3.1.num_batches_tracked',\n",
              " 'module.fpn.lateral4.weight',\n",
              " 'module.fpn.lateral3.weight',\n",
              " 'module.fpn.lateral2.weight',\n",
              " 'module.fpn.lateral1.weight',\n",
              " 'module.fpn.lateral0.weight',\n",
              " 'module.head1.block0.weight',\n",
              " 'module.head1.block1.weight',\n",
              " 'module.head2.block0.weight',\n",
              " 'module.head2.block1.weight',\n",
              " 'module.head3.block0.weight',\n",
              " 'module.head3.block1.weight',\n",
              " 'module.head4.block0.weight',\n",
              " 'module.head4.block1.weight',\n",
              " 'module.smooth.0.weight',\n",
              " 'module.smooth.0.bias',\n",
              " 'module.smooth.1.running_mean',\n",
              " 'module.smooth.1.running_var',\n",
              " 'module.smooth.1.num_batches_tracked',\n",
              " 'module.smooth2.0.weight',\n",
              " 'module.smooth2.0.bias',\n",
              " 'module.smooth2.1.running_mean',\n",
              " 'module.smooth2.1.running_var',\n",
              " 'module.smooth2.1.num_batches_tracked',\n",
              " 'module.final.weight',\n",
              " 'module.final.bias']"
            ]
          },
          "metadata": {
            "tags": []
          },
          "execution_count": 71
        }
      ]
    },
    {
      "cell_type": "code",
      "metadata": {
        "colab": {
          "base_uri": "https://localhost:8080/"
        },
        "id": "kuCkM88xr-Jx",
        "outputId": "a3c4ceee-702f-450f-c6b3-464819c5bfac"
      },
      "source": [
        "fpn_inception['model']['module.fpn.td1.1.running_mean']"
      ],
      "execution_count": 72,
      "outputs": [
        {
          "output_type": "execute_result",
          "data": {
            "text/plain": [
              "tensor([ 212.7692,  -68.1490,  -60.7377,  -65.7689,  -70.4767, -251.4737,\n",
              "           3.1155,  273.9222,   29.9879,  -24.7812,  204.8107,   91.3336,\n",
              "         185.9740, -307.4042,  -68.1102,  -24.7952,  156.0201,   59.2417,\n",
              "         -51.6598,  -22.6001,   -0.9784,   35.4206,   55.6639,  160.3168,\n",
              "          96.7116,  148.0283,  130.7430,   10.3951,  -74.8521,   60.4304,\n",
              "        -141.5410, -205.8552,  313.3047,   60.4536, -274.1172, -169.8297,\n",
              "         -49.4560,  220.3649, -332.8842,   44.8910,   29.4535,   23.0892,\n",
              "         -11.0239,   18.6415,   -2.3297,   62.3678,  -34.0494,   33.0166,\n",
              "          44.1105,  225.4011,   12.4063, -191.6653,   75.1009, -128.5061,\n",
              "        -170.4174,   -7.4304,  265.0609,   16.6714, -251.7509,  112.1579,\n",
              "         -57.4047, -196.8652,   53.9888, -198.9196,  -96.9022,   22.3713,\n",
              "        -122.5747, -549.9575,   99.3022, -312.2927, -128.1343,  132.6674,\n",
              "          14.8627, -364.9331,    9.0475,   36.0429,  136.3789, -166.3029,\n",
              "         -63.6754,   -9.5659,   85.9859, -383.3632,  143.0305,  184.0765,\n",
              "         -30.3230,  148.4910,  147.5978,  103.2250,   35.3143, -184.8919,\n",
              "         -37.9368,  191.0924,  252.6057, -234.1332,   79.3445,   44.0251,\n",
              "         -77.6855,  -68.4816,  113.8853,  324.7262,   94.1821,  254.6630,\n",
              "        -186.5868,   74.9372,   39.1597, -256.6863,    3.1173,  151.1603,\n",
              "          87.1936,  -88.8221,  -74.6022, -305.8785,   57.5677, -261.8964,\n",
              "          44.9635,  139.2500, -224.9464,   96.4051,   25.7267,   37.2556,\n",
              "        -270.3918,  181.0873,   66.2494, -325.3977, -151.4257, -108.4768,\n",
              "         152.7281, -364.3093,  129.9415,   -5.4635,   96.6749,  253.9211,\n",
              "        -327.5824,  103.6117,   82.4878,  247.1788,   17.9691,   42.8400,\n",
              "          96.8964,  -55.3668,   74.2178, -160.0931,  160.8608, -204.9468,\n",
              "         133.0955, -307.7430,  -64.1421,  261.7666, -313.7265,  179.1364,\n",
              "          68.5272,  144.8548, -357.5612,   51.0689,  141.9176,  -91.2136,\n",
              "          52.7810,  -52.5491,   39.5205, -210.4397,  -38.9301, -269.3486,\n",
              "        -118.4372,   91.0940, -181.0889,  170.3877, -245.1281, -238.7213,\n",
              "           3.4109, -199.8755, -200.0054,    8.7092,   80.1022,  132.7732,\n",
              "        -124.8160, -235.3456,  249.6222,  162.9025,  183.2335, -110.2788,\n",
              "          45.9302, -243.7764,  -17.3521, -115.9389,   82.3490,   34.8856,\n",
              "         232.2295,   17.8617,  120.1991, -218.4346, -149.5397,  152.0962,\n",
              "         291.4101,   31.8879, -257.4519,   28.9298, -510.8925,  168.1851,\n",
              "         112.0791,   93.1930, -247.7788,   43.0575,   26.6897,  -96.2038,\n",
              "          40.5794,  -96.8705,   -2.8508, -125.0979,  -98.2041,  135.2838,\n",
              "         -46.3872,  212.7064,  145.4663,   63.6355, -326.2887, -188.0191,\n",
              "          98.4639,  194.4454,  165.3962,   19.5586,  -80.8824,   76.9212,\n",
              "          94.6542, -189.2390, -150.3126, -142.2920,   16.9131,  131.9827,\n",
              "         -24.8679,  -56.5311,   58.6247, -181.6832,  156.6931, -188.9293,\n",
              "        -115.1812,  -79.1089,  100.7344,  -21.4665,   82.8255,  140.8501,\n",
              "         127.4302,   28.5416,   72.7471,  -19.5452,  141.4372,  -94.9619,\n",
              "         163.7135, -186.8226, -199.5290,  -32.9024,  169.1224, -181.6353,\n",
              "          81.2381, -146.7271, -149.5604,   52.2870])"
            ]
          },
          "metadata": {
            "tags": []
          },
          "execution_count": 72
        }
      ]
    },
    {
      "cell_type": "markdown",
      "metadata": {
        "id": "aVSioHDYeWTf"
      },
      "source": [
        "对比 InstanceNorm2d"
      ]
    },
    {
      "cell_type": "code",
      "metadata": {
        "colab": {
          "base_uri": "https://localhost:8080/"
        },
        "id": "r6YQ0n4pa9w1",
        "outputId": "9103a3d8-efa4-4121-b105-56e66386d9c2"
      },
      "source": [
        "# paddle example\n",
        "import paddle\n",
        "import numpy as np\n",
        "\n",
        "np.random.seed(123)\n",
        "x_data = np.random.random(size=(2, 2, 2, 3)).astype('float32')\n",
        "x = paddle.to_tensor(x_data)\n",
        "instance_norm = paddle.nn.InstanceNorm2D(2)\n",
        "instance_norm_out = instance_norm(x)\n",
        "\n",
        "print(instance_norm_out)\n",
        "print(instance_norm.state_dict()['bias'])"
      ],
      "execution_count": 90,
      "outputs": [
        {
          "output_type": "stream",
          "text": [
            "Tensor(shape=[2, 2, 2, 3], dtype=float32, place=CPUPlace, stop_gradient=False,\n",
            "       [[[[ 1.12517858, -1.04670870, -1.36052132],\n",
            "          [ 0.35687223,  1.24691701, -0.32173795]],\n",
            "\n",
            "         [[ 1.71713412,  0.37617615, -0.54773909],\n",
            "          [-0.95018065, -1.17193866,  0.57654858]]],\n",
            "\n",
            "\n",
            "        [[[ 0.47514182, -1.21473753,  0.29438582],\n",
            "          [ 1.81057727, -0.66698438, -0.69838291]],\n",
            "\n",
            "         [[-1.03305471, -1.03058565, -0.11365463],\n",
            "          [ 1.80856359,  0.69136512, -0.32263216]]]])\n",
            "Parameter containing:\n",
            "Tensor(shape=[2], dtype=float32, place=CPUPlace, stop_gradient=False,\n",
            "       [0., 0.])\n"
          ],
          "name": "stdout"
        }
      ]
    },
    {
      "cell_type": "code",
      "metadata": {
        "colab": {
          "base_uri": "https://localhost:8080/"
        },
        "id": "6zG7uwuv3i0x",
        "outputId": "23380990-ef80-4e57-bd4e-035c5abdbf31"
      },
      "source": [
        "import paddle\n",
        "import numpy as np\n",
        "\n",
        "x = np.random.seed(123)\n",
        "x = np.random.random(size=(2, 1, 2, 3)).astype('float32')\n",
        "running_mean = np.random.random(size=1).astype('float32')\n",
        "running_variance = np.random.random(size=1).astype('float32')\n",
        "weight_data = np.random.random(size=1).astype('float32')\n",
        "bias_data = np.random.random(size=1).astype('float32')\n",
        "x = paddle.to_tensor(x)\n",
        "rm = paddle.to_tensor(running_mean)\n",
        "rv = paddle.to_tensor(running_variance)\n",
        "w = paddle.to_tensor(weight_data)\n",
        "b = paddle.to_tensor(bias_data)\n",
        "print(f\"running_mean {running_mean}\")\n",
        "\n",
        "instance_norm_out = paddle.nn.functional.instance_norm(x, rm, rv, w, b)\n",
        "print(instance_norm_out)\n",
        "\n",
        "print(f\"running_mean {running_mean}\")"
      ],
      "execution_count": 94,
      "outputs": [
        {
          "output_type": "stream",
          "text": [
            "running_mean [0.43857226]\n",
            "Tensor(shape=[2, 1, 2, 3], dtype=float32, place=CPUPlace, stop_gradient=True,\n",
            "       [[[[1.18586624, 0.32135901, 0.19644767],\n",
            "          [0.88004631, 1.23432350, 0.60992944]]],\n",
            "\n",
            "\n",
            "        [[[1.42149079, 0.88773012, 0.51997101],\n",
            "          [0.35978144, 0.27151194, 0.96748722]]]])\n",
            "running_mean [0.43857226]\n"
          ],
          "name": "stdout"
        }
      ]
    },
    {
      "cell_type": "code",
      "metadata": {
        "colab": {
          "base_uri": "https://localhost:8080/"
        },
        "id": "XSN2FtFPGM0V",
        "outputId": "c3aa2535-4b60-4d35-a3d3-4addcb71732e"
      },
      "source": [
        "[x for x in dir(paddle.nn.Layer) if 'load' in x]"
      ],
      "execution_count": 97,
      "outputs": [
        {
          "output_type": "execute_result",
          "data": {
            "text/plain": [
              "['load_dict']"
            ]
          },
          "metadata": {
            "tags": []
          },
          "execution_count": 97
        }
      ]
    },
    {
      "cell_type": "code",
      "metadata": {
        "id": "k989_AmCbZHR"
      },
      "source": [
        "import paddle.nn as nn\n",
        "def build_norm_layer(norm_type='instance'):\n",
        "    \"\"\"Return a normalization layer\n",
        "    Args:\n",
        "        norm_type (str) -- the name of the normalization layer: batch | instance | none\n",
        "    For BatchNorm, we use learnable affine parameters and track running statistics (mean/stddev).\n",
        "    For InstanceNorm, we do not use learnable affine parameters. We do not track running statistics.\n",
        "    \"\"\"\n",
        "    if norm_type == 'batch':\n",
        "        norm_layer = functools.partial(\n",
        "            nn.BatchNorm,\n",
        "            param_attr=paddle.ParamAttr(\n",
        "                initializer=nn.initializer.Normal(1.0, 0.02)),\n",
        "            bias_attr=paddle.ParamAttr(\n",
        "                initializer=nn.initializer.Constant(0.0)),\n",
        "            trainable_statistics=True)\n",
        "    elif norm_type == 'instance':\n",
        "        norm_layer = functools.partial(\n",
        "            nn.InstanceNorm2D,\n",
        "            weight_attr=paddle.ParamAttr(\n",
        "                initializer=nn.initializer.Constant(1.0),\n",
        "                learning_rate=0.0,\n",
        "                trainable=False),\n",
        "            bias_attr=paddle.ParamAttr(initializer=nn.initializer.Constant(0.0),\n",
        "                                       learning_rate=0.0,\n",
        "                                       trainable=False))\n",
        "    elif norm_type == 'spectral':\n",
        "        norm_layer = functools.partial(Spectralnorm)\n",
        "    elif norm_type == 'none':\n",
        "\n",
        "        def norm_layer(x):\n",
        "            return Identity()\n",
        "    else:\n",
        "        raise NotImplementedError('normalization layer [%s] is not found' %\n",
        "                                  norm_type)\n",
        "    return norm_layer"
      ],
      "execution_count": 4,
      "outputs": []
    },
    {
      "cell_type": "code",
      "metadata": {
        "id": "uWgCz_b9OIjX"
      },
      "source": [
        "weight_attr=paddle.ParamAttr(\n",
        "                initializer=nn.initializer.Constant(1.0),\n",
        "                learning_rate=0.1,\n",
        "                trainable=True)"
      ],
      "execution_count": 112,
      "outputs": []
    },
    {
      "cell_type": "code",
      "metadata": {
        "id": "OkfVBT0nOqJQ"
      },
      "source": [
        "param_shape = [10]\n",
        "weight = paddle.create_parameter(\n",
        "                attr=None,\n",
        "                shape=param_shape,\n",
        "                dtype='float32'\n",
        "            )"
      ],
      "execution_count": 115,
      "outputs": []
    },
    {
      "cell_type": "code",
      "metadata": {
        "colab": {
          "base_uri": "https://localhost:8080/"
        },
        "id": "-ktC958rS7dh",
        "outputId": "524815fc-6e80-424e-bc3d-2fe2f32af044"
      },
      "source": [
        "import numpy as np\n",
        "import paddle\n",
        "\n",
        "linear = paddle.nn.Linear(10, 3)\n",
        "value = np.array([0]).astype(\"float32\")\n",
        "buffer = paddle.to_tensor(value)\n",
        "linear.register_buffer(\"buf_name\", buffer, persistable=True)\n",
        "\n",
        "print(list(linear.named_buffers()))     # == print([linear.buf_name])"
      ],
      "execution_count": 124,
      "outputs": [
        {
          "output_type": "stream",
          "text": [
            "[('buf_name', Tensor(shape=[1], dtype=float32, place=CPUPlace, stop_gradient=True,\n",
            "       [0.]))]\n"
          ],
          "name": "stdout"
        }
      ]
    },
    {
      "cell_type": "code",
      "metadata": {
        "id": "Uqvo2J7EU0d7"
      },
      "source": [
        "class TestLayer(paddle.nn.Layer):\n",
        "  def __init__(self):\n",
        "    super(TestLayer, self).__init__()\n",
        "  \n",
        "  def forward(self, x):\n",
        "    return x_data"
      ],
      "execution_count": 125,
      "outputs": []
    },
    {
      "cell_type": "code",
      "metadata": {
        "colab": {
          "base_uri": "https://localhost:8080/"
        },
        "id": "p-Nw16-5aX9r",
        "outputId": "3bdcb564-8fd4-4fa7-c4af-07eb538557ab"
      },
      "source": [
        "[x for x in dir(TestLayer) if 'dict' in x]"
      ],
      "execution_count": 127,
      "outputs": [
        {
          "output_type": "execute_result",
          "data": {
            "text/plain": [
              "['__dict__', 'load_dict', 'set_dict', 'set_state_dict', 'state_dict']"
            ]
          },
          "metadata": {
            "tags": []
          },
          "execution_count": 127
        }
      ]
    },
    {
      "cell_type": "code",
      "metadata": {
        "id": "8bjputn3adCh"
      },
      "source": [
        "\n",
        "import paddle\n",
        "import paddle.nn as nn\n",
        "from paddle.nn.initializer import Constant\n",
        "from paddle.nn.functional import instance_norm\n",
        "\n",
        "class InstanceNorm2d(paddle.nn.Layer):\n",
        "\n",
        "    def __init__(\n",
        "        self,\n",
        "        num_features: int,\n",
        "        eps: float = 1e-5,\n",
        "        momentum: float = 0.1,\n",
        "        affine: bool = False,\n",
        "        name: str = None\n",
        "        ):\n",
        "        super(InstanceNorm2d, self).__init__()\n",
        "        self._eps = eps\n",
        "        self._momentum = momentum\n",
        "        param_shape = [num_features]\n",
        "        self.affine = affine\n",
        "        if affine:\n",
        "            self.weight = self.create_parameter(\n",
        "                attr=None,\n",
        "                shape=param_shape,\n",
        "                default_initializer=Constant(1.0)\n",
        "            )\n",
        "            self.bias = self.create_parameter(\n",
        "                attr=None,\n",
        "                shape=param_shape,\n",
        "                default_initializer=Constant(0.0)\n",
        "            )\n",
        "        else:\n",
        "            weight_attr=paddle.ParamAttr(\n",
        "                initializer=nn.initializer.Constant(1.0),\n",
        "                learning_rate=0.0,\n",
        "                trainable=False)\n",
        "            bias_attr=paddle.ParamAttr(initializer=nn.initializer.Constant(0.0),\n",
        "                                       learning_rate=0.0,\n",
        "                                       trainable=False)\n",
        "            self.weight = self.create_parameter(\n",
        "                attr=weight_attr,\n",
        "                shape=param_shape\n",
        "            )\n",
        "            self.bias = self.create_parameter(\n",
        "                attr=bias_attr,\n",
        "                shape=param_shape,\n",
        "                is_bias=True\n",
        "            )\n",
        "        \n",
        "        moving_mean_name = None\n",
        "        moving_variance_name = None\n",
        "\n",
        "        if name is not None:\n",
        "            moving_mean_name = name + \"_mean\"\n",
        "            moving_variance_name = name + \"_variance\"\n",
        "\n",
        "        self._mean = self.create_parameter(\n",
        "            attr=paddle.ParamAttr(\n",
        "                name=moving_mean_name,\n",
        "                initializer=Constant(1.0),\n",
        "                trainable=False,\n",
        "                do_model_average=True),\n",
        "            shape=param_shape)\n",
        "        self._mean.stop_gradient = True\n",
        "\n",
        "        self._variance = self.create_parameter(\n",
        "            attr=paddle.ParamAttr(\n",
        "                name=moving_variance_name,\n",
        "                initializer=Constant(1.0),\n",
        "                trainable=False,\n",
        "                do_model_average=True),\n",
        "            shape=param_shape)\n",
        "        self._variance.stop_gradient = True\n",
        "        \n",
        "    def forward(self, x):\n",
        "        return instance_norm(\n",
        "            x, \n",
        "            running_mean=self._mean, \n",
        "            running_var=self._variance, \n",
        "            weight=self.weight, \n",
        "            bias=self.bias, \n",
        "            use_input_stats=self.training,\n",
        "            eps=self._eps,\n",
        "            momentum=self._momentum\n",
        "            )"
      ],
      "execution_count": 184,
      "outputs": []
    },
    {
      "cell_type": "code",
      "metadata": {
        "id": "lHdJJuVGjGbx"
      },
      "source": [
        "import numpy as np\n",
        "x = np.random.rand(4,10,4,4).astype(np.float32)"
      ],
      "execution_count": 10,
      "outputs": []
    },
    {
      "cell_type": "code",
      "metadata": {
        "colab": {
          "base_uri": "https://localhost:8080/"
        },
        "id": "Vjlvnp7uvZsA",
        "outputId": "a099b67d-db95-4d8e-850e-b27c3d44be07"
      },
      "source": [
        "x.mean(axis=)"
      ],
      "execution_count": 11,
      "outputs": [
        {
          "output_type": "execute_result",
          "data": {
            "text/plain": [
              "((4, 4), array([[0.25630546, 0.280481  , 0.29520106, 0.28208062],\n",
              "        [0.27791032, 0.2983065 , 0.28423184, 0.23604757],\n",
              "        [0.28366786, 0.26648667, 0.2860931 , 0.30827108],\n",
              "        [0.278542  , 0.3089684 , 0.2631116 , 0.24402562]], dtype=float32))"
            ]
          },
          "metadata": {
            "tags": []
          },
          "execution_count": 11
        }
      ]
    },
    {
      "cell_type": "code",
      "metadata": {
        "id": "mpuuxBCbvh1S"
      },
      "source": [
        ""
      ],
      "execution_count": null,
      "outputs": []
    },
    {
      "cell_type": "code",
      "metadata": {
        "colab": {
          "base_uri": "https://localhost:8080/"
        },
        "id": "X-zvh7raajmz",
        "outputId": "9dfe39bb-292c-4bb4-8ebb-a3d780621e0e"
      },
      "source": [
        "in_p = InstanceNorm2d(10)\n",
        "in_p.eval()\n",
        "in_p(paddle.to_tensor(x))"
      ],
      "execution_count": 185,
      "outputs": [
        {
          "output_type": "execute_result",
          "data": {
            "text/plain": [
              "Tensor(shape=[1, 10, 4, 4], dtype=float32, place=CPUPlace, stop_gradient=True,\n",
              "       [[[[-1.24177420, -1.27351499,  0.33201683,  0.33326215],\n",
              "          [ 0.79573065,  1.76523149,  1.20175493,  0.69032955],\n",
              "          [ 1.19268405, -0.60845548, -0.43338537, -1.03540611],\n",
              "          [-0.74031061,  0.78028929, -1.64929736, -0.10915628]],\n",
              "\n",
              "         [[-0.39307401, -0.14483465, -0.41295946, -0.86172199],\n",
              "          [-0.41090074,  1.43457592,  1.63519454, -0.11262418],\n",
              "          [ 0.36991215, -1.63874626, -0.84186894, -0.45644158],\n",
              "          [ 1.32757068, -1.10594475, -0.18692093,  1.79878342]],\n",
              "\n",
              "         [[-0.20275812,  0.30091441, -2.35343027,  1.45183706],\n",
              "          [ 0.24788633, -0.06481262, -1.15565610, -1.36402321],\n",
              "          [-0.75524795,  0.66976732,  1.71667564, -0.25162542],\n",
              "          [ 0.60513240,  0.15555434,  0.36566788,  0.63411635]],\n",
              "\n",
              "         [[ 1.33226287, -1.24808550,  1.06489825, -0.70264196],\n",
              "          [-0.87070054,  0.41491991, -1.20553839,  1.47836709],\n",
              "          [ 0.60115832,  0.92803210, -1.47604275,  0.48961288],\n",
              "          [ 0.36165139, -0.99056083, -1.01057804,  0.83324462]],\n",
              "\n",
              "         [[-0.94375378,  0.52831763, -0.01438282, -0.66691822],\n",
              "          [ 1.44800651,  1.11879551, -0.79137653, -2.02915835],\n",
              "          [-0.99896902, -0.63049120,  0.57954997,  1.72500694],\n",
              "          [-0.79722488,  0.80670470,  0.13863538,  0.52725846]],\n",
              "\n",
              "         [[-1.21161401, -0.12659597, -0.81864756, -0.36930957],\n",
              "          [ 0.37377110,  1.04600978, -1.40965092, -1.30022240],\n",
              "          [-0.46336126,  1.02384865,  1.83380318,  0.54951721],\n",
              "          [ 1.86860394, -0.18807758, -0.48610273, -0.32197288]],\n",
              "\n",
              "         [[-1.21374893,  0.96029383, -0.66005802,  0.04597462],\n",
              "          [ 0.13247435, -0.05590656, -1.77009869,  1.48637688],\n",
              "          [ 1.21214354, -1.09297943, -0.81263512, -0.06093800],\n",
              "          [ 1.20081067,  1.47080076, -0.92809629,  0.08558461]],\n",
              "\n",
              "         [[ 1.03856564, -0.39863580,  0.77419895, -1.21129131],\n",
              "          [ 0.32006675,  1.24371684,  1.65355098, -1.49588752],\n",
              "          [-0.28028315, -1.05985928, -0.20264341,  0.13567866],\n",
              "          [-1.44725752, -0.73828900,  1.45870483,  0.20966439]],\n",
              "\n",
              "         [[-0.28962854,  0.81995124,  0.77624536, -1.82158196],\n",
              "          [ 0.65197229,  1.14114606, -1.38182211,  0.92289245],\n",
              "          [-0.92992216, -0.85522997,  0.48921192, -1.58621240],\n",
              "          [ 0.48775434,  1.32330728,  0.60555995, -0.35364509]],\n",
              "\n",
              "         [[-0.52326530,  0.62683856, -0.07492270, -1.76635563],\n",
              "          [-0.01500732,  0.80187124, -0.87914556,  1.19851184],\n",
              "          [ 0.57624704, -0.04529122,  0.57950872, -1.78660488],\n",
              "          [ 0.95860004,  0.82530522,  1.13621843, -1.61250603]]]])"
            ]
          },
          "metadata": {
            "tags": []
          },
          "execution_count": 185
        }
      ]
    },
    {
      "cell_type": "code",
      "metadata": {
        "id": "AYkY6nDochDZ"
      },
      "source": [
        "import paddle.nn as nn"
      ],
      "execution_count": 166,
      "outputs": []
    },
    {
      "cell_type": "code",
      "metadata": {
        "colab": {
          "base_uri": "https://localhost:8080/"
        },
        "id": "WsIey_JoimF2",
        "outputId": "56336144-4054-4fef-881b-7ab64f919471"
      },
      "source": [
        "in_p2 = nn.InstanceNorm2D(10)\n",
        "in_p2(paddle.to_tensor(x))"
      ],
      "execution_count": 182,
      "outputs": [
        {
          "output_type": "execute_result",
          "data": {
            "text/plain": [
              "Tensor(shape=[1, 10, 4, 4], dtype=float32, place=CPUPlace, stop_gradient=False,\n",
              "       [[[[-1.24177420, -1.27351499,  0.33201683,  0.33326215],\n",
              "          [ 0.79573065,  1.76523149,  1.20175493,  0.69032955],\n",
              "          [ 1.19268405, -0.60845548, -0.43338537, -1.03540611],\n",
              "          [-0.74031061,  0.78028929, -1.64929736, -0.10915628]],\n",
              "\n",
              "         [[-0.39307401, -0.14483465, -0.41295946, -0.86172199],\n",
              "          [-0.41090074,  1.43457592,  1.63519454, -0.11262418],\n",
              "          [ 0.36991215, -1.63874626, -0.84186894, -0.45644158],\n",
              "          [ 1.32757068, -1.10594475, -0.18692093,  1.79878342]],\n",
              "\n",
              "         [[-0.20275812,  0.30091441, -2.35343027,  1.45183706],\n",
              "          [ 0.24788633, -0.06481262, -1.15565610, -1.36402321],\n",
              "          [-0.75524795,  0.66976732,  1.71667564, -0.25162542],\n",
              "          [ 0.60513240,  0.15555434,  0.36566788,  0.63411635]],\n",
              "\n",
              "         [[ 1.33226287, -1.24808550,  1.06489825, -0.70264196],\n",
              "          [-0.87070054,  0.41491991, -1.20553839,  1.47836709],\n",
              "          [ 0.60115832,  0.92803210, -1.47604275,  0.48961288],\n",
              "          [ 0.36165139, -0.99056083, -1.01057804,  0.83324462]],\n",
              "\n",
              "         [[-0.94375378,  0.52831763, -0.01438282, -0.66691822],\n",
              "          [ 1.44800651,  1.11879551, -0.79137653, -2.02915835],\n",
              "          [-0.99896902, -0.63049120,  0.57954997,  1.72500694],\n",
              "          [-0.79722488,  0.80670470,  0.13863538,  0.52725846]],\n",
              "\n",
              "         [[-1.21161401, -0.12659597, -0.81864756, -0.36930957],\n",
              "          [ 0.37377110,  1.04600978, -1.40965092, -1.30022240],\n",
              "          [-0.46336126,  1.02384865,  1.83380318,  0.54951721],\n",
              "          [ 1.86860394, -0.18807758, -0.48610273, -0.32197288]],\n",
              "\n",
              "         [[-1.21374893,  0.96029383, -0.66005802,  0.04597462],\n",
              "          [ 0.13247435, -0.05590656, -1.77009869,  1.48637688],\n",
              "          [ 1.21214354, -1.09297943, -0.81263512, -0.06093800],\n",
              "          [ 1.20081067,  1.47080076, -0.92809629,  0.08558461]],\n",
              "\n",
              "         [[ 1.03856564, -0.39863580,  0.77419895, -1.21129131],\n",
              "          [ 0.32006675,  1.24371684,  1.65355098, -1.49588752],\n",
              "          [-0.28028315, -1.05985928, -0.20264341,  0.13567866],\n",
              "          [-1.44725752, -0.73828900,  1.45870483,  0.20966439]],\n",
              "\n",
              "         [[-0.28962854,  0.81995124,  0.77624536, -1.82158196],\n",
              "          [ 0.65197229,  1.14114606, -1.38182211,  0.92289245],\n",
              "          [-0.92992216, -0.85522997,  0.48921192, -1.58621240],\n",
              "          [ 0.48775434,  1.32330728,  0.60555995, -0.35364509]],\n",
              "\n",
              "         [[-0.52326530,  0.62683856, -0.07492270, -1.76635563],\n",
              "          [-0.01500732,  0.80187124, -0.87914556,  1.19851184],\n",
              "          [ 0.57624704, -0.04529122,  0.57950872, -1.78660488],\n",
              "          [ 0.95860004,  0.82530522,  1.13621843, -1.61250603]]]])"
            ]
          },
          "metadata": {
            "tags": []
          },
          "execution_count": 182
        }
      ]
    },
    {
      "cell_type": "code",
      "metadata": {
        "colab": {
          "base_uri": "https://localhost:8080/"
        },
        "id": "VvTurnd8i4ya",
        "outputId": "c1bb6196-e23a-4bac-fe06-61ae362fe128"
      },
      "source": [
        "in_p._variance"
      ],
      "execution_count": 177,
      "outputs": [
        {
          "output_type": "execute_result",
          "data": {
            "text/plain": [
              "Parameter containing:\n",
              "Tensor(shape=[10], dtype=float32, place=CPUPlace, stop_gradient=True,\n",
              "       [1., 1., 1., 1., 1., 1., 1., 1., 1., 1.])"
            ]
          },
          "metadata": {
            "tags": []
          },
          "execution_count": 177
        }
      ]
    },
    {
      "cell_type": "code",
      "metadata": {
        "colab": {
          "base_uri": "https://localhost:8080/"
        },
        "id": "VkAlsIVIjXhk",
        "outputId": "b484347d-3a25-401b-ecbd-bff1b1673593"
      },
      "source": [
        "paddle.mean(paddle.to_tensor(x), axis=1)"
      ],
      "execution_count": 178,
      "outputs": [
        {
          "output_type": "execute_result",
          "data": {
            "text/plain": [
              "Tensor(shape=[1, 4, 4], dtype=float32, place=CPUPlace, stop_gradient=True,\n",
              "       [[[0.43187529, 0.51981777, 0.50141799, 0.34934250],\n",
              "         [0.57669151, 0.74101245, 0.40596113, 0.52530801],\n",
              "         [0.53883588, 0.41957569, 0.52821571, 0.45548740],\n",
              "         [0.61159885, 0.57635659, 0.50543869, 0.55377680]]])"
            ]
          },
          "metadata": {
            "tags": []
          },
          "execution_count": 178
        }
      ]
    },
    {
      "cell_type": "markdown",
      "metadata": {
        "id": "qiQVmy1fxMc8"
      },
      "source": [
        "# InstanceNorm 实现"
      ]
    },
    {
      "cell_type": "code",
      "metadata": {
        "id": "DGsT8CTUk2qJ"
      },
      "source": [
        "import torch\n",
        "import torch.nn as nn_t\n",
        "import paddle\n",
        "import paddle.nn as nn_p\n",
        "import numpy as np"
      ],
      "execution_count": 13,
      "outputs": []
    },
    {
      "cell_type": "code",
      "metadata": {
        "colab": {
          "base_uri": "https://localhost:8080/"
        },
        "id": "ZH6aUo97xWG2",
        "outputId": "555c5e4b-073a-4303-d8c4-6d59f450cf1e"
      },
      "source": [
        "x = np.random.rand(4,3,4,4).astype(np.float32)\n",
        "inputs = [np.random.randn(4,3,4,4).astype(np.float32) for _ in range(10)]\n",
        "inputs_mean = np.mean(inputs, axis=0)\n",
        "inputs_std = np.std(inputs,axis=0)\n",
        "print(inputs_mean.shape, inputs_std.shape)"
      ],
      "execution_count": 58,
      "outputs": [
        {
          "output_type": "stream",
          "text": [
            "(4, 3, 4, 4) (4, 3, 4, 4)\n"
          ],
          "name": "stdout"
        }
      ]
    },
    {
      "cell_type": "markdown",
      "metadata": {
        "id": "ibAeS-_42-qL"
      },
      "source": [
        "## PyTorch 的属性"
      ]
    },
    {
      "cell_type": "code",
      "metadata": {
        "colab": {
          "base_uri": "https://localhost:8080/"
        },
        "id": "pUoQy8f4xgx6",
        "outputId": "41a0710c-43d1-4273-9f77-4f478d16226b"
      },
      "source": [
        "# torch\n",
        "model_t = nn_t.InstanceNorm2d(num_features=3, affine=False, track_running_stats=True)\n",
        "model_t.train()\n",
        "for i,x in enumerate(inputs):\n",
        "  x_t = torch.from_numpy(x)\n",
        "  print(f\"running_mean: {model_t.state_dict()['running_mean']}, running_var {model_t.state_dict()['running_var']}\")\n",
        "  model_t(x_t)\n",
        "print(model_t.state_dict())"
      ],
      "execution_count": 118,
      "outputs": [
        {
          "output_type": "stream",
          "text": [
            "running_mean: tensor([0., 0., 0.]), running_var tensor([1., 1., 1.])\n",
            "running_mean: tensor([-0.0010, -0.0055, -0.0018]), running_var tensor([1.0221, 0.9898, 1.0002])\n",
            "running_mean: tensor([-0.0069,  0.0078,  0.0248]), running_var tensor([1.0345, 0.9866, 1.0115])\n",
            "running_mean: tensor([-0.0021, -0.0295, -0.0007]), running_var tensor([1.0270, 0.9649, 0.9928])\n",
            "running_mean: tensor([ 0.0008, -0.0288,  0.0161]), running_var tensor([1.0654, 0.9704, 1.0018])\n",
            "running_mean: tensor([ 0.0253, -0.0235,  0.0239]), running_var tensor([1.0547, 1.0091, 0.9844])\n",
            "running_mean: tensor([ 0.0239, -0.0215,  0.0135]), running_var tensor([1.0771, 1.0298, 0.9946])\n",
            "running_mean: tensor([ 0.0235, -0.0007,  0.0309]), running_var tensor([1.0619, 1.0369, 1.0056])\n",
            "running_mean: tensor([0.0118, 0.0051, 0.0221]), running_var tensor([1.0359, 1.0207, 0.9769])\n",
            "running_mean: tensor([0.0288, 0.0186, 0.0033]), running_var tensor([1.0362, 0.9949, 0.9780])\n",
            "OrderedDict([('running_mean', tensor([0.0106, 0.0192, 0.0127])), ('running_var', tensor([1.0379, 0.9822, 0.9697])), ('num_batches_tracked', tensor(0))])\n"
          ],
          "name": "stdout"
        }
      ]
    },
    {
      "cell_type": "code",
      "metadata": {
        "colab": {
          "base_uri": "https://localhost:8080/"
        },
        "id": "PSf7-UHV11tg",
        "outputId": "81bea95e-d9d8-467d-9d82-de25c341b6bc"
      },
      "source": [
        "# 查看属性\n",
        "model_t.state_dict()"
      ],
      "execution_count": 114,
      "outputs": [
        {
          "output_type": "execute_result",
          "data": {
            "text/plain": [
              "OrderedDict([('running_mean', tensor([0.0106, 0.0192, 0.0127])),\n",
              "             ('running_var', tensor([1.0379, 0.9822, 0.9697])),\n",
              "             ('num_batches_tracked', tensor(0))])"
            ]
          },
          "metadata": {
            "tags": []
          },
          "execution_count": 114
        }
      ]
    },
    {
      "cell_type": "code",
      "metadata": {
        "colab": {
          "base_uri": "https://localhost:8080/"
        },
        "id": "QaPurzFZN7S1",
        "outputId": "9faff9eb-8b69-40af-8c5a-0d5044da1e88"
      },
      "source": [
        "# 用 numpy 实现带有 momentum 的 求均值 方法\n",
        "mean_old = np.zeros(shape=(4,3), dtype=np.float32)\n",
        "var_old = np.ones(shape=(4,3),dtype=np.float32)\n",
        "for x in inputs:\n",
        "  print(np.mean(mean_old, axis=0))\n",
        "  mean_new = 0.9*mean_old + 0.1*np.mean(x, axis=(2,3))\n",
        "  var_new = 0.9*var_old + 0.1*np.var(x, axis=(2,3))\n",
        "  mean_old = mean_new\n",
        "  var_old = var_new\n",
        "print(f'mean {mean_new.mean(axis=0)} var {var_new.mean(axis=0)}')"
      ],
      "execution_count": 125,
      "outputs": [
        {
          "output_type": "stream",
          "text": [
            "[0. 0. 0.]\n",
            "[-0.00104981 -0.00550465 -0.00181595]\n",
            "[-0.00690152  0.00780115  0.02477468]\n",
            "[-0.00208528 -0.02948513 -0.00073425]\n",
            "[ 0.00083726 -0.02878846  0.01613767]\n",
            "[ 0.02526435 -0.02353404  0.02387664]\n",
            "[ 0.02393323 -0.02146449  0.0134816 ]\n",
            "[ 0.02351987 -0.0006884   0.0308891 ]\n",
            "[0.01177469 0.00512802 0.02214941]\n",
            "[0.02876797 0.01857697 0.00333672]\n",
            "mean [0.01064607 0.0191895  0.01269662] var [0.9948067  0.94257224 0.9308446 ]\n"
          ],
          "name": "stdout"
        }
      ]
    },
    {
      "cell_type": "code",
      "metadata": {
        "colab": {
          "base_uri": "https://localhost:8080/"
        },
        "id": "eg8J1HaLfM6r",
        "outputId": "5448491c-7c80-4016-aaf6-a47320cc7699"
      },
      "source": [
        "# 用 torch 实现\n",
        "mean_old = torch.zeros(4,3, dtype=torch.float32)\n",
        "var_old = torch.ones(4,3,dtype=torch.float32)\n",
        "for x in inputs:\n",
        "  x_t = torch.from_numpy(x)\n",
        "  print(f\"running_mean {torch.mean(mean_old,dim=0)} running_var {torch.mean(var_old, dim=0)}\")\n",
        "  mean_new = 0.9*mean_old+0.1*torch.mean(x_t, dim=(2,3))\n",
        "  var_new = 0.9*var_old+0.1*torch.var(x_t, dim=(2,3))\n",
        "  mean_old = mean_new\n",
        "  var_old = var_new\n",
        "print(f\"running_mean {torch.mean(mean_old,dim=0)} running_var {torch.mean(var_old, dim=0)}\")\n"
      ],
      "execution_count": 127,
      "outputs": [
        {
          "output_type": "stream",
          "text": [
            "running_mean tensor([0., 0., 0.]) running_var tensor([1., 1., 1.])\n",
            "running_mean tensor([-0.0010, -0.0055, -0.0018]) running_var tensor([1.0221, 0.9898, 1.0002])\n",
            "running_mean tensor([-0.0069,  0.0078,  0.0248]) running_var tensor([1.0345, 0.9866, 1.0115])\n",
            "running_mean tensor([-0.0021, -0.0295, -0.0007]) running_var tensor([1.0270, 0.9649, 0.9928])\n",
            "running_mean tensor([ 0.0008, -0.0288,  0.0161]) running_var tensor([1.0654, 0.9704, 1.0018])\n",
            "running_mean tensor([ 0.0253, -0.0235,  0.0239]) running_var tensor([1.0547, 1.0091, 0.9844])\n",
            "running_mean tensor([ 0.0239, -0.0215,  0.0135]) running_var tensor([1.0771, 1.0298, 0.9946])\n",
            "running_mean tensor([ 0.0235, -0.0007,  0.0309]) running_var tensor([1.0619, 1.0369, 1.0056])\n",
            "running_mean tensor([0.0118, 0.0051, 0.0221]) running_var tensor([1.0359, 1.0207, 0.9769])\n",
            "running_mean tensor([0.0288, 0.0186, 0.0033]) running_var tensor([1.0362, 0.9949, 0.9780])\n",
            "running_mean tensor([0.0106, 0.0192, 0.0127]) running_var tensor([1.0379, 0.9822, 0.9697])\n"
          ],
          "name": "stdout"
        }
      ]
    },
    {
      "cell_type": "markdown",
      "metadata": {
        "id": "wsa04AOggtTS"
      },
      "source": [
        "可以看到结果一模一样  \n",
        "我的结果\n",
        "```python\n",
        "running_mean tensor([0.0106, 0.0192, 0.0127]) running_var tensor([1.0379, 0.9822, 0.9697])\n",
        "```\n",
        "torch 的结果\n",
        "```python\n",
        "OrderedDict([('running_mean', tensor([0.0106, 0.0192, 0.0127])), ('running_var', tensor([1.0379, 0.9822, 0.9697])), ('num_batches_tracked', tensor(0))])\n",
        "```"
      ]
    },
    {
      "cell_type": "markdown",
      "metadata": {
        "id": "cboPd6ly3MpS"
      },
      "source": [
        "## Paddle 的属性"
      ]
    },
    {
      "cell_type": "code",
      "metadata": {
        "id": "Wo5kTuiL3GEV"
      },
      "source": [
        "model_p = nn_p.InstanceNorm2D(\n",
        "    num_features=3, \n",
        "    weight_attr=paddle.ParamAttr(\n",
        "        initializer=paddle.nn.initializer.Constant(0.0),\n",
        "        learning_rate=0.0,\n",
        "        trainable=False\n",
        "    ),\n",
        "    bias_attr=paddle.ParamAttr(\n",
        "        initializer=paddle.nn.initializer.Constant(1.0),\n",
        "        learning_rate=0.0,\n",
        "        trainable=False\n",
        "    )\n",
        "    )\n",
        "model_p.train()\n",
        "for x in inputs:\n",
        "  x_p = paddle.to_tensor(x)\n",
        "  model_p(x_p)"
      ],
      "execution_count": 26,
      "outputs": []
    },
    {
      "cell_type": "code",
      "metadata": {
        "colab": {
          "base_uri": "https://localhost:8080/"
        },
        "id": "M-HZ_ipY4Buq",
        "outputId": "7f092636-fb87-43dc-d89a-0d289bb62371"
      },
      "source": [
        "model_p.state_dict()"
      ],
      "execution_count": 27,
      "outputs": [
        {
          "output_type": "execute_result",
          "data": {
            "text/plain": [
              "OrderedDict([('scale', Parameter containing:\n",
              "              Tensor(shape=[3], dtype=float32, place=CPUPlace, stop_gradient=True,\n",
              "                     [0., 0., 0.])), ('bias', Parameter containing:\n",
              "              Tensor(shape=[3], dtype=float32, place=CPUPlace, stop_gradient=True,\n",
              "                     [1., 1., 1.]))])"
            ]
          },
          "metadata": {
            "tags": []
          },
          "execution_count": 27
        }
      ]
    },
    {
      "cell_type": "markdown",
      "metadata": {
        "id": "t8CL-rcPG4qa"
      },
      "source": [
        "对比两个结果"
      ]
    },
    {
      "cell_type": "code",
      "metadata": {
        "colab": {
          "base_uri": "https://localhost:8080/",
          "height": 575
        },
        "id": "PvHizrffG4K6",
        "outputId": "a62d539f-df97-487c-95a3-991049806da2"
      },
      "source": [
        "eval_x = np.random.rand(1,3,4,4).astype(np.float32)\n",
        "model_p.eval()\n",
        "eval_x_out_p = model_p(paddle.to_tensor(eval_x))\n",
        "model_t.eval()\n",
        "eval_x_out_t = model_t(torch.from_numpy(eval_x))\n",
        "np.testing.assert_allclose(eval_x_out_p.detach().numpy(), eval_x_out_t.detach().numpy())"
      ],
      "execution_count": 72,
      "outputs": [
        {
          "output_type": "error",
          "ename": "AssertionError",
          "evalue": "ignored",
          "traceback": [
            "\u001b[0;31m---------------------------------------------------------------------------\u001b[0m",
            "\u001b[0;31mAssertionError\u001b[0m                            Traceback (most recent call last)",
            "\u001b[0;32m<ipython-input-72-19219ae61398>\u001b[0m in \u001b[0;36m<module>\u001b[0;34m()\u001b[0m\n\u001b[1;32m      4\u001b[0m \u001b[0mmodel_t\u001b[0m\u001b[0;34m.\u001b[0m\u001b[0meval\u001b[0m\u001b[0;34m(\u001b[0m\u001b[0;34m)\u001b[0m\u001b[0;34m\u001b[0m\u001b[0;34m\u001b[0m\u001b[0m\n\u001b[1;32m      5\u001b[0m \u001b[0meval_x_out_t\u001b[0m \u001b[0;34m=\u001b[0m \u001b[0mmodel_t\u001b[0m\u001b[0;34m(\u001b[0m\u001b[0mtorch\u001b[0m\u001b[0;34m.\u001b[0m\u001b[0mfrom_numpy\u001b[0m\u001b[0;34m(\u001b[0m\u001b[0meval_x\u001b[0m\u001b[0;34m)\u001b[0m\u001b[0;34m)\u001b[0m\u001b[0;34m\u001b[0m\u001b[0;34m\u001b[0m\u001b[0m\n\u001b[0;32m----> 6\u001b[0;31m \u001b[0mnp\u001b[0m\u001b[0;34m.\u001b[0m\u001b[0mtesting\u001b[0m\u001b[0;34m.\u001b[0m\u001b[0massert_allclose\u001b[0m\u001b[0;34m(\u001b[0m\u001b[0meval_x_out_p\u001b[0m\u001b[0;34m.\u001b[0m\u001b[0mdetach\u001b[0m\u001b[0;34m(\u001b[0m\u001b[0;34m)\u001b[0m\u001b[0;34m.\u001b[0m\u001b[0mnumpy\u001b[0m\u001b[0;34m(\u001b[0m\u001b[0;34m)\u001b[0m\u001b[0;34m,\u001b[0m \u001b[0meval_x_out_t\u001b[0m\u001b[0;34m.\u001b[0m\u001b[0mdetach\u001b[0m\u001b[0;34m(\u001b[0m\u001b[0;34m)\u001b[0m\u001b[0;34m.\u001b[0m\u001b[0mnumpy\u001b[0m\u001b[0;34m(\u001b[0m\u001b[0;34m)\u001b[0m\u001b[0;34m)\u001b[0m\u001b[0;34m\u001b[0m\u001b[0;34m\u001b[0m\u001b[0m\n\u001b[0m",
            "\u001b[0;32m/usr/local/lib/python3.7/dist-packages/numpy/testing/_private/utils.py\u001b[0m in \u001b[0;36massert_allclose\u001b[0;34m(actual, desired, rtol, atol, equal_nan, err_msg, verbose)\u001b[0m\n\u001b[1;32m   1526\u001b[0m     \u001b[0mheader\u001b[0m \u001b[0;34m=\u001b[0m \u001b[0;34m'Not equal to tolerance rtol=%g, atol=%g'\u001b[0m \u001b[0;34m%\u001b[0m \u001b[0;34m(\u001b[0m\u001b[0mrtol\u001b[0m\u001b[0;34m,\u001b[0m \u001b[0matol\u001b[0m\u001b[0;34m)\u001b[0m\u001b[0;34m\u001b[0m\u001b[0;34m\u001b[0m\u001b[0m\n\u001b[1;32m   1527\u001b[0m     assert_array_compare(compare, actual, desired, err_msg=str(err_msg),\n\u001b[0;32m-> 1528\u001b[0;31m                          verbose=verbose, header=header, equal_nan=equal_nan)\n\u001b[0m\u001b[1;32m   1529\u001b[0m \u001b[0;34m\u001b[0m\u001b[0m\n\u001b[1;32m   1530\u001b[0m \u001b[0;34m\u001b[0m\u001b[0m\n",
            "\u001b[0;32m/usr/local/lib/python3.7/dist-packages/numpy/testing/_private/utils.py\u001b[0m in \u001b[0;36massert_array_compare\u001b[0;34m(comparison, x, y, err_msg, verbose, header, precision, equal_nan, equal_inf)\u001b[0m\n\u001b[1;32m    838\u001b[0m                                 \u001b[0mverbose\u001b[0m\u001b[0;34m=\u001b[0m\u001b[0mverbose\u001b[0m\u001b[0;34m,\u001b[0m \u001b[0mheader\u001b[0m\u001b[0;34m=\u001b[0m\u001b[0mheader\u001b[0m\u001b[0;34m,\u001b[0m\u001b[0;34m\u001b[0m\u001b[0;34m\u001b[0m\u001b[0m\n\u001b[1;32m    839\u001b[0m                                 names=('x', 'y'), precision=precision)\n\u001b[0;32m--> 840\u001b[0;31m             \u001b[0;32mraise\u001b[0m \u001b[0mAssertionError\u001b[0m\u001b[0;34m(\u001b[0m\u001b[0mmsg\u001b[0m\u001b[0;34m)\u001b[0m\u001b[0;34m\u001b[0m\u001b[0;34m\u001b[0m\u001b[0m\n\u001b[0m\u001b[1;32m    841\u001b[0m     \u001b[0;32mexcept\u001b[0m \u001b[0mValueError\u001b[0m\u001b[0;34m:\u001b[0m\u001b[0;34m\u001b[0m\u001b[0;34m\u001b[0m\u001b[0m\n\u001b[1;32m    842\u001b[0m         \u001b[0;32mimport\u001b[0m \u001b[0mtraceback\u001b[0m\u001b[0;34m\u001b[0m\u001b[0;34m\u001b[0m\u001b[0m\n",
            "\u001b[0;31mAssertionError\u001b[0m: \nNot equal to tolerance rtol=1e-07, atol=0\n\nMismatched elements: 48 / 48 (100%)\nMax absolute difference: 0.9900875\nMax relative difference: 99.88276\n x: array([[[[1., 1., 1., 1.],\n         [1., 1., 1., 1.],\n         [1., 1., 1., 1.],...\n y: array([[[[0.328375, 0.630188, 0.509997, 0.192904],\n         [0.940074, 0.889778, 0.97043 , 0.148178],\n         [0.117133, 0.226927, 0.749887, 0.241519],..."
          ]
        }
      ]
    },
    {
      "cell_type": "markdown",
      "metadata": {
        "id": "PM3gjgFs4cxB"
      },
      "source": [
        "由以上结果可以看出，paddle 的 InstanceNorm2D 并没有实现完全，没有办法保存均值和方差"
      ]
    },
    {
      "cell_type": "markdown",
      "metadata": {
        "id": "DoL36m2CiioE"
      },
      "source": [
        "## 实现 InstanceNorm2d 相关功能"
      ]
    },
    {
      "cell_type": "markdown",
      "metadata": {
        "id": "6na6P9Lzmuos"
      },
      "source": [
        "先用 paddle 实现简单的 instancenorm"
      ]
    },
    {
      "cell_type": "code",
      "metadata": {
        "id": "QtsW3JPzmtqn"
      },
      "source": [
        "import torch\n",
        "import torch.nn as nn_t\n",
        "import paddle\n",
        "import paddle.nn as nn_p\n",
        "import numpy as np"
      ],
      "execution_count": 4,
      "outputs": []
    },
    {
      "cell_type": "code",
      "metadata": {
        "id": "ExDP4dLmm4ip"
      },
      "source": [
        "inputs = [np.random.randn(4,3,4,4).astype(np.float32) for _ in range(10)]"
      ],
      "execution_count": 5,
      "outputs": []
    },
    {
      "cell_type": "code",
      "metadata": {
        "colab": {
          "base_uri": "https://localhost:8080/"
        },
        "id": "TrEmJGpQm-Rv",
        "outputId": "2ad75932-81a8-41c5-b11d-3153801de833"
      },
      "source": [
        "# torch\n",
        "model_t = nn_t.InstanceNorm2d(num_features=3, affine=False, track_running_stats=True)\n",
        "model_t.train()\n",
        "for i,x in enumerate(inputs):\n",
        "  x_t = torch.from_numpy(x)\n",
        "  print(f\"running_mean: {model_t.state_dict()['running_mean']}, running_var {model_t.state_dict()['running_var']}\")\n",
        "  instancenorm_out_t = model_t(x_t)\n",
        "print(f\"running_mean: {model_t.state_dict()['running_mean']}, running_var {model_t.state_dict()['running_var']}\")"
      ],
      "execution_count": 6,
      "outputs": [
        {
          "output_type": "stream",
          "text": [
            "running_mean: tensor([0., 0., 0.]), running_var tensor([1., 1., 1.])\n",
            "running_mean: tensor([ 0.0231, -0.0096, -0.0081]), running_var tensor([1.0027, 0.9739, 0.9879])\n",
            "running_mean: tensor([ 0.0205, -0.0059, -0.0176]), running_var tensor([1.0159, 0.9556, 0.9695])\n",
            "running_mean: tensor([ 0.0064, -0.0122, -0.0300]), running_var tensor([1.0305, 0.9474, 0.9912])\n",
            "running_mean: tensor([-0.0012, -0.0073, -0.0273]), running_var tensor([1.0026, 0.9481, 0.9953])\n",
            "running_mean: tensor([-0.0009, -0.0064,  0.0014]), running_var tensor([0.9931, 0.9282, 0.9788])\n",
            "running_mean: tensor([-0.0097, -0.0115,  0.0062]), running_var tensor([0.9750, 0.9279, 0.9848])\n",
            "running_mean: tensor([-0.0052,  0.0019, -0.0128]), running_var tensor([0.9840, 0.9314, 0.9730])\n",
            "running_mean: tensor([-0.0068,  0.0057, -0.0165]), running_var tensor([0.9872, 0.9585, 0.9858])\n",
            "running_mean: tensor([-0.0043,  0.0199, -0.0197]), running_var tensor([1.0041, 0.9830, 0.9776])\n",
            "running_mean: tensor([-0.0114,  0.0133, -0.0112]), running_var tensor([1.0050, 1.0271, 0.9830])\n"
          ],
          "name": "stdout"
        }
      ]
    },
    {
      "cell_type": "code",
      "metadata": {
        "colab": {
          "base_uri": "https://localhost:8080/"
        },
        "id": "dTMVeyewnHos",
        "outputId": "53fcb3e8-a47a-460c-e380-663c83e8d761"
      },
      "source": [
        "# paddle\n",
        "mean_old = paddle.zeros(shape=(4,3), dtype=paddle.float32)\n",
        "var_old = paddle.ones(shape=(4,3), dtype=paddle.float32)\n",
        "for x in inputs:\n",
        "  x_p = paddle.to_tensor(x)\n",
        "  print(f\"running_mean: {paddle.mean(mean_old, axis=0).numpy()}, running_var {paddle.mean(var_old, axis=0).numpy()}\")\n",
        "  mean_new = 0.9*mean_old + 0.1*paddle.mean(x_p, axis=(2,3), keepdim=False)\n",
        "  var_new = 0.9*var_old + 0.1*paddle.var(x_p, axis=(2,3), keepdim=False)\n",
        "  mean_old = mean_new\n",
        "  var_old = var_new\n",
        "print(f\"running_mean: {paddle.mean(mean_old, axis=0).numpy()}, running_var {paddle.mean(var_old, axis=0).numpy()}\")\n",
        "instancenorm_out_p = nn_p.functional.instance_norm(paddle.to_tensor(inputs[-1]), running_mean=paddle.mean(mean_old,axis=0), running_var=paddle.mean(var_old,axis=0), momentum=0.1)"
      ],
      "execution_count": 9,
      "outputs": [
        {
          "output_type": "stream",
          "text": [
            "running_mean: [0. 0. 0.], running_var [1. 1. 1.]\n",
            "running_mean: [ 0.02310152 -0.00960292 -0.00805376], running_var [1.0027357 0.9739235 0.9878799]\n",
            "running_mean: [ 0.02053952 -0.00588624 -0.017583  ], running_var [1.0158958  0.95564514 0.96946573]\n",
            "running_mean: [ 0.00639815 -0.01217436 -0.0300415 ], running_var [1.0304803  0.94742614 0.99120504]\n",
            "running_mean: [-0.00119413 -0.00727308 -0.02728056], running_var [1.0026276 0.9481054 0.9952858]\n",
            "running_mean: [-0.00094633 -0.0064243   0.00143052], running_var [0.99306726 0.9282237  0.97875845]\n",
            "running_mean: [-0.00974739 -0.01152828  0.00615666], running_var [0.9749814  0.92790675 0.9848041 ]\n",
            "running_mean: [-0.00515873  0.00185458 -0.01282581], running_var [0.98395586 0.9313953  0.97301984]\n",
            "running_mean: [-0.00679985  0.0057012  -0.01651479], running_var [0.98721784 0.9584533  0.98581433]\n",
            "running_mean: [-0.00429371  0.01987794 -0.01973053], running_var [1.0040889  0.98303807 0.9775926 ]\n",
            "running_mean: [-0.01135335  0.01332354 -0.01122218], running_var [1.0050333 1.0270575 0.9830219]\n"
          ],
          "name": "stdout"
        }
      ]
    },
    {
      "cell_type": "code",
      "metadata": {
        "colab": {
          "base_uri": "https://localhost:8080/",
          "height": 539
        },
        "id": "KzoILU2upIYT",
        "outputId": "ca070a28-2fba-40dc-8161-060c01fac2d8"
      },
      "source": [
        "np.testing.assert_allclose(instancenorm_out_p.numpy(), instancenorm_out_t.numpy())"
      ],
      "execution_count": 8,
      "outputs": [
        {
          "output_type": "error",
          "ename": "AssertionError",
          "evalue": "ignored",
          "traceback": [
            "\u001b[0;31m---------------------------------------------------------------------------\u001b[0m",
            "\u001b[0;31mAssertionError\u001b[0m                            Traceback (most recent call last)",
            "\u001b[0;32m<ipython-input-8-45ba0bb46921>\u001b[0m in \u001b[0;36m<module>\u001b[0;34m()\u001b[0m\n\u001b[0;32m----> 1\u001b[0;31m \u001b[0mnp\u001b[0m\u001b[0;34m.\u001b[0m\u001b[0mtesting\u001b[0m\u001b[0;34m.\u001b[0m\u001b[0massert_allclose\u001b[0m\u001b[0;34m(\u001b[0m\u001b[0minstancenorm_out_p\u001b[0m\u001b[0;34m.\u001b[0m\u001b[0mnumpy\u001b[0m\u001b[0;34m(\u001b[0m\u001b[0;34m)\u001b[0m\u001b[0;34m,\u001b[0m \u001b[0minstancenorm_out_t\u001b[0m\u001b[0;34m.\u001b[0m\u001b[0mnumpy\u001b[0m\u001b[0;34m(\u001b[0m\u001b[0;34m)\u001b[0m\u001b[0;34m)\u001b[0m\u001b[0;34m\u001b[0m\u001b[0;34m\u001b[0m\u001b[0m\n\u001b[0m",
            "\u001b[0;32m/usr/local/lib/python3.7/dist-packages/numpy/testing/_private/utils.py\u001b[0m in \u001b[0;36massert_allclose\u001b[0;34m(actual, desired, rtol, atol, equal_nan, err_msg, verbose)\u001b[0m\n\u001b[1;32m   1526\u001b[0m     \u001b[0mheader\u001b[0m \u001b[0;34m=\u001b[0m \u001b[0;34m'Not equal to tolerance rtol=%g, atol=%g'\u001b[0m \u001b[0;34m%\u001b[0m \u001b[0;34m(\u001b[0m\u001b[0mrtol\u001b[0m\u001b[0;34m,\u001b[0m \u001b[0matol\u001b[0m\u001b[0;34m)\u001b[0m\u001b[0;34m\u001b[0m\u001b[0;34m\u001b[0m\u001b[0m\n\u001b[1;32m   1527\u001b[0m     assert_array_compare(compare, actual, desired, err_msg=str(err_msg),\n\u001b[0;32m-> 1528\u001b[0;31m                          verbose=verbose, header=header, equal_nan=equal_nan)\n\u001b[0m\u001b[1;32m   1529\u001b[0m \u001b[0;34m\u001b[0m\u001b[0m\n\u001b[1;32m   1530\u001b[0m \u001b[0;34m\u001b[0m\u001b[0m\n",
            "\u001b[0;32m/usr/local/lib/python3.7/dist-packages/numpy/testing/_private/utils.py\u001b[0m in \u001b[0;36massert_array_compare\u001b[0;34m(comparison, x, y, err_msg, verbose, header, precision, equal_nan, equal_inf)\u001b[0m\n\u001b[1;32m    838\u001b[0m                                 \u001b[0mverbose\u001b[0m\u001b[0;34m=\u001b[0m\u001b[0mverbose\u001b[0m\u001b[0;34m,\u001b[0m \u001b[0mheader\u001b[0m\u001b[0;34m=\u001b[0m\u001b[0mheader\u001b[0m\u001b[0;34m,\u001b[0m\u001b[0;34m\u001b[0m\u001b[0;34m\u001b[0m\u001b[0m\n\u001b[1;32m    839\u001b[0m                                 names=('x', 'y'), precision=precision)\n\u001b[0;32m--> 840\u001b[0;31m             \u001b[0;32mraise\u001b[0m \u001b[0mAssertionError\u001b[0m\u001b[0;34m(\u001b[0m\u001b[0mmsg\u001b[0m\u001b[0;34m)\u001b[0m\u001b[0;34m\u001b[0m\u001b[0;34m\u001b[0m\u001b[0m\n\u001b[0m\u001b[1;32m    841\u001b[0m     \u001b[0;32mexcept\u001b[0m \u001b[0mValueError\u001b[0m\u001b[0;34m:\u001b[0m\u001b[0;34m\u001b[0m\u001b[0;34m\u001b[0m\u001b[0m\n\u001b[1;32m    842\u001b[0m         \u001b[0;32mimport\u001b[0m \u001b[0mtraceback\u001b[0m\u001b[0;34m\u001b[0m\u001b[0;34m\u001b[0m\u001b[0m\n",
            "\u001b[0;31mAssertionError\u001b[0m: \nNot equal to tolerance rtol=1e-07, atol=0\n\nMismatched elements: 69 / 192 (35.9%)\nMax absolute difference: 2.3841858e-07\nMax relative difference: 1.5225841e-06\n x: array([[[[ 1.154855,  0.516811, -0.264047, -0.458601],\n         [ 1.658844, -0.148547, -1.207698,  0.891124],\n         [-2.259939, -0.159419, -0.588568, -0.339577],...\n y: array([[[[ 1.154855,  0.516811, -0.264047, -0.458601],\n         [ 1.658844, -0.148547, -1.207698,  0.891124],\n         [-2.259939, -0.159419, -0.588568, -0.339577],..."
          ]
        }
      ]
    },
    {
      "cell_type": "markdown",
      "metadata": {
        "id": "x_UYUoOxr-iD"
      },
      "source": [
        "可以看出来两种实现基本结果是一样的"
      ]
    },
    {
      "cell_type": "code",
      "metadata": {
        "id": "qlZg0XOF4OLH"
      },
      "source": [
        "import paddle\n",
        "from paddle import ParamAttr\n",
        "from paddle.nn.initializer import Constant\n",
        "\n",
        "class MyInstanceNorm(paddle.nn.Layer):\n",
        "  def __init__(self, num_features, momentum=0.1, eps=1e-5):\n",
        "    super(MyInstanceNorm,self).__init__()\n",
        "    param_shape = [num_features]\n",
        "    self._momentum = momentum\n",
        "    self._eps = eps\n",
        "    self._mean = paddle.zeros(shape=param_shape, dtype=paddle.float32, name='_mean')\n",
        "    self._variance = paddle.ones(shape=param_shape, dtype=paddle.float32, name='_variance')\n",
        "  \n",
        "  def forward(self, x):\n",
        "    self._mean = (1-self._momentum)*self._mean+self._momentum*paddle.mean(paddle.mean(x, axis=(2,3)), axis=0)\n",
        "    self._variance = (1-self._momentum)*self._variance+self._momentum*paddle.mean(paddle.var(x, axis=(2,3)), axis=0)\n",
        "    return paddle.nn.functional.instance_norm(x, running_mean=self._mean, running_var=self._variance, momentum=self._momentum, eps=self._eps)"
      ],
      "execution_count": 14,
      "outputs": []
    },
    {
      "cell_type": "code",
      "metadata": {
        "id": "D6HSormlswtL"
      },
      "source": [
        "my_model = MyInstanceNorm(3)\n",
        "for x in inputs:\n",
        "  x_p = paddle.to_tensor(x)\n",
        "  my_out = my_model(x_p)"
      ],
      "execution_count": 15,
      "outputs": []
    },
    {
      "cell_type": "code",
      "metadata": {
        "colab": {
          "base_uri": "https://localhost:8080/"
        },
        "id": "G8e6zk0Xsz9o",
        "outputId": "e2b6e993-9f0b-4e3a-e48b-18645d5d9d1a"
      },
      "source": [
        "print(my_model._mean, my_model._variance)"
      ],
      "execution_count": 18,
      "outputs": [
        {
          "output_type": "stream",
          "text": [
            "Tensor(shape=[3], dtype=float32, place=CPUPlace, stop_gradient=True,\n",
            "       [-0.01135335,  0.01332354, -0.01122218]) Tensor(shape=[3], dtype=float32, place=CPUPlace, stop_gradient=True,\n",
            "       [1.00503337, 1.02705753, 0.98302186])\n"
          ],
          "name": "stdout"
        }
      ]
    },
    {
      "cell_type": "code",
      "metadata": {
        "colab": {
          "base_uri": "https://localhost:8080/"
        },
        "id": "6U4riZrncJkt",
        "outputId": "c9cf3a09-72e6-415e-96f5-13b2bf35e0a6"
      },
      "source": [
        "print(my_model.state_dict())"
      ],
      "execution_count": 19,
      "outputs": [
        {
          "output_type": "stream",
          "text": [
            "OrderedDict()\n"
          ],
          "name": "stdout"
        }
      ]
    },
    {
      "cell_type": "markdown",
      "metadata": {
        "id": "m0uC4QdNcEiV"
      },
      "source": [
        "可以看到结果的一致，但是 state_dict 并不会保存下来"
      ]
    },
    {
      "cell_type": "code",
      "metadata": {
        "id": "14YrWF6iZ3WT"
      },
      "source": [
        "# 测试 self.create_parameter\n",
        "import paddle\n",
        "from paddle import ParamAttr\n",
        "from paddle.nn.initializer import Constant\n",
        "\n",
        "class MyInstanceNorm2(paddle.nn.Layer):\n",
        "  def __init__(self, num_features, momentum=0.1, eps=1e-5):\n",
        "    super(MyInstanceNorm2,self).__init__()\n",
        "    param_shape = [num_features]\n",
        "    self._momentum = momentum\n",
        "    self._eps = eps\n",
        "    # self._mean = paddle.zeros(shape=param_shape, dtype=paddle.float32, name='_mean')\n",
        "    self._mean = self.create_parameter(\n",
        "        shape=param_shape,\n",
        "        attr=paddle.ParamAttr(initializer=Constant(0.0), learning_rate=0.0, trainable=False),\n",
        "        dtype='float32'\n",
        "    )\n",
        "    # self._variance = paddle.ones(shape=param_shape, dtype=paddle.float32, name='_variance')\n",
        "    self._variance = self.create_parameter(\n",
        "        shape=param_shape,\n",
        "        attr=paddle.ParamAttr(initializer=Constant(1.0), learning_rate=0.0, trainable=False),\n",
        "        dtype='float32'\n",
        "    )\n",
        "  \n",
        "  def forward(self, x):\n",
        "    self._mean.set_value((1-self._momentum)*self._mean+self._momentum*paddle.mean(paddle.mean(x, axis=(2,3)), axis=0))\n",
        "    self._variance.set_value((1-self._momentum)*self._variance+self._momentum*paddle.mean(paddle.var(x, axis=(2,3)), axis=0))\n",
        "    return paddle.nn.functional.instance_norm(x, running_mean=self._mean, running_var=self._variance, momentum=self._momentum, eps=self._eps)"
      ],
      "execution_count": 46,
      "outputs": []
    },
    {
      "cell_type": "markdown",
      "metadata": {
        "id": "PtjRSyztjjEl"
      },
      "source": [
        "### Parameter 功能测试"
      ]
    },
    {
      "cell_type": "code",
      "metadata": {
        "id": "kt_0Wd-3hdAO"
      },
      "source": [
        "# test Parameter\n",
        "# 通过查询源码可以知道 Parameter 继承自 Variable\n",
        "test_param = paddle.create_parameter(shape=[3], dtype='float32', attr=paddle.ParamAttr(\n",
        "    initializer=Constant(0.0), learning_rate=0.0, trainable=False\n",
        "))"
      ],
      "execution_count": 27,
      "outputs": []
    },
    {
      "cell_type": "code",
      "metadata": {
        "colab": {
          "base_uri": "https://localhost:8080/"
        },
        "id": "W1iCtmFsiB6i",
        "outputId": "9eb6e882-a565-4447-b355-70960473b299"
      },
      "source": [
        "[x for x in dir(test_param) if 'value' in x]"
      ],
      "execution_count": 38,
      "outputs": [
        {
          "output_type": "execute_result",
          "data": {
            "text/plain": [
              "['_grad_value', 'set_value', 'value']"
            ]
          },
          "metadata": {
            "tags": []
          },
          "execution_count": 38
        }
      ]
    },
    {
      "cell_type": "code",
      "metadata": {
        "colab": {
          "base_uri": "https://localhost:8080/"
        },
        "id": "6jUioYIli8Aa",
        "outputId": "5df21cbb-3f1e-4085-9120-41a452522785"
      },
      "source": [
        "# 测试赋值\n",
        "test_param.set_value(paddle.ones(shape=[3], dtype='float32'))\n",
        "test_param"
      ],
      "execution_count": 44,
      "outputs": [
        {
          "output_type": "execute_result",
          "data": {
            "text/plain": [
              "Parameter containing:\n",
              "Tensor(shape=[3], dtype=float32, place=CPUPlace, stop_gradient=True,\n",
              "       [1., 1., 1.])"
            ]
          },
          "metadata": {
            "tags": []
          },
          "execution_count": 44
        }
      ]
    },
    {
      "cell_type": "code",
      "metadata": {
        "colab": {
          "base_uri": "https://localhost:8080/"
        },
        "id": "4917lV6ejdRP",
        "outputId": "ad7b17b9-e4ea-459c-a8f7-1539adb0a8ca"
      },
      "source": [
        "# 支持乘法操作\n",
        "test_param*0.1"
      ],
      "execution_count": 51,
      "outputs": [
        {
          "output_type": "execute_result",
          "data": {
            "text/plain": [
              "Tensor(shape=[3], dtype=float32, place=CPUPlace, stop_gradient=True,\n",
              "       [0.10000000, 0.10000000, 0.10000000])"
            ]
          },
          "metadata": {
            "tags": []
          },
          "execution_count": 51
        }
      ]
    },
    {
      "cell_type": "markdown",
      "metadata": {
        "id": "kPCh3wDvkO4f"
      },
      "source": [
        "### 最后测试"
      ]
    },
    {
      "cell_type": "code",
      "metadata": {
        "id": "BuDPA4M3dPQL"
      },
      "source": [
        "\n",
        "my_model2 = MyInstanceNorm2(3)\n",
        "for x in inputs:\n",
        "  x_p = paddle.to_tensor(x)\n",
        "  my_out = my_model2(x_p)"
      ],
      "execution_count": 47,
      "outputs": []
    },
    {
      "cell_type": "code",
      "metadata": {
        "colab": {
          "base_uri": "https://localhost:8080/"
        },
        "id": "0Lqb1-nQdWqM",
        "outputId": "ba4b490f-223a-4483-fafc-01eed154ab23"
      },
      "source": [
        "my_model2.state_dict()"
      ],
      "execution_count": 48,
      "outputs": [
        {
          "output_type": "execute_result",
          "data": {
            "text/plain": [
              "OrderedDict([('_mean', Parameter containing:\n",
              "              Tensor(shape=[3], dtype=float32, place=CPUPlace, stop_gradient=True,\n",
              "                     [-0.01135335,  0.01332354, -0.01122218])),\n",
              "             ('_variance', Parameter containing:\n",
              "              Tensor(shape=[3], dtype=float32, place=CPUPlace, stop_gradient=True,\n",
              "                     [1.00503337, 1.02705753, 0.98302186]))])"
            ]
          },
          "metadata": {
            "tags": []
          },
          "execution_count": 48
        }
      ]
    },
    {
      "cell_type": "markdown",
      "metadata": {
        "id": "a_8a7BOjj-go"
      },
      "source": [
        "不容易，InstanceNorm 相当于简单实现了，接下来做整合"
      ]
    },
    {
      "cell_type": "code",
      "metadata": {
        "id": "qbs_3hkej351"
      },
      "source": [
        ""
      ],
      "execution_count": null,
      "outputs": []
    }
  ]
}