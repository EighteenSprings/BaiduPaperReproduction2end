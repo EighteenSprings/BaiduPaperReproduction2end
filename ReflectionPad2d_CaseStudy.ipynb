{
  "nbformat": 4,
  "nbformat_minor": 0,
  "metadata": {
    "colab": {
      "name": "ReflectionPad2d_CaseStudy.ipynb",
      "provenance": [],
      "authorship_tag": "ABX9TyM5WIs3vKwGsziaJUrCLYmg",
      "include_colab_link": true
    },
    "kernelspec": {
      "name": "python3",
      "display_name": "Python 3"
    },
    "language_info": {
      "name": "python"
    }
  },
  "cells": [
    {
      "cell_type": "markdown",
      "metadata": {
        "id": "view-in-github",
        "colab_type": "text"
      },
      "source": [
        "<a href=\"https://colab.research.google.com/github/EighteenSprings/BaiduPaperReproduction2end/blob/main/ReflectionPad2d_CaseStudy.ipynb\" target=\"_parent\"><img src=\"https://colab.research.google.com/assets/colab-badge.svg\" alt=\"Open In Colab\"/></a>"
      ]
    },
    {
      "cell_type": "code",
      "metadata": {
        "id": "IqcqeAqs7Wr-"
      },
      "source": [
        "import torch\n",
        "import torch.nn as nn"
      ],
      "execution_count": 1,
      "outputs": []
    },
    {
      "cell_type": "code",
      "metadata": {
        "colab": {
          "base_uri": "https://localhost:8080/"
        },
        "id": "0kjhh5ry7mTQ",
        "outputId": "f86561e0-d506-4ff8-92fd-c8dc1e73b59d"
      },
      "source": [
        "pad = nn.ReflectionPad2d(1)\n",
        "a = torch.arange(16, dtype=torch.float32).reshape((1,1,4,4))\n",
        "print(a)\n",
        "print(pad(a))"
      ],
      "execution_count": 2,
      "outputs": [
        {
          "output_type": "stream",
          "text": [
            "tensor([[[[ 0.,  1.,  2.,  3.],\n",
            "          [ 4.,  5.,  6.,  7.],\n",
            "          [ 8.,  9., 10., 11.],\n",
            "          [12., 13., 14., 15.]]]])\n",
            "tensor([[[[ 5.,  4.,  5.,  6.,  7.,  6.],\n",
            "          [ 1.,  0.,  1.,  2.,  3.,  2.],\n",
            "          [ 5.,  4.,  5.,  6.,  7.,  6.],\n",
            "          [ 9.,  8.,  9., 10., 11., 10.],\n",
            "          [13., 12., 13., 14., 15., 14.],\n",
            "          [ 9.,  8.,  9., 10., 11., 10.]]]])\n"
          ],
          "name": "stdout"
        }
      ]
    },
    {
      "cell_type": "code",
      "metadata": {
        "id": "gBubXMoE79p6"
      },
      "source": [
        "a = torch.ones(1,1,3,3, requires_grad=True)"
      ],
      "execution_count": 3,
      "outputs": []
    },
    {
      "cell_type": "code",
      "metadata": {
        "id": "OcPB9PcU8CGr"
      },
      "source": [
        "def printGrad(grad):\n",
        "  print(grad)"
      ],
      "execution_count": 4,
      "outputs": []
    },
    {
      "cell_type": "code",
      "metadata": {
        "colab": {
          "base_uri": "https://localhost:8080/"
        },
        "id": "bicy4ezr8HfH",
        "outputId": "07059f8b-001e-4ba9-ef82-851156bc7ee9"
      },
      "source": [
        "b = pad(a)\n",
        "b.register_hook(printGrad)"
      ],
      "execution_count": 5,
      "outputs": [
        {
          "output_type": "execute_result",
          "data": {
            "text/plain": [
              "<torch.utils.hooks.RemovableHandle at 0x7f4abe652310>"
            ]
          },
          "metadata": {
            "tags": []
          },
          "execution_count": 5
        }
      ]
    },
    {
      "cell_type": "code",
      "metadata": {
        "colab": {
          "base_uri": "https://localhost:8080/"
        },
        "id": "PPOrHk828MLn",
        "outputId": "35b594eb-2210-409e-e157-c86f9d078209"
      },
      "source": [
        "c = b.sum()\n",
        "c.backward()"
      ],
      "execution_count": 6,
      "outputs": [
        {
          "output_type": "stream",
          "text": [
            "tensor([[[[1., 1., 1., 1., 1.],\n",
            "          [1., 1., 1., 1., 1.],\n",
            "          [1., 1., 1., 1., 1.],\n",
            "          [1., 1., 1., 1., 1.],\n",
            "          [1., 1., 1., 1., 1.]]]])\n"
          ],
          "name": "stdout"
        }
      ]
    },
    {
      "cell_type": "code",
      "metadata": {
        "colab": {
          "base_uri": "https://localhost:8080/"
        },
        "id": "H4Zoouxd8T2v",
        "outputId": "1301acdf-ee90-4de1-dda9-119c86eb62dc"
      },
      "source": [
        "a.grad"
      ],
      "execution_count": 7,
      "outputs": [
        {
          "output_type": "execute_result",
          "data": {
            "text/plain": [
              "tensor([[[[1., 3., 1.],\n",
              "          [3., 9., 3.],\n",
              "          [1., 3., 1.]]]])"
            ]
          },
          "metadata": {
            "tags": []
          },
          "execution_count": 7
        }
      ]
    },
    {
      "cell_type": "code",
      "metadata": {
        "id": "t42udO5J8btz"
      },
      "source": [
        ""
      ],
      "execution_count": null,
      "outputs": []
    }
  ]
}